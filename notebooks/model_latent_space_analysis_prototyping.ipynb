{
 "cells": [
  {
   "cell_type": "code",
   "execution_count": 24,
   "id": "891f91ec-12d5-4b10-aa43-1f971dcfc3df",
   "metadata": {},
   "outputs": [],
   "source": [
    "import optuna as opt\n",
    "import torch\n",
    "import torch.nn as nn\n",
    "import torch.optim as optim\n",
    "import numpy as np\n",
    "#from twilio.rest import Client\n",
    "import pickle\n",
    "\n",
    "import time\n",
    "\n",
    "import sys\n",
    "import os \n",
    "\n",
    "\n",
    "sys.path.append('../../pscapes')\n",
    "sys.path.append('../../nk-ml-2024/')\n",
    "\n",
    "\n",
    "from torch.utils.data import DataLoader\n",
    "\n",
    "from pscapes.landscape_class import ProteinLandscape\n",
    "from pscapes.utils import dict_to_np_array, np_array_to_dict\n",
    "\n",
    "from src.architectures import SequenceRegressionCNN, SequenceRegressionLinear, SequenceRegressionMLP, SequenceRegressionLSTM, SequenceRegressionTransformer\n",
    "\n",
    "from src.ml_utils import train_val_test_split_ohe, landscapes_ohe_to_numpy\n",
    "\n",
    "from sklearn.ensemble import RandomForestRegressor, GradientBoostingRegressor \n",
    "\n",
    "from src.train_utils import train_models_from_hparams_NK, read_MLP_hparams, read_CNN_hparams, read_LSTM_hparams, read_transformer_hparams\n",
    "\n",
    "from src.analysis import get_latent_representation, instantiate_model_from_study\n",
    "\n",
    "from sklearn.neighbors import kneighbors_graph\n",
    "import math\n",
    "import networkx as nx\n",
    "from scipy.sparse import diags"
   ]
  },
  {
   "cell_type": "code",
   "execution_count": 25,
   "id": "160fe740-ce25-417f-b570-efb23415f723",
   "metadata": {},
   "outputs": [],
   "source": [
    "from src.analysis import instantiate_model_from_study"
   ]
  },
  {
   "cell_type": "code",
   "execution_count": 44,
   "id": "b8a825b0-b7c5-409d-9929-11ee140ee4c2",
   "metadata": {},
   "outputs": [],
   "source": [
    "import matplotlib.pyplot as plt"
   ]
  },
  {
   "cell_type": "code",
   "execution_count": 26,
   "id": "3e73cfa6-dbf5-43d8-a411-cbff7a6b5325",
   "metadata": {},
   "outputs": [],
   "source": [
    "HPARAM_PATH = '../hyperopt/results/NK_hyperopt_results.pkl'\n",
    "DATA_PATH = '../data/nk_landscapes/'\n",
    "MODEL_SAVEPATH = '../models/'\n",
    "RESULT_PATH = '../results/'\n",
    "SEQ_LEN = 6\n",
    "AA_ALPHABET  = 'ACDEFG'\n",
    "N_REPLICATES = 1"
   ]
  },
  {
   "cell_type": "code",
   "execution_count": 27,
   "id": "c7b7453e-a15e-4331-bce6-73986c66c6d4",
   "metadata": {},
   "outputs": [],
   "source": [
    "with open(HPARAM_PATH, 'rb') as handle: \n",
    "    NK_hparams = pickle.load(handle)"
   ]
  },
  {
   "cell_type": "code",
   "execution_count": 23,
   "id": "ee79373e-82b4-4062-89b0-8af22212efaa",
   "metadata": {},
   "outputs": [
    {
     "name": "stdout",
     "output_type": "stream",
     "text": [
      "Loading landscapes.\n",
      "Calculating train-test-val splits\n"
     ]
    }
   ],
   "source": [
    "#load landscape data \n",
    "landscapes = []\n",
    "print('Loading landscapes.')\n",
    "for k in range(SEQ_LEN):\n",
    "    replicate_list = []\n",
    "    for r in range(N_REPLICATES):\n",
    "        landscape = ProteinLandscape(csv_path=DATA_PATH+'/k{0}_r{1}.csv'.format(k,r), amino_acids=AA_ALPHABET)\n",
    "        replicate_list.append(landscape)\n",
    "    landscapes.append(replicate_list)\n",
    "landscapes = [[i.fit_OHE() for i in j] for j in landscapes]\n",
    "\n",
    "print('Calculating train-test-val splits')\n",
    "splits = [train_val_test_split_ohe(i, random_state=1) for i in landscapes]\n",
    "#landscapes_ohe, xy_train, xy_val, xy_test, x_tests, y_tests = splits[k_index] "
   ]
  },
  {
   "cell_type": "code",
   "execution_count": 42,
   "id": "24daf9c6-cb64-4b23-bc4b-422c39002260",
   "metadata": {},
   "outputs": [],
   "source": [
    "model_names = ['linear', 'mlp', 'cnn', 'ulstm', 'blstm', 'transformer', 'RF', 'GB']\n"
   ]
  },
  {
   "cell_type": "code",
   "execution_count": 13,
   "id": "625310f8-b254-420a-ba63-794ed4c25777",
   "metadata": {},
   "outputs": [],
   "source": [
    "mlp_models = [[instantiate_model_from_study('mlp', i)] for i in NK_hparams['mlp']]\n",
    "cnn_models = [[instantiate_model_from_study('cnn', i)] for i in NK_hparams['cnn']] \n",
    "ulstm_models = [[instantiate_model_from_study('ulstm', i)] for i in NK_hparams['ulstm']] \n"
   ]
  },
  {
   "cell_type": "code",
   "execution_count": 54,
   "id": "52275807-a7c3-41c2-b77d-7c77328ede67",
   "metadata": {},
   "outputs": [
    {
     "data": {
      "text/html": [
       "<div>\n",
       "<style scoped>\n",
       "    .dataframe tbody tr th:only-of-type {\n",
       "        vertical-align: middle;\n",
       "    }\n",
       "\n",
       "    .dataframe tbody tr th {\n",
       "        vertical-align: top;\n",
       "    }\n",
       "\n",
       "    .dataframe thead th {\n",
       "        text-align: right;\n",
       "    }\n",
       "</style>\n",
       "<table border=\"1\" class=\"dataframe\">\n",
       "  <thead>\n",
       "    <tr style=\"text-align: right;\">\n",
       "      <th></th>\n",
       "    </tr>\n",
       "  </thead>\n",
       "  <tbody>\n",
       "  </tbody>\n",
       "</table>\n",
       "</div>"
      ],
      "text/plain": [
       "Empty DataFrame\n",
       "Columns: []\n",
       "Index: []"
      ]
     },
     "execution_count": 54,
     "metadata": {},
     "output_type": "execute_result"
    }
   ],
   "source": [
    "NK_hparams['transformer'][2].trials_dataframe()"
   ]
  },
  {
   "cell_type": "code",
   "execution_count": 45,
   "id": "af5fdf46-52a0-4984-b45b-79d558e568d1",
   "metadata": {},
   "outputs": [
    {
     "ename": "ValueError",
     "evalue": "No trials are completed yet.",
     "output_type": "error",
     "traceback": [
      "\u001b[0;31m---------------------------------------------------------------------------\u001b[0m",
      "\u001b[0;31mValueError\u001b[0m                                Traceback (most recent call last)",
      "\u001b[0;32m/tmp/ipykernel_3921/4078100529.py\u001b[0m in \u001b[0;36m<module>\u001b[0;34m\u001b[0m\n\u001b[1;32m      2\u001b[0m \u001b[0mfig\u001b[0m\u001b[0;34m.\u001b[0m\u001b[0mtight_layout\u001b[0m\u001b[0;34m(\u001b[0m\u001b[0;34m)\u001b[0m\u001b[0;34m\u001b[0m\u001b[0;34m\u001b[0m\u001b[0m\n\u001b[1;32m      3\u001b[0m \u001b[0;32mfor\u001b[0m \u001b[0mindex\u001b[0m\u001b[0;34m,\u001b[0m \u001b[0maxis\u001b[0m \u001b[0;32min\u001b[0m \u001b[0menumerate\u001b[0m\u001b[0;34m(\u001b[0m\u001b[0max\u001b[0m\u001b[0;34m.\u001b[0m\u001b[0mravel\u001b[0m\u001b[0;34m(\u001b[0m\u001b[0;34m)\u001b[0m\u001b[0;34m)\u001b[0m\u001b[0;34m:\u001b[0m\u001b[0;34m\u001b[0m\u001b[0;34m\u001b[0m\u001b[0m\n\u001b[0;32m----> 4\u001b[0;31m     \u001b[0mmodel_val_losses\u001b[0m \u001b[0;34m=\u001b[0m \u001b[0;34m[\u001b[0m\u001b[0mNK_hparams\u001b[0m\u001b[0;34m[\u001b[0m\u001b[0mmodel_names\u001b[0m\u001b[0;34m[\u001b[0m\u001b[0mindex\u001b[0m\u001b[0;34m]\u001b[0m\u001b[0;34m]\u001b[0m\u001b[0;34m[\u001b[0m\u001b[0mk_val\u001b[0m\u001b[0;34m]\u001b[0m\u001b[0;34m.\u001b[0m\u001b[0mbest_value\u001b[0m \u001b[0;32mfor\u001b[0m \u001b[0mk_val\u001b[0m \u001b[0;32min\u001b[0m \u001b[0mrange\u001b[0m\u001b[0;34m(\u001b[0m\u001b[0mSEQ_LEN\u001b[0m\u001b[0;34m)\u001b[0m\u001b[0;34m]\u001b[0m\u001b[0;34m\u001b[0m\u001b[0;34m\u001b[0m\u001b[0m\n\u001b[0m\u001b[1;32m      5\u001b[0m     \u001b[0maxis\u001b[0m\u001b[0;34m.\u001b[0m\u001b[0mplot\u001b[0m\u001b[0;34m(\u001b[0m\u001b[0mmodel_val_losses\u001b[0m\u001b[0;34m)\u001b[0m\u001b[0;34m\u001b[0m\u001b[0;34m\u001b[0m\u001b[0m\n\u001b[1;32m      6\u001b[0m     \u001b[0;31m#axis.set_ylim(-1.5,1.5)\u001b[0m\u001b[0;34m\u001b[0m\u001b[0;34m\u001b[0m\u001b[0m\n",
      "\u001b[0;32m/tmp/ipykernel_3921/4078100529.py\u001b[0m in \u001b[0;36m<listcomp>\u001b[0;34m(.0)\u001b[0m\n\u001b[1;32m      2\u001b[0m \u001b[0mfig\u001b[0m\u001b[0;34m.\u001b[0m\u001b[0mtight_layout\u001b[0m\u001b[0;34m(\u001b[0m\u001b[0;34m)\u001b[0m\u001b[0;34m\u001b[0m\u001b[0;34m\u001b[0m\u001b[0m\n\u001b[1;32m      3\u001b[0m \u001b[0;32mfor\u001b[0m \u001b[0mindex\u001b[0m\u001b[0;34m,\u001b[0m \u001b[0maxis\u001b[0m \u001b[0;32min\u001b[0m \u001b[0menumerate\u001b[0m\u001b[0;34m(\u001b[0m\u001b[0max\u001b[0m\u001b[0;34m.\u001b[0m\u001b[0mravel\u001b[0m\u001b[0;34m(\u001b[0m\u001b[0;34m)\u001b[0m\u001b[0;34m)\u001b[0m\u001b[0;34m:\u001b[0m\u001b[0;34m\u001b[0m\u001b[0;34m\u001b[0m\u001b[0m\n\u001b[0;32m----> 4\u001b[0;31m     \u001b[0mmodel_val_losses\u001b[0m \u001b[0;34m=\u001b[0m \u001b[0;34m[\u001b[0m\u001b[0mNK_hparams\u001b[0m\u001b[0;34m[\u001b[0m\u001b[0mmodel_names\u001b[0m\u001b[0;34m[\u001b[0m\u001b[0mindex\u001b[0m\u001b[0;34m]\u001b[0m\u001b[0;34m]\u001b[0m\u001b[0;34m[\u001b[0m\u001b[0mk_val\u001b[0m\u001b[0;34m]\u001b[0m\u001b[0;34m.\u001b[0m\u001b[0mbest_value\u001b[0m \u001b[0;32mfor\u001b[0m \u001b[0mk_val\u001b[0m \u001b[0;32min\u001b[0m \u001b[0mrange\u001b[0m\u001b[0;34m(\u001b[0m\u001b[0mSEQ_LEN\u001b[0m\u001b[0;34m)\u001b[0m\u001b[0;34m]\u001b[0m\u001b[0;34m\u001b[0m\u001b[0;34m\u001b[0m\u001b[0m\n\u001b[0m\u001b[1;32m      5\u001b[0m     \u001b[0maxis\u001b[0m\u001b[0;34m.\u001b[0m\u001b[0mplot\u001b[0m\u001b[0;34m(\u001b[0m\u001b[0mmodel_val_losses\u001b[0m\u001b[0;34m)\u001b[0m\u001b[0;34m\u001b[0m\u001b[0;34m\u001b[0m\u001b[0m\n\u001b[1;32m      6\u001b[0m     \u001b[0;31m#axis.set_ylim(-1.5,1.5)\u001b[0m\u001b[0;34m\u001b[0m\u001b[0;34m\u001b[0m\u001b[0m\n",
      "\u001b[0;32m~/.local/lib/python3.10/site-packages/optuna/study/study.py\u001b[0m in \u001b[0;36mbest_value\u001b[0;34m(self)\u001b[0m\n\u001b[1;32m    131\u001b[0m         \"\"\"\n\u001b[1;32m    132\u001b[0m \u001b[0;34m\u001b[0m\u001b[0m\n\u001b[0;32m--> 133\u001b[0;31m         \u001b[0mbest_value\u001b[0m \u001b[0;34m=\u001b[0m \u001b[0mself\u001b[0m\u001b[0;34m.\u001b[0m\u001b[0mbest_trial\u001b[0m\u001b[0;34m.\u001b[0m\u001b[0mvalue\u001b[0m\u001b[0;34m\u001b[0m\u001b[0;34m\u001b[0m\u001b[0m\n\u001b[0m\u001b[1;32m    134\u001b[0m         \u001b[0;32massert\u001b[0m \u001b[0mbest_value\u001b[0m \u001b[0;32mis\u001b[0m \u001b[0;32mnot\u001b[0m \u001b[0;32mNone\u001b[0m\u001b[0;34m\u001b[0m\u001b[0;34m\u001b[0m\u001b[0m\n\u001b[1;32m    135\u001b[0m \u001b[0;34m\u001b[0m\u001b[0m\n",
      "\u001b[0;32m~/.local/lib/python3.10/site-packages/optuna/study/study.py\u001b[0m in \u001b[0;36mbest_trial\u001b[0;34m(self)\u001b[0m\n\u001b[1;32m    160\u001b[0m             )\n\u001b[1;32m    161\u001b[0m \u001b[0;34m\u001b[0m\u001b[0m\n\u001b[0;32m--> 162\u001b[0;31m         \u001b[0mbest_trial\u001b[0m \u001b[0;34m=\u001b[0m \u001b[0mself\u001b[0m\u001b[0;34m.\u001b[0m\u001b[0m_storage\u001b[0m\u001b[0;34m.\u001b[0m\u001b[0mget_best_trial\u001b[0m\u001b[0;34m(\u001b[0m\u001b[0mself\u001b[0m\u001b[0;34m.\u001b[0m\u001b[0m_study_id\u001b[0m\u001b[0;34m)\u001b[0m\u001b[0;34m\u001b[0m\u001b[0;34m\u001b[0m\u001b[0m\n\u001b[0m\u001b[1;32m    163\u001b[0m \u001b[0;34m\u001b[0m\u001b[0m\n\u001b[1;32m    164\u001b[0m         \u001b[0;31m# If the trial with the best value is infeasible, select the best trial from all feasible\u001b[0m\u001b[0;34m\u001b[0m\u001b[0;34m\u001b[0m\u001b[0m\n",
      "\u001b[0;32m~/.local/lib/python3.10/site-packages/optuna/storages/_in_memory.py\u001b[0m in \u001b[0;36mget_best_trial\u001b[0;34m(self, study_id)\u001b[0m\n\u001b[1;32m    230\u001b[0m \u001b[0;34m\u001b[0m\u001b[0m\n\u001b[1;32m    231\u001b[0m             \u001b[0;32mif\u001b[0m \u001b[0mbest_trial_id\u001b[0m \u001b[0;32mis\u001b[0m \u001b[0;32mNone\u001b[0m\u001b[0;34m:\u001b[0m\u001b[0;34m\u001b[0m\u001b[0;34m\u001b[0m\u001b[0m\n\u001b[0;32m--> 232\u001b[0;31m                 \u001b[0;32mraise\u001b[0m \u001b[0mValueError\u001b[0m\u001b[0;34m(\u001b[0m\u001b[0;34m\"No trials are completed yet.\"\u001b[0m\u001b[0;34m)\u001b[0m\u001b[0;34m\u001b[0m\u001b[0;34m\u001b[0m\u001b[0m\n\u001b[0m\u001b[1;32m    233\u001b[0m             \u001b[0;32melif\u001b[0m \u001b[0mlen\u001b[0m\u001b[0;34m(\u001b[0m\u001b[0mself\u001b[0m\u001b[0;34m.\u001b[0m\u001b[0m_studies\u001b[0m\u001b[0;34m[\u001b[0m\u001b[0mstudy_id\u001b[0m\u001b[0;34m]\u001b[0m\u001b[0;34m.\u001b[0m\u001b[0mdirections\u001b[0m\u001b[0;34m)\u001b[0m \u001b[0;34m>\u001b[0m \u001b[0;36m1\u001b[0m\u001b[0;34m:\u001b[0m\u001b[0;34m\u001b[0m\u001b[0;34m\u001b[0m\u001b[0m\n\u001b[1;32m    234\u001b[0m                 raise RuntimeError(\n",
      "\u001b[0;31mValueError\u001b[0m: No trials are completed yet."
     ]
    },
    {
     "data": {
      "image/png": "[encoded data removed]",
      "text/plain": [
       "<Figure size 1080x504 with 8 Axes>"
      ]
     },
     "metadata": {
      "needs_background": "light"
     },
     "output_type": "display_data"
    }
   ],
   "source": [
    "fig,ax = plt.subplots(nrows=2, ncols=4, figsize=(15, 7))\n",
    "fig.tight_layout()\n",
    "for index, axis in enumerate(ax.ravel()):\n",
    "    model_val_losses = [NK_hparams[model_names[index]][k_val].best_value for k_val in range(SEQ_LEN)]\n",
    "    axis.plot(model_val_losses)\n",
    "    #axis.set_ylim(-1.5,1.5)\n",
    "    axis.set_title(model_names[index])\n",
    "    \n",
    "ax[0,0].set_ylabel('Validation Loss (MSE)')\n",
    "ax[1,0].set_xlabel('$K$ value')\n",
    "\n",
    "ax[1,0].set_ylabel('Validation Loss (MSE)')"
   ]
  },
  {
   "cell_type": "code",
   "execution_count": 32,
   "id": "5360018d-9d16-4db7-a663-d5a240c5a0b3",
   "metadata": {},
   "outputs": [
    {
     "data": {
      "text/plain": [
       "[[<All keys matched successfully>],\n",
       " [<All keys matched successfully>],\n",
       " [<All keys matched successfully>],\n",
       " [<All keys matched successfully>],\n",
       " [<All keys matched successfully>],\n",
       " [<All keys matched successfully>]]"
      ]
     },
     "execution_count": 32,
     "metadata": {},
     "output_type": "execute_result"
    }
   ],
   "source": [
    "[[mlp_models[k_val][replicate].load_state_dict(torch.load(MODEL_SAVEPATH+'{}_NK_k{}_r{}.pt'.format('mlp', k_val, replicate), weights_only=True)) \n",
    "  for replicate in range(N_REPLICATES)] for k_val in range(SEQ_LEN)] #load weights\n",
    "[[cnn_models[k_val][replicate].load_state_dict(torch.load(MODEL_SAVEPATH+'{}_NK_k{}_r{}.pt'.format('cnn', k_val, replicate), weights_only=True)) \n",
    "  for replicate in range(N_REPLICATES)] for k_val in range(SEQ_LEN)]"
   ]
  },
  {
   "cell_type": "code",
   "execution_count": 33,
   "id": "77780322-db2e-4ff2-ab5d-536c5c78d325",
   "metadata": {},
   "outputs": [],
   "source": [
    "landscapes_as_tensor = [[torch.from_numpy(i).to(torch.float32) for i in j[0]] for j in splits]\n",
    "flattened_landscapes = [[i.reshape(i.shape[0], i.shape[1]*i.shape[2]) for i in j[0]] for j in splits]"
   ]
  },
  {
   "cell_type": "code",
   "execution_count": 34,
   "id": "a1008389-8441-4234-ac4e-3753346612b4",
   "metadata": {},
   "outputs": [],
   "source": [
    "degree=30"
   ]
  },
  {
   "cell_type": "code",
   "execution_count": 35,
   "id": "4ef82286-7c59-498e-a466-84fa037b1c56",
   "metadata": {},
   "outputs": [],
   "source": [
    "mlp_latent_reps = [get_latent_representation(mlp_models[i][0],'mlp', landscapes_as_tensor[i][0]) for i in range(len(mlp_models))]\n",
    "cnn_latent_reps = [get_latent_representation(cnn_models[i][0],'cnn', landscapes_as_tensor[i][0]) for i in range(len(mlp_models))]"
   ]
  },
  {
   "cell_type": "code",
   "execution_count": 37,
   "id": "166649f8-76ce-4188-91e0-f5fc4963e0c0",
   "metadata": {},
   "outputs": [
    {
     "data": {
      "text/plain": [
       "torch.Size([46656, 192, 1])"
      ]
     },
     "execution_count": 37,
     "metadata": {},
     "output_type": "execute_result"
    }
   ],
   "source": [
    "cnn_latent_reps[0].shape"
   ]
  },
  {
   "cell_type": "code",
   "execution_count": null,
   "id": "2d1257f4-f947-41c6-83c4-5a1f0bc3b49d",
   "metadata": {},
   "outputs": [],
   "source": []
  }
 ],
 "metadata": {
  "kernelspec": {
   "display_name": "Python 3 (ipykernel)",
   "language": "python",
   "name": "python3"
  },
  "language_info": {
   "codemirror_mode": {
    "name": "ipython",
    "version": 3
   },
   "file_extension": ".py",
   "mimetype": "text/x-python",
   "name": "python",
   "nbconvert_exporter": "python",
   "pygments_lexer": "ipython3",
   "version": "3.10.12"
  }
 },
 "nbformat": 4,
 "nbformat_minor": 5
}
