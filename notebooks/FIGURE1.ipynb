{
 "cells": [
  {
   "cell_type": "code",
   "execution_count": 1,
   "id": "05477baa-2186-44d9-acaf-0aad8f0d7f62",
   "metadata": {},
   "outputs": [
    {
     "name": "stderr",
     "output_type": "stream",
     "text": [
      "/home/ubuntu/.local/lib/python3.10/site-packages/tqdm/auto.py:21: TqdmWarning: IProgress not found. Please update jupyter and ipywidgets. See https://ipywidgets.readthedocs.io/en/stable/user_install.html\n",
      "  from .autonotebook import tqdm as notebook_tqdm\n",
      "/home/ubuntu/.local/lib/python3.10/site-packages/matplotlib/projections/__init__.py:63: UserWarning: Unable to import Axes3D. This may be due to multiple versions of Matplotlib being installed (e.g. as a system package and as a pip package). As a result, the 3D projection is not available.\n",
      "  warnings.warn(\"Unable to import Axes3D. This may be due to multiple versions of \"\n"
     ]
    }
   ],
   "source": [
    "import optuna as opt\n",
    "import torch\n",
    "import torch.nn as nn\n",
    "import torch.optim as optim\n",
    "import numpy as np\n",
    "#from twilio.rest import Client\n",
    "import pickle\n",
    "\n",
    "import time\n",
    "\n",
    "import sys\n",
    "import os \n",
    "\n",
    "\n",
    "sys.path.append('../../pscapes')\n",
    "sys.path.append('../../nk-ml-2024/')\n",
    "\n",
    "\n",
    "from torch.utils.data import DataLoader\n",
    "from pscapes.landscape_class import ProteinLandscape\n",
    "from pscapes.utils import dict_to_np_array, np_array_to_dict\n",
    "\n",
    "from src.architectures import SequenceRegressionCNN, SequenceRegressionLinear, SequenceRegressionMLP, SequenceRegressionLSTM, SequenceRegressionTransformer\n",
    "\n",
    "from src.ml_utils import train_val_test_split_ohe, landscapes_ohe_to_numpy\n",
    "from src.hyperopt import objective_NK, sklearn_objective_NK\n",
    "\n",
    "from sklearn.ensemble import RandomForestRegressor, GradientBoostingRegressor \n",
    "\n",
    "from src.train_utils import train_models_from_hparams_NK, read_MLP_hparams, read_CNN_hparams, read_LSTM_hparams, read_transformer_hparams, instantiate_model_from_study\n",
    "\n",
    "from src.analysis import get_latent_representation\n",
    "import matplotlib.pyplot as plt\n",
    "from sklearn.neighbors import kneighbors_graph\n",
    "import math\n",
    "import networkx as nx\n",
    "from scipy.sparse import diags\n",
    "\n",
    "import torchmetrics\n",
    "from torchmetrics.regression import SpearmanCorrCoef, PearsonCorrCoef\n"
   ]
  },
  {
   "cell_type": "code",
   "execution_count": 2,
   "id": "2f9adbb4-5231-43cf-b9eb-4e4145c32069",
   "metadata": {},
   "outputs": [],
   "source": [
    "#set global parameters\n",
    "HPARAM_PATH = '../hyperopt/results/NK_hyperopt_results.pkl'\n",
    "DATA_PATH = '../data/nk_landscapes/'\n",
    "MODEL_SAVEPATH = '../models/'\n",
    "RESULT_PATH = '../results/NK_train_test_results.pkl'\n",
    "SEQ_LEN = 6\n",
    "AA_ALPHABET  = 'ACDEFG'\n",
    "N_REPLICATES = 4"
   ]
  },
  {
   "cell_type": "code",
   "execution_count": 3,
   "id": "436d4ba4-696a-4ba0-b150-2a67df2a15e4",
   "metadata": {},
   "outputs": [
    {
     "name": "stdout",
     "output_type": "stream",
     "text": [
      "Loading landscapes.\n",
      "Calculating train-test-val splits\n"
     ]
    }
   ],
   "source": [
    "#load landscapes\n",
    "#load landscape data \n",
    "landscapes = []\n",
    "print('Loading landscapes.')\n",
    "for k in range(SEQ_LEN):\n",
    "    replicate_list = []\n",
    "    for r in range(N_REPLICATES):\n",
    "        landscape = ProteinLandscape(csv_path=DATA_PATH+'/k{0}_r{1}.csv'.format(k,r), amino_acids=AA_ALPHABET)\n",
    "        replicate_list.append(landscape)\n",
    "    landscapes.append(replicate_list)\n",
    "landscapes = [[i.fit_OHE() for i in j] for j in landscapes]\n",
    "\n",
    "print('Calculating train-test-val splits')\n",
    "splits = [train_val_test_split_ohe(i, random_state=1) for i in landscapes]\n",
    "#landscapes_ohe, xy_train, xy_val, xy_test, x_tests, y_tests = splits[k_index] "
   ]
  },
  {
   "cell_type": "code",
   "execution_count": 4,
   "id": "ee1507eb-6be8-4b91-bf82-c1c04fea838b",
   "metadata": {},
   "outputs": [],
   "source": [
    "#load hparam studies \n",
    "with open(HPARAM_PATH, 'rb') as handle: \n",
    "    NK_hparams = pickle.load(handle)"
   ]
  },
  {
   "cell_type": "code",
   "execution_count": 5,
   "id": "36eb1bec-4933-44a9-a539-da94c8eefcc5",
   "metadata": {},
   "outputs": [],
   "source": [
    "model_names = ['linear', 'mlp', 'cnn', 'ulstm', _]\n"
   ]
  },
  {
   "cell_type": "markdown",
   "id": "32a06037-8315-4533-b748-f0ad36e7dbd4",
   "metadata": {},
   "source": [
    "## Test set performance"
   ]
  },
  {
   "cell_type": "code",
   "execution_count": null,
   "id": "305eb139-8978-4f78-95ab-ce36b3ffbc01",
   "metadata": {},
   "outputs": [],
   "source": []
  },
  {
   "cell_type": "code",
   "execution_count": 6,
   "id": "273beb4e-d9bc-4f7c-8b3d-b657427ebd0f",
   "metadata": {},
   "outputs": [
    {
     "name": "stderr",
     "output_type": "stream",
     "text": [
      "[W1108 06:41:34.838781365 NNPACK.cpp:61] Could not initialize NNPACK! Reason: Unsupported hardware.\n"
     ]
    }
   ],
   "source": [
    "#instantiate models with the correct hyperparameters from hparam optimisation\n",
    "linear_models = [[instantiate_model_from_study('linear', i) for r in range(N_REPLICATES)] for i in NK_hparams['linear']]\n",
    "mlp_models    = [[instantiate_model_from_study('mlp', i) for r in range(N_REPLICATES)] for i in NK_hparams['mlp']]\n",
    "cnn_models    = [[instantiate_model_from_study('cnn', i) for r in range(N_REPLICATES)] for i in NK_hparams['cnn']]\n",
    "ulstm_models   = [[instantiate_model_from_study('ulstm', i) for r in range(N_REPLICATES)] for i in NK_hparams['ulstm']]\n",
    "#cnn_models = [[instantiate_model_from_study('cnn', i)] for i in NK_hparams['cnn']] \n",
    "#ulstm_models = [[instantiate_model_from_study('ulstm', i)] for i in NK_hparams['ulstm']] "
   ]
  },
  {
   "cell_type": "code",
   "execution_count": null,
   "id": "f7a62905-bd1d-4175-9047-08d56a156324",
   "metadata": {},
   "outputs": [],
   "source": []
  },
  {
   "cell_type": "code",
   "execution_count": 7,
   "id": "51389cdb-f001-47cf-a22e-b94640480ee5",
   "metadata": {
    "collapsed": true,
    "jupyter": {
     "outputs_hidden": true
    },
    "scrolled": true
   },
   "outputs": [
    {
     "data": {
      "text/plain": [
       "[[<All keys matched successfully>,\n",
       "  <All keys matched successfully>,\n",
       "  <All keys matched successfully>,\n",
       "  <All keys matched successfully>],\n",
       " [<All keys matched successfully>,\n",
       "  <All keys matched successfully>,\n",
       "  <All keys matched successfully>,\n",
       "  <All keys matched successfully>],\n",
       " [<All keys matched successfully>,\n",
       "  <All keys matched successfully>,\n",
       "  <All keys matched successfully>,\n",
       "  <All keys matched successfully>],\n",
       " [<All keys matched successfully>,\n",
       "  <All keys matched successfully>,\n",
       "  <All keys matched successfully>,\n",
       "  <All keys matched successfully>],\n",
       " [<All keys matched successfully>,\n",
       "  <All keys matched successfully>,\n",
       "  <All keys matched successfully>,\n",
       "  <All keys matched successfully>],\n",
       " [<All keys matched successfully>,\n",
       "  <All keys matched successfully>,\n",
       "  <All keys matched successfully>,\n",
       "  <All keys matched successfully>]]"
      ]
     },
     "execution_count": 7,
     "metadata": {},
     "output_type": "execute_result"
    }
   ],
   "source": [
    "#load model parameters \n",
    "[[linear_models[k_val][replicate].load_state_dict(torch.load(MODEL_SAVEPATH+'{}_NK_k{}_r{}.pt'.format('linear', k_val, replicate), weights_only=True)) \n",
    "  for replicate in range(N_REPLICATES)] for k_val in range(SEQ_LEN)] #load weights\n",
    "[[mlp_models[k_val][replicate].load_state_dict(torch.load(MODEL_SAVEPATH+'{}_NK_k{}_r{}.pt'.format('mlp', k_val, replicate), weights_only=True)) \n",
    "  for replicate in range(N_REPLICATES)] for k_val in range(SEQ_LEN)]\n",
    "[[cnn_models[k_val][replicate].load_state_dict(torch.load(MODEL_SAVEPATH+'{}_NK_k{}_r{}.pt'.format('cnn', k_val, replicate), weights_only=True)) \n",
    "  for replicate in range(N_REPLICATES)] for k_val in range(SEQ_LEN)]\n",
    "[[ulstm_models[k_val][replicate].load_state_dict(torch.load(MODEL_SAVEPATH+'{}_NK_k{}_r{}.pt'.format('ulstm', k_val, replicate), weights_only=True)) \n",
    "  for replicate in range(N_REPLICATES)] for k_val in range(SEQ_LEN)]"
   ]
  },
  {
   "cell_type": "code",
   "execution_count": 8,
   "id": "6aba3fc8-e283-486c-8109-20a2ee98a7e4",
   "metadata": {},
   "outputs": [],
   "source": [
    "models_dict = {'linear': linear_models, 'mlp': mlp_models, 'cnn':cnn_models, 'ulstm': ulstm_models}"
   ]
  },
  {
   "cell_type": "code",
   "execution_count": 9,
   "id": "9a46acb9-ee40-48d1-ae6a-ae8438835c7f",
   "metadata": {
    "jupyter": {
     "source_hidden": true
    }
   },
   "outputs": [],
   "source": [
    "from sklearn.metrics import r2_score\n"
   ]
  },
  {
   "cell_type": "code",
   "execution_count": 10,
   "id": "ad0c1a05-ef80-44ac-bda6-0a8036f55f5d",
   "metadata": {
    "scrolled": true
   },
   "outputs": [
    {
     "name": "stderr",
     "output_type": "stream",
     "text": [
      "/home/ubuntu/.local/lib/python3.10/site-packages/torchmetrics/utilities/prints.py:43: UserWarning: Metric `SpearmanCorrcoef` will save all targets and predictions in the buffer. For large datasets, this may lead to large memory footprint.\n",
      "  warnings.warn(*args, **kwargs)  # noqa: B028\n",
      "/home/ubuntu/.local/lib/python3.10/site-packages/torchmetrics/utilities/prints.py:43: UserWarning: Metric `SpearmanCorrcoef` will save all targets and predictions in the buffer. For large datasets, this may lead to large memory footprint.\n",
      "  warnings.warn(*args, **kwargs)  # noqa: B028\n",
      "/home/ubuntu/.local/lib/python3.10/site-packages/torchmetrics/utilities/prints.py:43: UserWarning: Metric `SpearmanCorrcoef` will save all targets and predictions in the buffer. For large datasets, this may lead to large memory footprint.\n",
      "  warnings.warn(*args, **kwargs)  # noqa: B028\n",
      "/home/ubuntu/.local/lib/python3.10/site-packages/torchmetrics/utilities/prints.py:43: UserWarning: Metric `SpearmanCorrcoef` will save all targets and predictions in the buffer. For large datasets, this may lead to large memory footprint.\n",
      "  warnings.warn(*args, **kwargs)  # noqa: B028\n",
      "/home/ubuntu/.local/lib/python3.10/site-packages/torchmetrics/utilities/prints.py:43: UserWarning: Metric `SpearmanCorrcoef` will save all targets and predictions in the buffer. For large datasets, this may lead to large memory footprint.\n",
      "  warnings.warn(*args, **kwargs)  # noqa: B028\n",
      "/home/ubuntu/.local/lib/python3.10/site-packages/torchmetrics/utilities/prints.py:43: UserWarning: Metric `SpearmanCorrcoef` will save all targets and predictions in the buffer. For large datasets, this may lead to large memory footprint.\n",
      "  warnings.warn(*args, **kwargs)  # noqa: B028\n",
      "/home/ubuntu/.local/lib/python3.10/site-packages/torchmetrics/utilities/prints.py:43: UserWarning: Metric `SpearmanCorrcoef` will save all targets and predictions in the buffer. For large datasets, this may lead to large memory footprint.\n",
      "  warnings.warn(*args, **kwargs)  # noqa: B028\n",
      "/home/ubuntu/.local/lib/python3.10/site-packages/torchmetrics/utilities/prints.py:43: UserWarning: Metric `SpearmanCorrcoef` will save all targets and predictions in the buffer. For large datasets, this may lead to large memory footprint.\n",
      "  warnings.warn(*args, **kwargs)  # noqa: B028\n",
      "/home/ubuntu/.local/lib/python3.10/site-packages/torchmetrics/utilities/prints.py:43: UserWarning: Metric `SpearmanCorrcoef` will save all targets and predictions in the buffer. For large datasets, this may lead to large memory footprint.\n",
      "  warnings.warn(*args, **kwargs)  # noqa: B028\n",
      "/home/ubuntu/.local/lib/python3.10/site-packages/torchmetrics/utilities/prints.py:43: UserWarning: Metric `SpearmanCorrcoef` will save all targets and predictions in the buffer. For large datasets, this may lead to large memory footprint.\n",
      "  warnings.warn(*args, **kwargs)  # noqa: B028\n",
      "/home/ubuntu/.local/lib/python3.10/site-packages/torchmetrics/utilities/prints.py:43: UserWarning: Metric `SpearmanCorrcoef` will save all targets and predictions in the buffer. For large datasets, this may lead to large memory footprint.\n",
      "  warnings.warn(*args, **kwargs)  # noqa: B028\n",
      "/home/ubuntu/.local/lib/python3.10/site-packages/torchmetrics/utilities/prints.py:43: UserWarning: Metric `SpearmanCorrcoef` will save all targets and predictions in the buffer. For large datasets, this may lead to large memory footprint.\n",
      "  warnings.warn(*args, **kwargs)  # noqa: B028\n",
      "/home/ubuntu/.local/lib/python3.10/site-packages/torchmetrics/utilities/prints.py:43: UserWarning: Metric `SpearmanCorrcoef` will save all targets and predictions in the buffer. For large datasets, this may lead to large memory footprint.\n",
      "  warnings.warn(*args, **kwargs)  # noqa: B028\n",
      "/home/ubuntu/.local/lib/python3.10/site-packages/torchmetrics/utilities/prints.py:43: UserWarning: Metric `SpearmanCorrcoef` will save all targets and predictions in the buffer. For large datasets, this may lead to large memory footprint.\n",
      "  warnings.warn(*args, **kwargs)  # noqa: B028\n",
      "/home/ubuntu/.local/lib/python3.10/site-packages/torchmetrics/utilities/prints.py:43: UserWarning: The variance of predictions or target is close to zero. This can cause instability in Pearson correlationcoefficient, leading to wrong results. Consider re-scaling the input if possible or computing using alarger dtype (currently using torch.float32).\n",
      "  warnings.warn(*args, **kwargs)  # noqa: B028\n",
      "/home/ubuntu/.local/lib/python3.10/site-packages/torchmetrics/utilities/prints.py:43: UserWarning: Metric `SpearmanCorrcoef` will save all targets and predictions in the buffer. For large datasets, this may lead to large memory footprint.\n",
      "  warnings.warn(*args, **kwargs)  # noqa: B028\n",
      "/home/ubuntu/.local/lib/python3.10/site-packages/torchmetrics/utilities/prints.py:43: UserWarning: The variance of predictions or target is close to zero. This can cause instability in Pearson correlationcoefficient, leading to wrong results. Consider re-scaling the input if possible or computing using alarger dtype (currently using torch.float32).\n",
      "  warnings.warn(*args, **kwargs)  # noqa: B028\n",
      "/home/ubuntu/.local/lib/python3.10/site-packages/torchmetrics/utilities/prints.py:43: UserWarning: Metric `SpearmanCorrcoef` will save all targets and predictions in the buffer. For large datasets, this may lead to large memory footprint.\n",
      "  warnings.warn(*args, **kwargs)  # noqa: B028\n",
      "/home/ubuntu/.local/lib/python3.10/site-packages/torchmetrics/utilities/prints.py:43: UserWarning: The variance of predictions or target is close to zero. This can cause instability in Pearson correlationcoefficient, leading to wrong results. Consider re-scaling the input if possible or computing using alarger dtype (currently using torch.float32).\n",
      "  warnings.warn(*args, **kwargs)  # noqa: B028\n",
      "/home/ubuntu/.local/lib/python3.10/site-packages/torchmetrics/utilities/prints.py:43: UserWarning: Metric `SpearmanCorrcoef` will save all targets and predictions in the buffer. For large datasets, this may lead to large memory footprint.\n",
      "  warnings.warn(*args, **kwargs)  # noqa: B028\n",
      "/home/ubuntu/.local/lib/python3.10/site-packages/torchmetrics/utilities/prints.py:43: UserWarning: The variance of predictions or target is close to zero. This can cause instability in Pearson correlationcoefficient, leading to wrong results. Consider re-scaling the input if possible or computing using alarger dtype (currently using torch.float32).\n",
      "  warnings.warn(*args, **kwargs)  # noqa: B028\n",
      "/home/ubuntu/.local/lib/python3.10/site-packages/torchmetrics/utilities/prints.py:43: UserWarning: Metric `SpearmanCorrcoef` will save all targets and predictions in the buffer. For large datasets, this may lead to large memory footprint.\n",
      "  warnings.warn(*args, **kwargs)  # noqa: B028\n",
      "/home/ubuntu/.local/lib/python3.10/site-packages/torchmetrics/utilities/prints.py:43: UserWarning: The variance of predictions or target is close to zero. This can cause instability in Pearson correlationcoefficient, leading to wrong results. Consider re-scaling the input if possible or computing using alarger dtype (currently using torch.float32).\n",
      "  warnings.warn(*args, **kwargs)  # noqa: B028\n",
      "/home/ubuntu/.local/lib/python3.10/site-packages/torchmetrics/utilities/prints.py:43: UserWarning: Metric `SpearmanCorrcoef` will save all targets and predictions in the buffer. For large datasets, this may lead to large memory footprint.\n",
      "  warnings.warn(*args, **kwargs)  # noqa: B028\n",
      "/home/ubuntu/.local/lib/python3.10/site-packages/torchmetrics/utilities/prints.py:43: UserWarning: The variance of predictions or target is close to zero. This can cause instability in Pearson correlationcoefficient, leading to wrong results. Consider re-scaling the input if possible or computing using alarger dtype (currently using torch.float32).\n",
      "  warnings.warn(*args, **kwargs)  # noqa: B028\n",
      "/home/ubuntu/.local/lib/python3.10/site-packages/torchmetrics/utilities/prints.py:43: UserWarning: Metric `SpearmanCorrcoef` will save all targets and predictions in the buffer. For large datasets, this may lead to large memory footprint.\n",
      "  warnings.warn(*args, **kwargs)  # noqa: B028\n",
      "/home/ubuntu/.local/lib/python3.10/site-packages/torchmetrics/utilities/prints.py:43: UserWarning: The variance of predictions or target is close to zero. This can cause instability in Pearson correlationcoefficient, leading to wrong results. Consider re-scaling the input if possible or computing using alarger dtype (currently using torch.float32).\n",
      "  warnings.warn(*args, **kwargs)  # noqa: B028\n",
      "/home/ubuntu/.local/lib/python3.10/site-packages/torchmetrics/utilities/prints.py:43: UserWarning: Metric `SpearmanCorrcoef` will save all targets and predictions in the buffer. For large datasets, this may lead to large memory footprint.\n",
      "  warnings.warn(*args, **kwargs)  # noqa: B028\n",
      "/home/ubuntu/.local/lib/python3.10/site-packages/torchmetrics/utilities/prints.py:43: UserWarning: The variance of predictions or target is close to zero. This can cause instability in Pearson correlationcoefficient, leading to wrong results. Consider re-scaling the input if possible or computing using alarger dtype (currently using torch.float32).\n",
      "  warnings.warn(*args, **kwargs)  # noqa: B028\n",
      "/home/ubuntu/.local/lib/python3.10/site-packages/torchmetrics/utilities/prints.py:43: UserWarning: Metric `SpearmanCorrcoef` will save all targets and predictions in the buffer. For large datasets, this may lead to large memory footprint.\n",
      "  warnings.warn(*args, **kwargs)  # noqa: B028\n",
      "/home/ubuntu/.local/lib/python3.10/site-packages/torchmetrics/utilities/prints.py:43: UserWarning: The variance of predictions or target is close to zero. This can cause instability in Pearson correlationcoefficient, leading to wrong results. Consider re-scaling the input if possible or computing using alarger dtype (currently using torch.float32).\n",
      "  warnings.warn(*args, **kwargs)  # noqa: B028\n",
      "/home/ubuntu/.local/lib/python3.10/site-packages/torchmetrics/utilities/prints.py:43: UserWarning: Metric `SpearmanCorrcoef` will save all targets and predictions in the buffer. For large datasets, this may lead to large memory footprint.\n",
      "  warnings.warn(*args, **kwargs)  # noqa: B028\n",
      "/home/ubuntu/.local/lib/python3.10/site-packages/torchmetrics/utilities/prints.py:43: UserWarning: The variance of predictions or target is close to zero. This can cause instability in Pearson correlationcoefficient, leading to wrong results. Consider re-scaling the input if possible or computing using alarger dtype (currently using torch.float32).\n",
      "  warnings.warn(*args, **kwargs)  # noqa: B028\n",
      "/home/ubuntu/.local/lib/python3.10/site-packages/torchmetrics/utilities/prints.py:43: UserWarning: Metric `SpearmanCorrcoef` will save all targets and predictions in the buffer. For large datasets, this may lead to large memory footprint.\n",
      "  warnings.warn(*args, **kwargs)  # noqa: B028\n",
      "/home/ubuntu/.local/lib/python3.10/site-packages/torchmetrics/utilities/prints.py:43: UserWarning: The variance of predictions or target is close to zero. This can cause instability in Pearson correlationcoefficient, leading to wrong results. Consider re-scaling the input if possible or computing using alarger dtype (currently using torch.float32).\n",
      "  warnings.warn(*args, **kwargs)  # noqa: B028\n",
      "/home/ubuntu/.local/lib/python3.10/site-packages/torchmetrics/utilities/prints.py:43: UserWarning: Metric `SpearmanCorrcoef` will save all targets and predictions in the buffer. For large datasets, this may lead to large memory footprint.\n",
      "  warnings.warn(*args, **kwargs)  # noqa: B028\n",
      "/home/ubuntu/.local/lib/python3.10/site-packages/torchmetrics/utilities/prints.py:43: UserWarning: Metric `SpearmanCorrcoef` will save all targets and predictions in the buffer. For large datasets, this may lead to large memory footprint.\n",
      "  warnings.warn(*args, **kwargs)  # noqa: B028\n",
      "/home/ubuntu/.local/lib/python3.10/site-packages/torchmetrics/utilities/prints.py:43: UserWarning: Metric `SpearmanCorrcoef` will save all targets and predictions in the buffer. For large datasets, this may lead to large memory footprint.\n",
      "  warnings.warn(*args, **kwargs)  # noqa: B028\n",
      "/home/ubuntu/.local/lib/python3.10/site-packages/torchmetrics/utilities/prints.py:43: UserWarning: Metric `SpearmanCorrcoef` will save all targets and predictions in the buffer. For large datasets, this may lead to large memory footprint.\n",
      "  warnings.warn(*args, **kwargs)  # noqa: B028\n",
      "/home/ubuntu/.local/lib/python3.10/site-packages/torchmetrics/utilities/prints.py:43: UserWarning: Metric `SpearmanCorrcoef` will save all targets and predictions in the buffer. For large datasets, this may lead to large memory footprint.\n",
      "  warnings.warn(*args, **kwargs)  # noqa: B028\n",
      "/home/ubuntu/.local/lib/python3.10/site-packages/torchmetrics/utilities/prints.py:43: UserWarning: Metric `SpearmanCorrcoef` will save all targets and predictions in the buffer. For large datasets, this may lead to large memory footprint.\n",
      "  warnings.warn(*args, **kwargs)  # noqa: B028\n",
      "/home/ubuntu/.local/lib/python3.10/site-packages/torchmetrics/utilities/prints.py:43: UserWarning: Metric `SpearmanCorrcoef` will save all targets and predictions in the buffer. For large datasets, this may lead to large memory footprint.\n",
      "  warnings.warn(*args, **kwargs)  # noqa: B028\n",
      "/home/ubuntu/.local/lib/python3.10/site-packages/torchmetrics/utilities/prints.py:43: UserWarning: Metric `SpearmanCorrcoef` will save all targets and predictions in the buffer. For large datasets, this may lead to large memory footprint.\n",
      "  warnings.warn(*args, **kwargs)  # noqa: B028\n",
      "/home/ubuntu/.local/lib/python3.10/site-packages/torchmetrics/utilities/prints.py:43: UserWarning: Metric `SpearmanCorrcoef` will save all targets and predictions in the buffer. For large datasets, this may lead to large memory footprint.\n",
      "  warnings.warn(*args, **kwargs)  # noqa: B028\n",
      "/home/ubuntu/.local/lib/python3.10/site-packages/torchmetrics/utilities/prints.py:43: UserWarning: Metric `SpearmanCorrcoef` will save all targets and predictions in the buffer. For large datasets, this may lead to large memory footprint.\n",
      "  warnings.warn(*args, **kwargs)  # noqa: B028\n",
      "/home/ubuntu/.local/lib/python3.10/site-packages/torchmetrics/utilities/prints.py:43: UserWarning: Metric `SpearmanCorrcoef` will save all targets and predictions in the buffer. For large datasets, this may lead to large memory footprint.\n",
      "  warnings.warn(*args, **kwargs)  # noqa: B028\n",
      "/home/ubuntu/.local/lib/python3.10/site-packages/torchmetrics/utilities/prints.py:43: UserWarning: Metric `SpearmanCorrcoef` will save all targets and predictions in the buffer. For large datasets, this may lead to large memory footprint.\n",
      "  warnings.warn(*args, **kwargs)  # noqa: B028\n",
      "/home/ubuntu/.local/lib/python3.10/site-packages/torchmetrics/utilities/prints.py:43: UserWarning: Metric `SpearmanCorrcoef` will save all targets and predictions in the buffer. For large datasets, this may lead to large memory footprint.\n",
      "  warnings.warn(*args, **kwargs)  # noqa: B028\n",
      "/home/ubuntu/.local/lib/python3.10/site-packages/torchmetrics/utilities/prints.py:43: UserWarning: Metric `SpearmanCorrcoef` will save all targets and predictions in the buffer. For large datasets, this may lead to large memory footprint.\n",
      "  warnings.warn(*args, **kwargs)  # noqa: B028\n",
      "/home/ubuntu/.local/lib/python3.10/site-packages/torchmetrics/utilities/prints.py:43: UserWarning: Metric `SpearmanCorrcoef` will save all targets and predictions in the buffer. For large datasets, this may lead to large memory footprint.\n",
      "  warnings.warn(*args, **kwargs)  # noqa: B028\n",
      "/home/ubuntu/.local/lib/python3.10/site-packages/torchmetrics/utilities/prints.py:43: UserWarning: Metric `SpearmanCorrcoef` will save all targets and predictions in the buffer. For large datasets, this may lead to large memory footprint.\n",
      "  warnings.warn(*args, **kwargs)  # noqa: B028\n",
      "/home/ubuntu/.local/lib/python3.10/site-packages/torchmetrics/utilities/prints.py:43: UserWarning: Metric `SpearmanCorrcoef` will save all targets and predictions in the buffer. For large datasets, this may lead to large memory footprint.\n",
      "  warnings.warn(*args, **kwargs)  # noqa: B028\n",
      "/home/ubuntu/.local/lib/python3.10/site-packages/torchmetrics/utilities/prints.py:43: UserWarning: Metric `SpearmanCorrcoef` will save all targets and predictions in the buffer. For large datasets, this may lead to large memory footprint.\n",
      "  warnings.warn(*args, **kwargs)  # noqa: B028\n",
      "/home/ubuntu/.local/lib/python3.10/site-packages/torchmetrics/utilities/prints.py:43: UserWarning: Metric `SpearmanCorrcoef` will save all targets and predictions in the buffer. For large datasets, this may lead to large memory footprint.\n",
      "  warnings.warn(*args, **kwargs)  # noqa: B028\n",
      "/home/ubuntu/.local/lib/python3.10/site-packages/torchmetrics/utilities/prints.py:43: UserWarning: Metric `SpearmanCorrcoef` will save all targets and predictions in the buffer. For large datasets, this may lead to large memory footprint.\n",
      "  warnings.warn(*args, **kwargs)  # noqa: B028\n",
      "/home/ubuntu/.local/lib/python3.10/site-packages/torchmetrics/utilities/prints.py:43: UserWarning: Metric `SpearmanCorrcoef` will save all targets and predictions in the buffer. For large datasets, this may lead to large memory footprint.\n",
      "  warnings.warn(*args, **kwargs)  # noqa: B028\n",
      "/home/ubuntu/.local/lib/python3.10/site-packages/torchmetrics/utilities/prints.py:43: UserWarning: The variance of predictions or target is close to zero. This can cause instability in Pearson correlationcoefficient, leading to wrong results. Consider re-scaling the input if possible or computing using alarger dtype (currently using torch.float32).\n",
      "  warnings.warn(*args, **kwargs)  # noqa: B028\n",
      "/home/ubuntu/.local/lib/python3.10/site-packages/torchmetrics/utilities/prints.py:43: UserWarning: Metric `SpearmanCorrcoef` will save all targets and predictions in the buffer. For large datasets, this may lead to large memory footprint.\n",
      "  warnings.warn(*args, **kwargs)  # noqa: B028\n",
      "/home/ubuntu/.local/lib/python3.10/site-packages/torchmetrics/utilities/prints.py:43: UserWarning: The variance of predictions or target is close to zero. This can cause instability in Pearson correlationcoefficient, leading to wrong results. Consider re-scaling the input if possible or computing using alarger dtype (currently using torch.float32).\n",
      "  warnings.warn(*args, **kwargs)  # noqa: B028\n",
      "/home/ubuntu/.local/lib/python3.10/site-packages/torchmetrics/utilities/prints.py:43: UserWarning: Metric `SpearmanCorrcoef` will save all targets and predictions in the buffer. For large datasets, this may lead to large memory footprint.\n",
      "  warnings.warn(*args, **kwargs)  # noqa: B028\n",
      "/home/ubuntu/.local/lib/python3.10/site-packages/torchmetrics/utilities/prints.py:43: UserWarning: The variance of predictions or target is close to zero. This can cause instability in Pearson correlationcoefficient, leading to wrong results. Consider re-scaling the input if possible or computing using alarger dtype (currently using torch.float32).\n",
      "  warnings.warn(*args, **kwargs)  # noqa: B028\n",
      "/home/ubuntu/.local/lib/python3.10/site-packages/torchmetrics/utilities/prints.py:43: UserWarning: Metric `SpearmanCorrcoef` will save all targets and predictions in the buffer. For large datasets, this may lead to large memory footprint.\n",
      "  warnings.warn(*args, **kwargs)  # noqa: B028\n",
      "/home/ubuntu/.local/lib/python3.10/site-packages/torchmetrics/utilities/prints.py:43: UserWarning: The variance of predictions or target is close to zero. This can cause instability in Pearson correlationcoefficient, leading to wrong results. Consider re-scaling the input if possible or computing using alarger dtype (currently using torch.float32).\n",
      "  warnings.warn(*args, **kwargs)  # noqa: B028\n",
      "/home/ubuntu/.local/lib/python3.10/site-packages/torchmetrics/utilities/prints.py:43: UserWarning: Metric `SpearmanCorrcoef` will save all targets and predictions in the buffer. For large datasets, this may lead to large memory footprint.\n",
      "  warnings.warn(*args, **kwargs)  # noqa: B028\n",
      "/home/ubuntu/.local/lib/python3.10/site-packages/torchmetrics/utilities/prints.py:43: UserWarning: Metric `SpearmanCorrcoef` will save all targets and predictions in the buffer. For large datasets, this may lead to large memory footprint.\n",
      "  warnings.warn(*args, **kwargs)  # noqa: B028\n",
      "/home/ubuntu/.local/lib/python3.10/site-packages/torchmetrics/utilities/prints.py:43: UserWarning: Metric `SpearmanCorrcoef` will save all targets and predictions in the buffer. For large datasets, this may lead to large memory footprint.\n",
      "  warnings.warn(*args, **kwargs)  # noqa: B028\n",
      "/home/ubuntu/.local/lib/python3.10/site-packages/torchmetrics/utilities/prints.py:43: UserWarning: Metric `SpearmanCorrcoef` will save all targets and predictions in the buffer. For large datasets, this may lead to large memory footprint.\n",
      "  warnings.warn(*args, **kwargs)  # noqa: B028\n",
      "/home/ubuntu/.local/lib/python3.10/site-packages/torchmetrics/utilities/prints.py:43: UserWarning: Metric `SpearmanCorrcoef` will save all targets and predictions in the buffer. For large datasets, this may lead to large memory footprint.\n",
      "  warnings.warn(*args, **kwargs)  # noqa: B028\n",
      "/home/ubuntu/.local/lib/python3.10/site-packages/torchmetrics/utilities/prints.py:43: UserWarning: Metric `SpearmanCorrcoef` will save all targets and predictions in the buffer. For large datasets, this may lead to large memory footprint.\n",
      "  warnings.warn(*args, **kwargs)  # noqa: B028\n",
      "/home/ubuntu/.local/lib/python3.10/site-packages/torchmetrics/utilities/prints.py:43: UserWarning: Metric `SpearmanCorrcoef` will save all targets and predictions in the buffer. For large datasets, this may lead to large memory footprint.\n",
      "  warnings.warn(*args, **kwargs)  # noqa: B028\n",
      "/home/ubuntu/.local/lib/python3.10/site-packages/torchmetrics/utilities/prints.py:43: UserWarning: Metric `SpearmanCorrcoef` will save all targets and predictions in the buffer. For large datasets, this may lead to large memory footprint.\n",
      "  warnings.warn(*args, **kwargs)  # noqa: B028\n",
      "/home/ubuntu/.local/lib/python3.10/site-packages/torchmetrics/utilities/prints.py:43: UserWarning: Metric `SpearmanCorrcoef` will save all targets and predictions in the buffer. For large datasets, this may lead to large memory footprint.\n",
      "  warnings.warn(*args, **kwargs)  # noqa: B028\n",
      "/home/ubuntu/.local/lib/python3.10/site-packages/torchmetrics/utilities/prints.py:43: UserWarning: Metric `SpearmanCorrcoef` will save all targets and predictions in the buffer. For large datasets, this may lead to large memory footprint.\n",
      "  warnings.warn(*args, **kwargs)  # noqa: B028\n",
      "/home/ubuntu/.local/lib/python3.10/site-packages/torchmetrics/utilities/prints.py:43: UserWarning: Metric `SpearmanCorrcoef` will save all targets and predictions in the buffer. For large datasets, this may lead to large memory footprint.\n",
      "  warnings.warn(*args, **kwargs)  # noqa: B028\n",
      "/home/ubuntu/.local/lib/python3.10/site-packages/torchmetrics/utilities/prints.py:43: UserWarning: Metric `SpearmanCorrcoef` will save all targets and predictions in the buffer. For large datasets, this may lead to large memory footprint.\n",
      "  warnings.warn(*args, **kwargs)  # noqa: B028\n",
      "/home/ubuntu/.local/lib/python3.10/site-packages/torchmetrics/utilities/prints.py:43: UserWarning: Metric `SpearmanCorrcoef` will save all targets and predictions in the buffer. For large datasets, this may lead to large memory footprint.\n",
      "  warnings.warn(*args, **kwargs)  # noqa: B028\n",
      "/home/ubuntu/.local/lib/python3.10/site-packages/torchmetrics/utilities/prints.py:43: UserWarning: Metric `SpearmanCorrcoef` will save all targets and predictions in the buffer. For large datasets, this may lead to large memory footprint.\n",
      "  warnings.warn(*args, **kwargs)  # noqa: B028\n",
      "/home/ubuntu/.local/lib/python3.10/site-packages/torchmetrics/utilities/prints.py:43: UserWarning: Metric `SpearmanCorrcoef` will save all targets and predictions in the buffer. For large datasets, this may lead to large memory footprint.\n",
      "  warnings.warn(*args, **kwargs)  # noqa: B028\n",
      "/home/ubuntu/.local/lib/python3.10/site-packages/torchmetrics/utilities/prints.py:43: UserWarning: Metric `SpearmanCorrcoef` will save all targets and predictions in the buffer. For large datasets, this may lead to large memory footprint.\n",
      "  warnings.warn(*args, **kwargs)  # noqa: B028\n",
      "/home/ubuntu/.local/lib/python3.10/site-packages/torchmetrics/utilities/prints.py:43: UserWarning: Metric `SpearmanCorrcoef` will save all targets and predictions in the buffer. For large datasets, this may lead to large memory footprint.\n",
      "  warnings.warn(*args, **kwargs)  # noqa: B028\n",
      "/home/ubuntu/.local/lib/python3.10/site-packages/torchmetrics/utilities/prints.py:43: UserWarning: Metric `SpearmanCorrcoef` will save all targets and predictions in the buffer. For large datasets, this may lead to large memory footprint.\n",
      "  warnings.warn(*args, **kwargs)  # noqa: B028\n",
      "/home/ubuntu/.local/lib/python3.10/site-packages/torchmetrics/utilities/prints.py:43: UserWarning: Metric `SpearmanCorrcoef` will save all targets and predictions in the buffer. For large datasets, this may lead to large memory footprint.\n",
      "  warnings.warn(*args, **kwargs)  # noqa: B028\n",
      "/home/ubuntu/.local/lib/python3.10/site-packages/torchmetrics/utilities/prints.py:43: UserWarning: Metric `SpearmanCorrcoef` will save all targets and predictions in the buffer. For large datasets, this may lead to large memory footprint.\n",
      "  warnings.warn(*args, **kwargs)  # noqa: B028\n",
      "/home/ubuntu/.local/lib/python3.10/site-packages/torchmetrics/utilities/prints.py:43: UserWarning: Metric `SpearmanCorrcoef` will save all targets and predictions in the buffer. For large datasets, this may lead to large memory footprint.\n",
      "  warnings.warn(*args, **kwargs)  # noqa: B028\n",
      "/home/ubuntu/.local/lib/python3.10/site-packages/torchmetrics/utilities/prints.py:43: UserWarning: The variance of predictions or target is close to zero. This can cause instability in Pearson correlationcoefficient, leading to wrong results. Consider re-scaling the input if possible or computing using alarger dtype (currently using torch.float32).\n",
      "  warnings.warn(*args, **kwargs)  # noqa: B028\n",
      "/home/ubuntu/.local/lib/python3.10/site-packages/torchmetrics/utilities/prints.py:43: UserWarning: Metric `SpearmanCorrcoef` will save all targets and predictions in the buffer. For large datasets, this may lead to large memory footprint.\n",
      "  warnings.warn(*args, **kwargs)  # noqa: B028\n",
      "/home/ubuntu/.local/lib/python3.10/site-packages/torchmetrics/utilities/prints.py:43: UserWarning: The variance of predictions or target is close to zero. This can cause instability in Pearson correlationcoefficient, leading to wrong results. Consider re-scaling the input if possible or computing using alarger dtype (currently using torch.float32).\n",
      "  warnings.warn(*args, **kwargs)  # noqa: B028\n",
      "/home/ubuntu/.local/lib/python3.10/site-packages/torchmetrics/utilities/prints.py:43: UserWarning: Metric `SpearmanCorrcoef` will save all targets and predictions in the buffer. For large datasets, this may lead to large memory footprint.\n",
      "  warnings.warn(*args, **kwargs)  # noqa: B028\n",
      "/home/ubuntu/.local/lib/python3.10/site-packages/torchmetrics/utilities/prints.py:43: UserWarning: The variance of predictions or target is close to zero. This can cause instability in Pearson correlationcoefficient, leading to wrong results. Consider re-scaling the input if possible or computing using alarger dtype (currently using torch.float32).\n",
      "  warnings.warn(*args, **kwargs)  # noqa: B028\n",
      "/home/ubuntu/.local/lib/python3.10/site-packages/torchmetrics/utilities/prints.py:43: UserWarning: Metric `SpearmanCorrcoef` will save all targets and predictions in the buffer. For large datasets, this may lead to large memory footprint.\n",
      "  warnings.warn(*args, **kwargs)  # noqa: B028\n",
      "/home/ubuntu/.local/lib/python3.10/site-packages/torchmetrics/utilities/prints.py:43: UserWarning: The variance of predictions or target is close to zero. This can cause instability in Pearson correlationcoefficient, leading to wrong results. Consider re-scaling the input if possible or computing using alarger dtype (currently using torch.float32).\n",
      "  warnings.warn(*args, **kwargs)  # noqa: B028\n",
      "/home/ubuntu/.local/lib/python3.10/site-packages/torchmetrics/utilities/prints.py:43: UserWarning: Metric `SpearmanCorrcoef` will save all targets and predictions in the buffer. For large datasets, this may lead to large memory footprint.\n",
      "  warnings.warn(*args, **kwargs)  # noqa: B028\n",
      "/home/ubuntu/.local/lib/python3.10/site-packages/torchmetrics/utilities/prints.py:43: UserWarning: Metric `SpearmanCorrcoef` will save all targets and predictions in the buffer. For large datasets, this may lead to large memory footprint.\n",
      "  warnings.warn(*args, **kwargs)  # noqa: B028\n",
      "/home/ubuntu/.local/lib/python3.10/site-packages/torchmetrics/utilities/prints.py:43: UserWarning: Metric `SpearmanCorrcoef` will save all targets and predictions in the buffer. For large datasets, this may lead to large memory footprint.\n",
      "  warnings.warn(*args, **kwargs)  # noqa: B028\n",
      "/home/ubuntu/.local/lib/python3.10/site-packages/torchmetrics/utilities/prints.py:43: UserWarning: Metric `SpearmanCorrcoef` will save all targets and predictions in the buffer. For large datasets, this may lead to large memory footprint.\n",
      "  warnings.warn(*args, **kwargs)  # noqa: B028\n",
      "/home/ubuntu/.local/lib/python3.10/site-packages/torchmetrics/utilities/prints.py:43: UserWarning: Metric `SpearmanCorrcoef` will save all targets and predictions in the buffer. For large datasets, this may lead to large memory footprint.\n",
      "  warnings.warn(*args, **kwargs)  # noqa: B028\n",
      "/home/ubuntu/.local/lib/python3.10/site-packages/torchmetrics/utilities/prints.py:43: UserWarning: Metric `SpearmanCorrcoef` will save all targets and predictions in the buffer. For large datasets, this may lead to large memory footprint.\n",
      "  warnings.warn(*args, **kwargs)  # noqa: B028\n",
      "/home/ubuntu/.local/lib/python3.10/site-packages/torchmetrics/utilities/prints.py:43: UserWarning: Metric `SpearmanCorrcoef` will save all targets and predictions in the buffer. For large datasets, this may lead to large memory footprint.\n",
      "  warnings.warn(*args, **kwargs)  # noqa: B028\n",
      "/home/ubuntu/.local/lib/python3.10/site-packages/torchmetrics/utilities/prints.py:43: UserWarning: Metric `SpearmanCorrcoef` will save all targets and predictions in the buffer. For large datasets, this may lead to large memory footprint.\n",
      "  warnings.warn(*args, **kwargs)  # noqa: B028\n",
      "/home/ubuntu/.local/lib/python3.10/site-packages/torchmetrics/utilities/prints.py:43: UserWarning: Metric `SpearmanCorrcoef` will save all targets and predictions in the buffer. For large datasets, this may lead to large memory footprint.\n",
      "  warnings.warn(*args, **kwargs)  # noqa: B028\n",
      "/home/ubuntu/.local/lib/python3.10/site-packages/torchmetrics/utilities/prints.py:43: UserWarning: Metric `SpearmanCorrcoef` will save all targets and predictions in the buffer. For large datasets, this may lead to large memory footprint.\n",
      "  warnings.warn(*args, **kwargs)  # noqa: B028\n",
      "/home/ubuntu/.local/lib/python3.10/site-packages/torchmetrics/utilities/prints.py:43: UserWarning: Metric `SpearmanCorrcoef` will save all targets and predictions in the buffer. For large datasets, this may lead to large memory footprint.\n",
      "  warnings.warn(*args, **kwargs)  # noqa: B028\n",
      "/home/ubuntu/.local/lib/python3.10/site-packages/torchmetrics/utilities/prints.py:43: UserWarning: Metric `SpearmanCorrcoef` will save all targets and predictions in the buffer. For large datasets, this may lead to large memory footprint.\n",
      "  warnings.warn(*args, **kwargs)  # noqa: B028\n",
      "/home/ubuntu/.local/lib/python3.10/site-packages/torchmetrics/utilities/prints.py:43: UserWarning: Metric `SpearmanCorrcoef` will save all targets and predictions in the buffer. For large datasets, this may lead to large memory footprint.\n",
      "  warnings.warn(*args, **kwargs)  # noqa: B028\n",
      "/home/ubuntu/.local/lib/python3.10/site-packages/torchmetrics/utilities/prints.py:43: UserWarning: Metric `SpearmanCorrcoef` will save all targets and predictions in the buffer. For large datasets, this may lead to large memory footprint.\n",
      "  warnings.warn(*args, **kwargs)  # noqa: B028\n",
      "/home/ubuntu/.local/lib/python3.10/site-packages/torchmetrics/utilities/prints.py:43: UserWarning: Metric `SpearmanCorrcoef` will save all targets and predictions in the buffer. For large datasets, this may lead to large memory footprint.\n",
      "  warnings.warn(*args, **kwargs)  # noqa: B028\n",
      "/home/ubuntu/.local/lib/python3.10/site-packages/torchmetrics/utilities/prints.py:43: UserWarning: Metric `SpearmanCorrcoef` will save all targets and predictions in the buffer. For large datasets, this may lead to large memory footprint.\n",
      "  warnings.warn(*args, **kwargs)  # noqa: B028\n",
      "/home/ubuntu/.local/lib/python3.10/site-packages/torchmetrics/utilities/prints.py:43: UserWarning: Metric `SpearmanCorrcoef` will save all targets and predictions in the buffer. For large datasets, this may lead to large memory footprint.\n",
      "  warnings.warn(*args, **kwargs)  # noqa: B028\n",
      "/home/ubuntu/.local/lib/python3.10/site-packages/torchmetrics/utilities/prints.py:43: UserWarning: Metric `SpearmanCorrcoef` will save all targets and predictions in the buffer. For large datasets, this may lead to large memory footprint.\n",
      "  warnings.warn(*args, **kwargs)  # noqa: B028\n",
      "/home/ubuntu/.local/lib/python3.10/site-packages/torchmetrics/utilities/prints.py:43: UserWarning: Metric `SpearmanCorrcoef` will save all targets and predictions in the buffer. For large datasets, this may lead to large memory footprint.\n",
      "  warnings.warn(*args, **kwargs)  # noqa: B028\n",
      "/home/ubuntu/.local/lib/python3.10/site-packages/torchmetrics/utilities/prints.py:43: UserWarning: The variance of predictions or target is close to zero. This can cause instability in Pearson correlationcoefficient, leading to wrong results. Consider re-scaling the input if possible or computing using alarger dtype (currently using torch.float32).\n",
      "  warnings.warn(*args, **kwargs)  # noqa: B028\n",
      "/home/ubuntu/.local/lib/python3.10/site-packages/torchmetrics/utilities/prints.py:43: UserWarning: Metric `SpearmanCorrcoef` will save all targets and predictions in the buffer. For large datasets, this may lead to large memory footprint.\n",
      "  warnings.warn(*args, **kwargs)  # noqa: B028\n",
      "/home/ubuntu/.local/lib/python3.10/site-packages/torchmetrics/utilities/prints.py:43: UserWarning: The variance of predictions or target is close to zero. This can cause instability in Pearson correlationcoefficient, leading to wrong results. Consider re-scaling the input if possible or computing using alarger dtype (currently using torch.float32).\n",
      "  warnings.warn(*args, **kwargs)  # noqa: B028\n",
      "/home/ubuntu/.local/lib/python3.10/site-packages/torchmetrics/utilities/prints.py:43: UserWarning: Metric `SpearmanCorrcoef` will save all targets and predictions in the buffer. For large datasets, this may lead to large memory footprint.\n",
      "  warnings.warn(*args, **kwargs)  # noqa: B028\n",
      "/home/ubuntu/.local/lib/python3.10/site-packages/torchmetrics/utilities/prints.py:43: UserWarning: The variance of predictions or target is close to zero. This can cause instability in Pearson correlationcoefficient, leading to wrong results. Consider re-scaling the input if possible or computing using alarger dtype (currently using torch.float32).\n",
      "  warnings.warn(*args, **kwargs)  # noqa: B028\n",
      "/home/ubuntu/.local/lib/python3.10/site-packages/torchmetrics/utilities/prints.py:43: UserWarning: Metric `SpearmanCorrcoef` will save all targets and predictions in the buffer. For large datasets, this may lead to large memory footprint.\n",
      "  warnings.warn(*args, **kwargs)  # noqa: B028\n",
      "/home/ubuntu/.local/lib/python3.10/site-packages/torchmetrics/utilities/prints.py:43: UserWarning: The variance of predictions or target is close to zero. This can cause instability in Pearson correlationcoefficient, leading to wrong results. Consider re-scaling the input if possible or computing using alarger dtype (currently using torch.float32).\n",
      "  warnings.warn(*args, **kwargs)  # noqa: B028\n",
      "/home/ubuntu/.local/lib/python3.10/site-packages/torchmetrics/utilities/prints.py:43: UserWarning: Metric `SpearmanCorrcoef` will save all targets and predictions in the buffer. For large datasets, this may lead to large memory footprint.\n",
      "  warnings.warn(*args, **kwargs)  # noqa: B028\n",
      "/home/ubuntu/.local/lib/python3.10/site-packages/torchmetrics/utilities/prints.py:43: UserWarning: The variance of predictions or target is close to zero. This can cause instability in Pearson correlationcoefficient, leading to wrong results. Consider re-scaling the input if possible or computing using alarger dtype (currently using torch.float32).\n",
      "  warnings.warn(*args, **kwargs)  # noqa: B028\n",
      "/home/ubuntu/.local/lib/python3.10/site-packages/torchmetrics/utilities/prints.py:43: UserWarning: Metric `SpearmanCorrcoef` will save all targets and predictions in the buffer. For large datasets, this may lead to large memory footprint.\n",
      "  warnings.warn(*args, **kwargs)  # noqa: B028\n",
      "/home/ubuntu/.local/lib/python3.10/site-packages/torchmetrics/utilities/prints.py:43: UserWarning: The variance of predictions or target is close to zero. This can cause instability in Pearson correlationcoefficient, leading to wrong results. Consider re-scaling the input if possible or computing using alarger dtype (currently using torch.float32).\n",
      "  warnings.warn(*args, **kwargs)  # noqa: B028\n"
     ]
    },
    {
     "ename": "KeyError",
     "evalue": "''",
     "output_type": "error",
     "traceback": [
      "\u001b[0;31m---------------------------------------------------------------------------\u001b[0m",
      "\u001b[0;31mKeyError\u001b[0m                                  Traceback (most recent call last)",
      "\u001b[0;32m/tmp/ipykernel_58086/878941665.py\u001b[0m in \u001b[0;36m<module>\u001b[0;34m\u001b[0m\n\u001b[1;32m      9\u001b[0m         \u001b[0mlandscapes_ohe\u001b[0m\u001b[0;34m,\u001b[0m \u001b[0mxy_train\u001b[0m\u001b[0;34m,\u001b[0m \u001b[0mxy_val\u001b[0m\u001b[0;34m,\u001b[0m \u001b[0mxy_test\u001b[0m\u001b[0;34m,\u001b[0m \u001b[0mx_tests\u001b[0m\u001b[0;34m,\u001b[0m \u001b[0my_tests\u001b[0m \u001b[0;34m=\u001b[0m \u001b[0msplits\u001b[0m\u001b[0;34m[\u001b[0m\u001b[0mk_val\u001b[0m\u001b[0;34m]\u001b[0m\u001b[0;34m\u001b[0m\u001b[0;34m\u001b[0m\u001b[0m\n\u001b[1;32m     10\u001b[0m         \u001b[0;32mfor\u001b[0m \u001b[0mreplicate_index\u001b[0m \u001b[0;32min\u001b[0m \u001b[0mrange\u001b[0m\u001b[0;34m(\u001b[0m\u001b[0mN_REPLICATES\u001b[0m\u001b[0;34m)\u001b[0m\u001b[0;34m:\u001b[0m\u001b[0;34m\u001b[0m\u001b[0;34m\u001b[0m\u001b[0m\n\u001b[0;32m---> 11\u001b[0;31m             \u001b[0mmodel\u001b[0m \u001b[0;34m=\u001b[0m \u001b[0mmodels_dict\u001b[0m\u001b[0;34m[\u001b[0m\u001b[0mmodel_name\u001b[0m\u001b[0;34m]\u001b[0m\u001b[0;34m[\u001b[0m\u001b[0mk_val\u001b[0m\u001b[0;34m]\u001b[0m\u001b[0;34m[\u001b[0m\u001b[0mreplicate_index\u001b[0m\u001b[0;34m]\u001b[0m\u001b[0;34m\u001b[0m\u001b[0;34m\u001b[0m\u001b[0m\n\u001b[0m\u001b[1;32m     12\u001b[0m             \u001b[0mmodel\u001b[0m\u001b[0;34m.\u001b[0m\u001b[0mto\u001b[0m\u001b[0;34m(\u001b[0m\u001b[0mdevice\u001b[0m\u001b[0;34m)\u001b[0m\u001b[0;34m\u001b[0m\u001b[0;34m\u001b[0m\u001b[0m\n\u001b[1;32m     13\u001b[0m             \u001b[0mmodel\u001b[0m\u001b[0;34m.\u001b[0m\u001b[0meval\u001b[0m\u001b[0;34m(\u001b[0m\u001b[0;34m)\u001b[0m\u001b[0;34m\u001b[0m\u001b[0;34m\u001b[0m\u001b[0m\n",
      "\u001b[0;31mKeyError\u001b[0m: ''"
     ]
    }
   ],
   "source": [
    "#evaluate models\n",
    "device = 'cpu'\n",
    "results = {}\n",
    "loss_fn = nn.MSELoss()\n",
    "for model_name in model_names: \n",
    "    model_results = []\n",
    "    for k_val in range(SEQ_LEN): \n",
    "        k_results = []\n",
    "        landscapes_ohe, xy_train, xy_val, xy_test, x_tests, y_tests = splits[k_val]\n",
    "        for replicate_index in range(N_REPLICATES): \n",
    "            model = models_dict[model_name][k_val][replicate_index] \n",
    "            model.to(device)\n",
    "            model.eval()        \n",
    "            x_test   = x_tests[replicate_index].to(device)\n",
    "            y_test   = y_tests[replicate_index].to(device)             \n",
    "            y_pred   = model(x_test) #get predictions\n",
    "            y_pred   = y_pred.detach() #detach tensors \n",
    "            y_test   = y_test.detach()            \n",
    "            test_mse = loss_fn(y_pred, y_test).item() #MSE \n",
    "            spearman = SpearmanCorrCoef()\n",
    "            pearson  = PearsonCorrCoef()\n",
    "            pearsonr  = pearson(y_pred, y_test).item()\n",
    "            spearmanr = spearman(y_pred, y_test).item()\n",
    "            y_pred, y_test   = y_pred.cpu().numpy(), y_test.cpu().numpy() \n",
    "            #print('Model: {}, K = {}, R = {}, STD of y_pred = {}, STD of y_test = {}'.format(model_name, k_val, \n",
    "                                                                                             #replicate_index, np.std(y_pred), np.std(y_test))\n",
    "            test_r2  = r2_score(y_pred, y_test) #R^2\n",
    "            replicate_results = [test_r2, test_mse, pearsonr, spearmanr]\n",
    "            k_results.append(replicate_results)\n",
    "        model_results.append(k_results)\n",
    "    results[model_name]=np.array(model_results)\n",
    "        \n",
    "    "
   ]
  },
  {
   "cell_type": "code",
   "execution_count": 11,
   "id": "adebd77f-ef6b-4838-b579-fc6aba0d91ed",
   "metadata": {},
   "outputs": [
    {
     "data": {
      "text/plain": [
       "array([1.00000000e+00, 9.71248017e-12, 9.99999747e-01, 9.99999970e-01])"
      ]
     },
     "execution_count": 11,
     "metadata": {},
     "output_type": "execute_result"
    }
   ],
   "source": [
    "np.mean(results['linear'][0], axis=0)"
   ]
  },
  {
   "cell_type": "code",
   "execution_count": 13,
   "id": "9aad35b7-29a9-4667-8d02-4a33b0aacba0",
   "metadata": {},
   "outputs": [
    {
     "data": {
      "image/png": "[encoded data removed]",
      "text/plain": [
       "<Figure size 1080x360 with 4 Axes>"
      ]
     },
     "metadata": {
      "needs_background": "light"
     },
     "output_type": "display_data"
    }
   ],
   "source": [
    "fig,ax = plt.subplots(nrows=1, ncols=4,figsize = (15, 5))\n",
    "fig.tight_layout()\n",
    "for index, axis in enumerate(ax.ravel()): \n",
    "    model_name    = model_names[index]\n",
    "    model_results = results[model_name]\n",
    "\n",
    "    model_mean    = np.mean(model_results, axis=1)\n",
    "    model_std     = np.std(model_results, axis=1)\n",
    "    pearson_mean  = [model_mean[k_val][2] for k_val in range(model_results.shape[0])]\n",
    "    mse_mean      = [model_mean[k_val][1] for k_val in range(model_results.shape[0])]\n",
    "    spearman_mean = np.array([model_mean[k_val][3] for k_val in range(model_results.shape[0])])\n",
    "    spearman_std  = np.array([model_std[k_val][3] for k_val in range(model_results.shape[0])])\n",
    "    x = range(SEQ_LEN)\n",
    "    #r2_mean       = [model_mean[k_val][0] for k_val in range(model_results.shape[0])]\n",
    "    #axis.plot(pearson_mean, c='k')\n",
    "    axis.plot(spearman_mean, c='r', marker='o')\n",
    "    axis.fill_between(x, spearman_mean-spearman_std, spearman_mean+spearman_std,facecolor='r', alpha=0.3)\n",
    "    axis.set_title(model_name)\n",
    "    #axis.plot(r2_mean, c='b')\n",
    "    \n"
   ]
  },
  {
   "cell_type": "markdown",
   "id": "7e3793e0-059a-4551-aaa4-660b9b5bb9f0",
   "metadata": {},
   "source": [
    "## Latent representation results"
   ]
  },
  {
   "cell_type": "code",
   "execution_count": 19,
   "id": "b0465261-b903-4729-a880-54928d4e949c",
   "metadata": {},
   "outputs": [],
   "source": [
    "\n",
    "def get_latent_representationz(model, model_name,  x_data):\n",
    "    # Variable to store the final layer activation\n",
    "    final_activation = None\n",
    "\n",
    "    # Define a forward hook callback function to capture the output\n",
    "    def forward_hook(module, input, output):\n",
    "        nonlocal final_activation  # Use nonlocal to modify the variable outside the inner function\n",
    "        final_activation = output\n",
    "\n",
    "    # Attach the hook to the final layer of the model\n",
    "    if model_name == 'mlp': \n",
    "        final_layer = model.fc_layers[-1]\n",
    "        hook_handle = final_layer.register_forward_hook(forward_hook)\n",
    "    elif model_name == 'cnn': \n",
    "        final_layer = list(model.children())[-2] #gets the final MaxPool1d layer \n",
    "        hook_handle = final_layer.register_forward_hook(forward_hook)\n",
    "    elif model_name == 'ulstm': \n",
    "        hook_handle = model.lstm.register_forward_hook(forward_hook)\n",
    "    else: \n",
    "        raise Exception('Model name not recognised.')\n",
    "\n",
    "    # Run a forward pass\n",
    "    _ = model(x_data)\n",
    "\n",
    "    # Remove the hook to prevent side effects\n",
    "    hook_handle.remove()\n",
    "\n",
    "    if model_name =='ulstm': \n",
    "        final_activation = final_activation[0][:, -1, :]\n",
    "    # Return the captured activation\n",
    "    return final_activation.detach()\n"
   ]
  },
  {
   "cell_type": "code",
   "execution_count": 15,
   "id": "86a945f3-985d-494f-9ba8-45dc2cf24963",
   "metadata": {},
   "outputs": [],
   "source": [
    "landscapes_as_tensor = [[torch.from_numpy(i).to(torch.float32) for i in j[0]] for j in splits]\n",
    "flattened_landscapes = [[i.reshape(i.shape[0], i.shape[1]*i.shape[2]) for i in j[0]] for j in splits]"
   ]
  },
  {
   "cell_type": "code",
   "execution_count": null,
   "id": "dd53d057-b795-4132-ad40-0af29c104ca1",
   "metadata": {},
   "outputs": [],
   "source": []
  },
  {
   "cell_type": "code",
   "execution_count": 16,
   "id": "0fc29195-b7c6-49aa-9650-2f2c0d78ea13",
   "metadata": {},
   "outputs": [],
   "source": [
    "degree=30"
   ]
  },
  {
   "cell_type": "code",
   "execution_count": 21,
   "id": "511303f7-522e-4b44-808c-873d4bc9c4b8",
   "metadata": {},
   "outputs": [],
   "source": [
    "mlp_latent_reps = [[get_latent_representation(mlp_models[i][j],'mlp', landscapes_as_tensor[i][j]) for j in range(N_REPLICATES)] for i in range(len(mlp_models))]\n",
    "cnn_latent_reps = [[get_latent_representation(cnn_models[i][j],'cnn', landscapes_as_tensor[i][j]) for j in range(N_REPLICATES)] for i in range(len(cnn_models))]\n"
   ]
  },
  {
   "cell_type": "code",
   "execution_count": 20,
   "id": "1c7e8b63-c2de-42bc-b1fb-cdf707d806f7",
   "metadata": {},
   "outputs": [],
   "source": [
    "ulstm_latent_reps = [[get_latent_representationz(ulstm_models[i][j],'ulstm', landscapes_as_tensor[i][j]) for j in range(N_REPLICATES)] for i in range(len(ulstm_models))]"
   ]
  },
  {
   "cell_type": "code",
   "execution_count": null,
   "id": "c6689ee6-905d-46a1-89b0-30a3f01f4e7e",
   "metadata": {},
   "outputs": [],
   "source": []
  },
  {
   "cell_type": "code",
   "execution_count": 23,
   "id": "a1e7e06e-2b8a-4dad-8c01-47ccb678a3fd",
   "metadata": {},
   "outputs": [],
   "source": [
    "knn_landscapes = [[kneighbors_graph(flattened_landscapes[i][j], n_neighbors=degree, n_jobs=-1) for j in range(N_REPLICATES) ] for i in range(SEQ_LEN)]"
   ]
  },
  {
   "cell_type": "code",
   "execution_count": 24,
   "id": "3866f4da-9bc1-40da-bffd-fbb409c6f4b0",
   "metadata": {},
   "outputs": [],
   "source": [
    "knn_mlp_layers = [[kneighbors_graph(mlp_latent_reps[i][j], n_neighbors=degree, n_jobs=-1) for j in range(N_REPLICATES) ]for i in range(len(mlp_latent_reps))]"
   ]
  },
  {
   "cell_type": "code",
   "execution_count": 26,
   "id": "99feecfa-5b04-47c9-8ec5-bb0575e95d6b",
   "metadata": {},
   "outputs": [],
   "source": [
    "knn_cnn_layers = [[kneighbors_graph(cnn_latent_reps[i][j].squeeze(), n_neighbors=degree, n_jobs=-1) for j in range(N_REPLICATES) ]for i in range(len(cnn_latent_reps))]"
   ]
  },
  {
   "cell_type": "code",
   "execution_count": 27,
   "id": "c22e2af0-9530-4ea8-bccd-0badebcd7c38",
   "metadata": {},
   "outputs": [],
   "source": [
    "knn_ulstm_layers = [[kneighbors_graph(ulstm_latent_reps[i][j], n_neighbors=degree, n_jobs=-1) for j in range(N_REPLICATES) ]for i in range(len(ulstm_latent_reps))]"
   ]
  },
  {
   "cell_type": "code",
   "execution_count": 29,
   "id": "b440e568-fef8-40aa-be93-9f1cd933b325",
   "metadata": {},
   "outputs": [],
   "source": [
    "#make the adjacencies symmetrical\n",
    "knn_nk_landscapes_symA = [[A.maximum(A.T) for A in j] for j in knn_landscapes]\n",
    "knn_mlp_layers_symA = [[A.maximum(A.T) for A in j] for j in knn_mlp_layers]\n",
    "knn_cnn_layers_symA = [[A.maximum(A.T) for A in j] for j in knn_cnn_layers]\n",
    "knn_ulstm_layers_symA = [[A.maximum(A.T) for A in j] for j in knn_ulstm_layers]"
   ]
  },
  {
   "cell_type": "code",
   "execution_count": 208,
   "id": "1c035359-7d0b-4f32-a1fd-853477d226de",
   "metadata": {
    "collapsed": true,
    "jupyter": {
     "outputs_hidden": true
    },
    "scrolled": true
   },
   "outputs": [
    {
     "name": "stdout",
     "output_type": "stream",
     "text": [
      "Adjacency matrix contains no negative values.\n",
      "Adjacency matrix is symmetric.\n",
      "Adjacency matrix contains no NaN or Inf values.\n",
      "Adjacency matrix contains no negative values.\n",
      "Adjacency matrix is symmetric.\n",
      "Adjacency matrix contains no NaN or Inf values.\n",
      "Adjacency matrix contains no negative values.\n",
      "Adjacency matrix is symmetric.\n",
      "Adjacency matrix contains no NaN or Inf values.\n",
      "Adjacency matrix contains no negative values.\n",
      "Adjacency matrix is symmetric.\n",
      "Adjacency matrix contains no NaN or Inf values.\n",
      "Adjacency matrix contains no negative values.\n",
      "Adjacency matrix is symmetric.\n",
      "Adjacency matrix contains no NaN or Inf values.\n",
      "Adjacency matrix contains no negative values.\n",
      "Adjacency matrix is symmetric.\n",
      "Adjacency matrix contains no NaN or Inf values.\n",
      "Adjacency matrix contains no negative values.\n",
      "Adjacency matrix is symmetric.\n",
      "Adjacency matrix contains no NaN or Inf values.\n",
      "Adjacency matrix contains no negative values.\n",
      "Adjacency matrix is symmetric.\n",
      "Adjacency matrix contains no NaN or Inf values.\n",
      "Adjacency matrix contains no negative values.\n",
      "Adjacency matrix is symmetric.\n",
      "Adjacency matrix contains no NaN or Inf values.\n",
      "Adjacency matrix contains no negative values.\n",
      "Adjacency matrix is symmetric.\n",
      "Adjacency matrix contains no NaN or Inf values.\n",
      "Adjacency matrix contains no negative values.\n",
      "Adjacency matrix is symmetric.\n",
      "Adjacency matrix contains no NaN or Inf values.\n",
      "Adjacency matrix contains no negative values.\n",
      "Adjacency matrix is symmetric.\n",
      "Adjacency matrix contains no NaN or Inf values.\n",
      "Adjacency matrix contains no negative values.\n",
      "Adjacency matrix is symmetric.\n",
      "Adjacency matrix contains no NaN or Inf values.\n",
      "Adjacency matrix contains no negative values.\n",
      "Adjacency matrix is symmetric.\n",
      "Adjacency matrix contains no NaN or Inf values.\n",
      "Adjacency matrix contains no negative values.\n",
      "Adjacency matrix is symmetric.\n",
      "Adjacency matrix contains no NaN or Inf values.\n",
      "Adjacency matrix contains no negative values.\n",
      "Adjacency matrix is symmetric.\n",
      "Adjacency matrix contains no NaN or Inf values.\n",
      "Adjacency matrix contains no negative values.\n",
      "Adjacency matrix is symmetric.\n",
      "Adjacency matrix contains no NaN or Inf values.\n",
      "Adjacency matrix contains no negative values.\n",
      "Adjacency matrix is symmetric.\n",
      "Adjacency matrix contains no NaN or Inf values.\n",
      "Adjacency matrix contains no negative values.\n",
      "Adjacency matrix is symmetric.\n",
      "Adjacency matrix contains no NaN or Inf values.\n",
      "Adjacency matrix contains no negative values.\n",
      "Adjacency matrix is symmetric.\n",
      "Adjacency matrix contains no NaN or Inf values.\n",
      "Adjacency matrix contains no negative values.\n",
      "Adjacency matrix is symmetric.\n",
      "Adjacency matrix contains no NaN or Inf values.\n",
      "Adjacency matrix contains no negative values.\n",
      "Adjacency matrix is symmetric.\n",
      "Adjacency matrix contains no NaN or Inf values.\n",
      "Adjacency matrix contains no negative values.\n",
      "Adjacency matrix is symmetric.\n",
      "Adjacency matrix contains no NaN or Inf values.\n",
      "Adjacency matrix contains no negative values.\n",
      "Adjacency matrix is symmetric.\n",
      "Adjacency matrix contains no NaN or Inf values.\n"
     ]
    }
   ],
   "source": [
    "#check if all entries of A positive\n",
    "\"\"\"\n",
    "for k in knn_nk_landscapes_symA: \n",
    "    for A in k: \n",
    "        min_A = A.min()\n",
    "        if min_A < 0:\n",
    "            print(f\"Minimum value in adjacency matrix A: {min_A}\")\n",
    "            raise ValueError(\"Adjacency matrix contains negative values.\")\n",
    "        else:\n",
    "            print(\"Adjacency matrix contains no negative values.\")\n",
    "        if (A != A.T).nnz == 0:\n",
    "            print(\"Adjacency matrix is symmetric.\")\n",
    "        else:\n",
    "            print(\"Adjacency matrix is not symmetric.\")\n",
    "            # Optionally print the number of asymmetric entries\n",
    "            asymmetric_entries = (A != A.T).nnz\n",
    "            print(f\"Number of asymmetric entries: {asymmetric_entries}\")\n",
    "        if not np.isfinite(A.data).all():\n",
    "            raise ValueError(\"Adjacency matrix contains NaN or Inf values.\")\n",
    "        else:\n",
    "            print(\"Adjacency matrix contains no NaN or Inf values.\")\"\"\"\n"
   ]
  },
  {
   "cell_type": "code",
   "execution_count": 213,
   "id": "96709085-b64e-40fa-b620-8ec78a9cb8eb",
   "metadata": {},
   "outputs": [
    {
     "name": "stdout",
     "output_type": "stream",
     "text": [
      "Laplacian matrix is symmetric.\n",
      "Laplacian matrix is symmetric.\n",
      "Laplacian matrix is symmetric.\n",
      "Laplacian matrix is symmetric.\n",
      "Laplacian matrix is symmetric.\n",
      "Laplacian matrix is symmetric.\n",
      "Laplacian matrix is symmetric.\n",
      "Laplacian matrix is symmetric.\n",
      "Laplacian matrix is symmetric.\n",
      "Laplacian matrix is symmetric.\n",
      "Laplacian matrix is symmetric.\n",
      "Laplacian matrix is symmetric.\n",
      "Laplacian matrix is symmetric.\n",
      "Laplacian matrix is symmetric.\n",
      "Laplacian matrix is symmetric.\n",
      "Laplacian matrix is symmetric.\n",
      "Laplacian matrix is symmetric.\n",
      "Laplacian matrix is symmetric.\n",
      "Laplacian matrix is symmetric.\n",
      "Laplacian matrix is symmetric.\n",
      "Laplacian matrix is symmetric.\n",
      "Laplacian matrix is symmetric.\n",
      "Laplacian matrix is symmetric.\n",
      "Laplacian matrix is symmetric.\n"
     ]
    }
   ],
   "source": [
    "#check laplacians\n",
    "\"\"\"\n",
    "for k in knn_mlp_laplacians: \n",
    "    for L in k: \n",
    "        if (L != L.T).nnz == 0:\n",
    "            print(\"Laplacian matrix is symmetric.\")\n",
    "        else:\n",
    "            print(\"Laplacian matrix is not symmetric.\")\"\"\"\n"
   ]
  },
  {
   "cell_type": "code",
   "execution_count": 33,
   "id": "5fe0b044-5ace-4d71-8b8b-2860a051a480",
   "metadata": {
    "jupyter": {
     "source_hidden": true
    }
   },
   "outputs": [],
   "source": [
    "def adjacency_to_diag_laplacian(A): \n",
    "    \"\"\"\n",
    "    Calculates degree and Laplacian matrices from an adjacency matrix.  \n",
    "    \n",
    "    Args: \n",
    "        A (scipy sparse matrix): adjacency of graph\n",
    "    Returns: \n",
    "        D (scipy sparse matrix): degree matrix of graph\n",
    "        L (scipy sparse matrix): Laplacian matrix of graph\n",
    "    \"\"\"\n",
    "    # Check for negative entries in A\n",
    "    if A.min() < 0:\n",
    "        raise ValueError(\"Adjacency matrix has negative values.\")\n",
    "    \n",
    "    # Ensure A is symmetric\n",
    "    if (A != A.T).nnz != 0:\n",
    "        raise ValueError(\"Adjacency matrix is not symmetric for an undirected graph.\")\n",
    "    \n",
    "    degrees = np.array(A.sum(axis=1)).flatten()\n",
    "    # Check for negative degrees\n",
    "    if degrees.min() < 0:\n",
    "        raise ValueError(\"Degree matrix has negative values.\")\n",
    "    \n",
    "    D = diags(degrees, format='csr')\n",
    "    L = D - A\n",
    "    return D, L\n",
    "\n",
    "def sparse_dirichlet(L, f): \n",
    "    \"\"\"\n",
    "    Calculates the Dirichlet energy of a signal f over a graph. \n",
    "    \n",
    "    Args: \n",
    "        L (scipy sparse matrix): graph Laplacian\n",
    "        f (np array): signal over graph\n",
    "    \"\"\"\n",
    "    f = f.astype('float64')\n",
    "    L = L.astype('float64')\n",
    "\n",
    "    #min_eigval = eigsh(L, k=1, which='SA', return_eigenvectors=False)[0]\n",
    "    #if min_eigval < -1e-10:\n",
    "        #raise ValueError(\"Laplacian matrix is not positive semi-definite.\")\n",
    "\n",
    "    \n",
    "    Lf = L.dot(f)\n",
    "    fLf = f.T @ Lf  # Ensures matrix-vector product\n",
    "\n",
    "    # Allow for minor numerical errors\n",
    "    tol = 1e-10\n",
    "    if fLf < -tol:\n",
    "        raise ValueError(f\"Dirichlet energy is negative: {fLf}\")\n",
    "\n",
    "    return fLf.item()\n"
   ]
  },
  {
   "cell_type": "code",
   "execution_count": 34,
   "id": "afc63020-8f24-44e6-bafd-bb9921481a21",
   "metadata": {},
   "outputs": [],
   "source": [
    "#compute laplacians\n",
    "knn_nk_laplacians = [[adjacency_to_diag_laplacian(i)[1] for i in j] for j in knn_nk_landscapes_symA]\n",
    "knn_mlp_laplacians = [[adjacency_to_diag_laplacian(i)[1] for i in j] for j in knn_mlp_layers_symA]\n",
    "knn_cnn_laplacians = [[adjacency_to_diag_laplacian(i)[1] for i in j] for j in knn_cnn_layers_symA]\n",
    "knn_ulstm_laplacians = [[adjacency_to_diag_laplacian(i)[1] for i in j] for j in knn_ulstm_layers_symA]"
   ]
  },
  {
   "cell_type": "code",
   "execution_count": 35,
   "id": "0a9cacf8-3fee-4c0c-b3c9-7be3e97dc990",
   "metadata": {},
   "outputs": [],
   "source": [
    "landscapes_y       = [[i.fitnesses.reshape(-1,1) for i in j] for j in landscapes]"
   ]
  },
  {
   "cell_type": "code",
   "execution_count": null,
   "id": "607ccc41-7d55-4d42-9469-4c423eba57a8",
   "metadata": {},
   "outputs": [],
   "source": []
  },
  {
   "cell_type": "code",
   "execution_count": 36,
   "id": "b5c934be-9351-44d4-a95a-ce2095527b37",
   "metadata": {
    "scrolled": true
   },
   "outputs": [],
   "source": [
    "#compute dirichlet energies\n",
    "nk_dirichlets  = np.array([[sparse_dirichlet(knn_nk_laplacians[i][j], landscapes_y[i][j]) for j in range(N_REPLICATES)] for i in range(SEQ_LEN)])\n",
    "mlp_dirichlets = np.array([[sparse_dirichlet(knn_mlp_laplacians[i][j], landscapes_y[i][j]) for j in range(N_REPLICATES)] for i in range(SEQ_LEN)])\n",
    "cnn_dirichlets = np.array([[sparse_dirichlet(knn_cnn_laplacians[i][j], landscapes_y[i][j]) for j in range(N_REPLICATES)] for i in range(SEQ_LEN)])\n",
    "ulstm_dirichlets = np.array([[sparse_dirichlet(knn_ulstm_laplacians[i][j], landscapes_y[i][j]) for j in range(N_REPLICATES)] for i in range(SEQ_LEN)])"
   ]
  },
  {
   "cell_type": "code",
   "execution_count": 37,
   "id": "3e8e9b40-07a0-4c7d-823f-eb38bec80f7b",
   "metadata": {},
   "outputs": [],
   "source": [
    "nk_dirichlets_means, nk_dirichlets_std = np.mean(nk_dirichlets, axis=1), np.std(nk_dirichlets, axis=1)\n",
    "mlp_dirichlets_means, mlp_dirichlets_std = np.mean(mlp_dirichlets, axis=1), np.std(mlp_dirichlets, axis=1)\n",
    "cnn_dirichlets_means, cnn_dirichlets_std = np.mean(cnn_dirichlets, axis=1), np.std(cnn_dirichlets, axis=1)\n",
    "ulstm_dirichlets_means, ulstm_dirichlets_std = np.mean(ulstm_dirichlets, axis=1), np.std(ulstm_dirichlets, axis=1)\n"
   ]
  },
  {
   "cell_type": "code",
   "execution_count": 182,
   "id": "885579c8-594d-4fa9-99e4-567bd3c0fadc",
   "metadata": {},
   "outputs": [
    {
     "name": "stdout",
     "output_type": "stream",
     "text": [
      "(46656, 1)\n"
     ]
    },
    {
     "ename": "TypeError",
     "evalue": "ufunc 'isfinite' not supported for the input types, and the inputs could not be safely coerced to any supported types according to the casting rule ''safe''",
     "output_type": "error",
     "traceback": [
      "\u001b[0;31m---------------------------------------------------------------------------\u001b[0m",
      "\u001b[0;31mTypeError\u001b[0m                                 Traceback (most recent call last)",
      "\u001b[0;32m/tmp/ipykernel_36840/452766303.py\u001b[0m in \u001b[0;36m<module>\u001b[0;34m\u001b[0m\n\u001b[1;32m      2\u001b[0m     \u001b[0;32mfor\u001b[0m \u001b[0my\u001b[0m \u001b[0;32min\u001b[0m \u001b[0mk\u001b[0m\u001b[0;34m:\u001b[0m\u001b[0;34m\u001b[0m\u001b[0;34m\u001b[0m\u001b[0m\n\u001b[1;32m      3\u001b[0m         \u001b[0mprint\u001b[0m\u001b[0;34m(\u001b[0m\u001b[0my\u001b[0m\u001b[0;34m.\u001b[0m\u001b[0mshape\u001b[0m\u001b[0;34m)\u001b[0m\u001b[0;34m\u001b[0m\u001b[0;34m\u001b[0m\u001b[0m\n\u001b[0;32m----> 4\u001b[0;31m         \u001b[0;32massert\u001b[0m \u001b[0mnp\u001b[0m\u001b[0;34m.\u001b[0m\u001b[0misfinite\u001b[0m\u001b[0;34m(\u001b[0m\u001b[0my\u001b[0m\u001b[0;34m.\u001b[0m\u001b[0mravel\u001b[0m\u001b[0;34m(\u001b[0m\u001b[0;34m)\u001b[0m\u001b[0;34m)\u001b[0m\u001b[0;34m.\u001b[0m\u001b[0mall\u001b[0m\u001b[0;34m(\u001b[0m\u001b[0;34m)\u001b[0m\u001b[0;34m,\u001b[0m \u001b[0;34m\"Signal vector contains NaN or Inf.\"\u001b[0m\u001b[0;34m\u001b[0m\u001b[0;34m\u001b[0m\u001b[0m\n\u001b[0m",
      "\u001b[0;31mTypeError\u001b[0m: ufunc 'isfinite' not supported for the input types, and the inputs could not be safely coerced to any supported types according to the casting rule ''safe''"
     ]
    }
   ],
   "source": [
    "for k in landscapes_y: \n",
    "    for y in k: \n",
    "        print(y.shape)\n",
    "        assert np.isfinite(y.ravel()).all(), \"Signal vector contains NaN or Inf.\""
   ]
  },
  {
   "cell_type": "code",
   "execution_count": 179,
   "id": "cede9839-9546-44a0-bc7e-f38d4938279a",
   "metadata": {},
   "outputs": [
    {
     "ename": "SyntaxError",
     "evalue": "invalid syntax (2078721937.py, line 1)",
     "output_type": "error",
     "traceback": [
      "\u001b[0;36m  File \u001b[0;32m\"/tmp/ipykernel_36840/2078721937.py\"\u001b[0;36m, line \u001b[0;32m1\u001b[0m\n\u001b[0;31m    [[assert np.isfinite(i).all(), \"Signal vector contains NaN or Inf.\" for i in j] for j in landscapes]\u001b[0m\n\u001b[0m      ^\u001b[0m\n\u001b[0;31mSyntaxError\u001b[0m\u001b[0;31m:\u001b[0m invalid syntax\n"
     ]
    }
   ],
   "source": [
    "[[assert np.isfinite(i).all(), \"Signal vector contains NaN or Inf.\" for i in j] for j in landscapes]"
   ]
  },
  {
   "cell_type": "code",
   "execution_count": 39,
   "id": "be17fdda-b500-4592-bd5f-0065b1eae1f8",
   "metadata": {},
   "outputs": [
    {
     "data": {
      "image/png": "[encoded data removed]",
      "text/plain": [
       "<Figure size 1080x360 with 6 Axes>"
      ]
     },
     "metadata": {
      "needs_background": "light"
     },
     "output_type": "display_data"
    }
   ],
   "source": [
    "fig,ax = plt.subplots(nrows=1, ncols=6, figsize=(15,5))\n",
    "fig.tight_layout()\n",
    "for index, axis in enumerate(ax.ravel()): \n",
    "\n",
    "    if index <3: \n",
    "        model_name    = model_names[index]\n",
    "        model_results = results[model_name]\n",
    "    \n",
    "        model_mean    = np.mean(model_results, axis=1)\n",
    "        model_std     = np.std(model_results, axis=1)\n",
    "        pearson_mean  = [model_mean[k_val][2] for k_val in range(model_results.shape[0])]\n",
    "        mse_mean      = np.array([model_mean[k_val][1] for k_val in range(model_results.shape[0])])\n",
    "        mse_std       = np.array([model_std[k_val][1] for k_val in range(model_results.shape[0])])\n",
    "        spearman_mean = np.array([model_mean[k_val][3] for k_val in range(model_results.shape[0])])\n",
    "        spearman_std  = np.array([model_std[k_val][3] for k_val in range(model_results.shape[0])])        \n",
    "        \n",
    "        x = range(SEQ_LEN)\n",
    "        #r2_mean       = [model_mean[k_val][0] for k_val in range(model_results.shape[0])]\n",
    "        #axis.plot(pearson_mean, c='k')\n",
    "        axis.plot(mse_mean, c='r', marker='o')\n",
    "        axis.fill_between(x, mse_mean-mse_std, mse_mean+mse_std,facecolor='r', alpha=0.3)\n",
    "        axis.set_title(model_name)\n",
    "\n",
    "    elif index == 3: \n",
    "        axis.plot(mlp_dirichlets_means, c='b', marker='o')\n",
    "        axis.fill_between(x, mlp_dirichlets_means-mlp_dirichlets_std, mlp_dirichlets_means+mlp_dirichlets_std,facecolor='b', alpha=0.3)\n",
    "        axis.plot(nk_dirichlets_means, c='k', marker='o')\n",
    "        axis.fill_between(x, nk_dirichlets_means-nk_dirichlets_std, nk_dirichlets_means+nk_dirichlets_std,facecolor='k', alpha=0.3)\n",
    "\n",
    "        axis.set_title('mlp latent rep DE')\n",
    "        axis.set_ylim(-1000,60000)\n",
    "    elif index==4: \n",
    "        axis.plot(cnn_dirichlets_means, c='b', marker='o')\n",
    "        axis.fill_between(x, cnn_dirichlets_means-cnn_dirichlets_std, cnn_dirichlets_means+cnn_dirichlets_std,facecolor='b', alpha=0.3)\n",
    "        axis.plot(nk_dirichlets_means, c='k', marker='o')\n",
    "        axis.fill_between(x, nk_dirichlets_means-nk_dirichlets_std, nk_dirichlets_means+nk_dirichlets_std,facecolor='k', alpha=0.3)\n",
    "\n",
    "        axis.set_title('cnn latent rep DE')\n",
    "        axis.set_ylim(-1000,60000)\n",
    "    elif index==5: \n",
    "        axis.plot(ulstm_dirichlets_means, c='b', marker='o')\n",
    "        axis.fill_between(x, ulstm_dirichlets_means-ulstm_dirichlets_std, ulstm_dirichlets_means+ulstm_dirichlets_std,facecolor='b', alpha=0.3)\n",
    "        axis.plot(nk_dirichlets_means, c='k', marker='o')\n",
    "        axis.fill_between(x, nk_dirichlets_means-nk_dirichlets_std, nk_dirichlets_means+nk_dirichlets_std,facecolor='k', alpha=0.3)\n",
    "\n",
    "        axis.set_title('ulstm latent rep DE')\n",
    "        axis.set_ylim(-1000,60000)\n",
    "    \n",
    "    "
   ]
  },
  {
   "cell_type": "code",
   "execution_count": null,
   "id": "24ccda71-fd35-4e38-84bf-c7c50aa2225d",
   "metadata": {},
   "outputs": [],
   "source": []
  }
 ],
 "metadata": {
  "kernelspec": {
   "display_name": "Python 3 (ipykernel)",
   "language": "python",
   "name": "python3"
  },
  "language_info": {
   "codemirror_mode": {
    "name": "ipython",
    "version": 3
   },
   "file_extension": ".py",
   "mimetype": "text/x-python",
   "name": "python",
   "nbconvert_exporter": "python",
   "pygments_lexer": "ipython3",
   "version": "3.10.12"
  }
 },
 "nbformat": 4,
 "nbformat_minor": 5
}
