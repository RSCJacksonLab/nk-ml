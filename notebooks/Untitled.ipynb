{
 "cells": [
  {
   "cell_type": "code",
   "execution_count": 12,
   "id": "fd4aa999-956e-4f1b-a4a8-496b7ed7f2b1",
   "metadata": {},
   "outputs": [],
   "source": [
    "import cupy as cp\n",
    "import pickle\n",
    "import os\n",
    "os.chdir('/home/ubuntu/nk-paper-2024/nk-ml-2024/notebooks/')\n",
    "import optuna as opt\n",
    "import torch\n",
    "import torch.nn as nn\n",
    "import torch.optim as optim\n",
    "import numpy as np\n",
    "#from twilio.rest import Client\n",
    "import pickle\n",
    "\n",
    "import time\n",
    "\n",
    "import sys\n",
    "import os \n",
    "\n",
    "\n",
    "\n",
    "\n",
    "\n",
    "\n",
    "import os\n",
    "os.environ[\"OPENBLAS_NUM_THREADS\"] = \"1\"\n",
    "sys.path.append('../../pscapes')\n",
    "sys.path.append('../../nk-ml-2024/')\n",
    "\n",
    "\n",
    "from torch.utils.data import DataLoader\n",
    "from pscapes.landscape_class import ProteinLandscape\n",
    "from pscapes.utils import dict_to_np_array, np_array_to_dict\n",
    "\n",
    "from src.architectures import SequenceRegressionCNN, SequenceRegressionLinear, SequenceRegressionMLP, SequenceRegressionLSTM, SequenceRegressionTransformer\n",
    "\n",
    "from src.ml_utils import train_val_test_split_ohe, landscapes_ohe_to_numpy\n",
    "from src.hyperopt import objective_NK, sklearn_objective_NK\n",
    "\n",
    "from sklearn.ensemble import RandomForestRegressor, GradientBoostingRegressor \n",
    "\n",
    "from src.train_utils import train_models_from_hparams_NK, read_MLP_hparams, read_CNN_hparams, read_LSTM_hparams, read_transformer_hparams, instantiate_model_from_study\n",
    "\n",
    "from src.analysis import get_latent_representation\n",
    "import matplotlib.pyplot as plt\n",
    "from sklearn.neighbors import kneighbors_graph\n",
    "import math\n",
    "import networkx as nx\n",
    "from scipy.sparse import diags\n",
    "\n",
    "import torchmetrics\n",
    "from torchmetrics.regression import SpearmanCorrCoef, PearsonCorrCoef\n",
    "from src.analysis import adjacency_to_diag_laplacian, sparse_dirichlet\n"
   ]
  },
  {
   "cell_type": "code",
   "execution_count": 13,
   "id": "c37ebb1d-a830-478f-a7f6-6413f18e0dad",
   "metadata": {},
   "outputs": [],
   "source": [
    "#set global parameters\n",
    "HPARAM_PATH = '../hyperopt/results/NK_hyperopt_results.pkl'\n",
    "DATA_PATH = '../data/nk_landscapes/'\n",
    "MODEL_SAVEPATH = '../models/models_K3/'\n",
    "RESULT_PATH = '../results/results_K3/NK_train_test_results.pkl'\n",
    "SEQ_LEN = 6\n",
    "AA_ALPHABET  = 'ACDEFG'\n",
    "N_REPLICATES = 4"
   ]
  },
  {
   "cell_type": "code",
   "execution_count": 14,
   "id": "85777137-7b10-448f-9867-8986bdb6e5f9",
   "metadata": {},
   "outputs": [
    {
     "name": "stdout",
     "output_type": "stream",
     "text": [
      "Loading landscapes.\n",
      "Calculating train-test-val splits\n"
     ]
    }
   ],
   "source": [
    "#load landscapes\n",
    "#load landscape data \n",
    "landscapes = []\n",
    "print('Loading landscapes.')\n",
    "for k in range(SEQ_LEN):\n",
    "    replicate_list = []\n",
    "    for r in range(N_REPLICATES):\n",
    "        landscape = ProteinLandscape(csv_path=DATA_PATH+'/k{0}_r{1}.csv'.format(k,r), amino_acids=AA_ALPHABET)\n",
    "        replicate_list.append(landscape)\n",
    "    landscapes.append(replicate_list)\n",
    "landscapes = [[i.fit_OHE() for i in j] for j in landscapes]\n",
    "\n",
    "print('Calculating train-test-val splits')\n",
    "splits = [train_val_test_split_ohe(i, random_state=1) for i in landscapes]\n",
    "#landscapes_ohe, xy_train, xy_val, xy_test, x_tests, y_tests = splits[k_index] "
   ]
  },
  {
   "cell_type": "code",
   "execution_count": 4,
   "id": "8f266fbe-c16b-402c-b16c-a05c7d274861",
   "metadata": {},
   "outputs": [],
   "source": [
    "with open('knn_nk_k1_r1_array.pkl', 'rb') as handle: \n",
    "    knn_nk_k1_r1 = pickle.load( handle)"
   ]
  },
  {
   "cell_type": "code",
   "execution_count": 5,
   "id": "2803c42c-6908-4630-94d3-4f0a6d51dad7",
   "metadata": {},
   "outputs": [],
   "source": [
    "with open('knn_mlp_k1_r1_array.pkl', 'rb') as handle: \n",
    "    knn_mlp_k1_r1 = pickle.load( handle)"
   ]
  },
  {
   "cell_type": "code",
   "execution_count": 3,
   "id": "254b67d6-6d66-4f7b-b5e9-89cd57e27d35",
   "metadata": {},
   "outputs": [],
   "source": [
    "from scipy.sparse.linalg import eigsh"
   ]
  },
  {
   "cell_type": "code",
   "execution_count": 8,
   "id": "3981f8b9-f3bc-4f72-b8c0-cd2d3104e03e",
   "metadata": {},
   "outputs": [],
   "source": [
    "nk_k1_r1_eigvals,nk_k1_r1_eigvecs = eigsh(knn_nk_k1_r1, k=1000)"
   ]
  },
  {
   "cell_type": "code",
   "execution_count": 10,
   "id": "bd4d6364-a290-453e-bf2c-a31b1f434221",
   "metadata": {},
   "outputs": [],
   "source": [
    "mlp_k1_r1_eigvals,mlp_k1_r1_eigvecs = eigsh(knn_mlp_k1_r1, k=1000)"
   ]
  },
  {
   "cell_type": "code",
   "execution_count": 15,
   "id": "8efc54aa-9aa7-450b-87ea-5cbe2602d028",
   "metadata": {},
   "outputs": [],
   "source": [
    "landscapes_y       = [[i.fitnesses.reshape(-1,1) for i in j] for j in landscapes]"
   ]
  },
  {
   "cell_type": "code",
   "execution_count": 16,
   "id": "02fae61f-1dd3-4421-8206-a9692e79683b",
   "metadata": {},
   "outputs": [],
   "source": [
    "landscapes_y_k1_r1 = landscapes_y[1][1]"
   ]
  },
  {
   "cell_type": "code",
   "execution_count": 19,
   "id": "3a7afff4-9cb3-4ce4-8a19-b83765c00159",
   "metadata": {},
   "outputs": [],
   "source": [
    "spect_nk_k1_r1 = nk_k1_r1_eigvecs.T@landscapes_y_k1_r1"
   ]
  },
  {
   "cell_type": "code",
   "execution_count": 42,
   "id": "8007276e-693b-44d5-ac7c-90bef611bca2",
   "metadata": {},
   "outputs": [],
   "source": [
    "spect_nk_k1_r1_cum_sum = np.cumsum(np.absolute(spect_nk_k1_r1[::-1]))"
   ]
  },
  {
   "cell_type": "code",
   "execution_count": 43,
   "id": "085cc7a7-9a71-48da-ba23-260db1e7ecc8",
   "metadata": {},
   "outputs": [],
   "source": [
    "spect_mlp_k1_r1 = mlp_k1_r1_eigvecs.T@landscapes_y_k1_r1"
   ]
  },
  {
   "cell_type": "code",
   "execution_count": 47,
   "id": "0f7181be-7755-4768-9f2c-b859a2e5168e",
   "metadata": {},
   "outputs": [],
   "source": [
    "spect_mlp_k1_r1_cum_sum = np.cumsum(np.absolute(spect_mlp_k1_r1[::-1]))"
   ]
  },
  {
   "cell_type": "code",
   "execution_count": 50,
   "id": "f9671b1e-26e1-4034-9116-2eb4f55aa978",
   "metadata": {},
   "outputs": [
    {
     "data": {
      "text/plain": [
       "[<matplotlib.lines.Line2D at 0x71eaa8229ae0>]"
      ]
     },
     "execution_count": 50,
     "metadata": {},
     "output_type": "execute_result"
    },
    {
     "data": {
      "image/png": "[encoded data removed]",
      "text/plain": [
       "<Figure size 432x288 with 1 Axes>"
      ]
     },
     "metadata": {
      "needs_background": "light"
     },
     "output_type": "display_data"
    }
   ],
   "source": [
    "plt.plot(np.absolute(spect_nk_k1_r1[::-1]), c='k', alpha=0.3)\n",
    "#plt.plot(spect_nk_k1_r1_cum_sum)\n"
   ]
  },
  {
   "cell_type": "code",
   "execution_count": 49,
   "id": "41d7e86a-bbac-40a2-b740-8bdba7f309fe",
   "metadata": {},
   "outputs": [
    {
     "data": {
      "text/plain": [
       "[<matplotlib.lines.Line2D at 0x71eaa863ccd0>]"
      ]
     },
     "execution_count": 49,
     "metadata": {},
     "output_type": "execute_result"
    },
    {
     "data": {
      "image/png": "[encoded data removed]",
      "text/plain": [
       "<Figure size 432x288 with 1 Axes>"
      ]
     },
     "metadata": {
      "needs_background": "light"
     },
     "output_type": "display_data"
    }
   ],
   "source": [
    "plt.plot(np.absolute(spect_mlp_k1_r1[::-1]))\n",
    "#plt.plot(spect_mlp_k1_r1_cum_sum)"
   ]
  },
  {
   "cell_type": "code",
   "execution_count": null,
   "id": "394abd15-d2b0-46fe-9e84-773af19223ff",
   "metadata": {},
   "outputs": [],
   "source": []
  }
 ],
 "metadata": {
  "kernelspec": {
   "display_name": "Python 3 (ipykernel)",
   "language": "python",
   "name": "python3"
  },
  "language_info": {
   "codemirror_mode": {
    "name": "ipython",
    "version": 3
   },
   "file_extension": ".py",
   "mimetype": "text/x-python",
   "name": "python",
   "nbconvert_exporter": "python",
   "pygments_lexer": "ipython3",
   "version": "3.10.12"
  }
 },
 "nbformat": 4,
 "nbformat_minor": 5
}
