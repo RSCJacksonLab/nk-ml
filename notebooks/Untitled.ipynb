{
 "cells": [
  {
   "cell_type": "markdown",
   "id": "f316f7eb",
   "metadata": {},
   "source": [
    "## Experiments "
   ]
  },
  {
   "cell_type": "code",
   "execution_count": 3,
   "id": "e0a15c01",
   "metadata": {},
   "outputs": [],
   "source": [
    "import sys \n",
    "sys.path.append('/home/mahakaran/NK-paper-12-5-24-version/nk-ml-paper2-2024/pscapes') #add pscapes \n",
    "\n",
    "import numpy as np\n",
    "import networkx as nx\n",
    "import matplotlib.pyplot as plt\n",
    "\n",
    "from pscapes.landscape_models import make_NK\n",
    "from pscapes.landscape_class import Protein_Landscape\n",
    "from pscapes.utils import dict_to_np_array\n",
    "\n",
    "import scipy.sparse as sp\n",
    "\n",
    "from to"
   ]
  },
  {
   "cell_type": "code",
   "execution_count": 5,
   "id": "ccd92067",
   "metadata": {},
   "outputs": [
    {
     "data": {
      "text/plain": [
       "'3.10.12 (main, Sep 11 2024, 15:47:36) [GCC 11.4.0]'"
      ]
     },
     "execution_count": 5,
     "metadata": {},
     "output_type": "execute_result"
    }
   ],
   "source": [
    "sys.version"
   ]
  },
  {
   "cell_type": "code",
   "execution_count": 2,
   "id": "31ff04f7",
   "metadata": {},
   "outputs": [],
   "source": [
    "AA_ALPHABET = 'ACDEFG'\n",
    "SEQ_LENGTH  = 6"
   ]
  },
  {
   "cell_type": "code",
   "execution_count": 3,
   "id": "dfa398d1",
   "metadata": {},
   "outputs": [],
   "source": [
    "test_NK_1_dict = make_NK(SEQ_LENGTH, 1, AA_ALPHABET, np.random.uniform)"
   ]
  },
  {
   "cell_type": "code",
   "execution_count": 4,
   "id": "8e5ea528",
   "metadata": {},
   "outputs": [],
   "source": [
    "test_NK_1_np = dict_to_np_array(test_NK_1_dict)"
   ]
  },
  {
   "cell_type": "code",
   "execution_count": 5,
   "id": "587bbb98",
   "metadata": {},
   "outputs": [],
   "source": [
    "test_NK_1_PL = Protein_Landscape(test_NK_1_np, amino_acids=AA_ALPHABET)"
   ]
  },
  {
   "cell_type": "code",
   "execution_count": 6,
   "id": "80b635c8",
   "metadata": {},
   "outputs": [
    {
     "name": "stdout",
     "output_type": "stream",
     "text": [
      "Building Protein Graph for entire dataset\n"
     ]
    },
    {
     "name": "stderr",
     "output_type": "stream",
     "text": [
      "100%|█████████████████████████████████████████████████████████████████████████████████████████████████████████| 46656/46656 [00:09<00:00, 4970.87it/s]\n"
     ]
    },
    {
     "data": {
      "text/plain": [
       "\n",
       "            Protein_Landscape(sequences={})\n",
       "            "
      ]
     },
     "execution_count": 6,
     "metadata": {},
     "output_type": "execute_result"
    }
   ],
   "source": [
    "test_NK_1_PL.fit_graph_builder()"
   ]
  },
  {
   "cell_type": "code",
   "execution_count": 6,
   "id": "910d7c46",
   "metadata": {},
   "outputs": [
    {
     "name": "stdout",
     "output_type": "stream",
     "text": [
      "Must compute graph before building adjacency. Computing graph...\n",
      "Building Protein Graph for entire dataset\n"
     ]
    },
    {
     "name": "stderr",
     "output_type": "stream",
     "text": [
      "100%|█████████████████████████████████████████████████████████████████████████████████████████████████████████| 46656/46656 [00:09<00:00, 4976.75it/s]\n"
     ]
    },
    {
     "name": "stdout",
     "output_type": "stream",
     "text": [
      "Graph built. Computing adjancency...\n"
     ]
    },
    {
     "data": {
      "text/plain": [
       "\n",
       "            Protein_Landscape(sequences={})\n",
       "            "
      ]
     },
     "execution_count": 6,
     "metadata": {},
     "output_type": "execute_result"
    }
   ],
   "source": [
    "test_NK_1_PL.fit_adjacency()"
   ]
  },
  {
   "cell_type": "code",
   "execution_count": null,
   "id": "56f6288b",
   "metadata": {},
   "outputs": [],
   "source": [
    "test_NK_1_PL."
   ]
  },
  {
   "cell_type": "code",
   "execution_count": 46,
   "id": "c8011894",
   "metadata": {},
   "outputs": [],
   "source": [
    "H = sp.lil_matrix((10,10))"
   ]
  },
  {
   "cell_type": "code",
   "execution_count": 49,
   "id": "2b739057",
   "metadata": {},
   "outputs": [],
   "source": [
    "H[[1,3,9],0]=1"
   ]
  },
  {
   "cell_type": "code",
   "execution_count": 50,
   "id": "c4e62dce",
   "metadata": {},
   "outputs": [
    {
     "data": {
      "text/plain": [
       "array([[0., 1., 0., 1., 0., 0., 0., 0., 0., 1.],\n",
       "       [1., 0., 0., 0., 0., 0., 0., 0., 0., 0.],\n",
       "       [0., 0., 0., 0., 0., 0., 0., 0., 0., 0.],\n",
       "       [1., 0., 0., 0., 0., 0., 0., 0., 0., 0.],\n",
       "       [0., 0., 0., 0., 0., 0., 0., 0., 0., 0.],\n",
       "       [0., 0., 0., 0., 0., 0., 0., 0., 0., 0.],\n",
       "       [0., 0., 0., 0., 0., 0., 0., 0., 0., 0.],\n",
       "       [0., 0., 0., 0., 0., 0., 0., 0., 0., 0.],\n",
       "       [0., 0., 0., 0., 0., 0., 0., 0., 0., 0.],\n",
       "       [1., 0., 0., 0., 0., 0., 0., 0., 0., 0.]])"
      ]
     },
     "execution_count": 50,
     "metadata": {},
     "output_type": "execute_result"
    }
   ],
   "source": [
    "H.toarray()"
   ]
  },
  {
   "cell_type": "code",
   "execution_count": 51,
   "id": "9efb1b1d",
   "metadata": {},
   "outputs": [],
   "source": [
    "def dict_graph_to_adjacency(dict_graph):\n",
    "    dim = len(dict_graph)\n",
    "    A   = sp.lil_matrix((dim, dim))\n",
    "    values = list(dict_graph.values())\n",
    "    \n",
    "    for ind, i in enumerate(values): \n",
    "        A[ind, i]=1\n",
    "    return A\n",
    "    \n",
    "    \n",
    "    \n",
    "    "
   ]
  },
  {
   "cell_type": "code",
   "execution_count": 52,
   "id": "053c67de",
   "metadata": {},
   "outputs": [],
   "source": [
    "adj = dict_graph_to_adjacency(test_NK_1_PL.graph)"
   ]
  },
  {
   "cell_type": "code",
   "execution_count": 55,
   "id": "e417d7b5",
   "metadata": {},
   "outputs": [],
   "source": [
    "adj_np = adj[:100,:100].toarray()"
   ]
  },
  {
   "cell_type": "code",
   "execution_count": 65,
   "id": "fc94c5e1",
   "metadata": {},
   "outputs": [],
   "source": [
    "f = np.array(list(test_NK_1_PL.graph.values()))"
   ]
  },
  {
   "cell_type": "code",
   "execution_count": 69,
   "id": "549f53a6",
   "metadata": {},
   "outputs": [],
   "source": [
    "query = f[0][f[0]<100]"
   ]
  },
  {
   "cell_type": "code",
   "execution_count": 84,
   "id": "e356718d",
   "metadata": {},
   "outputs": [
    {
     "data": {
      "text/plain": [
       "dtype('int64')"
      ]
     },
     "execution_count": 84,
     "metadata": {},
     "output_type": "execute_result"
    }
   ],
   "source": [
    "query.dtype\n"
   ]
  },
  {
   "cell_type": "code",
   "execution_count": 90,
   "id": "fa1738a3",
   "metadata": {},
   "outputs": [
    {
     "data": {
      "text/plain": [
       "array([1., 1., 1., 1., 1., 1., 1., 1., 1., 1., 1., 1.])"
      ]
     },
     "execution_count": 90,
     "metadata": {},
     "output_type": "execute_result"
    }
   ],
   "source": [
    "adj_np[0,query]"
   ]
  },
  {
   "cell_type": "code",
   "execution_count": null,
   "id": "3c2b58ae",
   "metadata": {},
   "outputs": [],
   "source": []
  },
  {
   "cell_type": "code",
   "execution_count": null,
   "id": "d4776744",
   "metadata": {},
   "outputs": [],
   "source": []
  }
 ],
 "metadata": {
  "kernelspec": {
   "display_name": "Python 3 (ipykernel)",
   "language": "python",
   "name": "python3"
  },
  "language_info": {
   "codemirror_mode": {
    "name": "ipython",
    "version": 3
   },
   "file_extension": ".py",
   "mimetype": "text/x-python",
   "name": "python",
   "nbconvert_exporter": "python",
   "pygments_lexer": "ipython3",
   "version": "3.10.12"
  }
 },
 "nbformat": 4,
 "nbformat_minor": 5
}
