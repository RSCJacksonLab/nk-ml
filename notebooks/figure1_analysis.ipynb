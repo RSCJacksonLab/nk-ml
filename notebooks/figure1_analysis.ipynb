{
 "cells": [
  {
   "cell_type": "code",
   "execution_count": 3,
   "id": "f48c879f-2cd3-4e8f-845a-7aba70bcbe97",
   "metadata": {},
   "outputs": [
    {
     "ename": "ModuleNotFoundError",
     "evalue": "No module named 'architectures'",
     "output_type": "error",
     "traceback": [
      "\u001b[0;31m---------------------------------------------------------------------------\u001b[0m",
      "\u001b[0;31mModuleNotFoundError\u001b[0m                       Traceback (most recent call last)",
      "\u001b[0;32m/tmp/ipykernel_8391/1767172046.py\u001b[0m in \u001b[0;36m<module>\u001b[0;34m\u001b[0m\n\u001b[1;32m     25\u001b[0m \u001b[0;34m\u001b[0m\u001b[0m\n\u001b[1;32m     26\u001b[0m \u001b[0;32mfrom\u001b[0m \u001b[0msrc\u001b[0m\u001b[0;34m.\u001b[0m\u001b[0mml_utils\u001b[0m \u001b[0;32mimport\u001b[0m \u001b[0mtrain_val_test_split_ohe\u001b[0m\u001b[0;34m,\u001b[0m \u001b[0mlandscapes_ohe_to_numpy\u001b[0m\u001b[0;34m\u001b[0m\u001b[0;34m\u001b[0m\u001b[0m\n\u001b[0;32m---> 27\u001b[0;31m \u001b[0;32mfrom\u001b[0m \u001b[0msrc\u001b[0m\u001b[0;34m.\u001b[0m\u001b[0mhyperopt\u001b[0m \u001b[0;32mimport\u001b[0m \u001b[0mobjective_NK\u001b[0m\u001b[0;34m,\u001b[0m \u001b[0msklearn_objective_NK\u001b[0m\u001b[0;34m\u001b[0m\u001b[0;34m\u001b[0m\u001b[0m\n\u001b[0m\u001b[1;32m     28\u001b[0m \u001b[0;34m\u001b[0m\u001b[0m\n\u001b[1;32m     29\u001b[0m \u001b[0;32mfrom\u001b[0m \u001b[0msklearn\u001b[0m\u001b[0;34m.\u001b[0m\u001b[0mensemble\u001b[0m \u001b[0;32mimport\u001b[0m \u001b[0mRandomForestRegressor\u001b[0m\u001b[0;34m,\u001b[0m \u001b[0mGradientBoostingRegressor\u001b[0m\u001b[0;34m\u001b[0m\u001b[0;34m\u001b[0m\u001b[0m\n",
      "\u001b[0;32m~/nk-paper-2024/nk-ml-2024/notebooks/../../nk-ml-2024/src/hyperopt.py\u001b[0m in \u001b[0;36m<module>\u001b[0;34m\u001b[0m\n\u001b[1;32m     16\u001b[0m \u001b[0;34m\u001b[0m\u001b[0m\n\u001b[1;32m     17\u001b[0m \u001b[0;34m\u001b[0m\u001b[0m\n\u001b[0;32m---> 18\u001b[0;31m \u001b[0;32mfrom\u001b[0m \u001b[0marchitectures\u001b[0m \u001b[0;32mimport\u001b[0m \u001b[0mSequenceRegressionCNN\u001b[0m\u001b[0;34m,\u001b[0m \u001b[0mSequenceRegressionLinear\u001b[0m\u001b[0;34m,\u001b[0m \u001b[0mSequenceRegressionMLP\u001b[0m\u001b[0;34m,\u001b[0m \u001b[0mSequenceRegressionLSTM\u001b[0m\u001b[0;34m,\u001b[0m \u001b[0mSequenceRegressionTransformer\u001b[0m\u001b[0;34m\u001b[0m\u001b[0;34m\u001b[0m\u001b[0m\n\u001b[0m\u001b[1;32m     19\u001b[0m \u001b[0;32mfrom\u001b[0m \u001b[0msklearn\u001b[0m\u001b[0;34m.\u001b[0m\u001b[0mensemble\u001b[0m \u001b[0;32mimport\u001b[0m \u001b[0mRandomForestRegressor\u001b[0m\u001b[0;34m,\u001b[0m \u001b[0mGradientBoostingRegressor\u001b[0m\u001b[0;34m\u001b[0m\u001b[0;34m\u001b[0m\u001b[0m\n\u001b[1;32m     20\u001b[0m \u001b[0;32mfrom\u001b[0m \u001b[0msklearn\u001b[0m\u001b[0;34m.\u001b[0m\u001b[0mmetrics\u001b[0m \u001b[0;32mimport\u001b[0m \u001b[0mmean_squared_error\u001b[0m\u001b[0;34m\u001b[0m\u001b[0;34m\u001b[0m\u001b[0m\n",
      "\u001b[0;31mModuleNotFoundError\u001b[0m: No module named 'architectures'"
     ]
    }
   ],
   "source": [
    "import optuna as opt\n",
    "import torch\n",
    "import torch.nn as nn\n",
    "import torch.optim as optim\n",
    "import numpy as np\n",
    "#from twilio.rest import Client\n",
    "import pickle\n",
    "\n",
    "import time\n",
    "\n",
    "import sys\n",
    "import os \n",
    "\n",
    "\n",
    "sys.path.append('../../pscapes')\n",
    "sys.path.append('../../nk-ml-2024/')\n",
    "\n",
    "\n",
    "from torch.utils.data import DataLoader\n",
    "\n",
    "from pscapes.landscape_class import ProteinLandscape\n",
    "from pscapes.utils import dict_to_np_array, np_array_to_dict\n",
    "\n",
    "from src.architectures import SequenceRegressionCNN, SequenceRegressionLinear, SequenceRegressionMLP, SequenceRegressionLSTM, SequenceRegressionTransformer\n",
    "\n",
    "from src.ml_utils import train_val_test_split_ohe, landscapes_ohe_to_numpy\n",
    "from src.hyperopt import objective_NK, sklearn_objective_NK\n",
    "\n",
    "from sklearn.ensemble import RandomForestRegressor, GradientBoostingRegressor \n",
    "\n",
    "from src.train_utils import train_models_from_hparams_NK, read_MLP_hparams, read_CNN_hparams, read_LSTM_hparams, read_transformer_hparams\n",
    "\n",
    "from src.analysis import get_latent_representation, instantiate_model_from_study\n",
    "\n",
    "from sklearn.neighbors import kneighbors_graph\n",
    "import math\n",
    "import networkx as nx\n",
    "from scipy.sparse import diags"
   ]
  },
  {
   "cell_type": "code",
   "execution_count": null,
   "id": "9c11d8ac-7588-4652-9899-576a5095ac70",
   "metadata": {},
   "outputs": [],
   "source": [
    "HPARAM_PATH = '../hyperopt/results/NK_hyperopt_results.pkl'\n",
    "DATA_PATH = '../data/nk_landscapes/'\n",
    "MODEL_SAVEPATH = '../models/'\n",
    "RESULT_PATH = '../results/'\n",
    "SEQ_LEN = 6\n",
    "AA_ALPHABET  = 'ACDEFG'\n",
    "N_REPLICATES = 1"
   ]
  },
  {
   "cell_type": "code",
   "execution_count": 3,
   "id": "6b639531-4b6f-4f6d-9067-dda608097406",
   "metadata": {},
   "outputs": [],
   "source": [
    "with open(HPARAM_PATH, 'rb') as handle: \n",
    "    NK_hparams = pickle.load(handle)"
   ]
  },
  {
   "cell_type": "code",
   "execution_count": 4,
   "id": "09824daf-d463-4f05-8ad6-c8720b26faf5",
   "metadata": {},
   "outputs": [
    {
     "name": "stdout",
     "output_type": "stream",
     "text": [
      "Loading landscapes.\n",
      "Calculating train-test-val splits\n"
     ]
    }
   ],
   "source": [
    "#load landscape data \n",
    "landscapes = []\n",
    "print('Loading landscapes.')\n",
    "for k in range(SEQ_LEN):\n",
    "    replicate_list = []\n",
    "    for r in range(N_REPLICATES):\n",
    "        landscape = ProteinLandscape(csv_path=DATA_PATH+'/k{0}_r{1}.csv'.format(k,r), amino_acids=AA_ALPHABET)\n",
    "        replicate_list.append(landscape)\n",
    "    landscapes.append(replicate_list)\n",
    "landscapes = [[i.fit_OHE() for i in j] for j in landscapes]\n",
    "\n",
    "print('Calculating train-test-val splits')\n",
    "splits = [train_val_test_split_ohe(i, random_state=1) for i in landscapes]\n",
    "#landscapes_ohe, xy_train, xy_val, xy_test, x_tests, y_tests = splits[k_index] "
   ]
  },
  {
   "cell_type": "code",
   "execution_count": null,
   "id": "944eb079-9fdd-4509-96f4-f6c6b23df25c",
   "metadata": {},
   "outputs": [],
   "source": []
  },
  {
   "cell_type": "code",
   "execution_count": 5,
   "id": "14a73498-ce8a-4bea-a6b0-dc8142f665e5",
   "metadata": {},
   "outputs": [],
   "source": [
    "model_names = ['linear', 'mlp', 'cnn', 'ulstm', 'blstm', 'transformer']# 'RF', 'GB']"
   ]
  },
  {
   "cell_type": "code",
   "execution_count": 6,
   "id": "ab3f4573-53a1-4926-a7c2-3246ff35f118",
   "metadata": {},
   "outputs": [],
   "source": [
    "def instantiate_model_from_study(model_name, study, alphabet_size=6, seq_length=6): \n",
    "    if model_name == 'linear':\n",
    "        model_instance = SequenceRegressionLinear(alphabet_size=alphabet_size, sequence_length=seq_length)\n",
    "    elif model_name == 'mlp': \n",
    "        hparams = read_MLP_hparams(study.best_params)\n",
    "        model_instance = SequenceRegressionMLP(**hparams, alphabet_size=alphabet_size, sequence_length=seq_length)\n",
    "    elif model_name == 'cnn': \n",
    "        hparams = read_CNN_hparams(study.best_params)\n",
    "        model_instance = SequenceRegressionCNN(**hparams, input_channels=alphabet_size, sequence_length=seq_length)\n",
    "    elif model_name == 'ulstm': \n",
    "        hparams = read_LSTM_hparams(study.best_params)\n",
    "        model_instance = SequenceRegressionLSTM(**hparams, input_size=alphabet_size, bidirectional=False)\n",
    "    elif model_name == 'blstm': \n",
    "        hparams = read_LSTM_hparams(study.best_params)\n",
    "        model_instance = SequenceRegressionLSTM(**hparams, input_size=alphabet_size, bidirectional=True)\n",
    "    elif model_name == 'transformer': \n",
    "        hparams = read_transformer_hparams(study.best_params)\n",
    "        model_instance = SequenceRegressionTransformer(**hparams, input_dim=alphabet_size)\n",
    "    elif model_name == 'RF': \n",
    "        hparams = study.best_params\n",
    "        model_instance = RandomForestRegressor(**hparams)\n",
    "    elif model_name == 'GB': \n",
    "        hparams = study.best_params\n",
    "        model_instance = GradientBoostingRegressor(**hparams)\n",
    "    return model_instance"
   ]
  },
  {
   "cell_type": "code",
   "execution_count": 7,
   "id": "3ffd68ac-a56e-42be-84a4-2299f199f77a",
   "metadata": {},
   "outputs": [
    {
     "name": "stderr",
     "output_type": "stream",
     "text": [
      "/home/ubuntu/.local/lib/python3.10/site-packages/torch/nn/modules/transformer.py:379: UserWarning: enable_nested_tensor is True, but self.use_nested_tensor is False because encoder_layer.self_attn.batch_first was not True(use batch_first for better inference performance)\n",
      "  warnings.warn(\n"
     ]
    }
   ],
   "source": [
    "instantiated_models = {x:[] for x in model_names}\n",
    "for model_name in NK_hparams.keys(): \n",
    "    if model_name != 'RF' and model_name != 'GB': \n",
    "        for k_value, study in enumerate(NK_hparams[model_name]):\n",
    "            replicate_models = []\n",
    "            for replicate in range(N_REPLICATES): \n",
    "                model = instantiate_model_from_study(model_name, study)\n",
    "                replicate_models.append(model)\n",
    "            instantiated_models[model_name].append(replicate_models)\n",
    "            "
   ]
  },
  {
   "cell_type": "code",
   "execution_count": 8,
   "id": "0162d0dd-c2c6-455f-9c86-e4ff9de182ba",
   "metadata": {},
   "outputs": [],
   "source": [
    "#let's load model weights \n",
    "for model_name in model_names: \n",
    "    for k_value in range(SEQ_LEN): \n",
    "        for replicate in range(N_REPLICATES): \n",
    "            model_path = MODEL_SAVEPATH + '{}_NK_k{}_r{}.pt'.format(model_name, k_value, replicate)\n",
    "            model_instance = instantiated_models[model_name][k_value][replicate]\n",
    "            model_instance.load_state_dict(torch.load(model_path, weights_only=True))"
   ]
  },
  {
   "cell_type": "code",
   "execution_count": 39,
   "id": "00829595-1203-47dc-96dd-1d606616605a",
   "metadata": {},
   "outputs": [],
   "source": [
    "def adjacency_to_diag_laplacian(A): \n",
    "    \"\"\"\n",
    "    Calculates degree and laplacian matrices from an adjacency matrix.  \n",
    "    \n",
    "    Args: \n",
    "        A (scipy sparse matrix): adjacency of graph\n",
    "    Returns: \n",
    "        D (scipy sparse matrix): degree matrix of graph\n",
    "        L (scipy sparse matrix) : laplacian matrix of graph\n",
    "    \"\"\"\n",
    "    degrees = A.sum(axis=1).A1\n",
    "    D = diags(degrees, format='csr')\n",
    "    L = D-A\n",
    "\n",
    "    \n",
    "    return D, L\n",
    "\n",
    "def sparse_dirichlet(L, f): \n",
    "    \"\"\"\n",
    "    Calculates the Dirichlet energy of a signal f over a graph. \n",
    "    \n",
    "    Args: \n",
    "    L (scipy sparse matrix): graph laplacian\n",
    "    f (np array): signal over graph\n",
    "    \"\"\"\n",
    "\n",
    "    f = f.astype('float64') \n",
    "    Lf  = L.dot(f)\n",
    "    f_T = f.T\n",
    "    fLf = f_T.dot(Lf)\n",
    "    return fLf.item()"
   ]
  },
  {
   "cell_type": "code",
   "execution_count": 10,
   "id": "df974060-e434-4852-aca3-e430d7513c3f",
   "metadata": {},
   "outputs": [],
   "source": [
    "landscapes_as_tensor = [[torch.from_numpy(i).to(torch.float32) for i in j[0]] for j in splits]\n",
    "flattened_landscapes = [[i.reshape(i.shape[0], i.shape[1]*i.shape[2]) for i in j[0]] for j in splits]"
   ]
  },
  {
   "cell_type": "code",
   "execution_count": 49,
   "id": "1c12a0c2-7627-4e0b-b878-1efdb50db5de",
   "metadata": {},
   "outputs": [],
   "source": [
    "mlp_models   = [instantiated_models['mlp'][i][0].to('cuda') for i in range(SEQ_LEN)]\n",
    "layer_outputs = []\n",
    "hooks = []\n",
    "# Define a hook function to capture the output\n",
    "def hook_fn(module, input, output):\n",
    "    layer_outputs.append(output)\n",
    "\n",
    "hooks = [i.fc_layers[-1].register_forward_hook(hook_fn) for i in mlp_models]"
   ]
  },
  {
   "cell_type": "code",
   "execution_count": 57,
   "id": "1abbfa30-7bea-4e4f-a0d2-4a0cfbf15b0f",
   "metadata": {},
   "outputs": [
    {
     "data": {
      "text/plain": [
       "[None, None, None, None, None, None]"
      ]
     },
     "execution_count": 57,
     "metadata": {},
     "output_type": "execute_result"
    }
   ],
   "source": [
    "[hook.remove() for hook in hooks ]"
   ]
  },
  {
   "cell_type": "code",
   "execution_count": 58,
   "id": "4323abe4-9801-4b89-9a4e-95e4a543283c",
   "metadata": {},
   "outputs": [],
   "source": [
    "model_forward_output = [mlp_models[i](landscapes_as_tensor[i][0].to('cuda')) for i in range(len(mlp_models))]"
   ]
  },
  {
   "cell_type": "code",
   "execution_count": 59,
   "id": "65722ca7-05ef-4a86-9c67-399693be24f6",
   "metadata": {},
   "outputs": [],
   "source": [
    "layer_outputs_np = [i.cpu().detach().numpy() for i in layer_outputs]\n",
    "\n",
    "\n",
    "degree=30\n"
   ]
  },
  {
   "cell_type": "code",
   "execution_count": 60,
   "id": "8b355fd8-c9c6-479b-9f05-4157bf97e4d3",
   "metadata": {},
   "outputs": [
    {
     "data": {
      "text/plain": [
       "48"
      ]
     },
     "execution_count": 60,
     "metadata": {},
     "output_type": "execute_result"
    }
   ],
   "source": [
    "len(layer_outputs_np)"
   ]
  },
  {
   "cell_type": "code",
   "execution_count": 25,
   "id": "a7bf793c-96c5-47b9-8c65-3674b3028a02",
   "metadata": {},
   "outputs": [],
   "source": [
    "nk_landscapes_knn = [[kneighbors_graph(flattened_landscapes[i][j], n_neighbors=degree, n_jobs=-1)for j in range(N_REPLICATES)] for i in range(len(flattened_landscapes))]"
   ]
  },
  {
   "cell_type": "code",
   "execution_count": 32,
   "id": "7845e0bb-9f09-438f-8e7b-be7ebc620e95",
   "metadata": {},
   "outputs": [],
   "source": [
    "latent_rep_mlp_knn = [kneighbors_graph(layer_outputs_np[i], n_neighbors=degree, n_jobs=-1 ) for i in range(len(layer_outputs))]"
   ]
  },
  {
   "cell_type": "code",
   "execution_count": 35,
   "id": "ef322595-bcbe-4a6d-acba-d729da2689a3",
   "metadata": {},
   "outputs": [],
   "source": [
    "landscape_y = [[i.fitnesses.reshape(-1,1) for i in j] for j in landscapes]"
   ]
  },
  {
   "cell_type": "code",
   "execution_count": 43,
   "id": "5b99f9c7-a326-4b23-88a4-f77326ae61ef",
   "metadata": {},
   "outputs": [],
   "source": [
    "nk_landscapes_laplacians = [adjacency_to_diag_laplacian(i[0])[-1] for i in nk_landscapes_knn]\n",
    "latent_rep_mlp_laplacians = [adjacency_to_diag_laplacian(i)[-1] for i in latent_rep_mlp_knn]"
   ]
  },
  {
   "cell_type": "code",
   "execution_count": 47,
   "id": "aed00333-a981-4865-ac48-4f82c9e2824f",
   "metadata": {},
   "outputs": [
    {
     "data": {
      "text/plain": [
       "12"
      ]
     },
     "execution_count": 47,
     "metadata": {},
     "output_type": "execute_result"
    }
   ],
   "source": [
    "len(latent_rep_mlp_laplacians)"
   ]
  },
  {
   "cell_type": "code",
   "execution_count": 46,
   "id": "d2133239-363e-4426-9ddc-da71c6034183",
   "metadata": {},
   "outputs": [
    {
     "ename": "IndexError",
     "evalue": "list index out of range",
     "output_type": "error",
     "traceback": [
      "\u001b[0;31m---------------------------------------------------------------------------\u001b[0m",
      "\u001b[0;31mIndexError\u001b[0m                                Traceback (most recent call last)",
      "\u001b[0;32m/tmp/ipykernel_6007/4284974928.py\u001b[0m in \u001b[0;36m<module>\u001b[0;34m\u001b[0m\n\u001b[1;32m      1\u001b[0m \u001b[0mnk_landscapes_dirichlets\u001b[0m \u001b[0;34m=\u001b[0m \u001b[0;34m[\u001b[0m\u001b[0msparse_dirichlet\u001b[0m\u001b[0;34m(\u001b[0m\u001b[0mnk_landscapes_laplacians\u001b[0m\u001b[0;34m[\u001b[0m\u001b[0mi\u001b[0m\u001b[0;34m]\u001b[0m\u001b[0;34m,\u001b[0m \u001b[0mlandscape_y\u001b[0m\u001b[0;34m[\u001b[0m\u001b[0mi\u001b[0m\u001b[0;34m]\u001b[0m\u001b[0;34m[\u001b[0m\u001b[0;36m0\u001b[0m\u001b[0;34m]\u001b[0m\u001b[0;34m)\u001b[0m \u001b[0;32mfor\u001b[0m \u001b[0mi\u001b[0m \u001b[0;32min\u001b[0m \u001b[0mrange\u001b[0m\u001b[0;34m(\u001b[0m\u001b[0mlen\u001b[0m\u001b[0;34m(\u001b[0m\u001b[0mnk_landscapes_laplacians\u001b[0m\u001b[0;34m)\u001b[0m\u001b[0;34m)\u001b[0m\u001b[0;34m]\u001b[0m\u001b[0;34m\u001b[0m\u001b[0;34m\u001b[0m\u001b[0m\n\u001b[0;32m----> 2\u001b[0;31m \u001b[0mlatent_rep_mlp_dirichlets\u001b[0m \u001b[0;34m=\u001b[0m \u001b[0;34m[\u001b[0m\u001b[0msparse_dirichlet\u001b[0m\u001b[0;34m(\u001b[0m\u001b[0mlatent_rep_mlp_laplacians\u001b[0m\u001b[0;34m[\u001b[0m\u001b[0mi\u001b[0m\u001b[0;34m]\u001b[0m\u001b[0;34m,\u001b[0m \u001b[0mlandscape_y\u001b[0m\u001b[0;34m[\u001b[0m\u001b[0mi\u001b[0m\u001b[0;34m]\u001b[0m\u001b[0;34m[\u001b[0m\u001b[0;36m0\u001b[0m\u001b[0;34m]\u001b[0m\u001b[0;34m)\u001b[0m \u001b[0;32mfor\u001b[0m \u001b[0mi\u001b[0m \u001b[0;32min\u001b[0m \u001b[0mrange\u001b[0m\u001b[0;34m(\u001b[0m\u001b[0mlen\u001b[0m\u001b[0;34m(\u001b[0m\u001b[0mlatent_rep_mlp_laplacians\u001b[0m\u001b[0;34m)\u001b[0m\u001b[0;34m)\u001b[0m\u001b[0;34m]\u001b[0m\u001b[0;34m\u001b[0m\u001b[0;34m\u001b[0m\u001b[0m\n\u001b[0m",
      "\u001b[0;32m/tmp/ipykernel_6007/4284974928.py\u001b[0m in \u001b[0;36m<listcomp>\u001b[0;34m(.0)\u001b[0m\n\u001b[1;32m      1\u001b[0m \u001b[0mnk_landscapes_dirichlets\u001b[0m \u001b[0;34m=\u001b[0m \u001b[0;34m[\u001b[0m\u001b[0msparse_dirichlet\u001b[0m\u001b[0;34m(\u001b[0m\u001b[0mnk_landscapes_laplacians\u001b[0m\u001b[0;34m[\u001b[0m\u001b[0mi\u001b[0m\u001b[0;34m]\u001b[0m\u001b[0;34m,\u001b[0m \u001b[0mlandscape_y\u001b[0m\u001b[0;34m[\u001b[0m\u001b[0mi\u001b[0m\u001b[0;34m]\u001b[0m\u001b[0;34m[\u001b[0m\u001b[0;36m0\u001b[0m\u001b[0;34m]\u001b[0m\u001b[0;34m)\u001b[0m \u001b[0;32mfor\u001b[0m \u001b[0mi\u001b[0m \u001b[0;32min\u001b[0m \u001b[0mrange\u001b[0m\u001b[0;34m(\u001b[0m\u001b[0mlen\u001b[0m\u001b[0;34m(\u001b[0m\u001b[0mnk_landscapes_laplacians\u001b[0m\u001b[0;34m)\u001b[0m\u001b[0;34m)\u001b[0m\u001b[0;34m]\u001b[0m\u001b[0;34m\u001b[0m\u001b[0;34m\u001b[0m\u001b[0m\n\u001b[0;32m----> 2\u001b[0;31m \u001b[0mlatent_rep_mlp_dirichlets\u001b[0m \u001b[0;34m=\u001b[0m \u001b[0;34m[\u001b[0m\u001b[0msparse_dirichlet\u001b[0m\u001b[0;34m(\u001b[0m\u001b[0mlatent_rep_mlp_laplacians\u001b[0m\u001b[0;34m[\u001b[0m\u001b[0mi\u001b[0m\u001b[0;34m]\u001b[0m\u001b[0;34m,\u001b[0m \u001b[0mlandscape_y\u001b[0m\u001b[0;34m[\u001b[0m\u001b[0mi\u001b[0m\u001b[0;34m]\u001b[0m\u001b[0;34m[\u001b[0m\u001b[0;36m0\u001b[0m\u001b[0;34m]\u001b[0m\u001b[0;34m)\u001b[0m \u001b[0;32mfor\u001b[0m \u001b[0mi\u001b[0m \u001b[0;32min\u001b[0m \u001b[0mrange\u001b[0m\u001b[0;34m(\u001b[0m\u001b[0mlen\u001b[0m\u001b[0;34m(\u001b[0m\u001b[0mlatent_rep_mlp_laplacians\u001b[0m\u001b[0;34m)\u001b[0m\u001b[0;34m)\u001b[0m\u001b[0;34m]\u001b[0m\u001b[0;34m\u001b[0m\u001b[0;34m\u001b[0m\u001b[0m\n\u001b[0m",
      "\u001b[0;31mIndexError\u001b[0m: list index out of range"
     ]
    }
   ],
   "source": [
    "nk_landscapes_dirichlets = [sparse_dirichlet(nk_landscapes_laplacians[i], landscape_y[i][0]) for i in range(len(nk_landscapes_laplacians))]\n",
    "latent_rep_mlp_dirichlets = [sparse_dirichlet(latent_rep_mlp_laplacians[i], landscape_y[i][0]) for i in range(len(latent_rep_mlp_laplacians))]"
   ]
  },
  {
   "cell_type": "code",
   "execution_count": null,
   "id": "08c34a4e-a6c5-4901-a91c-de8ba08da953",
   "metadata": {},
   "outputs": [],
   "source": []
  },
  {
   "cell_type": "code",
   "execution_count": 19,
   "id": "5e4674e9-2769-46e3-be2a-59b35524f437",
   "metadata": {},
   "outputs": [
    {
     "name": "stdout",
     "output_type": "stream",
     "text": [
      "torch.Size([46656, 6, 6])\n"
     ]
    },
    {
     "ename": "RuntimeError",
     "evalue": "Expected all tensors to be on the same device, but found at least two devices, cuda:0 and cpu! (when checking argument for argument mat1 in method wrapper_CUDA_addmm)",
     "output_type": "error",
     "traceback": [
      "\u001b[0;31m---------------------------------------------------------------------------\u001b[0m",
      "\u001b[0;31mRuntimeError\u001b[0m                              Traceback (most recent call last)",
      "\u001b[0;32m/tmp/ipykernel_6007/1146660436.py\u001b[0m in \u001b[0;36m<module>\u001b[0;34m\u001b[0m\n\u001b[1;32m     22\u001b[0m         \u001b[0mprint\u001b[0m\u001b[0;34m(\u001b[0m\u001b[0min_data\u001b[0m\u001b[0;34m.\u001b[0m\u001b[0mshape\u001b[0m\u001b[0;34m)\u001b[0m\u001b[0;34m\u001b[0m\u001b[0;34m\u001b[0m\u001b[0m\n\u001b[1;32m     23\u001b[0m         \u001b[0mmodel\u001b[0m \u001b[0;34m=\u001b[0m \u001b[0minstantiated_models\u001b[0m\u001b[0;34m[\u001b[0m\u001b[0mmodel_name\u001b[0m\u001b[0;34m]\u001b[0m\u001b[0;34m[\u001b[0m\u001b[0mk_val\u001b[0m\u001b[0;34m]\u001b[0m\u001b[0;34m[\u001b[0m\u001b[0mreplicate\u001b[0m\u001b[0;34m]\u001b[0m\u001b[0;34m\u001b[0m\u001b[0;34m\u001b[0m\u001b[0m\n\u001b[0;32m---> 24\u001b[0;31m         \u001b[0m_\u001b[0m \u001b[0;34m=\u001b[0m \u001b[0mmodel\u001b[0m\u001b[0;34m(\u001b[0m\u001b[0min_data\u001b[0m\u001b[0;34m)\u001b[0m\u001b[0;34m\u001b[0m\u001b[0;34m\u001b[0m\u001b[0m\n\u001b[0m",
      "\u001b[0;32m~/.local/lib/python3.10/site-packages/torch/nn/modules/module.py\u001b[0m in \u001b[0;36m_wrapped_call_impl\u001b[0;34m(self, *args, **kwargs)\u001b[0m\n\u001b[1;32m   1734\u001b[0m             \u001b[0;32mreturn\u001b[0m \u001b[0mself\u001b[0m\u001b[0;34m.\u001b[0m\u001b[0m_compiled_call_impl\u001b[0m\u001b[0;34m(\u001b[0m\u001b[0;34m*\u001b[0m\u001b[0margs\u001b[0m\u001b[0;34m,\u001b[0m \u001b[0;34m**\u001b[0m\u001b[0mkwargs\u001b[0m\u001b[0;34m)\u001b[0m  \u001b[0;31m# type: ignore[misc]\u001b[0m\u001b[0;34m\u001b[0m\u001b[0;34m\u001b[0m\u001b[0m\n\u001b[1;32m   1735\u001b[0m         \u001b[0;32melse\u001b[0m\u001b[0;34m:\u001b[0m\u001b[0;34m\u001b[0m\u001b[0;34m\u001b[0m\u001b[0m\n\u001b[0;32m-> 1736\u001b[0;31m             \u001b[0;32mreturn\u001b[0m \u001b[0mself\u001b[0m\u001b[0;34m.\u001b[0m\u001b[0m_call_impl\u001b[0m\u001b[0;34m(\u001b[0m\u001b[0;34m*\u001b[0m\u001b[0margs\u001b[0m\u001b[0;34m,\u001b[0m \u001b[0;34m**\u001b[0m\u001b[0mkwargs\u001b[0m\u001b[0;34m)\u001b[0m\u001b[0;34m\u001b[0m\u001b[0;34m\u001b[0m\u001b[0m\n\u001b[0m\u001b[1;32m   1737\u001b[0m \u001b[0;34m\u001b[0m\u001b[0m\n\u001b[1;32m   1738\u001b[0m     \u001b[0;31m# torchrec tests the code consistency with the following code\u001b[0m\u001b[0;34m\u001b[0m\u001b[0;34m\u001b[0m\u001b[0m\n",
      "\u001b[0;32m~/.local/lib/python3.10/site-packages/torch/nn/modules/module.py\u001b[0m in \u001b[0;36m_call_impl\u001b[0;34m(self, *args, **kwargs)\u001b[0m\n\u001b[1;32m   1745\u001b[0m                 \u001b[0;32mor\u001b[0m \u001b[0m_global_backward_pre_hooks\u001b[0m \u001b[0;32mor\u001b[0m \u001b[0m_global_backward_hooks\u001b[0m\u001b[0;34m\u001b[0m\u001b[0;34m\u001b[0m\u001b[0m\n\u001b[1;32m   1746\u001b[0m                 or _global_forward_hooks or _global_forward_pre_hooks):\n\u001b[0;32m-> 1747\u001b[0;31m             \u001b[0;32mreturn\u001b[0m \u001b[0mforward_call\u001b[0m\u001b[0;34m(\u001b[0m\u001b[0;34m*\u001b[0m\u001b[0margs\u001b[0m\u001b[0;34m,\u001b[0m \u001b[0;34m**\u001b[0m\u001b[0mkwargs\u001b[0m\u001b[0;34m)\u001b[0m\u001b[0;34m\u001b[0m\u001b[0;34m\u001b[0m\u001b[0m\n\u001b[0m\u001b[1;32m   1748\u001b[0m \u001b[0;34m\u001b[0m\u001b[0m\n\u001b[1;32m   1749\u001b[0m         \u001b[0mresult\u001b[0m \u001b[0;34m=\u001b[0m \u001b[0;32mNone\u001b[0m\u001b[0;34m\u001b[0m\u001b[0;34m\u001b[0m\u001b[0m\n",
      "\u001b[0;32m~/nk-paper-2024/nk-ml-2024/notebooks/../../nk-ml-2024/src/architectures.py\u001b[0m in \u001b[0;36mforward\u001b[0;34m(self, x)\u001b[0m\n\u001b[1;32m     56\u001b[0m \u001b[0;34m\u001b[0m\u001b[0m\n\u001b[1;32m     57\u001b[0m         \u001b[0;32mfor\u001b[0m \u001b[0mindex\u001b[0m\u001b[0;34m,\u001b[0m \u001b[0mfc_layer\u001b[0m \u001b[0;32min\u001b[0m \u001b[0menumerate\u001b[0m\u001b[0;34m(\u001b[0m\u001b[0mself\u001b[0m\u001b[0;34m.\u001b[0m\u001b[0mfc_layers\u001b[0m\u001b[0;34m)\u001b[0m\u001b[0;34m:\u001b[0m\u001b[0;34m\u001b[0m\u001b[0;34m\u001b[0m\u001b[0m\n\u001b[0;32m---> 58\u001b[0;31m             \u001b[0mx\u001b[0m \u001b[0;34m=\u001b[0m \u001b[0mtorch\u001b[0m\u001b[0;34m.\u001b[0m\u001b[0mrelu\u001b[0m\u001b[0;34m(\u001b[0m\u001b[0mfc_layer\u001b[0m\u001b[0;34m(\u001b[0m\u001b[0mx\u001b[0m\u001b[0;34m)\u001b[0m\u001b[0;34m)\u001b[0m\u001b[0;34m\u001b[0m\u001b[0;34m\u001b[0m\u001b[0m\n\u001b[0m\u001b[1;32m     59\u001b[0m \u001b[0;34m\u001b[0m\u001b[0m\n\u001b[1;32m     60\u001b[0m         \u001b[0mx\u001b[0m \u001b[0;34m=\u001b[0m \u001b[0mself\u001b[0m\u001b[0;34m.\u001b[0m\u001b[0moutput_layer\u001b[0m\u001b[0;34m(\u001b[0m\u001b[0mx\u001b[0m\u001b[0;34m)\u001b[0m  \u001b[0;31m# Output layer without activation for real value prediction\u001b[0m\u001b[0;34m\u001b[0m\u001b[0;34m\u001b[0m\u001b[0m\n",
      "\u001b[0;32m~/.local/lib/python3.10/site-packages/torch/nn/modules/module.py\u001b[0m in \u001b[0;36m_wrapped_call_impl\u001b[0;34m(self, *args, **kwargs)\u001b[0m\n\u001b[1;32m   1734\u001b[0m             \u001b[0;32mreturn\u001b[0m \u001b[0mself\u001b[0m\u001b[0;34m.\u001b[0m\u001b[0m_compiled_call_impl\u001b[0m\u001b[0;34m(\u001b[0m\u001b[0;34m*\u001b[0m\u001b[0margs\u001b[0m\u001b[0;34m,\u001b[0m \u001b[0;34m**\u001b[0m\u001b[0mkwargs\u001b[0m\u001b[0;34m)\u001b[0m  \u001b[0;31m# type: ignore[misc]\u001b[0m\u001b[0;34m\u001b[0m\u001b[0;34m\u001b[0m\u001b[0m\n\u001b[1;32m   1735\u001b[0m         \u001b[0;32melse\u001b[0m\u001b[0;34m:\u001b[0m\u001b[0;34m\u001b[0m\u001b[0;34m\u001b[0m\u001b[0m\n\u001b[0;32m-> 1736\u001b[0;31m             \u001b[0;32mreturn\u001b[0m \u001b[0mself\u001b[0m\u001b[0;34m.\u001b[0m\u001b[0m_call_impl\u001b[0m\u001b[0;34m(\u001b[0m\u001b[0;34m*\u001b[0m\u001b[0margs\u001b[0m\u001b[0;34m,\u001b[0m \u001b[0;34m**\u001b[0m\u001b[0mkwargs\u001b[0m\u001b[0;34m)\u001b[0m\u001b[0;34m\u001b[0m\u001b[0;34m\u001b[0m\u001b[0m\n\u001b[0m\u001b[1;32m   1737\u001b[0m \u001b[0;34m\u001b[0m\u001b[0m\n\u001b[1;32m   1738\u001b[0m     \u001b[0;31m# torchrec tests the code consistency with the following code\u001b[0m\u001b[0;34m\u001b[0m\u001b[0;34m\u001b[0m\u001b[0m\n",
      "\u001b[0;32m~/.local/lib/python3.10/site-packages/torch/nn/modules/module.py\u001b[0m in \u001b[0;36m_call_impl\u001b[0;34m(self, *args, **kwargs)\u001b[0m\n\u001b[1;32m   1842\u001b[0m \u001b[0;34m\u001b[0m\u001b[0m\n\u001b[1;32m   1843\u001b[0m         \u001b[0;32mtry\u001b[0m\u001b[0;34m:\u001b[0m\u001b[0;34m\u001b[0m\u001b[0;34m\u001b[0m\u001b[0m\n\u001b[0;32m-> 1844\u001b[0;31m             \u001b[0;32mreturn\u001b[0m \u001b[0minner\u001b[0m\u001b[0;34m(\u001b[0m\u001b[0;34m)\u001b[0m\u001b[0;34m\u001b[0m\u001b[0;34m\u001b[0m\u001b[0m\n\u001b[0m\u001b[1;32m   1845\u001b[0m         \u001b[0;32mexcept\u001b[0m \u001b[0mException\u001b[0m\u001b[0;34m:\u001b[0m\u001b[0;34m\u001b[0m\u001b[0;34m\u001b[0m\u001b[0m\n\u001b[1;32m   1846\u001b[0m             \u001b[0;31m# run always called hooks if they have not already been run\u001b[0m\u001b[0;34m\u001b[0m\u001b[0;34m\u001b[0m\u001b[0m\n",
      "\u001b[0;32m~/.local/lib/python3.10/site-packages/torch/nn/modules/module.py\u001b[0m in \u001b[0;36minner\u001b[0;34m()\u001b[0m\n\u001b[1;32m   1788\u001b[0m                 \u001b[0margs\u001b[0m \u001b[0;34m=\u001b[0m \u001b[0mbw_hook\u001b[0m\u001b[0;34m.\u001b[0m\u001b[0msetup_input_hook\u001b[0m\u001b[0;34m(\u001b[0m\u001b[0margs\u001b[0m\u001b[0;34m)\u001b[0m\u001b[0;34m\u001b[0m\u001b[0;34m\u001b[0m\u001b[0m\n\u001b[1;32m   1789\u001b[0m \u001b[0;34m\u001b[0m\u001b[0m\n\u001b[0;32m-> 1790\u001b[0;31m             \u001b[0mresult\u001b[0m \u001b[0;34m=\u001b[0m \u001b[0mforward_call\u001b[0m\u001b[0;34m(\u001b[0m\u001b[0;34m*\u001b[0m\u001b[0margs\u001b[0m\u001b[0;34m,\u001b[0m \u001b[0;34m**\u001b[0m\u001b[0mkwargs\u001b[0m\u001b[0;34m)\u001b[0m\u001b[0;34m\u001b[0m\u001b[0;34m\u001b[0m\u001b[0m\n\u001b[0m\u001b[1;32m   1791\u001b[0m             \u001b[0;32mif\u001b[0m \u001b[0m_global_forward_hooks\u001b[0m \u001b[0;32mor\u001b[0m \u001b[0mself\u001b[0m\u001b[0;34m.\u001b[0m\u001b[0m_forward_hooks\u001b[0m\u001b[0;34m:\u001b[0m\u001b[0;34m\u001b[0m\u001b[0;34m\u001b[0m\u001b[0m\n\u001b[1;32m   1792\u001b[0m                 for hook_id, hook in (\n",
      "\u001b[0;32m~/.local/lib/python3.10/site-packages/torch/nn/modules/linear.py\u001b[0m in \u001b[0;36mforward\u001b[0;34m(self, input)\u001b[0m\n\u001b[1;32m    123\u001b[0m \u001b[0;34m\u001b[0m\u001b[0m\n\u001b[1;32m    124\u001b[0m     \u001b[0;32mdef\u001b[0m \u001b[0mforward\u001b[0m\u001b[0;34m(\u001b[0m\u001b[0mself\u001b[0m\u001b[0;34m,\u001b[0m \u001b[0minput\u001b[0m\u001b[0;34m:\u001b[0m \u001b[0mTensor\u001b[0m\u001b[0;34m)\u001b[0m \u001b[0;34m->\u001b[0m \u001b[0mTensor\u001b[0m\u001b[0;34m:\u001b[0m\u001b[0;34m\u001b[0m\u001b[0;34m\u001b[0m\u001b[0m\n\u001b[0;32m--> 125\u001b[0;31m         \u001b[0;32mreturn\u001b[0m \u001b[0mF\u001b[0m\u001b[0;34m.\u001b[0m\u001b[0mlinear\u001b[0m\u001b[0;34m(\u001b[0m\u001b[0minput\u001b[0m\u001b[0;34m,\u001b[0m \u001b[0mself\u001b[0m\u001b[0;34m.\u001b[0m\u001b[0mweight\u001b[0m\u001b[0;34m,\u001b[0m \u001b[0mself\u001b[0m\u001b[0;34m.\u001b[0m\u001b[0mbias\u001b[0m\u001b[0;34m)\u001b[0m\u001b[0;34m\u001b[0m\u001b[0;34m\u001b[0m\u001b[0m\n\u001b[0m\u001b[1;32m    126\u001b[0m \u001b[0;34m\u001b[0m\u001b[0m\n\u001b[1;32m    127\u001b[0m     \u001b[0;32mdef\u001b[0m \u001b[0mextra_repr\u001b[0m\u001b[0;34m(\u001b[0m\u001b[0mself\u001b[0m\u001b[0;34m)\u001b[0m \u001b[0;34m->\u001b[0m \u001b[0mstr\u001b[0m\u001b[0;34m:\u001b[0m\u001b[0;34m\u001b[0m\u001b[0;34m\u001b[0m\u001b[0m\n",
      "\u001b[0;31mRuntimeError\u001b[0m: Expected all tensors to be on the same device, but found at least two devices, cuda:0 and cpu! (when checking argument for argument mat1 in method wrapper_CUDA_addmm)"
     ]
    }
   ],
   "source": [
    "latent_representations = {x:{k:{r:None for r in range(N_REPLICATES)} for k in range(SEQ_LEN)} for x in model_names}\n",
    "\n",
    "def get_latent_representation_hook(model_name, k_value, replicate_number):\n",
    "    def hook_fn(module, input, output):\n",
    "        latent_representations[model_name][k_value][replicate_number] = output\n",
    "    return hook_fn\n",
    "\n",
    "\n",
    "hooks = [[] for k_val in range(SEQ_LEN)]\n",
    "\n",
    "model_name = 'mlp' \n",
    "for k_val in range(SEQ_LEN): \n",
    "    for replicate in range(N_REPLICATES): \n",
    "        model = instantiated_models[model_name][k_val][replicate]\n",
    "        hook = model.fc_layers[-1].register_forward_hook(get_latent_representation_hook(model_name, k_val, replicate))\n",
    "        hooks[k_val].append(hook)\n",
    "\n",
    "for k_val in range(SEQ_LEN): \n",
    "\n",
    "    for replicate in range(N_REPLICATES):\n",
    "        in_data = landscapes_as_tensor[k_val][replicate]\n",
    "        print(in_data.shape)\n",
    "        model = instantiated_models[model_name][k_val][replicate]\n",
    "        _ = model(in_data)\n"
   ]
  },
  {
   "cell_type": "code",
   "execution_count": 77,
   "id": "599a72d9-3f24-4429-a353-05817b21e000",
   "metadata": {},
   "outputs": [],
   "source": [
    "landscapes_as_tensor = [[torch.from_numpy(i).to(torch.float32) for i in j[0]] for j in splits]\n",
    "flattened_landscapes = [[i.reshape(i.shape[0], i.shape[1]*i.shape[2]) for i in j[0]] for j in splits]"
   ]
  },
  {
   "cell_type": "code",
   "execution_count": 78,
   "id": "ff2afaa2-d471-4ce6-8176-a446f55ded58",
   "metadata": {},
   "outputs": [
    {
     "data": {
      "text/plain": [
       "torch.Size([46656, 6, 6])"
      ]
     },
     "execution_count": 78,
     "metadata": {},
     "output_type": "execute_result"
    }
   ],
   "source": [
    "landscapes_as_tensor[0][0].shape"
   ]
  },
  {
   "cell_type": "code",
   "execution_count": 79,
   "id": "ce65c306-8f46-4efd-b704-d305f911a2d9",
   "metadata": {},
   "outputs": [
    {
     "name": "stdout",
     "output_type": "stream",
     "text": [
      "torch.Size([46656, 6, 6])\n",
      "torch.Size([46656, 6, 6])\n",
      "torch.Size([46656, 6, 6])\n",
      "torch.Size([46656, 6, 6])\n",
      "torch.Size([46656, 6, 6])\n",
      "torch.Size([46656, 6, 6])\n"
     ]
    }
   ],
   "source": [
    "# Run forward pass for each model and capture latent representations\n",
    "for k_val in range(SEQ_LEN): \n",
    "\n",
    "    for replicate in range(N_REPLICATES):\n",
    "        in_data = landscapes_as_tensor[k_val][replicate]\n",
    "        print(in_data.shape)\n",
    "        model = instantiated_models[model_name][k_val][replicate]\n",
    "        _ = model(in_data).cpu().detach().numpy() \n"
   ]
  },
  {
   "cell_type": "code",
   "execution_count": 73,
   "id": "c37e6ca9-cd58-41c8-ac44-d36cfc9b9541",
   "metadata": {},
   "outputs": [],
   "source": [
    "degree=30"
   ]
  },
  {
   "cell_type": "code",
   "execution_count": 74,
   "id": "8471e59a-a707-4c8a-8cda-23cc806456d3",
   "metadata": {},
   "outputs": [],
   "source": []
  },
  {
   "cell_type": "code",
   "execution_count": 80,
   "id": "c885748b-5a6a-4cae-b081-eb865075a235",
   "metadata": {},
   "outputs": [
    {
     "data": {
      "text/plain": [
       "tensor([[0.5851],\n",
       "        [0.5791],\n",
       "        [0.5643],\n",
       "        ...,\n",
       "        [0.5685],\n",
       "        [0.6438],\n",
       "        [0.4562]], grad_fn=<AddmmBackward0>)"
      ]
     },
     "execution_count": 80,
     "metadata": {},
     "output_type": "execute_result"
    }
   ],
   "source": [
    "latent_representations['mlp'][0][0]"
   ]
  },
  {
   "cell_type": "code",
   "execution_count": 65,
   "id": "ea77a2de-bcee-4e93-804b-2107939923b0",
   "metadata": {},
   "outputs": [
    {
     "data": {
      "text/plain": [
       "[<Compressed Sparse Row sparse matrix of dtype 'float64'\n",
       " \twith 1399680 stored elements and shape (46656, 46656)>]"
      ]
     },
     "execution_count": 65,
     "metadata": {},
     "output_type": "execute_result"
    }
   ],
   "source": [
    "latent_rep_knn    = []\n",
    "model_name = 'mlp'\n",
    "for k_val in range(SEQ_LEN):\n",
    "    klist = []\n",
    "    for replicate in range(N_REPLICATES): \n",
    "        kneighbors_graph(latent_representations[model_name][k_val][replicate], n_ne)"
   ]
  },
  {
   "cell_type": "code",
   "execution_count": null,
   "id": "816a8cfb-2b6e-4e87-a6ee-2e918ba5cc5f",
   "metadata": {},
   "outputs": [],
   "source": []
  }
 ],
 "metadata": {
  "kernelspec": {
   "display_name": "Python 3 (ipykernel)",
   "language": "python",
   "name": "python3"
  },
  "language_info": {
   "codemirror_mode": {
    "name": "ipython",
    "version": 3
   },
   "file_extension": ".py",
   "mimetype": "text/x-python",
   "name": "python",
   "nbconvert_exporter": "python",
   "pygments_lexer": "ipython3",
   "version": "3.10.12"
  }
 },
 "nbformat": 4,
 "nbformat_minor": 5
}
