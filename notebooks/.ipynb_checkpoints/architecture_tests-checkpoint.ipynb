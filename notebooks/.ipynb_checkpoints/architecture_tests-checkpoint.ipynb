{
 "cells": [
  {
   "cell_type": "code",
   "execution_count": 1,
   "id": "83ab34f5",
   "metadata": {},
   "outputs": [],
   "source": [
    "import torch\n",
    "import torch.nn as nn\n",
    "import torch.optim as optim\n",
    "from torch.utils.data import DataLoader\n",
    "\n",
    "\n",
    "import sys \n",
    "sys.path.append('/home/mahakaran/NK-paper-12-5-24-version/nk-ml-paper2-2024/pscapes')\n",
    "sys.path.append('/home/mahakaran/NK-paper-12-5-24-version/nk-ml-paper2-2024/nk-ml-2024')\n",
    "\n",
    "\n",
    "import numpy as np\n",
    "import itertools\n",
    "from sklearn.utils import gen_batches\n",
    "\n",
    "from sklearn.metrics import mean_squared_error, r2_score\n",
    "\n",
    "import matplotlib.pyplot as plt\n",
    "\n",
    "from torch.utils.data import Subset\n",
    "\n",
    "from sklearn.model_selection import train_test_split\n",
    "from pscapes.landscape_models import make_NK\n",
    "from pscapes.landscape_class import Protein_Landscape\n",
    "from pscapes.utils import dict_to_np_array\n",
    "\n",
    "from src.architectures.architectures import SequenceRegressionLSTM\n",
    "#from src.architectures.ml_utils import train_model"
   ]
  },
  {
   "cell_type": "code",
   "execution_count": null,
   "id": "8fc91662",
   "metadata": {},
   "outputs": [],
   "source": []
  },
  {
   "cell_type": "code",
   "execution_count": 2,
   "id": "6717b100",
   "metadata": {},
   "outputs": [],
   "source": [
    "AA_ALPHABET = 'ACDEFG'\n",
    "SEQ_LENGTH  = 6\n",
    "K_VALS   = list(range(SEQ_LENGTH))"
   ]
  },
  {
   "cell_type": "code",
   "execution_count": 3,
   "id": "e7d63853",
   "metadata": {},
   "outputs": [],
   "source": [
    "NK_LANDSCAPES = [make_NK(SEQ_LENGTH, k, AA_ALPHABET, np.random.uniform) for k in K_VALS]"
   ]
  },
  {
   "cell_type": "code",
   "execution_count": 4,
   "id": "d0db97e6",
   "metadata": {},
   "outputs": [],
   "source": [
    "LANDSCAPES = [Protein_Landscape(data=dict_to_np_array(i), amino_acids=AA_ALPHABET) for i in NK_LANDSCAPES]"
   ]
  },
  {
   "cell_type": "code",
   "execution_count": 5,
   "id": "1c6efa2c",
   "metadata": {},
   "outputs": [],
   "source": [
    "%%capture\n",
    "\n",
    "#fit one hot\n",
    "[i.fit_OHE() for i in LANDSCAPES]"
   ]
  },
  {
   "cell_type": "code",
   "execution_count": 6,
   "id": "38cd1fe9",
   "metadata": {},
   "outputs": [
    {
     "data": {
      "text/plain": [
       "36"
      ]
     },
     "execution_count": 6,
     "metadata": {},
     "output_type": "execute_result"
    }
   ],
   "source": [
    "#MLP_params\n",
    "input_size = SEQ_LENGTH * len(AA_ALPHABET)  # Total input size after flattening\n",
    "input_size"
   ]
  },
  {
   "cell_type": "code",
   "execution_count": null,
   "id": "4a62fc21",
   "metadata": {},
   "outputs": [],
   "source": [
    "def train_val_test_split_ohe(landscapes, test_split=0.2, val_split=0.2): \n",
    "    \"\"\"Args: \n",
    "            landscapes (list): List of Protein_Landscape class objects\n",
    "            test_split (float [0,1]): proportion of total data used for testing\n",
    "            val_split (float [0,1]): proportion of train data used for validation\"\"\"\n",
    "    LANDSCAPES_OHE = [np.array(i.one_hot_encodings) for i in landscapes]\n",
    "    X_OHE = LANDSCAPES_OHE\n",
    "    Y_OHE = [i.fitnesses.reshape(-1,1).astype(float) for i in landscapes]\n",
    "    XY_OHE = [list(zip(torch.from_numpy(X_OHE[i]).to(torch.float32), torch.from_numpy(Y_OHE[i]).to(torch.float32))) for i in range(len(X_OHE))]\n",
    "    XY_OHE_TRAIN_TEST_SPLIT = [train_test_split(i, test_size=round(len(i)*test_split)) for i in XY_OHE]\n",
    "    \n",
    "    XY_TRAIN = [i[0] for i in XY_OHE_TRAIN_TEST_SPLIT]\n",
    "    XY_TEST  = [i[1] for i in XY_OHE_TRAIN_TEST_SPLIT]\n",
    "    XY_TRAIN_VAL_SPLIT = [train_test_split(i, test_size=round(len(i)*val_split)) for i in XY_TRAIN]\n",
    "    \n",
    "    XY_TRAINING = [i[0] for i in XY_TRAIN_VAL_SPLIT]\n",
    "    XY_VAL      = [i[1] for i in XY_TRAIN_VAL_SPLIT]\n",
    "    \n",
    "    return LANDSCAPES_OHE, XY_TRAINING, XY_VAL, XY_TEST\n",
    "    "
   ]
  },
  {
   "cell_type": "code",
   "execution_count": 8,
   "id": "0cc97571",
   "metadata": {},
   "outputs": [],
   "source": [
    "\n",
    "                           \n",
    "\n",
    "\n",
    "\n",
    "\n",
    "\n"
   ]
  },
  {
   "cell_type": "code",
   "execution_count": 9,
   "id": "9735e61f",
   "metadata": {},
   "outputs": [
    {
     "ename": "NameError",
     "evalue": "name 'BidirectionalLSTM' is not defined",
     "output_type": "error",
     "traceback": [
      "\u001b[0;31m---------------------------------------------------------------------------\u001b[0m",
      "\u001b[0;31mNameError\u001b[0m                                 Traceback (most recent call last)",
      "Cell \u001b[0;32mIn [9], line 2\u001b[0m\n\u001b[1;32m      1\u001b[0m \u001b[38;5;66;03m#instantiate models\u001b[39;00m\n\u001b[0;32m----> 2\u001b[0m models     \u001b[38;5;241m=\u001b[39m [SequenceRegressionLSTM(input_size\u001b[38;5;241m=\u001b[39m\u001b[38;5;28mlen\u001b[39m(AA_ALPHABET), bidirectional\u001b[38;5;241m=\u001b[39m\u001b[38;5;28;01mFalse\u001b[39;00m) \u001b[38;5;28;01mfor\u001b[39;00m i \u001b[38;5;129;01min\u001b[39;00m LANDSCAPES]\n\u001b[1;32m      3\u001b[0m loss_fns   \u001b[38;5;241m=\u001b[39m [nn\u001b[38;5;241m.\u001b[39mMSELoss() \u001b[38;5;28;01mfor\u001b[39;00m i \u001b[38;5;129;01min\u001b[39;00m models]\n\u001b[1;32m      4\u001b[0m optimizers \u001b[38;5;241m=\u001b[39m [optim\u001b[38;5;241m.\u001b[39mAdam(i\u001b[38;5;241m.\u001b[39mparameters(), lr\u001b[38;5;241m=\u001b[39m\u001b[38;5;241m0.001\u001b[39m) \u001b[38;5;28;01mfor\u001b[39;00m i \u001b[38;5;129;01min\u001b[39;00m models]\n",
      "Cell \u001b[0;32mIn [9], line 2\u001b[0m, in \u001b[0;36m<listcomp>\u001b[0;34m(.0)\u001b[0m\n\u001b[1;32m      1\u001b[0m \u001b[38;5;66;03m#instantiate models\u001b[39;00m\n\u001b[0;32m----> 2\u001b[0m models     \u001b[38;5;241m=\u001b[39m [\u001b[43mSequenceRegressionLSTM\u001b[49m\u001b[43m(\u001b[49m\u001b[43minput_size\u001b[49m\u001b[38;5;241;43m=\u001b[39;49m\u001b[38;5;28;43mlen\u001b[39;49m\u001b[43m(\u001b[49m\u001b[43mAA_ALPHABET\u001b[49m\u001b[43m)\u001b[49m\u001b[43m,\u001b[49m\u001b[43m \u001b[49m\u001b[43mbidirectional\u001b[49m\u001b[38;5;241;43m=\u001b[39;49m\u001b[38;5;28;43;01mFalse\u001b[39;49;00m\u001b[43m)\u001b[49m \u001b[38;5;28;01mfor\u001b[39;00m i \u001b[38;5;129;01min\u001b[39;00m LANDSCAPES]\n\u001b[1;32m      3\u001b[0m loss_fns   \u001b[38;5;241m=\u001b[39m [nn\u001b[38;5;241m.\u001b[39mMSELoss() \u001b[38;5;28;01mfor\u001b[39;00m i \u001b[38;5;129;01min\u001b[39;00m models]\n\u001b[1;32m      4\u001b[0m optimizers \u001b[38;5;241m=\u001b[39m [optim\u001b[38;5;241m.\u001b[39mAdam(i\u001b[38;5;241m.\u001b[39mparameters(), lr\u001b[38;5;241m=\u001b[39m\u001b[38;5;241m0.001\u001b[39m) \u001b[38;5;28;01mfor\u001b[39;00m i \u001b[38;5;129;01min\u001b[39;00m models]\n",
      "File \u001b[0;32m~/NK-paper-12-5-24-version/nk-ml-paper2-2024/nk-ml-2024/src/architectures/architectures.py:154\u001b[0m, in \u001b[0;36mSequenceRegressionLSTM.__init__\u001b[0;34m(self, input_size, hidden_size, num_layers, bidirectional)\u001b[0m\n\u001b[1;32m    146\u001b[0m \u001b[38;5;28;01mdef\u001b[39;00m \u001b[38;5;21m__init__\u001b[39m(\u001b[38;5;28mself\u001b[39m, input_size\u001b[38;5;241m=\u001b[39m\u001b[38;5;241m20\u001b[39m, hidden_size\u001b[38;5;241m=\u001b[39m\u001b[38;5;241m128\u001b[39m, num_layers\u001b[38;5;241m=\u001b[39m\u001b[38;5;241m2\u001b[39m, bidirectional\u001b[38;5;241m=\u001b[39m\u001b[38;5;28;01mTrue\u001b[39;00m):\n\u001b[1;32m    147\u001b[0m     \u001b[38;5;124;03m\"\"\"\u001b[39;00m\n\u001b[1;32m    148\u001b[0m \u001b[38;5;124;03m    Args:\u001b[39;00m\n\u001b[1;32m    149\u001b[0m \u001b[38;5;124;03m        input_size (int): Number of input features per time step (20 for one-hot encoded amino acids).\u001b[39;00m\n\u001b[0;32m   (...)\u001b[0m\n\u001b[1;32m    152\u001b[0m \u001b[38;5;124;03m        bidirectional (bool): If True, make the LSTM bidirectional.\u001b[39;00m\n\u001b[1;32m    153\u001b[0m \u001b[38;5;124;03m    \"\"\"\u001b[39;00m\n\u001b[0;32m--> 154\u001b[0m     \u001b[38;5;28msuper\u001b[39m(\u001b[43mBidirectionalLSTM\u001b[49m, \u001b[38;5;28mself\u001b[39m)\u001b[38;5;241m.\u001b[39m\u001b[38;5;21m__init__\u001b[39m()\n\u001b[1;32m    156\u001b[0m     \u001b[38;5;28mself\u001b[39m\u001b[38;5;241m.\u001b[39mhidden_size \u001b[38;5;241m=\u001b[39m hidden_size\n\u001b[1;32m    157\u001b[0m     \u001b[38;5;28mself\u001b[39m\u001b[38;5;241m.\u001b[39mnum_layers \u001b[38;5;241m=\u001b[39m num_layers\n",
      "\u001b[0;31mNameError\u001b[0m: name 'BidirectionalLSTM' is not defined"
     ]
    }
   ],
   "source": [
    "#instantiate models\n",
    "models     = [SequenceRegressionLSTM(input_size=len(AA_ALPHABET), bidirectional=False) for i in LANDSCAPES]\n",
    "loss_fns   = [nn.MSELoss() for i in models]\n",
    "optimizers = [optim.Adam(i.parameters(), lr=0.001) for i in models]"
   ]
  },
  {
   "cell_type": "code",
   "execution_count": null,
   "id": "4f82f2d4",
   "metadata": {},
   "outputs": [],
   "source": []
  }
 ],
 "metadata": {
  "kernelspec": {
   "display_name": "Python 3 (ipykernel)",
   "language": "python",
   "name": "python3"
  },
  "language_info": {
   "codemirror_mode": {
    "name": "ipython",
    "version": 3
   },
   "file_extension": ".py",
   "mimetype": "text/x-python",
   "name": "python",
   "nbconvert_exporter": "python",
   "pygments_lexer": "ipython3",
   "version": "3.10.12"
  }
 },
 "nbformat": 4,
 "nbformat_minor": 5
}
