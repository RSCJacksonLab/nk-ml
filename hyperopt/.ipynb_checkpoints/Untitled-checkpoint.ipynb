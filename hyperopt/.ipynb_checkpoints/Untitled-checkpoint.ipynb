{
 "cells": [
  {
   "cell_type": "code",
   "execution_count": 1,
   "id": "fa77dd0d",
   "metadata": {},
   "outputs": [
    {
     "name": "stderr",
     "output_type": "stream",
     "text": [
      "/home/ubuntu/.local/lib/python3.10/site-packages/tqdm/auto.py:21: TqdmWarning: IProgress not found. Please update jupyter and ipywidgets. See https://ipywidgets.readthedocs.io/en/stable/user_install.html\n",
      "  from .autonotebook import tqdm as notebook_tqdm\n"
     ]
    }
   ],
   "source": [
    "import optuna as opt\n",
    "import torch\n",
    "import torch.nn as nn\n",
    "import torch.optim as optim\n",
    "import numpy as np\n",
    "import pandas as pd\n",
    "\n",
    "import sys\n",
    "sys.path.append('/home/ubuntu/nk-paper-2024/pscapes')\n",
    "sys.path.append('/home/ubuntu/nk-paper-2024/nk-ml-2024')\n",
    "\n",
    "from torch.utils.data import DataLoader\n",
    "\n",
    "from pscapes.landscape_class import ProteinLandscape\n",
    "from pscapes.utils import dict_to_np_array, np_array_to_dict\n",
    "\n",
    "from src.architectures.architectures import SequenceRegressionCNN\n",
    "from src.architectures.ml_utils import train_val_test_split_ohe\n"
   ]
  },
  {
   "cell_type": "code",
   "execution_count": 2,
   "id": "998d085d",
   "metadata": {},
   "outputs": [],
   "source": [
    "SEQ_LEN = 6\n",
    "AA_ALPHABET = 'ACDEFG'"
   ]
  },
  {
   "cell_type": "code",
   "execution_count": 3,
   "id": "dde58c41",
   "metadata": {},
   "outputs": [],
   "source": [
    "#Load NK landscapes -- only a single replicate for hparam tuning \n",
    "\n",
    "LANDSCAPES = []\n",
    "for k in range(6): \n",
    "    for r in range(1): \n",
    "        landscape = ProteinLandscape(csv_path='../data/nk_landscapes/k{0}_r{1}.csv'.format(k,r), amino_acids=AA_ALPHABET)\n",
    "        LANDSCAPES.append(landscape)"
   ]
  },
  {
   "cell_type": "code",
   "execution_count": 4,
   "id": "b73fce74",
   "metadata": {},
   "outputs": [],
   "source": [
    "LANDSCAPES = [i.fit_OHE() for i in LANDSCAPES]"
   ]
  },
  {
   "cell_type": "code",
   "execution_count": 5,
   "id": "3256bfd2",
   "metadata": {},
   "outputs": [],
   "source": [
    "landscapes_ohe, xy_train, xy_val, xy_test, x_test, y_test = train_val_test_split_ohe(LANDSCAPES)"
   ]
  },
  {
   "cell_type": "code",
   "execution_count": 6,
   "id": "69980ad1",
   "metadata": {},
   "outputs": [
    {
     "data": {
      "text/plain": [
       "6"
      ]
     },
     "execution_count": 6,
     "metadata": {},
     "output_type": "execute_result"
    }
   ],
   "source": [
    "len(xy_train)"
   ]
  },
  {
   "cell_type": "code",
   "execution_count": 9,
   "id": "c559ee20-bc72-4e6c-ba04-a2a2e619dea1",
   "metadata": {},
   "outputs": [
    {
     "data": {
      "text/plain": [
       "True"
      ]
     },
     "execution_count": 9,
     "metadata": {},
     "output_type": "execute_result"
    }
   ],
   "source": [
    "torch.cuda.is_available()"
   ]
  },
  {
   "cell_type": "code",
   "execution_count": 7,
   "id": "407afe91",
   "metadata": {},
   "outputs": [],
   "source": [
    "landscape0_xy_train = xy_train[0]\n",
    "landscape0_xy_val   = xy_val[0]"
   ]
  },
  {
   "cell_type": "code",
   "execution_count": null,
   "id": "ad77c4f7-ebf8-4d75-a74c-0af5d78219f7",
   "metadata": {},
   "outputs": [],
   "source": []
  },
  {
   "cell_type": "code",
   "execution_count": 11,
   "id": "7d77ffdd",
   "metadata": {},
   "outputs": [],
   "source": [
    "def cnn_objective(trial, train_data, val_data, epochs):\n",
    "    # Define the search space\n",
    "    num_conv_layers = trial.suggest_int('num_conv_layers', 1, 2)\n",
    "    \n",
    "    num_kernels = [int(trial.suggest_discrete_uniform(\"n_kernels\", 16, 128, 16))\n",
    "                   for i in range(num_conv_layers)]  \n",
    "    \n",
    "    kernel_sizes = [int(trial.suggest_discrete_uniform(\"kernel_sizes\", 2, 6, 1))\n",
    "                   for i in range(num_conv_layers)]\n",
    "    \n",
    "    learning_rate = trial.suggest_loguniform('lr', 1e-4, 1e-2)\n",
    "\n",
    "    \n",
    "    # Initialize model with the trial’s hyperparameters\n",
    "    model = SequenceRegressionCNN(input_channels=len(AA_ALPHABET), sequence_length=SEQ_LEN, \n",
    "                                  num_conv_layers=num_conv_layers, n_kernels=num_kernels, kernel_sizes=kernel_sizes)\n",
    "    \n",
    "    # Loss and optimizer\n",
    "    loss_fn = nn.MSELoss()\n",
    "    optimizer = optim.Adam(model.parameters(), lr=learning_rate)\n",
    "\n",
    "    # Dummy training and validation data loaders\n",
    "    device = torch.device(\"cuda\" if torch.cuda.is_available() else \"cpu\")\n",
    "\n",
    "    train_loader = DataLoader(train_data, batch_size=32, shuffle=True)\n",
    "    val_loader = DataLoader(val_data, batch_size=32)\n",
    "\n",
    "    # Training loop with validation loss calculation\n",
    "    for epoch in range(epochs):\n",
    "\n",
    "\n",
    "        \n",
    "        model.to(device)\n",
    "        model.train()\n",
    "        for x_batch, y_batch in train_loader:\n",
    "\n",
    "            x_batch, y_batch = x_batch.to(device), y_batch.to(device)\n",
    "            optimizer.zero_grad()\n",
    "            predictions = model(x_batch)\n",
    "            loss = loss_fn(predictions, y_batch)\n",
    "            loss.backward()\n",
    "            optimizer.step()\n",
    "\n",
    "        # Calculate validation loss`\n",
    "        model.eval()\n",
    "        val_loss = 0\n",
    "        with torch.no_grad():\n",
    "            for x_batch, y_batch in val_loader:\n",
    "                x_batch, y_batch = x_batch.to(device), y_batch.to(device)\n",
    "                predictions = model(x_batch)\n",
    "                val_loss += loss_fn(predictions, y_batch).item()\n",
    "\n",
    "        val_loss /= len(val_loader)\n",
    "        \n",
    "        \n",
    "        trial.report(val_loss, epoch)\n",
    "        \n",
    "        if trial.should_prune():\n",
    "            raise opt.TrialPruned()\n",
    "    print('Best Val Loss this Trial: {}'.format(val_loss))\n",
    "        \n",
    "\n",
    "    return val_loss\n",
    "\n"
   ]
  },
  {
   "cell_type": "code",
   "execution_count": 13,
   "id": "742aefe8",
   "metadata": {
    "scrolled": true
   },
   "outputs": [
    {
     "name": "stderr",
     "output_type": "stream",
     "text": [
      "[I 2024-10-28 04:42:05,818] A new study created in memory with name: no-name-73255a2e-8b85-4f90-8b0e-62ee315dbfae\n",
      "/tmp/ipykernel_3136/1590275673.py:5: FutureWarning: suggest_discrete_uniform has been deprecated in v3.0.0. This feature will be removed in v6.0.0. See https://github.com/optuna/optuna/releases/tag/v3.0.0. Use suggest_float(..., step=...) instead.\n",
      "  num_kernels = [int(trial.suggest_discrete_uniform(\"n_kernels\", 16, 128, 16))\n",
      "/tmp/ipykernel_3136/1590275673.py:8: FutureWarning: suggest_discrete_uniform has been deprecated in v3.0.0. This feature will be removed in v6.0.0. See https://github.com/optuna/optuna/releases/tag/v3.0.0. Use suggest_float(..., step=...) instead.\n",
      "  kernel_sizes = [int(trial.suggest_discrete_uniform(\"kernel_sizes\", 2, 6, 1))\n",
      "/tmp/ipykernel_3136/1590275673.py:11: FutureWarning: suggest_loguniform has been deprecated in v3.0.0. This feature will be removed in v6.0.0. See https://github.com/optuna/optuna/releases/tag/v3.0.0. Use suggest_float(..., log=True) instead.\n",
      "  learning_rate = trial.suggest_loguniform('lr', 1e-4, 1e-2)\n"
     ]
    },
    {
     "name": "stdout",
     "output_type": "stream",
     "text": [
      "Epoch 0: Val loss: 0.0004062923783352837\n",
      "Epoch 1: Val loss: 0.0001568670438875695\n",
      "Epoch 2: Val loss: 9.887247971265524e-05\n",
      "Epoch 3: Val loss: 6.69103960212346e-05\n",
      "Epoch 4: Val loss: 4.064260847993647e-05\n",
      "Epoch 5: Val loss: 2.6260142146158738e-05\n",
      "Epoch 6: Val loss: 1.7147947847917796e-05\n",
      "Epoch 7: Val loss: 2.560530494644583e-05\n",
      "Epoch 8: Val loss: 1.7104947556407962e-05\n",
      "Epoch 9: Val loss: 5.073524214386787e-06\n",
      "Epoch 10: Val loss: 3.0419988452467028e-06\n",
      "Epoch 11: Val loss: 7.030750504440159e-06\n",
      "Epoch 12: Val loss: 3.343478362274674e-06\n",
      "Epoch 13: Val loss: 5.411465564944421e-06\n",
      "Epoch 14: Val loss: 4.503228077325738e-06\n",
      "Epoch 15: Val loss: 1.1321047148247353e-06\n",
      "Epoch 16: Val loss: 2.252933605189192e-06\n",
      "Epoch 17: Val loss: 1.591389655266959e-06\n",
      "Epoch 18: Val loss: 4.988469142447754e-06\n"
     ]
    },
    {
     "name": "stderr",
     "output_type": "stream",
     "text": [
      "[I 2024-10-28 04:42:33,664] Trial 0 finished with value: 4.712943569158488e-06 and parameters: {'num_conv_layers': 2, 'n_kernels': 16.0, 'kernel_sizes': 6.0, 'lr': 0.000609878584552462}. Best is trial 0 with value: 4.712943569158488e-06.\n"
     ]
    },
    {
     "name": "stdout",
     "output_type": "stream",
     "text": [
      "Epoch 19: Val loss: 4.712943569158488e-06\n",
      "Best Val Loss this Trial: 4.712943569158488e-06\n",
      "Epoch 0: Val loss: 9.4389467830118e-05\n",
      "Epoch 1: Val loss: 0.00014404635014496028\n",
      "Epoch 2: Val loss: 0.00014498693098696685\n",
      "Epoch 3: Val loss: 4.920927250735924e-05\n",
      "Epoch 4: Val loss: 8.248864581289057e-05\n",
      "Epoch 5: Val loss: 4.717220397449435e-05\n",
      "Epoch 6: Val loss: 0.00033738044822891045\n",
      "Epoch 7: Val loss: 7.783678636334451e-05\n",
      "Epoch 8: Val loss: 8.655140878452071e-05\n",
      "Epoch 9: Val loss: 3.0934252208680846e-05\n",
      "Epoch 10: Val loss: 1.753923707064653e-06\n",
      "Epoch 11: Val loss: 5.712349988220339e-06\n",
      "Epoch 12: Val loss: 2.332509840719926e-06\n",
      "Epoch 13: Val loss: 6.308363810766866e-06\n",
      "Epoch 14: Val loss: 3.970139284949535e-05\n",
      "Epoch 15: Val loss: 3.724346393766578e-05\n",
      "Epoch 16: Val loss: 6.709789501585944e-06\n",
      "Epoch 17: Val loss: 6.911072622036348e-06\n",
      "Epoch 18: Val loss: 2.7425889689206647e-06\n"
     ]
    },
    {
     "name": "stderr",
     "output_type": "stream",
     "text": [
      "[I 2024-10-28 04:43:02,776] Trial 1 finished with value: 7.179713780767718e-07 and parameters: {'num_conv_layers': 2, 'n_kernels': 96.0, 'kernel_sizes': 6.0, 'lr': 0.008711526545316296}. Best is trial 1 with value: 7.179713780767718e-07.\n"
     ]
    },
    {
     "name": "stdout",
     "output_type": "stream",
     "text": [
      "Epoch 19: Val loss: 7.179713780767718e-07\n",
      "Best Val Loss this Trial: 7.179713780767718e-07\n",
      "Epoch 0: Val loss: 0.004515028595486577\n",
      "Epoch 1: Val loss: 0.0011594316245028828\n",
      "Epoch 2: Val loss: 0.0005027224610357657\n",
      "Epoch 3: Val loss: 0.0003105560570739361\n",
      "Epoch 4: Val loss: 0.00021085001186355273\n",
      "Epoch 5: Val loss: 0.00014929335840985688\n",
      "Epoch 6: Val loss: 0.00010690235870001782\n",
      "Epoch 7: Val loss: 8.45213724724634e-05\n",
      "Epoch 8: Val loss: 7.268665884220952e-05\n",
      "Epoch 9: Val loss: 5.3361308898127034e-05\n",
      "Epoch 10: Val loss: 4.3289130228672584e-05\n",
      "Epoch 11: Val loss: 3.686616273081845e-05\n",
      "Epoch 12: Val loss: 2.8385280451884606e-05\n",
      "Epoch 13: Val loss: 2.3478830643530546e-05\n",
      "Epoch 14: Val loss: 1.9111083640040244e-05\n",
      "Epoch 15: Val loss: 1.68144280350033e-05\n",
      "Epoch 16: Val loss: 1.3393474851427605e-05\n",
      "Epoch 17: Val loss: 1.5118379433960608e-05\n",
      "Epoch 18: Val loss: 9.58641756284108e-06\n"
     ]
    },
    {
     "name": "stderr",
     "output_type": "stream",
     "text": [
      "[I 2024-10-28 04:43:25,728] Trial 2 finished with value: 8.758070809842768e-06 and parameters: {'num_conv_layers': 1, 'n_kernels': 32.0, 'kernel_sizes': 5.0, 'lr': 0.00025747828344006586}. Best is trial 1 with value: 7.179713780767718e-07.\n"
     ]
    },
    {
     "name": "stdout",
     "output_type": "stream",
     "text": [
      "Epoch 19: Val loss: 8.758070809842768e-06\n",
      "Best Val Loss this Trial: 8.758070809842768e-06\n",
      "Epoch 0: Val loss: 0.00046465803424302395\n",
      "Epoch 1: Val loss: 0.00019318920444636446\n",
      "Epoch 2: Val loss: 0.00012998436205113967\n",
      "Epoch 3: Val loss: 7.595041538129757e-05\n",
      "Epoch 4: Val loss: 5.183778986011176e-05\n",
      "Epoch 5: Val loss: 5.4972188617960994e-05\n",
      "Epoch 6: Val loss: 3.563177948603685e-05\n",
      "Epoch 7: Val loss: 2.4104214475316527e-05\n",
      "Epoch 8: Val loss: 3.133514112175137e-05\n",
      "Epoch 9: Val loss: 1.2405258412089206e-05\n",
      "Epoch 10: Val loss: 1.5599356670347148e-05\n",
      "Epoch 11: Val loss: 7.70327888318191e-06\n",
      "Epoch 12: Val loss: 8.554191031491318e-06\n",
      "Epoch 13: Val loss: 4.9796774438953e-06\n",
      "Epoch 14: Val loss: 2.014342391750035e-05\n",
      "Epoch 15: Val loss: 8.20249595224782e-06\n",
      "Epoch 16: Val loss: 1.0804870024578557e-05\n",
      "Epoch 17: Val loss: 9.671832816059026e-06\n",
      "Epoch 18: Val loss: 3.701711915531104e-06\n"
     ]
    },
    {
     "name": "stderr",
     "output_type": "stream",
     "text": [
      "[I 2024-10-28 04:43:48,872] Trial 3 finished with value: 1.8009691547586743e-05 and parameters: {'num_conv_layers': 1, 'n_kernels': 80.0, 'kernel_sizes': 4.0, 'lr': 0.00060844676056581}. Best is trial 1 with value: 7.179713780767718e-07.\n"
     ]
    },
    {
     "name": "stdout",
     "output_type": "stream",
     "text": [
      "Epoch 19: Val loss: 1.8009691547586743e-05\n",
      "Best Val Loss this Trial: 1.8009691547586743e-05\n",
      "Epoch 0: Val loss: 0.0024627274555018824\n",
      "Epoch 1: Val loss: 0.0006160036345190591\n",
      "Epoch 2: Val loss: 0.0003008247137594069\n",
      "Epoch 3: Val loss: 0.00021495446680301728\n",
      "Epoch 4: Val loss: 0.00013640333405714761\n",
      "Epoch 5: Val loss: 0.00010213032308254494\n",
      "Epoch 6: Val loss: 7.733382668277014e-05\n",
      "Epoch 7: Val loss: 5.9833738017696924e-05\n",
      "Epoch 8: Val loss: 8.015133449262999e-05\n",
      "Epoch 9: Val loss: 4.083525940446774e-05\n",
      "Epoch 10: Val loss: 3.90010398669436e-05\n",
      "Epoch 11: Val loss: 2.8647466937648918e-05\n",
      "Epoch 12: Val loss: 2.4943093758027426e-05\n",
      "Epoch 13: Val loss: 2.5640911150971948e-05\n",
      "Epoch 14: Val loss: 2.2463550176015015e-05\n",
      "Epoch 15: Val loss: 2.0299571557017738e-05\n",
      "Epoch 16: Val loss: 1.628566671072796e-05\n",
      "Epoch 17: Val loss: 1.8956593906365855e-05\n",
      "Epoch 18: Val loss: 1.2402229623716204e-05\n"
     ]
    },
    {
     "name": "stderr",
     "output_type": "stream",
     "text": [
      "[I 2024-10-28 04:44:16,793] Trial 4 finished with value: 1.3631341188455634e-05 and parameters: {'num_conv_layers': 2, 'n_kernels': 32.0, 'kernel_sizes': 5.0, 'lr': 0.00019091748076308145}. Best is trial 1 with value: 7.179713780767718e-07.\n"
     ]
    },
    {
     "name": "stdout",
     "output_type": "stream",
     "text": [
      "Epoch 19: Val loss: 1.3631341188455634e-05\n",
      "Best Val Loss this Trial: 1.3631341188455634e-05\n",
      "Epoch 0: Val loss: 0.0002485261522964813\n",
      "Epoch 1: Val loss: 0.00011148400671327881\n",
      "Epoch 2: Val loss: 9.23682389403773e-05\n",
      "Epoch 3: Val loss: 5.0646930153911504e-05\n",
      "Epoch 4: Val loss: 5.9231149885491526e-05\n",
      "Epoch 5: Val loss: 4.2228691720674374e-05\n",
      "Epoch 6: Val loss: 5.5497694058089044e-05\n",
      "Epoch 7: Val loss: 7.318146506602514e-05\n",
      "Epoch 8: Val loss: 8.828987474538363e-05\n"
     ]
    },
    {
     "name": "stderr",
     "output_type": "stream",
     "text": [
      "[I 2024-10-28 04:44:28,361] Trial 5 pruned. \n"
     ]
    },
    {
     "name": "stdout",
     "output_type": "stream",
     "text": [
      "Epoch 9: Val loss: 4.321641763531689e-05\n"
     ]
    },
    {
     "name": "stderr",
     "output_type": "stream",
     "text": [
      "[I 2024-10-28 04:44:29,880] Trial 6 pruned. \n"
     ]
    },
    {
     "name": "stdout",
     "output_type": "stream",
     "text": [
      "Epoch 0: Val loss: 0.0007149805459114285\n"
     ]
    },
    {
     "name": "stderr",
     "output_type": "stream",
     "text": [
      "[I 2024-10-28 04:44:31,034] Trial 7 pruned. \n"
     ]
    },
    {
     "name": "stdout",
     "output_type": "stream",
     "text": [
      "Epoch 0: Val loss: 0.006873653280254231\n",
      "Epoch 0: Val loss: 0.0002734323089288619\n",
      "Epoch 1: Val loss: 9.733145925254685e-05\n",
      "Epoch 2: Val loss: 5.24206271333024e-05\n",
      "Epoch 3: Val loss: 3.900188346603352e-05\n",
      "Epoch 4: Val loss: 1.983229600989586e-05\n",
      "Epoch 5: Val loss: 1.3531376845661664e-05\n",
      "Epoch 6: Val loss: 7.881629147975304e-05\n",
      "Epoch 7: Val loss: 2.4433008318613473e-05\n",
      "Epoch 8: Val loss: 1.0564956900818024e-05\n",
      "Epoch 9: Val loss: 1.516167911830006e-05\n",
      "Epoch 10: Val loss: 2.0326489650162533e-05\n",
      "Epoch 11: Val loss: 5.992087018508506e-06\n",
      "Epoch 12: Val loss: 1.4824494496484771e-05\n",
      "Epoch 13: Val loss: 5.799801060791838e-06\n",
      "Epoch 14: Val loss: 1.3680982740483252e-05\n",
      "Epoch 15: Val loss: 2.4145880036710754e-05\n",
      "Epoch 16: Val loss: 4.915991343505783e-06\n",
      "Epoch 17: Val loss: 6.2653270491025e-06\n",
      "Epoch 18: Val loss: 8.37372961455897e-06\n"
     ]
    },
    {
     "name": "stderr",
     "output_type": "stream",
     "text": [
      "[I 2024-10-28 04:44:54,654] Trial 8 finished with value: 1.246521443275784e-05 and parameters: {'num_conv_layers': 1, 'n_kernels': 128.0, 'kernel_sizes': 3.0, 'lr': 0.0005332415876708946}. Best is trial 1 with value: 7.179713780767718e-07.\n"
     ]
    },
    {
     "name": "stdout",
     "output_type": "stream",
     "text": [
      "Epoch 19: Val loss: 1.246521443275784e-05\n",
      "Best Val Loss this Trial: 1.246521443275784e-05\n",
      "Epoch 0: Val loss: 0.0003503509248038714\n",
      "Epoch 1: Val loss: 0.00011822665690752363\n",
      "Epoch 2: Val loss: 9.399532741826211e-05\n",
      "Epoch 3: Val loss: 5.761035347074314e-05\n",
      "Epoch 4: Val loss: 3.827365122934004e-05\n",
      "Epoch 5: Val loss: 2.7559674956728097e-05\n",
      "Epoch 6: Val loss: 5.237034987751544e-05\n",
      "Epoch 7: Val loss: 6.806160862240184e-05\n",
      "Epoch 8: Val loss: 6.358718195008254e-05\n",
      "Epoch 9: Val loss: 1.5851767965357747e-05\n",
      "Epoch 10: Val loss: 1.6190847554364744e-05\n"
     ]
    },
    {
     "name": "stderr",
     "output_type": "stream",
     "text": [
      "[I 2024-10-28 04:45:11,792] Trial 9 pruned. \n"
     ]
    },
    {
     "name": "stdout",
     "output_type": "stream",
     "text": [
      "Epoch 11: Val loss: 1.3380080472260543e-05\n",
      "Epoch 0: Val loss: 0.00016614846779112148\n",
      "Epoch 1: Val loss: 0.00011127412464205001\n",
      "Epoch 2: Val loss: 0.0001636719971740495\n"
     ]
    },
    {
     "name": "stderr",
     "output_type": "stream",
     "text": [
      "[I 2024-10-28 04:45:17,423] Trial 10 pruned. \n"
     ]
    },
    {
     "name": "stdout",
     "output_type": "stream",
     "text": [
      "Epoch 3: Val loss: 0.0008856769958132894\n",
      "Epoch 0: Val loss: 0.00011726919763174772\n",
      "Epoch 1: Val loss: 0.00031246113542140997\n",
      "Epoch 2: Val loss: 0.0001935527275819391\n",
      "Epoch 3: Val loss: 3.8108925204701685e-05\n",
      "Epoch 4: Val loss: 4.051494176028661e-05\n",
      "Epoch 5: Val loss: 3.62822232472175e-05\n",
      "Epoch 6: Val loss: 3.521366044459193e-05\n",
      "Epoch 7: Val loss: 2.9949458279526538e-05\n",
      "Epoch 8: Val loss: 4.233693133810292e-05\n"
     ]
    },
    {
     "name": "stderr",
     "output_type": "stream",
     "text": [
      "[I 2024-10-28 04:45:31,368] Trial 11 pruned. \n"
     ]
    },
    {
     "name": "stdout",
     "output_type": "stream",
     "text": [
      "Epoch 9: Val loss: 4.277035913040362e-05\n",
      "Epoch 0: Val loss: 0.00014837671545285406\n",
      "Epoch 1: Val loss: 6.499805331414737e-05\n",
      "Epoch 2: Val loss: 0.00014322170361868528\n",
      "Epoch 3: Val loss: 6.676872379833566e-05\n",
      "Epoch 4: Val loss: 9.305474648297402e-05\n"
     ]
    },
    {
     "name": "stderr",
     "output_type": "stream",
     "text": [
      "[I 2024-10-28 04:45:40,109] Trial 12 pruned. \n"
     ]
    },
    {
     "name": "stdout",
     "output_type": "stream",
     "text": [
      "Epoch 5: Val loss: 0.00017215254653516845\n"
     ]
    },
    {
     "name": "stderr",
     "output_type": "stream",
     "text": [
      "[I 2024-10-28 04:45:41,644] Trial 13 pruned. \n"
     ]
    },
    {
     "name": "stdout",
     "output_type": "stream",
     "text": [
      "Epoch 0: Val loss: 0.0006815588610937309\n"
     ]
    },
    {
     "name": "stderr",
     "output_type": "stream",
     "text": [
      "[I 2024-10-28 04:45:43,095] Trial 14 pruned. \n"
     ]
    },
    {
     "name": "stdout",
     "output_type": "stream",
     "text": [
      "Epoch 0: Val loss: 0.0007482790847111923\n",
      "Epoch 0: Val loss: 8.007340317203476e-05\n",
      "Epoch 1: Val loss: 7.756284766300168e-05\n",
      "Epoch 2: Val loss: 7.037450456516678e-05\n",
      "Epoch 3: Val loss: 0.00015818995576472278\n",
      "Epoch 4: Val loss: 6.392035514640405e-05\n"
     ]
    },
    {
     "name": "stderr",
     "output_type": "stream",
     "text": [
      "[I 2024-10-28 04:45:51,862] Trial 15 pruned. \n"
     ]
    },
    {
     "name": "stdout",
     "output_type": "stream",
     "text": [
      "Epoch 5: Val loss: 0.0001236713609785542\n",
      "Epoch 0: Val loss: 0.00014729842128623655\n",
      "Epoch 1: Val loss: 0.00016951110763360874\n",
      "Epoch 2: Val loss: 5.573386812864198e-05\n",
      "Epoch 3: Val loss: 4.4892034091965324e-05\n",
      "Epoch 4: Val loss: 5.7333704087516075e-05\n",
      "Epoch 5: Val loss: 2.3731217187847724e-05\n",
      "Epoch 6: Val loss: 6.866908858457588e-05\n",
      "Epoch 7: Val loss: 1.840564312097297e-05\n",
      "Epoch 8: Val loss: 1.8604817998695784e-05\n",
      "Epoch 9: Val loss: 0.00014330312982425452\n"
     ]
    },
    {
     "name": "stderr",
     "output_type": "stream",
     "text": [
      "[I 2024-10-28 04:46:08,156] Trial 16 pruned. \n"
     ]
    },
    {
     "name": "stdout",
     "output_type": "stream",
     "text": [
      "Epoch 10: Val loss: 2.6922603192982715e-05\n"
     ]
    },
    {
     "name": "stderr",
     "output_type": "stream",
     "text": [
      "[I 2024-10-28 04:46:09,625] Trial 17 pruned. \n"
     ]
    },
    {
     "name": "stdout",
     "output_type": "stream",
     "text": [
      "Epoch 0: Val loss: 0.0004948949469671322\n"
     ]
    },
    {
     "name": "stderr",
     "output_type": "stream",
     "text": [
      "[I 2024-10-28 04:46:11,176] Trial 18 pruned. \n"
     ]
    },
    {
     "name": "stdout",
     "output_type": "stream",
     "text": [
      "Epoch 0: Val loss: 0.0005923047517257162\n",
      "Epoch 0: Val loss: 0.00010102703794488747\n",
      "Epoch 1: Val loss: 0.00014526032055461974\n",
      "Epoch 2: Val loss: 8.83484837344378e-05\n",
      "Epoch 3: Val loss: 3.3345805173340545e-05\n",
      "Epoch 4: Val loss: 0.00015024462130600307\n",
      "Epoch 5: Val loss: 7.499927313700836e-05\n",
      "Epoch 6: Val loss: 4.9795308900956246e-05\n",
      "Epoch 7: Val loss: 0.00019111425683507297\n",
      "Epoch 8: Val loss: 1.435045502171889e-05\n",
      "Epoch 9: Val loss: 6.809146323296143e-06\n",
      "Epoch 10: Val loss: 3.1155083155599873e-06\n",
      "Epoch 11: Val loss: 9.389742456569831e-06\n",
      "Epoch 12: Val loss: 1.1647156803037511e-05\n",
      "Epoch 13: Val loss: 1.2271997944873533e-06\n",
      "Epoch 14: Val loss: 3.265248033636049e-06\n",
      "Epoch 15: Val loss: 3.433263983916852e-07\n",
      "Epoch 16: Val loss: 1.1391976191399042e-06\n",
      "Epoch 17: Val loss: 4.220638278683641e-07\n",
      "Epoch 18: Val loss: 1.813100943683693e-07\n"
     ]
    },
    {
     "name": "stderr",
     "output_type": "stream",
     "text": [
      "[I 2024-10-28 04:46:41,092] Trial 19 finished with value: 8.287975960079593e-07 and parameters: {'num_conv_layers': 2, 'n_kernels': 48.0, 'kernel_sizes': 6.0, 'lr': 0.008584394843404279}. Best is trial 1 with value: 7.179713780767718e-07.\n"
     ]
    },
    {
     "name": "stdout",
     "output_type": "stream",
     "text": [
      "Epoch 19: Val loss: 8.287975960079593e-07\n",
      "Best Val Loss this Trial: 8.287975960079593e-07\n",
      "Epoch 0: Val loss: 0.00021836145245669107\n"
     ]
    },
    {
     "name": "stderr",
     "output_type": "stream",
     "text": [
      "[I 2024-10-28 04:46:43,554] Trial 20 pruned. \n"
     ]
    },
    {
     "name": "stdout",
     "output_type": "stream",
     "text": [
      "Epoch 1: Val loss: 0.00020537015625761234\n",
      "Epoch 0: Val loss: 9.06328616079747e-05\n",
      "Epoch 1: Val loss: 0.00018932023882899736\n",
      "Epoch 2: Val loss: 8.217765495136807e-05\n"
     ]
    },
    {
     "name": "stderr",
     "output_type": "stream",
     "text": [
      "[I 2024-10-28 04:46:49,466] Trial 21 pruned. \n"
     ]
    },
    {
     "name": "stdout",
     "output_type": "stream",
     "text": [
      "Epoch 3: Val loss: 0.0005927923708581007\n",
      "Epoch 0: Val loss: 0.00011629913303924975\n",
      "Epoch 1: Val loss: 2.5733114732721668e-05\n",
      "Epoch 2: Val loss: 2.1216596272478277e-05\n",
      "Epoch 3: Val loss: 7.431423984645591e-05\n",
      "Epoch 4: Val loss: 5.883552612081426e-06\n",
      "Epoch 5: Val loss: 2.6549195719516683e-05\n",
      "Epoch 6: Val loss: 5.07100309021506e-06\n",
      "Epoch 7: Val loss: 1.617403161434727e-06\n",
      "Epoch 8: Val loss: 7.378024516334786e-06\n",
      "Epoch 9: Val loss: 6.146254549109557e-06\n",
      "Epoch 10: Val loss: 1.0861739097797396e-05\n",
      "Epoch 11: Val loss: 4.656248754930173e-05\n",
      "Epoch 12: Val loss: 3.614013153349092e-06\n",
      "Epoch 13: Val loss: 5.662846298487899e-06\n",
      "Epoch 14: Val loss: 2.7588010384650446e-05\n",
      "Epoch 15: Val loss: 2.3142929246834963e-05\n",
      "Epoch 16: Val loss: 1.5362996421078847e-06\n",
      "Epoch 17: Val loss: 1.1546786330048539e-05\n",
      "Epoch 18: Val loss: 1.5674925248082513e-06\n"
     ]
    },
    {
     "name": "stderr",
     "output_type": "stream",
     "text": [
      "[I 2024-10-28 04:47:18,065] Trial 22 finished with value: 2.5557956255825124e-05 and parameters: {'num_conv_layers': 2, 'n_kernels': 16.0, 'kernel_sizes': 6.0, 'lr': 0.004733997884235602}. Best is trial 1 with value: 7.179713780767718e-07.\n"
     ]
    },
    {
     "name": "stdout",
     "output_type": "stream",
     "text": [
      "Epoch 19: Val loss: 2.5557956255825124e-05\n",
      "Best Val Loss this Trial: 2.5557956255825124e-05\n",
      "Epoch 0: Val loss: 0.00014477200816961555\n",
      "Epoch 1: Val loss: 0.0001270088057656092\n",
      "Epoch 2: Val loss: 7.462385070135092e-05\n"
     ]
    },
    {
     "name": "stderr",
     "output_type": "stream",
     "text": [
      "[I 2024-10-28 04:47:24,019] Trial 23 pruned. \n"
     ]
    },
    {
     "name": "stdout",
     "output_type": "stream",
     "text": [
      "Epoch 3: Val loss: 8.463800307246359e-05\n",
      "Epoch 0: Val loss: 0.00031817257745115837\n"
     ]
    },
    {
     "name": "stderr",
     "output_type": "stream",
     "text": [
      "[I 2024-10-28 04:47:26,982] Trial 24 pruned. \n"
     ]
    },
    {
     "name": "stdout",
     "output_type": "stream",
     "text": [
      "Epoch 1: Val loss: 0.0007364004803124942\n",
      "Epoch 0: Val loss: 0.00020150739227473322\n",
      "Epoch 1: Val loss: 8.185431120843074e-05\n",
      "Epoch 2: Val loss: 0.00019525645969139063\n"
     ]
    },
    {
     "name": "stderr",
     "output_type": "stream",
     "text": [
      "[I 2024-10-28 04:47:32,862] Trial 25 pruned. \n"
     ]
    },
    {
     "name": "stdout",
     "output_type": "stream",
     "text": [
      "Epoch 3: Val loss: 0.0002893218837164016\n",
      "Epoch 0: Val loss: 0.00019940867961352516\n"
     ]
    },
    {
     "name": "stderr",
     "output_type": "stream",
     "text": [
      "[I 2024-10-28 04:47:35,863] Trial 26 pruned. \n"
     ]
    },
    {
     "name": "stdout",
     "output_type": "stream",
     "text": [
      "Epoch 1: Val loss: 0.00017823750752921845\n",
      "Epoch 0: Val loss: 0.00019542374807354223\n",
      "Epoch 1: Val loss: 9.047458151432002e-05\n",
      "Epoch 2: Val loss: 4.838358317933425e-05\n",
      "Epoch 3: Val loss: 3.921375650278582e-05\n",
      "Epoch 4: Val loss: 5.853156904839467e-05\n",
      "Epoch 5: Val loss: 2.4711297563541855e-05\n",
      "Epoch 6: Val loss: 1.9595923898814985e-05\n",
      "Epoch 7: Val loss: 6.828984093080468e-05\n",
      "Epoch 8: Val loss: 3.804667051779564e-05\n"
     ]
    },
    {
     "name": "stderr",
     "output_type": "stream",
     "text": [
      "[I 2024-10-28 04:47:50,405] Trial 27 pruned. \n"
     ]
    },
    {
     "name": "stdout",
     "output_type": "stream",
     "text": [
      "Epoch 9: Val loss: 2.016742823837135e-05\n",
      "Epoch 0: Val loss: 0.00011558811815913755\n",
      "Epoch 1: Val loss: 5.488268327767439e-05\n",
      "Epoch 2: Val loss: 1.9239022354963516e-05\n",
      "Epoch 3: Val loss: 2.4463032359485194e-05\n",
      "Epoch 4: Val loss: 0.00011478792191318904\n",
      "Epoch 5: Val loss: 4.7385822397653755e-05\n",
      "Epoch 6: Val loss: 1.3823039955598835e-05\n",
      "Epoch 7: Val loss: 1.0234066728591068e-05\n",
      "Epoch 8: Val loss: 1.0806849145293922e-05\n",
      "Epoch 9: Val loss: 4.738175793579266e-05\n",
      "Epoch 10: Val loss: 6.4499662697864206e-06\n",
      "Epoch 11: Val loss: 3.7069599409375623e-06\n",
      "Epoch 12: Val loss: 3.23270013039167e-06\n",
      "Epoch 13: Val loss: 3.7406168281900796e-06\n",
      "Epoch 14: Val loss: 9.49889261811712e-07\n",
      "Epoch 15: Val loss: 3.110399118932581e-05\n",
      "Epoch 16: Val loss: 5.934811110624946e-06\n",
      "Epoch 17: Val loss: 4.179986752625644e-06\n",
      "Epoch 18: Val loss: 5.5047466520801e-06\n"
     ]
    },
    {
     "name": "stderr",
     "output_type": "stream",
     "text": [
      "[I 2024-10-28 04:48:18,681] Trial 28 finished with value: 4.417531968062817e-06 and parameters: {'num_conv_layers': 2, 'n_kernels': 16.0, 'kernel_sizes': 6.0, 'lr': 0.004131650328739842}. Best is trial 1 with value: 7.179713780767718e-07.\n"
     ]
    },
    {
     "name": "stdout",
     "output_type": "stream",
     "text": [
      "Epoch 19: Val loss: 4.417531968062817e-06\n",
      "Best Val Loss this Trial: 4.417531968062817e-06\n",
      "Epoch 0: Val loss: 6.770557114127108e-05\n",
      "Epoch 1: Val loss: 5.960093035238783e-05\n",
      "Epoch 2: Val loss: 0.00017618527331212375\n",
      "Epoch 3: Val loss: 6.629910995588244e-05\n",
      "Epoch 4: Val loss: 6.599931257602666e-06\n",
      "Epoch 5: Val loss: 2.7372186794418358e-05\n",
      "Epoch 6: Val loss: 2.4062502817310488e-05\n",
      "Epoch 7: Val loss: 9.15702445033672e-06\n",
      "Epoch 8: Val loss: 7.539055119024821e-05\n",
      "Epoch 9: Val loss: 5.851552629353222e-06\n",
      "Epoch 10: Val loss: 3.522223604292784e-05\n",
      "Epoch 11: Val loss: 3.773206411749878e-06\n",
      "Epoch 12: Val loss: 3.230645237884805e-06\n",
      "Epoch 13: Val loss: 3.016823974572368e-06\n",
      "Epoch 14: Val loss: 1.95969317127119e-06\n",
      "Epoch 15: Val loss: 1.13251032650573e-06\n",
      "Epoch 16: Val loss: 1.0476242329250686e-05\n",
      "Epoch 17: Val loss: 3.463938999447369e-06\n",
      "Epoch 18: Val loss: 3.091156041692658e-05\n"
     ]
    },
    {
     "name": "stderr",
     "output_type": "stream",
     "text": [
      "[I 2024-10-28 04:48:46,746] Trial 29 finished with value: 3.48095592428755e-05 and parameters: {'num_conv_layers': 2, 'n_kernels': 16.0, 'kernel_sizes': 6.0, 'lr': 0.007779731686129265}. Best is trial 1 with value: 7.179713780767718e-07.\n"
     ]
    },
    {
     "name": "stdout",
     "output_type": "stream",
     "text": [
      "Epoch 19: Val loss: 3.48095592428755e-05\n",
      "Best Val Loss this Trial: 3.48095592428755e-05\n"
     ]
    },
    {
     "name": "stderr",
     "output_type": "stream",
     "text": [
      "[I 2024-10-28 04:48:48,316] Trial 30 pruned. \n"
     ]
    },
    {
     "name": "stdout",
     "output_type": "stream",
     "text": [
      "Epoch 0: Val loss: 0.00022409128655259631\n",
      "Epoch 0: Val loss: 0.00015099188749445602\n",
      "Epoch 1: Val loss: 8.553252065080142e-05\n",
      "Epoch 2: Val loss: 3.51174259356832e-05\n",
      "Epoch 3: Val loss: 0.00011783852917291463\n",
      "Epoch 4: Val loss: 0.00010732506640264406\n",
      "Epoch 5: Val loss: 3.507524609001568e-05\n",
      "Epoch 6: Val loss: 1.0709676210812426e-05\n",
      "Epoch 7: Val loss: 0.00010217854732117202\n",
      "Epoch 8: Val loss: 3.7298322926538735e-06\n",
      "Epoch 9: Val loss: 7.225045663243434e-06\n",
      "Epoch 10: Val loss: 2.608994893509791e-06\n",
      "Epoch 11: Val loss: 8.862691567286613e-06\n",
      "Epoch 12: Val loss: 5.763275037438728e-06\n",
      "Epoch 13: Val loss: 0.00010702881978727224\n",
      "Epoch 14: Val loss: 2.0977440867604428e-06\n",
      "Epoch 15: Val loss: 2.273687875165115e-06\n",
      "Epoch 16: Val loss: 4.395161471830551e-06\n",
      "Epoch 17: Val loss: 8.548459481631716e-07\n",
      "Epoch 18: Val loss: 4.366561875536314e-06\n"
     ]
    },
    {
     "name": "stderr",
     "output_type": "stream",
     "text": [
      "[I 2024-10-28 04:49:17,653] Trial 31 finished with value: 4.271421491668863e-06 and parameters: {'num_conv_layers': 2, 'n_kernels': 32.0, 'kernel_sizes': 6.0, 'lr': 0.0021442403038643546}. Best is trial 1 with value: 7.179713780767718e-07.\n"
     ]
    },
    {
     "name": "stdout",
     "output_type": "stream",
     "text": [
      "Epoch 19: Val loss: 4.271421491668863e-06\n",
      "Best Val Loss this Trial: 4.271421491668863e-06\n",
      "Epoch 0: Val loss: 0.0001425026041857548\n",
      "Epoch 1: Val loss: 0.00011297270425413258\n",
      "Epoch 2: Val loss: 5.079841398233279e-05\n",
      "Epoch 3: Val loss: 6.692871315124679e-05\n",
      "Epoch 4: Val loss: 2.1619805248232078e-05\n",
      "Epoch 5: Val loss: 8.222477919890736e-05\n",
      "Epoch 6: Val loss: 5.2448711140353917e-05\n",
      "Epoch 7: Val loss: 1.6301841642572017e-05\n",
      "Epoch 8: Val loss: 3.027390635502848e-05\n"
     ]
    },
    {
     "name": "stderr",
     "output_type": "stream",
     "text": [
      "[I 2024-10-28 04:49:32,297] Trial 32 pruned. \n"
     ]
    },
    {
     "name": "stdout",
     "output_type": "stream",
     "text": [
      "Epoch 9: Val loss: 2.9403448802168765e-05\n"
     ]
    },
    {
     "name": "stderr",
     "output_type": "stream",
     "text": [
      "[I 2024-10-28 04:49:33,823] Trial 33 pruned. \n"
     ]
    },
    {
     "name": "stdout",
     "output_type": "stream",
     "text": [
      "Epoch 0: Val loss: 0.0004888144502083922\n",
      "Epoch 0: Val loss: 0.00010016220363063944\n",
      "Epoch 1: Val loss: 5.203839288549359e-05\n",
      "Epoch 2: Val loss: 2.4632402889834244e-05\n",
      "Epoch 3: Val loss: 9.87725631688606e-06\n",
      "Epoch 4: Val loss: 2.2724918458579927e-05\n",
      "Epoch 5: Val loss: 4.584649222956186e-05\n",
      "Epoch 6: Val loss: 8.959506061744009e-05\n",
      "Epoch 7: Val loss: 4.02614761043925e-05\n",
      "Epoch 8: Val loss: 8.521445798990491e-06\n",
      "Epoch 9: Val loss: 9.631159282124026e-06\n",
      "Epoch 10: Val loss: 5.0702109091554685e-06\n",
      "Epoch 11: Val loss: 4.590847077988422e-05\n",
      "Epoch 12: Val loss: 3.993006866482737e-05\n",
      "Epoch 13: Val loss: 2.490340298947527e-05\n",
      "Epoch 14: Val loss: 2.214932250058349e-05\n",
      "Epoch 15: Val loss: 4.079825107782331e-05\n",
      "Epoch 16: Val loss: 0.0002896496813404016\n",
      "Epoch 17: Val loss: 1.5269892224346728e-05\n"
     ]
    },
    {
     "name": "stderr",
     "output_type": "stream",
     "text": [
      "[I 2024-10-28 04:50:01,186] Trial 34 pruned. \n"
     ]
    },
    {
     "name": "stdout",
     "output_type": "stream",
     "text": [
      "Epoch 18: Val loss: 1.3583496137214705e-05\n"
     ]
    },
    {
     "name": "stderr",
     "output_type": "stream",
     "text": [
      "[I 2024-10-28 04:50:02,365] Trial 35 pruned. \n"
     ]
    },
    {
     "name": "stdout",
     "output_type": "stream",
     "text": [
      "Epoch 0: Val loss: 0.0002230680605800102\n"
     ]
    },
    {
     "name": "stderr",
     "output_type": "stream",
     "text": [
      "[I 2024-10-28 04:50:03,883] Trial 36 pruned. \n"
     ]
    },
    {
     "name": "stdout",
     "output_type": "stream",
     "text": [
      "Epoch 0: Val loss: 0.0002037592591485506\n",
      "Epoch 0: Val loss: 0.00011001116604930781\n",
      "Epoch 1: Val loss: 6.638311125189076e-05\n",
      "Epoch 2: Val loss: 0.0001074572878717604\n",
      "Epoch 3: Val loss: 3.2136011882396575e-05\n",
      "Epoch 4: Val loss: 0.00011717773817601996\n",
      "Epoch 5: Val loss: 2.522745206110074e-05\n",
      "Epoch 6: Val loss: 7.866284814305342e-06\n",
      "Epoch 7: Val loss: 4.619263640903134e-06\n",
      "Epoch 8: Val loss: 1.2975607846900135e-05\n",
      "Epoch 9: Val loss: 1.731908046595059e-05\n",
      "Epoch 10: Val loss: 3.828499287702183e-05\n",
      "Epoch 11: Val loss: 7.2382726594331225e-06\n",
      "Epoch 12: Val loss: 9.17243670868567e-06\n",
      "Epoch 13: Val loss: 1.8648037858356552e-06\n",
      "Epoch 14: Val loss: 1.511666088736403e-05\n",
      "Epoch 15: Val loss: 1.911796751798655e-06\n",
      "Epoch 16: Val loss: 5.45858659742967e-07\n",
      "Epoch 17: Val loss: 1.3450948501046782e-06\n",
      "Epoch 18: Val loss: 2.1392629401490035e-06\n"
     ]
    },
    {
     "name": "stderr",
     "output_type": "stream",
     "text": [
      "[I 2024-10-28 04:50:32,696] Trial 37 finished with value: 4.0485237577818654e-05 and parameters: {'num_conv_layers': 2, 'n_kernels': 16.0, 'kernel_sizes': 5.0, 'lr': 0.004196183412672572}. Best is trial 1 with value: 7.179713780767718e-07.\n"
     ]
    },
    {
     "name": "stdout",
     "output_type": "stream",
     "text": [
      "Epoch 19: Val loss: 4.0485237577818654e-05\n",
      "Best Val Loss this Trial: 4.0485237577818654e-05\n",
      "Epoch 0: Val loss: 0.0001002175526641972\n",
      "Epoch 1: Val loss: 0.00053050327880913\n",
      "Epoch 2: Val loss: 5.001078898980905e-05\n",
      "Epoch 3: Val loss: 3.9608510866319426e-05\n",
      "Epoch 4: Val loss: 1.232409142514184e-05\n",
      "Epoch 5: Val loss: 7.630629101123872e-05\n",
      "Epoch 6: Val loss: 2.3728592782584816e-05\n",
      "Epoch 7: Val loss: 0.00015763195029322585\n",
      "Epoch 8: Val loss: 7.113997098635563e-05\n",
      "Epoch 9: Val loss: 0.00018279878166404704\n",
      "Epoch 10: Val loss: 5.511388153380776e-05\n"
     ]
    },
    {
     "name": "stderr",
     "output_type": "stream",
     "text": [
      "[I 2024-10-28 04:50:45,971] Trial 38 pruned. \n"
     ]
    },
    {
     "name": "stdout",
     "output_type": "stream",
     "text": [
      "Epoch 11: Val loss: 1.8398508562577808e-05\n",
      "Epoch 0: Val loss: 0.00011446250708757315\n",
      "Epoch 1: Val loss: 5.794548498794713e-05\n",
      "Epoch 2: Val loss: 5.556124554451756e-05\n",
      "Epoch 3: Val loss: 0.0001295339956351767\n",
      "Epoch 4: Val loss: 0.00023616162145164056\n"
     ]
    },
    {
     "name": "stderr",
     "output_type": "stream",
     "text": [
      "[I 2024-10-28 04:50:54,492] Trial 39 pruned. \n"
     ]
    },
    {
     "name": "stdout",
     "output_type": "stream",
     "text": [
      "Epoch 5: Val loss: 0.00015092732201471654\n",
      "Epoch 0: Val loss: 9.700368623931805e-05\n",
      "Epoch 1: Val loss: 6.226227212295287e-05\n",
      "Epoch 2: Val loss: 0.00015049349577822842\n",
      "Epoch 3: Val loss: 0.00013323876740668132\n",
      "Epoch 4: Val loss: 3.341070325995654e-05\n",
      "Epoch 5: Val loss: 0.0002762984751094865\n",
      "Epoch 6: Val loss: 2.7693586259226875e-05\n"
     ]
    },
    {
     "name": "stderr",
     "output_type": "stream",
     "text": [
      "[I 2024-10-28 04:51:03,871] Trial 40 pruned. \n"
     ]
    },
    {
     "name": "stdout",
     "output_type": "stream",
     "text": [
      "Epoch 7: Val loss: 4.0776372817419586e-05\n"
     ]
    },
    {
     "name": "stderr",
     "output_type": "stream",
     "text": [
      "[I 2024-10-28 04:51:05,361] Trial 41 pruned. \n"
     ]
    },
    {
     "name": "stdout",
     "output_type": "stream",
     "text": [
      "Epoch 0: Val loss: 0.0005048691922187821\n"
     ]
    },
    {
     "name": "stderr",
     "output_type": "stream",
     "text": [
      "[I 2024-10-28 04:51:06,836] Trial 42 pruned. \n"
     ]
    },
    {
     "name": "stdout",
     "output_type": "stream",
     "text": [
      "Epoch 0: Val loss: 0.00021566806921887642\n"
     ]
    },
    {
     "name": "stderr",
     "output_type": "stream",
     "text": [
      "[I 2024-10-28 04:51:08,330] Trial 43 pruned. \n"
     ]
    },
    {
     "name": "stdout",
     "output_type": "stream",
     "text": [
      "Epoch 0: Val loss: 0.0007978483443631011\n",
      "Epoch 0: Val loss: 0.00011757931576702946\n",
      "Epoch 1: Val loss: 0.0001375108545483886\n",
      "Epoch 2: Val loss: 2.8609149925863225e-05\n",
      "Epoch 3: Val loss: 2.058588014321693e-05\n",
      "Epoch 4: Val loss: 1.7291006991935996e-05\n",
      "Epoch 5: Val loss: 1.0584746827294306e-05\n",
      "Epoch 6: Val loss: 2.1624920347489817e-05\n",
      "Epoch 7: Val loss: 6.766021865354187e-06\n",
      "Epoch 8: Val loss: 3.3918576930687764e-06\n",
      "Epoch 9: Val loss: 1.8295507677385493e-05\n",
      "Epoch 10: Val loss: 4.669400370527685e-06\n",
      "Epoch 11: Val loss: 2.6867279967308816e-05\n",
      "Epoch 12: Val loss: 8.541114824081764e-05\n",
      "Epoch 13: Val loss: 5.353541181508403e-06\n",
      "Epoch 14: Val loss: 3.036467452482176e-06\n",
      "Epoch 15: Val loss: 2.147140935643324e-06\n",
      "Epoch 16: Val loss: 1.420863914724119e-05\n",
      "Epoch 17: Val loss: 2.8281355542423985e-06\n",
      "Epoch 18: Val loss: 1.412344122390383e-06\n"
     ]
    },
    {
     "name": "stderr",
     "output_type": "stream",
     "text": [
      "[I 2024-10-28 04:51:36,003] Trial 44 finished with value: 2.093795653734513e-06 and parameters: {'num_conv_layers': 2, 'n_kernels': 16.0, 'kernel_sizes': 6.0, 'lr': 0.0030080912810564165}. Best is trial 1 with value: 7.179713780767718e-07.\n"
     ]
    },
    {
     "name": "stdout",
     "output_type": "stream",
     "text": [
      "Epoch 19: Val loss: 2.093795653734513e-06\n",
      "Best Val Loss this Trial: 2.093795653734513e-06\n",
      "Epoch 0: Val loss: 9.72062634978529e-05\n",
      "Epoch 1: Val loss: 3.535233977306475e-05\n",
      "Epoch 2: Val loss: 2.8383077865600302e-05\n",
      "Epoch 3: Val loss: 1.0960097517811993e-05\n",
      "Epoch 4: Val loss: 1.2377372420301888e-05\n",
      "Epoch 5: Val loss: 8.807607451267864e-06\n",
      "Epoch 6: Val loss: 8.12808520207847e-06\n",
      "Epoch 7: Val loss: 1.5550065969504292e-05\n",
      "Epoch 8: Val loss: 1.785230253330948e-05\n",
      "Epoch 9: Val loss: 4.41816505799657e-05\n",
      "Epoch 10: Val loss: 1.0677670845449713e-05\n"
     ]
    },
    {
     "name": "stderr",
     "output_type": "stream",
     "text": [
      "[I 2024-10-28 04:51:52,907] Trial 45 pruned. \n"
     ]
    },
    {
     "name": "stdout",
     "output_type": "stream",
     "text": [
      "Epoch 11: Val loss: 1.2507951099066235e-05\n"
     ]
    },
    {
     "name": "stderr",
     "output_type": "stream",
     "text": [
      "[I 2024-10-28 04:51:54,445] Trial 46 pruned. \n"
     ]
    },
    {
     "name": "stdout",
     "output_type": "stream",
     "text": [
      "Epoch 0: Val loss: 0.00019210369804894956\n"
     ]
    },
    {
     "name": "stderr",
     "output_type": "stream",
     "text": [
      "[I 2024-10-28 04:51:55,957] Trial 47 pruned. \n"
     ]
    },
    {
     "name": "stdout",
     "output_type": "stream",
     "text": [
      "Epoch 0: Val loss: 0.00015027854897198267\n",
      "Epoch 0: Val loss: 5.935859708265953e-05\n",
      "Epoch 1: Val loss: 9.070645851002504e-05\n",
      "Epoch 2: Val loss: 7.747836068904915e-05\n",
      "Epoch 3: Val loss: 2.9483032612449442e-05\n",
      "Epoch 4: Val loss: 9.62092657977741e-05\n",
      "Epoch 5: Val loss: 5.7201334378536805e-05\n",
      "Epoch 6: Val loss: 2.128294361558117e-05\n",
      "Epoch 7: Val loss: 5.552125176653399e-05\n",
      "Epoch 8: Val loss: 7.2253508667336455e-06\n",
      "Epoch 9: Val loss: 1.821602282323775e-05\n",
      "Epoch 10: Val loss: 4.400299398433621e-05\n",
      "Epoch 11: Val loss: 9.160885519643352e-06\n",
      "Epoch 12: Val loss: 1.4976430415677336e-05\n",
      "Epoch 13: Val loss: 1.727431046099374e-06\n",
      "Epoch 14: Val loss: 9.654646007228209e-05\n",
      "Epoch 15: Val loss: 2.488600298381484e-05\n",
      "Epoch 16: Val loss: 5.993399807064432e-06\n",
      "Epoch 17: Val loss: 0.0003045214094200697\n",
      "Epoch 18: Val loss: 0.00011716596371768854\n"
     ]
    },
    {
     "name": "stderr",
     "output_type": "stream",
     "text": [
      "[I 2024-10-28 04:52:24,605] Trial 48 finished with value: 2.120213558316372e-06 and parameters: {'num_conv_layers': 2, 'n_kernels': 128.0, 'kernel_sizes': 5.0, 'lr': 0.005669066753901795}. Best is trial 1 with value: 7.179713780767718e-07.\n"
     ]
    },
    {
     "name": "stdout",
     "output_type": "stream",
     "text": [
      "Epoch 19: Val loss: 2.120213558316372e-06\n",
      "Best Val Loss this Trial: 2.120213558316372e-06\n",
      "Epoch 0: Val loss: 4.6024706013986746e-05\n",
      "Epoch 1: Val loss: 4.252618997177193e-05\n",
      "Epoch 2: Val loss: 0.000296692045019446\n",
      "Epoch 3: Val loss: 3.5150946843760976e-05\n",
      "Epoch 4: Val loss: 2.8520099612772036e-05\n",
      "Epoch 5: Val loss: 4.460487100439998e-05\n",
      "Epoch 6: Val loss: 1.4094074198215107e-05\n",
      "Epoch 7: Val loss: 1.0289005587811773e-05\n",
      "Epoch 8: Val loss: 9.976581263527673e-06\n",
      "Epoch 9: Val loss: 1.767871662716652e-05\n",
      "Epoch 10: Val loss: 4.819602235461661e-05\n"
     ]
    },
    {
     "name": "stderr",
     "output_type": "stream",
     "text": [
      "[I 2024-10-28 04:52:41,576] Trial 49 pruned. \n"
     ]
    },
    {
     "name": "stdout",
     "output_type": "stream",
     "text": [
      "Epoch 11: Val loss: 1.3808332009558266e-05\n",
      "Best CNN hyperparameters: {'num_conv_layers': 2, 'n_kernels': 96.0, 'kernel_sizes': 6.0, 'lr': 0.008711526545316296}\n",
      "Best CNN validation loss: 7.179713780767718e-07\n"
     ]
    }
   ],
   "source": [
    "# Running the study\n",
    "torch.backends.nnpack.enabled = False\n",
    "\n",
    "# creating studies\n",
    "cnn_studies = [opt.create_study(direction='minimize') for i in LANDSCAPES]\n",
    "\n",
    "\n",
    "\n",
    "\n",
    "cnn_study.optimize(lambda trial: cnn_objective(trial, train_data=landscape0_xy_train, val_data=landscape0_xy_val, \n",
    "                                epochs=20), n_trials=50)\n",
    "\n",
    "print(\"Best CNN hyperparameters:\", cnn_study.best_params)\n",
    "print(\"Best CNN validation loss:\", cnn_study.best_value)"
   ]
  },
  {
   "cell_type": "code",
   "execution_count": 22,
   "id": "bab1fda0",
   "metadata": {},
   "outputs": [
    {
     "data": {
      "text/plain": [
       "(array([ 0,  1,  2,  3,  4,  5,  6,  7,  8,  9, 10, 11, 12, 13, 14, 15, 16,\n",
       "        17, 18, 19, 20, 21, 22, 23, 24, 25, 26, 27, 28, 29, 30, 31, 32, 33,\n",
       "        34, 35]),\n",
       " array([0, 0, 0, 0, 0, 0, 1, 1, 1, 1, 1, 1, 2, 2, 2, 2, 2, 2, 3, 3, 3, 3,\n",
       "        3, 3, 4, 4, 4, 4, 4, 4, 5, 5, 5, 5, 5, 5]),\n",
       " array([0, 1, 2, 3, 4, 5, 0, 1, 2, 3, 4, 5, 0, 1, 2, 3, 4, 5, 0, 1, 2, 3,\n",
       "        4, 5, 0, 1, 2, 3, 4, 5, 0, 1, 2, 3, 4, 5]))"
      ]
     },
     "execution_count": 22,
     "metadata": {},
     "output_type": "execute_result"
    }
   ],
   "source": [
    "LANDSCAPES[0].mutation_arrays"
   ]
  },
  {
   "cell_type": "code",
   "execution_count": null,
   "id": "7adf2b60",
   "metadata": {},
   "outputs": [],
   "source": []
  }
 ],
 "metadata": {
  "kernelspec": {
   "display_name": "Python 3 (ipykernel)",
   "language": "python",
   "name": "python3"
  },
  "language_info": {
   "codemirror_mode": {
    "name": "ipython",
    "version": 3
   },
   "file_extension": ".py",
   "mimetype": "text/x-python",
   "name": "python",
   "nbconvert_exporter": "python",
   "pygments_lexer": "ipython3",
   "version": "3.10.12"
  }
 },
 "nbformat": 4,
 "nbformat_minor": 5
}
