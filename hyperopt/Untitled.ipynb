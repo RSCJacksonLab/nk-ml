{
 "cells": [
  {
   "cell_type": "code",
   "execution_count": 3,
   "id": "fa77dd0d",
   "metadata": {},
   "outputs": [
    {
     "name": "stderr",
     "output_type": "stream",
     "text": [
      "/home/mahakaran/.local/lib/python3.10/site-packages/tqdm/auto.py:22: TqdmWarning: IProgress not found. Please update jupyter and ipywidgets. See https://ipywidgets.readthedocs.io/en/stable/user_install.html\n",
      "  from .autonotebook import tqdm as notebook_tqdm\n"
     ]
    }
   ],
   "source": [
    "import optuna as opt\n",
    "import torch\n",
    "import torch.nn as nn\n",
    "import torch.optim as optim\n",
    "import numpy as np\n",
    "import pandas as pd\n",
    "\n",
    "import sys\n",
    "sys.path.append('/home/mahakaran/NK-paper-12-5-24-version/nk-ml-paper2-2024/pscapes')\n",
    "sys.path.append('/home/mahakaran/NK-paper-12-5-24-version/nk-ml-paper2-2024/nk-ml-2024')\n",
    "\n",
    "from torch.utils.data import DataLoader\n",
    "\n",
    "from pscapes.landscape_class import ProteinLandscape\n",
    "from pscapes.utils import dict_to_np_array, np_array_to_dict\n",
    "\n",
    "from src.architectures.architectures import SequenceRegressionCNN\n",
    "from src.architectures.ml_utils import train_val_test_split_ohe\n"
   ]
  },
  {
   "cell_type": "code",
   "execution_count": 4,
   "id": "26237bc2",
   "metadata": {},
   "outputs": [],
   "source": [
    "f = ProteinLandscape(csv_path='../data/nk_landscapes/k0_r0.csv')"
   ]
  },
  {
   "cell_type": "code",
   "execution_count": 5,
   "id": "998d085d",
   "metadata": {},
   "outputs": [],
   "source": [
    "SEQ_LEN = 6\n",
    "AA_ALPHABET = 'ACDEFG'"
   ]
  },
  {
   "cell_type": "code",
   "execution_count": 6,
   "id": "dde58c41",
   "metadata": {},
   "outputs": [],
   "source": [
    "#Load NK landscapes -- only a single replicate for hparam tuning \n",
    "\n",
    "LANDSCAPES = []\n",
    "for k in range(6): \n",
    "    for r in range(1): \n",
    "        landscape = ProteinLandscape(csv_path='../data/nk_landscapes/k{0}_r{1}.csv'.format(k,r), amino_acids=AA_ALPHABET)\n",
    "        LANDSCAPES.append(landscape)"
   ]
  },
  {
   "cell_type": "code",
   "execution_count": 7,
   "id": "b73fce74",
   "metadata": {},
   "outputs": [],
   "source": [
    "LANDSCAPES = [i.fit_OHE() for i in LANDSCAPES]"
   ]
  },
  {
   "cell_type": "code",
   "execution_count": 8,
   "id": "3256bfd2",
   "metadata": {},
   "outputs": [],
   "source": [
    "landscapes_ohe, xy_train, xy_val, xy_test, x_test, y_test = train_val_test_split_ohe(LANDSCAPES)"
   ]
  },
  {
   "cell_type": "code",
   "execution_count": 9,
   "id": "69980ad1",
   "metadata": {},
   "outputs": [
    {
     "data": {
      "text/plain": [
       "6"
      ]
     },
     "execution_count": 9,
     "metadata": {},
     "output_type": "execute_result"
    }
   ],
   "source": [
    "len(xy_train)"
   ]
  },
  {
   "cell_type": "code",
   "execution_count": 10,
   "id": "407afe91",
   "metadata": {},
   "outputs": [],
   "source": [
    "landscape0_xy_train = xy_train[0]\n",
    "landscape0_xy_val   = xy_val[0]"
   ]
  },
  {
   "cell_type": "code",
   "execution_count": 13,
   "id": "7d77ffdd",
   "metadata": {},
   "outputs": [],
   "source": [
    "def cnn_objective(trial, train_data, val_data, epochs):\n",
    "    # Define the search space\n",
    "    num_conv_layers = trial.suggest_int('num_conv_layers', 1, 2)\n",
    "    \n",
    "    num_kernels = [int(trial.suggest_discrete_uniform(\"n_kernels\", 16, 128, 16))\n",
    "                   for i in range(num_conv_layers)]  \n",
    "    \n",
    "    kernel_sizes = [int(trial.suggest_discrete_uniform(\"kernel_sizes\", 2, 6, 1))\n",
    "                   for i in range(num_conv_layers)]\n",
    "    \n",
    "    learning_rate = trial.suggest_loguniform('lr', 1e-4, 1e-2)\n",
    "\n",
    "    \n",
    "    # Initialize model with the trial’s hyperparameters\n",
    "    model = SequenceRegressionCNN(input_channels=len(AA_ALPHABET), sequence_length=SEQ_LEN, \n",
    "                                  num_conv_layers=num_conv_layers, n_kernels=num_kernels, kernel_sizes=kernel_sizes)\n",
    "    \n",
    "    # Loss and optimizer\n",
    "    loss_fn = nn.MSELoss()\n",
    "    optimizer = optim.Adam(model.parameters(), lr=learning_rate)\n",
    "\n",
    "    # Dummy training and validation data loaders\n",
    "\n",
    "    train_loader = DataLoader(train_data, batch_size=32, shuffle=True)\n",
    "    val_loader = DataLoader(val_data, batch_size=32)\n",
    "\n",
    "    # Training loop with validation loss calculation\n",
    "    for epoch in range(epochs):\n",
    "        model.train()\n",
    "        for x_batch, y_batch in train_loader:\n",
    "            optimizer.zero_grad()\n",
    "            predictions = model(x_batch)\n",
    "            loss = loss_fn(predictions, y_batch)\n",
    "            loss.backward()\n",
    "            optimizer.step()\n",
    "\n",
    "        # Calculate validation loss`\n",
    "        model.eval()\n",
    "        val_loss = 0\n",
    "        with torch.no_grad():\n",
    "            for x_batch, y_batch in val_loader:\n",
    "                predictions = model(x_batch)\n",
    "                val_loss += loss_fn(predictions, y_batch).item()\n",
    "\n",
    "        val_loss /= len(val_loader)\n",
    "        \n",
    "        \n",
    "        trial.report(val_loss, epoch)\n",
    "        \n",
    "        print('Epoch {0}: Val loss: {1}'.format(epoch, val_loss))\n",
    "        if trial.should_prune():\n",
    "            raise opt.TrialPruned()\n",
    "    print('Best Val Loss this Trial: {}'.format(val_loss))\n",
    "        \n",
    "\n",
    "    return val_loss\n",
    "\n"
   ]
  },
  {
   "cell_type": "code",
   "execution_count": 15,
   "id": "742aefe8",
   "metadata": {},
   "outputs": [
    {
     "name": "stderr",
     "output_type": "stream",
     "text": [
      "[I 2024-10-28 14:13:10,405] A new study created in memory with name: no-name-7788b05d-68b3-4d25-be6e-c7aa83b897c6\n",
      "/tmp/ipykernel_57346/1706552619.py:5: FutureWarning: suggest_discrete_uniform has been deprecated in v3.0.0. This feature will be removed in v6.0.0. See https://github.com/optuna/optuna/releases/tag/v3.0.0. Use suggest_float(..., step=...) instead.\n",
      "  num_kernels = [int(trial.suggest_discrete_uniform(\"n_kernels\", 16, 128, 16))\n",
      "/tmp/ipykernel_57346/1706552619.py:8: FutureWarning: suggest_discrete_uniform has been deprecated in v3.0.0. This feature will be removed in v6.0.0. See https://github.com/optuna/optuna/releases/tag/v3.0.0. Use suggest_float(..., step=...) instead.\n",
      "  kernel_sizes = [int(trial.suggest_discrete_uniform(\"kernel_sizes\", 2, 6, 1))\n",
      "/tmp/ipykernel_57346/1706552619.py:11: FutureWarning: suggest_loguniform has been deprecated in v3.0.0. This feature will be removed in v6.0.0. See https://github.com/optuna/optuna/releases/tag/v3.0.0. Use suggest_float(..., log=True) instead.\n",
      "  learning_rate = trial.suggest_loguniform('lr', 1e-4, 1e-2)\n"
     ]
    },
    {
     "name": "stdout",
     "output_type": "stream",
     "text": [
      "Epoch 0: Val loss: 0.00020757825687825162\n",
      "Epoch 1: Val loss: 0.0001091291334856407\n",
      "Epoch 2: Val loss: 3.67508167376703e-05\n",
      "Epoch 3: Val loss: 0.00014605295700287251\n",
      "Epoch 4: Val loss: 2.5667289727195574e-05\n",
      "Epoch 5: Val loss: 1.9624385940837354e-05\n",
      "Epoch 6: Val loss: 1.4869934587210066e-05\n",
      "Epoch 7: Val loss: 1.0646885514758582e-05\n",
      "Epoch 8: Val loss: 2.6002847203838228e-06\n",
      "Epoch 9: Val loss: 2.831873255839819e-06\n",
      "Epoch 10: Val loss: 1.5863822552794259e-06\n",
      "Epoch 11: Val loss: 2.089623247338439e-05\n",
      "Epoch 12: Val loss: 2.2883838840391392e-05\n",
      "Epoch 13: Val loss: 7.783788526614802e-05\n",
      "Epoch 14: Val loss: 3.7240332689273205e-06\n",
      "Epoch 15: Val loss: 4.301125529841984e-06\n",
      "Epoch 16: Val loss: 1.3183699437886235e-05\n",
      "Epoch 17: Val loss: 1.5598939268636611e-06\n",
      "Epoch 18: Val loss: 8.111925925009135e-06\n"
     ]
    },
    {
     "name": "stderr",
     "output_type": "stream",
     "text": [
      "[I 2024-10-28 14:13:57,653] Trial 0 finished with value: 8.184931586513882e-06 and parameters: {'num_conv_layers': 2, 'n_kernels': 48.0, 'kernel_sizes': 5.0, 'lr': 0.009558495354767655}. Best is trial 0 with value: 8.184931586513882e-06.\n"
     ]
    },
    {
     "name": "stdout",
     "output_type": "stream",
     "text": [
      "Epoch 19: Val loss: 8.184931586513882e-06\n",
      "Best Val Loss this Trial: 8.184931586513882e-06\n",
      "Epoch 0: Val loss: 0.0012918205249708337\n",
      "Epoch 1: Val loss: 0.00030248108781121957\n",
      "Epoch 2: Val loss: 0.00013126290809267605\n",
      "Epoch 3: Val loss: 6.403058811969474e-05\n",
      "Epoch 4: Val loss: 3.203281647805324e-05\n",
      "Epoch 5: Val loss: 1.7343183103587522e-05\n",
      "Epoch 6: Val loss: 1.0398261740472382e-05\n",
      "Epoch 7: Val loss: 6.587648413109973e-06\n",
      "Epoch 8: Val loss: 1.8072523767515144e-05\n",
      "Epoch 9: Val loss: 2.679496981855687e-06\n",
      "Epoch 10: Val loss: 2.912931646593419e-06\n",
      "Epoch 11: Val loss: 2.389892279972208e-06\n",
      "Epoch 12: Val loss: 8.801633522770682e-06\n",
      "Epoch 13: Val loss: 1.3685768098355797e-06\n",
      "Epoch 14: Val loss: 1.1453108836343372e-05\n",
      "Epoch 15: Val loss: 4.212091758185684e-06\n",
      "Epoch 16: Val loss: 2.460928899779932e-06\n",
      "Epoch 17: Val loss: 9.02681030064407e-07\n",
      "Epoch 18: Val loss: 1.003514983156679e-06\n"
     ]
    },
    {
     "name": "stderr",
     "output_type": "stream",
     "text": [
      "[I 2024-10-28 14:14:26,726] Trial 1 finished with value: 1.79948728890282e-06 and parameters: {'num_conv_layers': 1, 'n_kernels': 16.0, 'kernel_sizes': 4.0, 'lr': 0.0007353201469156231}. Best is trial 1 with value: 1.79948728890282e-06.\n"
     ]
    },
    {
     "name": "stdout",
     "output_type": "stream",
     "text": [
      "Epoch 19: Val loss: 1.79948728890282e-06\n",
      "Best Val Loss this Trial: 1.79948728890282e-06\n",
      "Epoch 0: Val loss: 0.002392408666628787\n",
      "Epoch 1: Val loss: 0.0006649430231022068\n",
      "Epoch 2: Val loss: 0.00034481485101392365\n",
      "Epoch 3: Val loss: 0.00021778847169629537\n",
      "Epoch 4: Val loss: 0.00015596117149331034\n",
      "Epoch 5: Val loss: 0.00013416801529173326\n",
      "Epoch 6: Val loss: 0.00010501024292189426\n",
      "Epoch 7: Val loss: 8.102180978840985e-05\n",
      "Epoch 8: Val loss: 6.408111198846814e-05\n",
      "Epoch 9: Val loss: 7.422781784090404e-05\n",
      "Epoch 10: Val loss: 5.313682789001644e-05\n",
      "Epoch 11: Val loss: 3.5185280816781764e-05\n",
      "Epoch 12: Val loss: 3.227851172215375e-05\n",
      "Epoch 13: Val loss: 4.794235096635689e-05\n",
      "Epoch 14: Val loss: 2.230812378134305e-05\n",
      "Epoch 15: Val loss: 2.026078394002482e-05\n",
      "Epoch 16: Val loss: 2.848161978200108e-05\n",
      "Epoch 17: Val loss: 1.6730797406670073e-05\n",
      "Epoch 18: Val loss: 1.5669962403679274e-05\n"
     ]
    },
    {
     "name": "stderr",
     "output_type": "stream",
     "text": [
      "[I 2024-10-28 14:15:12,490] Trial 2 finished with value: 1.2729396666666298e-05 and parameters: {'num_conv_layers': 2, 'n_kernels': 32.0, 'kernel_sizes': 6.0, 'lr': 0.00018830661575054285}. Best is trial 1 with value: 1.79948728890282e-06.\n"
     ]
    },
    {
     "name": "stdout",
     "output_type": "stream",
     "text": [
      "Epoch 19: Val loss: 1.2729396666666298e-05\n",
      "Best Val Loss this Trial: 1.2729396666666298e-05\n",
      "Epoch 0: Val loss: 0.00017957211180807004\n",
      "Epoch 1: Val loss: 5.940460489047184e-05\n",
      "Epoch 2: Val loss: 4.290184051180995e-05\n",
      "Epoch 3: Val loss: 2.6267524059905678e-05\n",
      "Epoch 4: Val loss: 1.8299710059842706e-05\n",
      "Epoch 5: Val loss: 4.036725949534339e-05\n",
      "Epoch 6: Val loss: 1.629286406701157e-05\n",
      "Epoch 7: Val loss: 1.7502779583937965e-05\n",
      "Epoch 8: Val loss: 1.3867622993320065e-05\n",
      "Epoch 9: Val loss: 9.415838065282685e-06\n",
      "Epoch 10: Val loss: 1.672423155453458e-05\n",
      "Epoch 11: Val loss: 7.1464971980222044e-06\n",
      "Epoch 12: Val loss: 1.112290347670292e-05\n",
      "Epoch 13: Val loss: 5.005806683506789e-06\n",
      "Epoch 14: Val loss: 7.3944154376235965e-06\n",
      "Epoch 15: Val loss: 1.864320513485502e-05\n",
      "Epoch 16: Val loss: 3.973246684369932e-06\n",
      "Epoch 17: Val loss: 2.570481767459289e-05\n",
      "Epoch 18: Val loss: 4.5469353041033515e-05\n"
     ]
    },
    {
     "name": "stderr",
     "output_type": "stream",
     "text": [
      "[I 2024-10-28 14:16:12,024] Trial 3 finished with value: 5.313348797477747e-06 and parameters: {'num_conv_layers': 2, 'n_kernels': 112.0, 'kernel_sizes': 3.0, 'lr': 0.00041102570236595004}. Best is trial 1 with value: 1.79948728890282e-06.\n"
     ]
    },
    {
     "name": "stdout",
     "output_type": "stream",
     "text": [
      "Epoch 19: Val loss: 5.313348797477747e-06\n",
      "Best Val Loss this Trial: 5.313348797477747e-06\n",
      "Epoch 0: Val loss: 0.0018064063214040243\n",
      "Epoch 1: Val loss: 0.00030174985208098864\n",
      "Epoch 2: Val loss: 0.00028682800515308086\n",
      "Epoch 3: Val loss: 9.857455287966976e-05\n",
      "Epoch 4: Val loss: 0.0001174795053154031\n",
      "Epoch 5: Val loss: 0.00011327795112024472\n",
      "Epoch 6: Val loss: 6.561286239662163e-05\n",
      "Epoch 7: Val loss: 8.348102397949566e-05\n",
      "Epoch 8: Val loss: 0.00022158993097891807\n",
      "Epoch 9: Val loss: 0.00011060829698787226\n",
      "Epoch 10: Val loss: 4.873916516686207e-05\n",
      "Epoch 11: Val loss: 8.436208125390411e-05\n",
      "Epoch 12: Val loss: 0.00022296080372990784\n",
      "Epoch 13: Val loss: 5.484813179938435e-05\n",
      "Epoch 14: Val loss: 4.8623973511855424e-05\n",
      "Epoch 15: Val loss: 9.850840019952689e-05\n",
      "Epoch 16: Val loss: 5.567694131611313e-05\n",
      "Epoch 17: Val loss: 3.6951349273326006e-05\n",
      "Epoch 18: Val loss: 7.184122090947289e-05\n"
     ]
    },
    {
     "name": "stderr",
     "output_type": "stream",
     "text": [
      "[I 2024-10-28 14:16:54,835] Trial 4 finished with value: 5.785035177995401e-05 and parameters: {'num_conv_layers': 2, 'n_kernels': 16.0, 'kernel_sizes': 2.0, 'lr': 0.005179615220291727}. Best is trial 1 with value: 1.79948728890282e-06.\n"
     ]
    },
    {
     "name": "stdout",
     "output_type": "stream",
     "text": [
      "Epoch 19: Val loss: 5.785035177995401e-05\n",
      "Best Val Loss this Trial: 5.785035177995401e-05\n",
      "Epoch 0: Val loss: 6.309930675218537e-05\n",
      "Epoch 1: Val loss: 5.860941042229593e-05\n",
      "Epoch 2: Val loss: 9.90689719074931e-05\n",
      "Epoch 3: Val loss: 0.0004644108284215053\n",
      "Epoch 4: Val loss: 1.991547168876827e-05\n",
      "Epoch 5: Val loss: 4.5690074236914275e-05\n"
     ]
    },
    {
     "name": "stderr",
     "output_type": "stream",
     "text": [
      "[W 2024-10-28 14:17:15,168] Trial 5 failed with parameters: {'num_conv_layers': 2, 'n_kernels': 80.0, 'kernel_sizes': 3.0, 'lr': 0.00246579277260613} because of the following error: NameError(\"name 'optuna' is not defined\").\n",
      "Traceback (most recent call last):\n",
      "  File \"/home/mahakaran/.local/lib/python3.10/site-packages/optuna/study/_optimize.py\", line 197, in _run_trial\n",
      "    value_or_values = func(trial)\n",
      "  File \"/tmp/ipykernel_57346/1125805103.py\", line 5, in <lambda>\n",
      "    cnn_study.optimize(lambda trial: cnn_objective(trial, train_data=landscape0_xy_train, val_data=landscape0_xy_val,\n",
      "  File \"/tmp/ipykernel_57346/1706552619.py\", line 53, in cnn_objective\n",
      "    raise optuna.TrialPruned()\n",
      "NameError: name 'optuna' is not defined\n",
      "[W 2024-10-28 14:17:15,170] Trial 5 failed with value None.\n"
     ]
    },
    {
     "name": "stdout",
     "output_type": "stream",
     "text": [
      "Epoch 6: Val loss: 7.97564155688563e-05\n"
     ]
    },
    {
     "ename": "NameError",
     "evalue": "name 'optuna' is not defined",
     "output_type": "error",
     "traceback": [
      "\u001b[0;31m---------------------------------------------------------------------------\u001b[0m",
      "\u001b[0;31mNameError\u001b[0m                                 Traceback (most recent call last)",
      "Cell \u001b[0;32mIn [15], line 5\u001b[0m\n\u001b[1;32m      1\u001b[0m \u001b[38;5;66;03m# Running the study\u001b[39;00m\n\u001b[1;32m      2\u001b[0m cnn_study \u001b[38;5;241m=\u001b[39m opt\u001b[38;5;241m.\u001b[39mcreate_study(direction\u001b[38;5;241m=\u001b[39m\u001b[38;5;124m\"\u001b[39m\u001b[38;5;124mminimize\u001b[39m\u001b[38;5;124m\"\u001b[39m)\n\u001b[0;32m----> 5\u001b[0m cnn_study\u001b[38;5;241m.\u001b[39moptimize(\u001b[38;5;28;01mlambda\u001b[39;00m trial: cnn_objective(trial, train_data\u001b[38;5;241m=\u001b[39mlandscape0_xy_train, val_data\u001b[38;5;241m=\u001b[39mlandscape0_xy_val, \n\u001b[1;32m      6\u001b[0m                                 epochs\u001b[38;5;241m=\u001b[39m\u001b[38;5;241m20\u001b[39m), n_trials\u001b[38;5;241m=\u001b[39m\u001b[38;5;241m50\u001b[39m)\n\u001b[1;32m      8\u001b[0m \u001b[38;5;28mprint\u001b[39m(\u001b[38;5;124m\"\u001b[39m\u001b[38;5;124mBest CNN hyperparameters:\u001b[39m\u001b[38;5;124m\"\u001b[39m, cnn_study\u001b[38;5;241m.\u001b[39mbest_params)\n\u001b[1;32m      9\u001b[0m \u001b[38;5;28mprint\u001b[39m(\u001b[38;5;124m\"\u001b[39m\u001b[38;5;124mBest CNN validation loss:\u001b[39m\u001b[38;5;124m\"\u001b[39m, cnn_study\u001b[38;5;241m.\u001b[39mbest_value)\n",
      "File \u001b[0;32m~/.local/lib/python3.10/site-packages/optuna/study/study.py:475\u001b[0m, in \u001b[0;36mStudy.optimize\u001b[0;34m(self, func, n_trials, timeout, n_jobs, catch, callbacks, gc_after_trial, show_progress_bar)\u001b[0m\n\u001b[1;32m    373\u001b[0m \u001b[38;5;28;01mdef\u001b[39;00m \u001b[38;5;21moptimize\u001b[39m(\n\u001b[1;32m    374\u001b[0m     \u001b[38;5;28mself\u001b[39m,\n\u001b[1;32m    375\u001b[0m     func: ObjectiveFuncType,\n\u001b[0;32m   (...)\u001b[0m\n\u001b[1;32m    382\u001b[0m     show_progress_bar: \u001b[38;5;28mbool\u001b[39m \u001b[38;5;241m=\u001b[39m \u001b[38;5;28;01mFalse\u001b[39;00m,\n\u001b[1;32m    383\u001b[0m ) \u001b[38;5;241m-\u001b[39m\u001b[38;5;241m>\u001b[39m \u001b[38;5;28;01mNone\u001b[39;00m:\n\u001b[1;32m    384\u001b[0m     \u001b[38;5;124;03m\"\"\"Optimize an objective function.\u001b[39;00m\n\u001b[1;32m    385\u001b[0m \n\u001b[1;32m    386\u001b[0m \u001b[38;5;124;03m    Optimization is done by choosing a suitable set of hyperparameter values from a given\u001b[39;00m\n\u001b[0;32m   (...)\u001b[0m\n\u001b[1;32m    473\u001b[0m \u001b[38;5;124;03m            If nested invocation of this method occurs.\u001b[39;00m\n\u001b[1;32m    474\u001b[0m \u001b[38;5;124;03m    \"\"\"\u001b[39;00m\n\u001b[0;32m--> 475\u001b[0m     \u001b[43m_optimize\u001b[49m\u001b[43m(\u001b[49m\n\u001b[1;32m    476\u001b[0m \u001b[43m        \u001b[49m\u001b[43mstudy\u001b[49m\u001b[38;5;241;43m=\u001b[39;49m\u001b[38;5;28;43mself\u001b[39;49m\u001b[43m,\u001b[49m\n\u001b[1;32m    477\u001b[0m \u001b[43m        \u001b[49m\u001b[43mfunc\u001b[49m\u001b[38;5;241;43m=\u001b[39;49m\u001b[43mfunc\u001b[49m\u001b[43m,\u001b[49m\n\u001b[1;32m    478\u001b[0m \u001b[43m        \u001b[49m\u001b[43mn_trials\u001b[49m\u001b[38;5;241;43m=\u001b[39;49m\u001b[43mn_trials\u001b[49m\u001b[43m,\u001b[49m\n\u001b[1;32m    479\u001b[0m \u001b[43m        \u001b[49m\u001b[43mtimeout\u001b[49m\u001b[38;5;241;43m=\u001b[39;49m\u001b[43mtimeout\u001b[49m\u001b[43m,\u001b[49m\n\u001b[1;32m    480\u001b[0m \u001b[43m        \u001b[49m\u001b[43mn_jobs\u001b[49m\u001b[38;5;241;43m=\u001b[39;49m\u001b[43mn_jobs\u001b[49m\u001b[43m,\u001b[49m\n\u001b[1;32m    481\u001b[0m \u001b[43m        \u001b[49m\u001b[43mcatch\u001b[49m\u001b[38;5;241;43m=\u001b[39;49m\u001b[38;5;28;43mtuple\u001b[39;49m\u001b[43m(\u001b[49m\u001b[43mcatch\u001b[49m\u001b[43m)\u001b[49m\u001b[43m \u001b[49m\u001b[38;5;28;43;01mif\u001b[39;49;00m\u001b[43m \u001b[49m\u001b[38;5;28;43misinstance\u001b[39;49m\u001b[43m(\u001b[49m\u001b[43mcatch\u001b[49m\u001b[43m,\u001b[49m\u001b[43m \u001b[49m\u001b[43mIterable\u001b[49m\u001b[43m)\u001b[49m\u001b[43m \u001b[49m\u001b[38;5;28;43;01melse\u001b[39;49;00m\u001b[43m \u001b[49m\u001b[43m(\u001b[49m\u001b[43mcatch\u001b[49m\u001b[43m,\u001b[49m\u001b[43m)\u001b[49m\u001b[43m,\u001b[49m\n\u001b[1;32m    482\u001b[0m \u001b[43m        \u001b[49m\u001b[43mcallbacks\u001b[49m\u001b[38;5;241;43m=\u001b[39;49m\u001b[43mcallbacks\u001b[49m\u001b[43m,\u001b[49m\n\u001b[1;32m    483\u001b[0m \u001b[43m        \u001b[49m\u001b[43mgc_after_trial\u001b[49m\u001b[38;5;241;43m=\u001b[39;49m\u001b[43mgc_after_trial\u001b[49m\u001b[43m,\u001b[49m\n\u001b[1;32m    484\u001b[0m \u001b[43m        \u001b[49m\u001b[43mshow_progress_bar\u001b[49m\u001b[38;5;241;43m=\u001b[39;49m\u001b[43mshow_progress_bar\u001b[49m\u001b[43m,\u001b[49m\n\u001b[1;32m    485\u001b[0m \u001b[43m    \u001b[49m\u001b[43m)\u001b[49m\n",
      "File \u001b[0;32m~/.local/lib/python3.10/site-packages/optuna/study/_optimize.py:63\u001b[0m, in \u001b[0;36m_optimize\u001b[0;34m(study, func, n_trials, timeout, n_jobs, catch, callbacks, gc_after_trial, show_progress_bar)\u001b[0m\n\u001b[1;32m     61\u001b[0m \u001b[38;5;28;01mtry\u001b[39;00m:\n\u001b[1;32m     62\u001b[0m     \u001b[38;5;28;01mif\u001b[39;00m n_jobs \u001b[38;5;241m==\u001b[39m \u001b[38;5;241m1\u001b[39m:\n\u001b[0;32m---> 63\u001b[0m         \u001b[43m_optimize_sequential\u001b[49m\u001b[43m(\u001b[49m\n\u001b[1;32m     64\u001b[0m \u001b[43m            \u001b[49m\u001b[43mstudy\u001b[49m\u001b[43m,\u001b[49m\n\u001b[1;32m     65\u001b[0m \u001b[43m            \u001b[49m\u001b[43mfunc\u001b[49m\u001b[43m,\u001b[49m\n\u001b[1;32m     66\u001b[0m \u001b[43m            \u001b[49m\u001b[43mn_trials\u001b[49m\u001b[43m,\u001b[49m\n\u001b[1;32m     67\u001b[0m \u001b[43m            \u001b[49m\u001b[43mtimeout\u001b[49m\u001b[43m,\u001b[49m\n\u001b[1;32m     68\u001b[0m \u001b[43m            \u001b[49m\u001b[43mcatch\u001b[49m\u001b[43m,\u001b[49m\n\u001b[1;32m     69\u001b[0m \u001b[43m            \u001b[49m\u001b[43mcallbacks\u001b[49m\u001b[43m,\u001b[49m\n\u001b[1;32m     70\u001b[0m \u001b[43m            \u001b[49m\u001b[43mgc_after_trial\u001b[49m\u001b[43m,\u001b[49m\n\u001b[1;32m     71\u001b[0m \u001b[43m            \u001b[49m\u001b[43mreseed_sampler_rng\u001b[49m\u001b[38;5;241;43m=\u001b[39;49m\u001b[38;5;28;43;01mFalse\u001b[39;49;00m\u001b[43m,\u001b[49m\n\u001b[1;32m     72\u001b[0m \u001b[43m            \u001b[49m\u001b[43mtime_start\u001b[49m\u001b[38;5;241;43m=\u001b[39;49m\u001b[38;5;28;43;01mNone\u001b[39;49;00m\u001b[43m,\u001b[49m\n\u001b[1;32m     73\u001b[0m \u001b[43m            \u001b[49m\u001b[43mprogress_bar\u001b[49m\u001b[38;5;241;43m=\u001b[39;49m\u001b[43mprogress_bar\u001b[49m\u001b[43m,\u001b[49m\n\u001b[1;32m     74\u001b[0m \u001b[43m        \u001b[49m\u001b[43m)\u001b[49m\n\u001b[1;32m     75\u001b[0m     \u001b[38;5;28;01melse\u001b[39;00m:\n\u001b[1;32m     76\u001b[0m         \u001b[38;5;28;01mif\u001b[39;00m n_jobs \u001b[38;5;241m==\u001b[39m \u001b[38;5;241m-\u001b[39m\u001b[38;5;241m1\u001b[39m:\n",
      "File \u001b[0;32m~/.local/lib/python3.10/site-packages/optuna/study/_optimize.py:160\u001b[0m, in \u001b[0;36m_optimize_sequential\u001b[0;34m(study, func, n_trials, timeout, catch, callbacks, gc_after_trial, reseed_sampler_rng, time_start, progress_bar)\u001b[0m\n\u001b[1;32m    157\u001b[0m         \u001b[38;5;28;01mbreak\u001b[39;00m\n\u001b[1;32m    159\u001b[0m \u001b[38;5;28;01mtry\u001b[39;00m:\n\u001b[0;32m--> 160\u001b[0m     frozen_trial \u001b[38;5;241m=\u001b[39m \u001b[43m_run_trial\u001b[49m\u001b[43m(\u001b[49m\u001b[43mstudy\u001b[49m\u001b[43m,\u001b[49m\u001b[43m \u001b[49m\u001b[43mfunc\u001b[49m\u001b[43m,\u001b[49m\u001b[43m \u001b[49m\u001b[43mcatch\u001b[49m\u001b[43m)\u001b[49m\n\u001b[1;32m    161\u001b[0m \u001b[38;5;28;01mfinally\u001b[39;00m:\n\u001b[1;32m    162\u001b[0m     \u001b[38;5;66;03m# The following line mitigates memory problems that can be occurred in some\u001b[39;00m\n\u001b[1;32m    163\u001b[0m     \u001b[38;5;66;03m# environments (e.g., services that use computing containers such as GitHub Actions).\u001b[39;00m\n\u001b[1;32m    164\u001b[0m     \u001b[38;5;66;03m# Please refer to the following PR for further details:\u001b[39;00m\n\u001b[1;32m    165\u001b[0m     \u001b[38;5;66;03m# https://github.com/optuna/optuna/pull/325.\u001b[39;00m\n\u001b[1;32m    166\u001b[0m     \u001b[38;5;28;01mif\u001b[39;00m gc_after_trial:\n",
      "File \u001b[0;32m~/.local/lib/python3.10/site-packages/optuna/study/_optimize.py:248\u001b[0m, in \u001b[0;36m_run_trial\u001b[0;34m(study, func, catch)\u001b[0m\n\u001b[1;32m    241\u001b[0m         \u001b[38;5;28;01massert\u001b[39;00m \u001b[38;5;28;01mFalse\u001b[39;00m, \u001b[38;5;124m\"\u001b[39m\u001b[38;5;124mShould not reach.\u001b[39m\u001b[38;5;124m\"\u001b[39m\n\u001b[1;32m    243\u001b[0m \u001b[38;5;28;01mif\u001b[39;00m (\n\u001b[1;32m    244\u001b[0m     frozen_trial\u001b[38;5;241m.\u001b[39mstate \u001b[38;5;241m==\u001b[39m TrialState\u001b[38;5;241m.\u001b[39mFAIL\n\u001b[1;32m    245\u001b[0m     \u001b[38;5;129;01mand\u001b[39;00m func_err \u001b[38;5;129;01mis\u001b[39;00m \u001b[38;5;129;01mnot\u001b[39;00m \u001b[38;5;28;01mNone\u001b[39;00m\n\u001b[1;32m    246\u001b[0m     \u001b[38;5;129;01mand\u001b[39;00m \u001b[38;5;129;01mnot\u001b[39;00m \u001b[38;5;28misinstance\u001b[39m(func_err, catch)\n\u001b[1;32m    247\u001b[0m ):\n\u001b[0;32m--> 248\u001b[0m     \u001b[38;5;28;01mraise\u001b[39;00m func_err\n\u001b[1;32m    249\u001b[0m \u001b[38;5;28;01mreturn\u001b[39;00m frozen_trial\n",
      "File \u001b[0;32m~/.local/lib/python3.10/site-packages/optuna/study/_optimize.py:197\u001b[0m, in \u001b[0;36m_run_trial\u001b[0;34m(study, func, catch)\u001b[0m\n\u001b[1;32m    195\u001b[0m \u001b[38;5;28;01mwith\u001b[39;00m get_heartbeat_thread(trial\u001b[38;5;241m.\u001b[39m_trial_id, study\u001b[38;5;241m.\u001b[39m_storage):\n\u001b[1;32m    196\u001b[0m     \u001b[38;5;28;01mtry\u001b[39;00m:\n\u001b[0;32m--> 197\u001b[0m         value_or_values \u001b[38;5;241m=\u001b[39m \u001b[43mfunc\u001b[49m\u001b[43m(\u001b[49m\u001b[43mtrial\u001b[49m\u001b[43m)\u001b[49m\n\u001b[1;32m    198\u001b[0m     \u001b[38;5;28;01mexcept\u001b[39;00m exceptions\u001b[38;5;241m.\u001b[39mTrialPruned \u001b[38;5;28;01mas\u001b[39;00m e:\n\u001b[1;32m    199\u001b[0m         \u001b[38;5;66;03m# TODO(mamu): Handle multi-objective cases.\u001b[39;00m\n\u001b[1;32m    200\u001b[0m         state \u001b[38;5;241m=\u001b[39m TrialState\u001b[38;5;241m.\u001b[39mPRUNED\n",
      "Cell \u001b[0;32mIn [15], line 5\u001b[0m, in \u001b[0;36m<lambda>\u001b[0;34m(trial)\u001b[0m\n\u001b[1;32m      1\u001b[0m \u001b[38;5;66;03m# Running the study\u001b[39;00m\n\u001b[1;32m      2\u001b[0m cnn_study \u001b[38;5;241m=\u001b[39m opt\u001b[38;5;241m.\u001b[39mcreate_study(direction\u001b[38;5;241m=\u001b[39m\u001b[38;5;124m\"\u001b[39m\u001b[38;5;124mminimize\u001b[39m\u001b[38;5;124m\"\u001b[39m)\n\u001b[0;32m----> 5\u001b[0m cnn_study\u001b[38;5;241m.\u001b[39moptimize(\u001b[38;5;28;01mlambda\u001b[39;00m trial: \u001b[43mcnn_objective\u001b[49m\u001b[43m(\u001b[49m\u001b[43mtrial\u001b[49m\u001b[43m,\u001b[49m\u001b[43m \u001b[49m\u001b[43mtrain_data\u001b[49m\u001b[38;5;241;43m=\u001b[39;49m\u001b[43mlandscape0_xy_train\u001b[49m\u001b[43m,\u001b[49m\u001b[43m \u001b[49m\u001b[43mval_data\u001b[49m\u001b[38;5;241;43m=\u001b[39;49m\u001b[43mlandscape0_xy_val\u001b[49m\u001b[43m,\u001b[49m\u001b[43m \u001b[49m\n\u001b[1;32m      6\u001b[0m \u001b[43m                                \u001b[49m\u001b[43mepochs\u001b[49m\u001b[38;5;241;43m=\u001b[39;49m\u001b[38;5;241;43m20\u001b[39;49m\u001b[43m)\u001b[49m, n_trials\u001b[38;5;241m=\u001b[39m\u001b[38;5;241m50\u001b[39m)\n\u001b[1;32m      8\u001b[0m \u001b[38;5;28mprint\u001b[39m(\u001b[38;5;124m\"\u001b[39m\u001b[38;5;124mBest CNN hyperparameters:\u001b[39m\u001b[38;5;124m\"\u001b[39m, cnn_study\u001b[38;5;241m.\u001b[39mbest_params)\n\u001b[1;32m      9\u001b[0m \u001b[38;5;28mprint\u001b[39m(\u001b[38;5;124m\"\u001b[39m\u001b[38;5;124mBest CNN validation loss:\u001b[39m\u001b[38;5;124m\"\u001b[39m, cnn_study\u001b[38;5;241m.\u001b[39mbest_value)\n",
      "Cell \u001b[0;32mIn [13], line 53\u001b[0m, in \u001b[0;36mcnn_objective\u001b[0;34m(trial, train_data, val_data, epochs)\u001b[0m\n\u001b[1;32m     51\u001b[0m     \u001b[38;5;28mprint\u001b[39m(\u001b[38;5;124m'\u001b[39m\u001b[38;5;124mEpoch \u001b[39m\u001b[38;5;132;01m{0}\u001b[39;00m\u001b[38;5;124m: Val loss: \u001b[39m\u001b[38;5;132;01m{1}\u001b[39;00m\u001b[38;5;124m'\u001b[39m\u001b[38;5;241m.\u001b[39mformat(epoch, val_loss))\n\u001b[1;32m     52\u001b[0m     \u001b[38;5;28;01mif\u001b[39;00m trial\u001b[38;5;241m.\u001b[39mshould_prune():\n\u001b[0;32m---> 53\u001b[0m         \u001b[38;5;28;01mraise\u001b[39;00m \u001b[43moptuna\u001b[49m\u001b[38;5;241m.\u001b[39mTrialPruned()\n\u001b[1;32m     54\u001b[0m \u001b[38;5;28mprint\u001b[39m(\u001b[38;5;124m'\u001b[39m\u001b[38;5;124mBest Val Loss this Trial: \u001b[39m\u001b[38;5;132;01m{}\u001b[39;00m\u001b[38;5;124m'\u001b[39m\u001b[38;5;241m.\u001b[39mformat(val_loss))\n\u001b[1;32m     57\u001b[0m \u001b[38;5;28;01mreturn\u001b[39;00m val_loss\n",
      "\u001b[0;31mNameError\u001b[0m: name 'optuna' is not defined"
     ]
    }
   ],
   "source": [
    "# Running the study\n",
    "cnn_study = opt.create_study(direction=\"minimize\")\n",
    "\n",
    "\n",
    "cnn_study.optimize(lambda trial: cnn_objective(trial, train_data=landscape0_xy_train, val_data=landscape0_xy_val, \n",
    "                                epochs=20), n_trials=50)\n",
    "\n",
    "print(\"Best CNN hyperparameters:\", cnn_study.best_params)\n",
    "print(\"Best CNN validation loss:\", cnn_study.best_value)"
   ]
  },
  {
   "cell_type": "code",
   "execution_count": 22,
   "id": "bab1fda0",
   "metadata": {},
   "outputs": [
    {
     "data": {
      "text/plain": [
       "(array([ 0,  1,  2,  3,  4,  5,  6,  7,  8,  9, 10, 11, 12, 13, 14, 15, 16,\n",
       "        17, 18, 19, 20, 21, 22, 23, 24, 25, 26, 27, 28, 29, 30, 31, 32, 33,\n",
       "        34, 35]),\n",
       " array([0, 0, 0, 0, 0, 0, 1, 1, 1, 1, 1, 1, 2, 2, 2, 2, 2, 2, 3, 3, 3, 3,\n",
       "        3, 3, 4, 4, 4, 4, 4, 4, 5, 5, 5, 5, 5, 5]),\n",
       " array([0, 1, 2, 3, 4, 5, 0, 1, 2, 3, 4, 5, 0, 1, 2, 3, 4, 5, 0, 1, 2, 3,\n",
       "        4, 5, 0, 1, 2, 3, 4, 5, 0, 1, 2, 3, 4, 5]))"
      ]
     },
     "execution_count": 22,
     "metadata": {},
     "output_type": "execute_result"
    }
   ],
   "source": [
    "LANDSCAPES[0].mutation_arrays"
   ]
  },
  {
   "cell_type": "code",
   "execution_count": null,
   "id": "7adf2b60",
   "metadata": {},
   "outputs": [],
   "source": []
  }
 ],
 "metadata": {
  "kernelspec": {
   "display_name": "Python 3 (ipykernel)",
   "language": "python",
   "name": "python3"
  },
  "language_info": {
   "codemirror_mode": {
    "name": "ipython",
    "version": 3
   },
   "file_extension": ".py",
   "mimetype": "text/x-python",
   "name": "python",
   "nbconvert_exporter": "python",
   "pygments_lexer": "ipython3",
   "version": "3.10.12"
  }
 },
 "nbformat": 4,
 "nbformat_minor": 5
}
