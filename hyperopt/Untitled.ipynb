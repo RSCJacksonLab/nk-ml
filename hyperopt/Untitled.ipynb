{
 "cells": [
  {
   "cell_type": "code",
   "execution_count": 1,
   "id": "fa77dd0d",
   "metadata": {},
   "outputs": [
    {
     "name": "stderr",
     "output_type": "stream",
     "text": [
      "/home/ubuntu/.local/lib/python3.10/site-packages/tqdm/auto.py:21: TqdmWarning: IProgress not found. Please update jupyter and ipywidgets. See https://ipywidgets.readthedocs.io/en/stable/user_install.html\n",
      "  from .autonotebook import tqdm as notebook_tqdm\n"
     ]
    }
   ],
   "source": [
    "import optuna as opt\n",
    "import torch\n",
    "import torch.nn as nn\n",
    "import torch.optim as optim\n",
    "import numpy as np\n",
    "import pandas as pd\n",
    "\n",
    "import sys\n",
    "sys.path.append('/home/ubuntu/nk-paper-2024/pscapes')\n",
    "sys.path.append('/home/ubuntu/nk-paper-2024/nk-ml-2024')\n",
    "\n",
    "from torch.utils.data import DataLoader\n",
    "\n",
    "from pscapes.landscape_class import ProteinLandscape\n",
    "from pscapes.utils import dict_to_np_array, np_array_to_dict\n",
    "\n",
    "from src.architectures.architectures import SequenceRegressionCNN\n",
    "from src.architectures.ml_utils import train_val_test_split_ohe\n"
   ]
  },
  {
   "cell_type": "code",
   "execution_count": 2,
   "id": "998d085d",
   "metadata": {},
   "outputs": [],
   "source": [
    "SEQ_LEN = 6\n",
    "AA_ALPHABET = 'ACDEFG'"
   ]
  },
  {
   "cell_type": "code",
   "execution_count": 3,
   "id": "dde58c41",
   "metadata": {},
   "outputs": [],
   "source": [
    "#Load NK landscapes -- only a single replicate for hparam tuning \n",
    "\n",
    "LANDSCAPES = []\n",
    "for k in range(6): \n",
    "    for r in range(1): \n",
    "        landscape = ProteinLandscape(csv_path='../data/nk_landscapes/k{0}_r{1}.csv'.format(k,r), amino_acids=AA_ALPHABET)\n",
    "        LANDSCAPES.append(landscape)"
   ]
  },
  {
   "cell_type": "code",
   "execution_count": 4,
   "id": "b73fce74",
   "metadata": {},
   "outputs": [],
   "source": [
    "LANDSCAPES = [i.fit_OHE() for i in LANDSCAPES]"
   ]
  },
  {
   "cell_type": "code",
   "execution_count": 5,
   "id": "3256bfd2",
   "metadata": {},
   "outputs": [],
   "source": [
    "landscapes_ohe, xy_train, xy_val, xy_test, x_test, y_test = train_val_test_split_ohe(LANDSCAPES)"
   ]
  },
  {
   "cell_type": "code",
   "execution_count": 6,
   "id": "69980ad1",
   "metadata": {},
   "outputs": [
    {
     "data": {
      "text/plain": [
       "6"
      ]
     },
     "execution_count": 6,
     "metadata": {},
     "output_type": "execute_result"
    }
   ],
   "source": [
    "len(xy_train)"
   ]
  },
  {
   "cell_type": "code",
   "execution_count": 9,
   "id": "c559ee20-bc72-4e6c-ba04-a2a2e619dea1",
   "metadata": {},
   "outputs": [
    {
     "data": {
      "text/plain": [
       "True"
      ]
     },
     "execution_count": 9,
     "metadata": {},
     "output_type": "execute_result"
    }
   ],
   "source": [
    "torch.cuda.is_available()"
   ]
  },
  {
   "cell_type": "code",
   "execution_count": 7,
   "id": "407afe91",
   "metadata": {},
   "outputs": [],
   "source": [
    "landscape0_xy_train = xy_train[0]\n",
    "landscape0_xy_val   = xy_val[0]"
   ]
  },
  {
   "cell_type": "code",
   "execution_count": 33,
   "id": "ad77c4f7-ebf8-4d75-a74c-0af5d78219f7",
   "metadata": {},
   "outputs": [],
   "source": [
    "class EarlyStoppingHyperOpt:\n",
    "    def __init__(self, patience=5, min_delta=0):\n",
    "        self.patience = patience\n",
    "        self.min_delta = min_delta\n",
    "        self.best_loss = float('inf')\n",
    "        self.counter = 0\n",
    "\n",
    "    def should_stop(self, val_loss):\n",
    "        if val_loss < self.best_loss - self.min_delta:\n",
    "            self.best_loss = val_loss\n",
    "            self.counter = 0\n",
    "        else:\n",
    "            self.counter += 1\n",
    "\n",
    "        return self.counter >= self.patience"
   ]
  },
  {
   "cell_type": "code",
   "execution_count": 50,
   "id": "7d77ffdd",
   "metadata": {},
   "outputs": [],
   "source": [
    "def cnn_objective_NK(trial, train_data, val_data, epochs):\n",
    "    # Define the search space\n",
    "    num_conv_layers = trial.suggest_int('num_conv_layers', 1, 2)\n",
    "    \n",
    "    num_kernels = [int(trial.suggest_discrete_uniform(\"n_kernels\", 16, 128, 16))\n",
    "                   for i in range(num_conv_layers)]  \n",
    "    \n",
    "    kernel_sizes = [int(trial.suggest_discrete_uniform(\"kernel_sizes\", 2, 6, 1))\n",
    "                   for i in range(num_conv_layers)]\n",
    "    \n",
    "    learning_rate = trial.suggest_categorical('lr', [0.01, 0.001, 0.0001])\n",
    "\n",
    "    batch_size    = trial.suggest_discrete_uniform('batch_size', 32, 128, 32)\n",
    "    \n",
    "    # Initialize model with the trial’s hyperparameters\n",
    "    model = SequenceRegressionCNN(input_channels=len(AA_ALPHABET), sequence_length=SEQ_LEN, \n",
    "                                  num_conv_layers=num_conv_layers, n_kernels=num_kernels, kernel_sizes=kernel_sizes)\n",
    "    \n",
    "    # Loss and optimizer\n",
    "    loss_fn = nn.MSELoss()\n",
    "    optimizer = optim.Adam(model.parameters(), lr=learning_rate)\n",
    "\n",
    "    # Dummy training and validation data loaders\n",
    "    device = torch.device(\"cuda\" if torch.cuda.is_available() else \"cpu\")\n",
    "\n",
    "    train_loader = DataLoader(train_data, batch_size=32, shuffle=True)\n",
    "    val_loader = DataLoader(val_data, batch_size=32)\n",
    "\n",
    "\n",
    "    # Early stopping setup\n",
    "    early_stopping = EarlyStopping(patience=8, min_delta=1e-5)\n",
    "    # Training loop with validation loss calculation\n",
    "    for epoch in range(epochs):\n",
    "\n",
    "\n",
    "        \n",
    "        model.to(device)\n",
    "        model.train()\n",
    "        for x_batch, y_batch in train_loader:\n",
    "\n",
    "            x_batch, y_batch = x_batch.to(device), y_batch.to(device)\n",
    "            optimizer.zero_grad()\n",
    "            predictions = model(x_batch)\n",
    "            loss = loss_fn(predictions, y_batch)\n",
    "            loss.backward()\n",
    "            optimizer.step()\n",
    "\n",
    "        # Calculate validation loss`\n",
    "        model.eval()\n",
    "        val_loss = 0\n",
    "        with torch.no_grad():\n",
    "            for x_batch, y_batch in val_loader:\n",
    "                x_batch, y_batch = x_batch.to(device), y_batch.to(device)\n",
    "                predictions = model(x_batch)\n",
    "                val_loss += loss_fn(predictions, y_batch).item()\n",
    "\n",
    "        val_loss /= len(val_loader)\n",
    "        \n",
    "        \n",
    "        trial.report(val_loss, epoch)\n",
    "\n",
    "        print('Epoch: {0}, Val loss: {1}'.format(epoch, val_loss))\n",
    "        # Check early stopping\n",
    "        if early_stopping.should_stop(val_loss):\n",
    "            print(f\"Early stopping at epoch {epoch}\")\n",
    "            break\n",
    "        \n",
    "        \n",
    "        if trial.should_prune():\n",
    "            raise opt.TrialPruned()\n",
    "    print('Best Val Loss this Trial: {}'.format(val_loss))\n",
    "        \n",
    "\n",
    "    return val_loss\n",
    "\n"
   ]
  },
  {
   "cell_type": "code",
   "execution_count": 51,
   "id": "831c87a1-424d-40d8-bfa9-a0f0bd1f3b4b",
   "metadata": {},
   "outputs": [],
   "source": [
    "import time"
   ]
  },
  {
   "cell_type": "code",
   "execution_count": 52,
   "id": "09adb2c8-7c43-4d40-b1cb-fe42641714d4",
   "metadata": {},
   "outputs": [],
   "source": [
    "t1 = time.time()"
   ]
  },
  {
   "cell_type": "code",
   "execution_count": 53,
   "id": "a16966f0-2a9a-4719-b5e2-bbfe97e98a31",
   "metadata": {},
   "outputs": [],
   "source": [
    "t2 = time.time()"
   ]
  },
  {
   "cell_type": "code",
   "execution_count": 54,
   "id": "3337918c-c090-4b71-9118-2807c3afde13",
   "metadata": {},
   "outputs": [
    {
     "data": {
      "text/plain": [
       "0.1602191925048828"
      ]
     },
     "execution_count": 54,
     "metadata": {},
     "output_type": "execute_result"
    }
   ],
   "source": [
    "t2-t1"
   ]
  },
  {
   "cell_type": "code",
   "execution_count": 55,
   "id": "742aefe8",
   "metadata": {
    "scrolled": true
   },
   "outputs": [
    {
     "name": "stderr",
     "output_type": "stream",
     "text": [
      "[I 2024-10-28 05:53:06,284] A new study created in memory with name: no-name-38e5ed66-9187-4cf7-b443-84698f61f10f\n",
      "[I 2024-10-28 05:53:06,285] A new study created in memory with name: no-name-3f120a35-131f-4bc5-8392-18e87946cce0\n",
      "[I 2024-10-28 05:53:06,286] A new study created in memory with name: no-name-e4d473b3-bded-4fb1-80d8-022c0b3474bb\n",
      "[I 2024-10-28 05:53:06,287] A new study created in memory with name: no-name-c7db90b0-a272-498c-913d-f4f8996fef76\n",
      "[I 2024-10-28 05:53:06,287] A new study created in memory with name: no-name-086ab3ef-5604-4638-952e-3ef581cf6852\n",
      "[I 2024-10-28 05:53:06,288] A new study created in memory with name: no-name-4ee9b115-da5b-43f5-99f8-abfccf66b0d9\n",
      "/tmp/ipykernel_3136/3870252311.py:5: FutureWarning: suggest_discrete_uniform has been deprecated in v3.0.0. This feature will be removed in v6.0.0. See https://github.com/optuna/optuna/releases/tag/v3.0.0. Use suggest_float(..., step=...) instead.\n",
      "  num_kernels = [int(trial.suggest_discrete_uniform(\"n_kernels\", 16, 128, 16))\n",
      "/tmp/ipykernel_3136/3870252311.py:8: FutureWarning: suggest_discrete_uniform has been deprecated in v3.0.0. This feature will be removed in v6.0.0. See https://github.com/optuna/optuna/releases/tag/v3.0.0. Use suggest_float(..., step=...) instead.\n",
      "  kernel_sizes = [int(trial.suggest_discrete_uniform(\"kernel_sizes\", 2, 6, 1))\n",
      "/tmp/ipykernel_3136/3870252311.py:11: FutureWarning: suggest_loguniform has been deprecated in v3.0.0. This feature will be removed in v6.0.0. See https://github.com/optuna/optuna/releases/tag/v3.0.0. Use suggest_float(..., log=True) instead.\n",
      "  learning_rate = trial.suggest_loguniform('lr', 1e-4, 1e-2)\n"
     ]
    },
    {
     "name": "stdout",
     "output_type": "stream",
     "text": [
      "Epoch: 0, Val loss: 9.287287989575575e-05\n",
      "Epoch: 1, Val loss: 2.3526344788339113e-05\n",
      "Epoch: 2, Val loss: 2.2399774924739395e-05\n",
      "Epoch: 3, Val loss: 7.48212672226503e-05\n",
      "Epoch: 4, Val loss: 0.00024522188360629697\n",
      "Epoch: 5, Val loss: 0.00018537779051723937\n"
     ]
    },
    {
     "name": "stderr",
     "output_type": "stream",
     "text": [
      "[I 2024-10-28 05:53:14,590] Trial 0 finished with value: 0.00011691222871921392 and parameters: {'num_conv_layers': 1, 'n_kernels': 80.0, 'kernel_sizes': 3.0, 'lr': 0.0040048549245837945}. Best is trial 0 with value: 0.00011691222871921392.\n"
     ]
    },
    {
     "name": "stdout",
     "output_type": "stream",
     "text": [
      "Epoch: 6, Val loss: 0.00011691222871921392\n",
      "Early stopping at epoch 6\n",
      "Best Val Loss this Trial: 0.00011691222871921392\n",
      "Epoch: 0, Val loss: 0.00028452477116897924\n",
      "Epoch: 1, Val loss: 0.00012260048230313975\n",
      "Epoch: 2, Val loss: 9.490307506622098e-05\n",
      "Epoch: 3, Val loss: 6.269825911674247e-05\n",
      "Epoch: 4, Val loss: 3.3928447332710544e-05\n",
      "Epoch: 5, Val loss: 5.3067704434825e-05\n",
      "Epoch: 6, Val loss: 2.3565690341464277e-05\n",
      "Epoch: 7, Val loss: 1.5033357766518218e-05\n",
      "Epoch: 8, Val loss: 2.223719503746953e-05\n",
      "Epoch: 9, Val loss: 1.7903752504779786e-05\n",
      "Epoch: 10, Val loss: 1.0326172697072889e-05\n",
      "Epoch: 11, Val loss: 9.660997442101028e-06\n",
      "Epoch: 12, Val loss: 1.6343922710896153e-05\n",
      "Epoch: 13, Val loss: 6.7320581625904005e-06\n",
      "Epoch: 14, Val loss: 6.808584585942454e-06\n"
     ]
    },
    {
     "name": "stderr",
     "output_type": "stream",
     "text": [
      "[I 2024-10-28 05:53:33,056] Trial 1 finished with value: 8.919544895364266e-06 and parameters: {'num_conv_layers': 1, 'n_kernels': 48.0, 'kernel_sizes': 6.0, 'lr': 0.0010844762145890547}. Best is trial 1 with value: 8.919544895364266e-06.\n"
     ]
    },
    {
     "name": "stdout",
     "output_type": "stream",
     "text": [
      "Epoch: 15, Val loss: 8.919544895364266e-06\n",
      "Early stopping at epoch 15\n",
      "Best Val Loss this Trial: 8.919544895364266e-06\n",
      "Epoch: 0, Val loss: 0.00016298494718393756\n",
      "Epoch: 1, Val loss: 8.3091091683023e-05\n",
      "Epoch: 2, Val loss: 5.538366015097047e-05\n",
      "Epoch: 3, Val loss: 4.1782724864842596e-05\n",
      "Epoch: 4, Val loss: 3.14880916075475e-05\n",
      "Epoch: 5, Val loss: 4.7597545192877435e-05\n",
      "Epoch: 6, Val loss: 1.9727044844361615e-05\n",
      "Epoch: 7, Val loss: 7.385538274553628e-05\n",
      "Epoch: 8, Val loss: 6.07558999440193e-05\n",
      "Epoch: 9, Val loss: 1.9177768531996204e-05\n",
      "Epoch: 10, Val loss: 2.3656152104824567e-05\n"
     ]
    },
    {
     "name": "stderr",
     "output_type": "stream",
     "text": [
      "[I 2024-10-28 05:53:50,382] Trial 2 finished with value: 1.257565419560457e-05 and parameters: {'num_conv_layers': 2, 'n_kernels': 96.0, 'kernel_sizes': 5.0, 'lr': 0.0005207101267061612}. Best is trial 1 with value: 8.919544895364266e-06.\n"
     ]
    },
    {
     "name": "stdout",
     "output_type": "stream",
     "text": [
      "Epoch: 11, Val loss: 1.257565419560457e-05\n",
      "Early stopping at epoch 11\n",
      "Best Val Loss this Trial: 1.257565419560457e-05\n",
      "Epoch: 0, Val loss: 0.0002451942680822984\n",
      "Epoch: 1, Val loss: 0.00010961457297121847\n",
      "Epoch: 2, Val loss: 3.596660311596392e-05\n",
      "Epoch: 3, Val loss: 4.766207353102986e-05\n",
      "Epoch: 4, Val loss: 1.9822500215589098e-05\n",
      "Epoch: 5, Val loss: 4.620414030920758e-05\n",
      "Epoch: 6, Val loss: 2.0291855971430403e-05\n",
      "Epoch: 7, Val loss: 1.8319410123189704e-05\n",
      "Epoch: 8, Val loss: 3.49467580811032e-05\n",
      "Epoch: 9, Val loss: 6.127075340552056e-06\n",
      "Epoch: 10, Val loss: 2.7243836577839924e-05\n",
      "Epoch: 11, Val loss: 0.00010153633503118454\n",
      "Epoch: 12, Val loss: 7.205629922709781e-05\n",
      "Epoch: 13, Val loss: 3.189336828063849e-05\n"
     ]
    },
    {
     "name": "stderr",
     "output_type": "stream",
     "text": [
      "[I 2024-10-28 05:54:07,875] Trial 3 finished with value: 7.68008049704866e-06 and parameters: {'num_conv_layers': 1, 'n_kernels': 80.0, 'kernel_sizes': 2.0, 'lr': 0.0017453064011183838}. Best is trial 3 with value: 7.68008049704866e-06.\n"
     ]
    },
    {
     "name": "stdout",
     "output_type": "stream",
     "text": [
      "Epoch: 14, Val loss: 7.68008049704866e-06\n",
      "Early stopping at epoch 14\n",
      "Best Val Loss this Trial: 7.68008049704866e-06\n",
      "Epoch: 0, Val loss: 0.00017835655817801817\n",
      "Epoch: 1, Val loss: 7.58283150257467e-05\n",
      "Epoch: 2, Val loss: 0.00016774380974233764\n",
      "Epoch: 3, Val loss: 8.463403439516417e-05\n",
      "Epoch: 4, Val loss: 9.387203614547367e-05\n",
      "Epoch: 5, Val loss: 0.00010785322067224317\n",
      "Epoch: 6, Val loss: 2.799034791678423e-05\n",
      "Epoch: 7, Val loss: 3.6601998560485314e-05\n",
      "Epoch: 8, Val loss: 2.7695560348570907e-05\n",
      "Epoch: 9, Val loss: 5.6987018357394227e-05\n",
      "Epoch: 10, Val loss: 1.8145234720671e-05\n"
     ]
    },
    {
     "name": "stderr",
     "output_type": "stream",
     "text": [
      "[I 2024-10-28 05:54:21,494] Trial 4 finished with value: 1.9397596192086497e-05 and parameters: {'num_conv_layers': 1, 'n_kernels': 80.0, 'kernel_sizes': 6.0, 'lr': 0.003753315976336429}. Best is trial 3 with value: 7.68008049704866e-06.\n"
     ]
    },
    {
     "name": "stdout",
     "output_type": "stream",
     "text": [
      "Epoch: 11, Val loss: 1.9397596192086497e-05\n",
      "Early stopping at epoch 11\n",
      "Best Val Loss this Trial: 1.9397596192086497e-05\n"
     ]
    },
    {
     "name": "stderr",
     "output_type": "stream",
     "text": [
      "[I 2024-10-28 05:54:22,643] Trial 5 pruned. \n"
     ]
    },
    {
     "name": "stdout",
     "output_type": "stream",
     "text": [
      "Epoch: 0, Val loss: 0.0002187432733508181\n"
     ]
    },
    {
     "name": "stderr",
     "output_type": "stream",
     "text": [
      "[I 2024-10-28 05:54:23,807] Trial 6 pruned. \n"
     ]
    },
    {
     "name": "stdout",
     "output_type": "stream",
     "text": [
      "Epoch: 0, Val loss: 0.0005072210601960811\n"
     ]
    },
    {
     "name": "stderr",
     "output_type": "stream",
     "text": [
      "[I 2024-10-28 05:54:24,954] Trial 7 pruned. \n"
     ]
    },
    {
     "name": "stdout",
     "output_type": "stream",
     "text": [
      "Epoch: 0, Val loss: 0.0010398482815780414\n",
      "Epoch: 0, Val loss: 0.00015163501287048333\n"
     ]
    },
    {
     "name": "stderr",
     "output_type": "stream",
     "text": [
      "[I 2024-10-28 05:54:27,250] Trial 8 pruned. \n"
     ]
    },
    {
     "name": "stdout",
     "output_type": "stream",
     "text": [
      "Epoch: 1, Val loss: 0.00012064118625578255\n"
     ]
    },
    {
     "name": "stderr",
     "output_type": "stream",
     "text": [
      "[I 2024-10-28 05:54:28,448] Trial 9 pruned. \n"
     ]
    },
    {
     "name": "stdout",
     "output_type": "stream",
     "text": [
      "Epoch: 0, Val loss: 0.0007333085947106871\n",
      "Epoch: 0, Val loss: 0.00837943900643219\n",
      "Epoch: 1, Val loss: 0.005790267183453354\n",
      "Epoch: 2, Val loss: 0.0035351176331273448\n",
      "Epoch: 3, Val loss: 0.0023924231247650063\n",
      "Epoch: 4, Val loss: 0.0023373097253955393\n",
      "Epoch: 5, Val loss: 0.001604182027781812\n",
      "Epoch: 6, Val loss: 0.001813204270741767\n",
      "Epoch: 7, Val loss: 0.0012435826426172932\n",
      "Epoch: 8, Val loss: 0.0035055143794474695\n",
      "Epoch: 9, Val loss: 0.0029375033699867562\n",
      "Epoch: 10, Val loss: 0.0010682031906281526\n",
      "Epoch: 11, Val loss: 0.0009961500099728792\n",
      "Epoch: 12, Val loss: 0.0011853324892407316\n",
      "Epoch: 13, Val loss: 0.0009428236202454258\n",
      "Epoch: 14, Val loss: 0.0011489744455868013\n",
      "Epoch: 15, Val loss: 0.0019058141161878712\n",
      "Epoch: 16, Val loss: 0.0009458886441310995\n",
      "Epoch: 17, Val loss: 0.0012905007865305783\n"
     ]
    },
    {
     "name": "stderr",
     "output_type": "stream",
     "text": [
      "[I 2024-10-28 05:54:57,142] Trial 0 finished with value: 0.0009679685731848272 and parameters: {'num_conv_layers': 2, 'n_kernels': 48.0, 'kernel_sizes': 2.0, 'lr': 0.003916300370510911}. Best is trial 0 with value: 0.0009679685731848272.\n"
     ]
    },
    {
     "name": "stdout",
     "output_type": "stream",
     "text": [
      "Epoch: 18, Val loss: 0.0009679685731848272\n",
      "Early stopping at epoch 18\n",
      "Best Val Loss this Trial: 0.0009679685731848272\n",
      "Epoch: 0, Val loss: 0.0005728412788579216\n",
      "Epoch: 1, Val loss: 0.0007231635862163419\n",
      "Epoch: 2, Val loss: 0.0004599934992513273\n",
      "Epoch: 3, Val loss: 0.00039836499745744624\n",
      "Epoch: 4, Val loss: 0.00029362113245874323\n",
      "Epoch: 5, Val loss: 0.00021098603200442038\n",
      "Epoch: 6, Val loss: 0.00040772587133563543\n",
      "Epoch: 7, Val loss: 0.00022895548349140913\n",
      "Epoch: 8, Val loss: 0.00023940824801559982\n",
      "Epoch: 9, Val loss: 0.00017632863256218645\n",
      "Epoch: 10, Val loss: 0.00019486899999230026\n",
      "Epoch: 11, Val loss: 0.00010694476352513541\n",
      "Epoch: 12, Val loss: 0.00013568367055093902\n",
      "Epoch: 13, Val loss: 0.0004283446559516323\n",
      "Epoch: 14, Val loss: 0.00023197613255534734\n",
      "Epoch: 15, Val loss: 0.00013410268418847097\n"
     ]
    },
    {
     "name": "stderr",
     "output_type": "stream",
     "text": [
      "[I 2024-10-28 05:55:16,737] Trial 1 finished with value: 0.00011263713803732843 and parameters: {'num_conv_layers': 1, 'n_kernels': 112.0, 'kernel_sizes': 6.0, 'lr': 0.002732325291575555}. Best is trial 1 with value: 0.00011263713803732843.\n"
     ]
    },
    {
     "name": "stdout",
     "output_type": "stream",
     "text": [
      "Epoch: 16, Val loss: 0.00011263713803732843\n",
      "Early stopping at epoch 16\n",
      "Best Val Loss this Trial: 0.00011263713803732843\n",
      "Epoch: 0, Val loss: 0.004784518275230836\n",
      "Epoch: 1, Val loss: 0.00274581659404147\n",
      "Epoch: 2, Val loss: 0.0018274926761579183\n",
      "Epoch: 3, Val loss: 0.001295814400839293\n",
      "Epoch: 4, Val loss: 0.0010288659172007241\n",
      "Epoch: 5, Val loss: 0.000807049065334802\n",
      "Epoch: 6, Val loss: 0.0006755236222838553\n",
      "Epoch: 7, Val loss: 0.0006835002440443804\n",
      "Epoch: 8, Val loss: 0.0010965367013978588\n",
      "Epoch: 9, Val loss: 0.0005617686381297879\n",
      "Epoch: 10, Val loss: 0.0008264500899021474\n",
      "Epoch: 11, Val loss: 0.000430253744408942\n",
      "Epoch: 12, Val loss: 0.00043285095089853497\n",
      "Epoch: 13, Val loss: 0.0005206800867284999\n",
      "Epoch: 14, Val loss: 0.00035487924264415575\n",
      "Epoch: 15, Val loss: 0.00037719304920880636\n",
      "Epoch: 16, Val loss: 0.00045488544408446894\n",
      "Epoch: 17, Val loss: 0.0003848588447341234\n",
      "Epoch: 18, Val loss: 0.0002927776436897544\n",
      "Epoch: 19, Val loss: 0.00029676339915420255\n",
      "Epoch: 20, Val loss: 0.00030367942366492335\n",
      "Epoch: 21, Val loss: 0.00025355721125876706\n",
      "Epoch: 22, Val loss: 0.000298985127114858\n",
      "Epoch: 23, Val loss: 0.00025508527258539404\n",
      "Epoch: 24, Val loss: 0.00030512055368451244\n",
      "Epoch: 25, Val loss: 0.000203192050678956\n",
      "Epoch: 26, Val loss: 0.0003968224384743346\n",
      "Epoch: 27, Val loss: 0.0002943436055106875\n",
      "Epoch: 28, Val loss: 0.0003757380882778571\n",
      "Epoch: 29, Val loss: 0.00023577031920739633\n"
     ]
    },
    {
     "name": "stderr",
     "output_type": "stream",
     "text": [
      "[I 2024-10-28 05:55:52,165] Trial 2 finished with value: 0.0002130862909309968 and parameters: {'num_conv_layers': 1, 'n_kernels': 16.0, 'kernel_sizes': 6.0, 'lr': 0.0017391835374268756}. Best is trial 1 with value: 0.00011263713803732843.\n"
     ]
    },
    {
     "name": "stdout",
     "output_type": "stream",
     "text": [
      "Epoch: 30, Val loss: 0.0002130862909309968\n",
      "Early stopping at epoch 30\n",
      "Best Val Loss this Trial: 0.0002130862909309968\n",
      "Epoch: 0, Val loss: 0.007927909111365294\n",
      "Epoch: 1, Val loss: 0.0028860645988581972\n",
      "Epoch: 2, Val loss: 0.0013490721295313097\n",
      "Epoch: 3, Val loss: 0.0008651534519277704\n",
      "Epoch: 4, Val loss: 0.0007279282435774803\n",
      "Epoch: 5, Val loss: 0.0005354694747236661\n",
      "Epoch: 6, Val loss: 0.0005295698149885951\n",
      "Epoch: 7, Val loss: 0.0004894232379773067\n",
      "Epoch: 8, Val loss: 0.00042869762670991017\n",
      "Epoch: 9, Val loss: 0.0003702482343556829\n",
      "Epoch: 10, Val loss: 0.0004645573596781494\n",
      "Epoch: 11, Val loss: 0.00032212674543390877\n",
      "Epoch: 12, Val loss: 0.0002695141185665081\n",
      "Epoch: 13, Val loss: 0.00027649071026279026\n",
      "Epoch: 14, Val loss: 0.00038857572806778195\n",
      "Epoch: 15, Val loss: 0.0002400403266845263\n",
      "Epoch: 16, Val loss: 0.0002392908781441028\n",
      "Epoch: 17, Val loss: 0.00021469638569471546\n",
      "Epoch: 18, Val loss: 0.00022253186102910765\n",
      "Epoch: 19, Val loss: 0.00019550699261554444\n",
      "Epoch: 20, Val loss: 0.00024423664267215697\n",
      "Epoch: 21, Val loss: 0.00017443360940157238\n",
      "Epoch: 22, Val loss: 0.00018494345937904296\n",
      "Epoch: 23, Val loss: 0.0002887144450468417\n",
      "Epoch: 24, Val loss: 0.00018147282940051996\n",
      "Epoch: 25, Val loss: 0.00016047136049230612\n",
      "Epoch: 26, Val loss: 0.0001868557580883523\n",
      "Epoch: 27, Val loss: 0.00013595570523578388\n",
      "Epoch: 28, Val loss: 0.0001447601075169509\n",
      "Epoch: 29, Val loss: 0.0002147192886680301\n",
      "Epoch: 30, Val loss: 0.0001777183319156906\n",
      "Epoch: 31, Val loss: 0.00015144393055224154\n",
      "Epoch: 32, Val loss: 0.0001258224473197041\n",
      "Epoch: 33, Val loss: 0.00013247433361178462\n",
      "Epoch: 34, Val loss: 0.00012379156917313204\n",
      "Epoch: 35, Val loss: 0.00012008183244673006\n",
      "Epoch: 36, Val loss: 0.0001152308064370623\n",
      "Epoch: 37, Val loss: 0.0001319841034056193\n",
      "Epoch: 38, Val loss: 0.0001195413190458551\n",
      "Epoch: 39, Val loss: 0.0001280215142481825\n",
      "Epoch: 40, Val loss: 0.00010811958811681172\n"
     ]
    },
    {
     "name": "stderr",
     "output_type": "stream",
     "text": [
      "[I 2024-10-28 05:56:53,748] Trial 3 finished with value: 0.0001673075964942507 and parameters: {'num_conv_layers': 2, 'n_kernels': 64.0, 'kernel_sizes': 5.0, 'lr': 0.0002005789369813673}. Best is trial 1 with value: 0.00011263713803732843.\n"
     ]
    },
    {
     "name": "stdout",
     "output_type": "stream",
     "text": [
      "Epoch: 41, Val loss: 0.0001673075964942507\n",
      "Early stopping at epoch 41\n",
      "Best Val Loss this Trial: 0.0001673075964942507\n",
      "Epoch: 0, Val loss: 0.008068220567507431\n",
      "Epoch: 1, Val loss: 0.003456959606379143\n",
      "Epoch: 2, Val loss: 0.001561718102858967\n",
      "Epoch: 3, Val loss: 0.0015258567739063157\n",
      "Epoch: 4, Val loss: 0.0006546484262674537\n",
      "Epoch: 5, Val loss: 0.0005071927686609948\n",
      "Epoch: 6, Val loss: 0.00046607766635755764\n",
      "Epoch: 7, Val loss: 0.0003637529397930584\n",
      "Epoch: 8, Val loss: 0.0003101066575208022\n",
      "Epoch: 9, Val loss: 0.0003200599721744338\n",
      "Epoch: 10, Val loss: 0.0003201563783018834\n",
      "Epoch: 11, Val loss: 0.00031305832307513117\n",
      "Epoch: 12, Val loss: 0.0002477449946974615\n",
      "Epoch: 13, Val loss: 0.00019529068769273173\n",
      "Epoch: 14, Val loss: 0.00031745095369624946\n",
      "Epoch: 15, Val loss: 0.0002520679117878899\n",
      "Epoch: 16, Val loss: 0.00017529498415344403\n",
      "Epoch: 17, Val loss: 0.00015931904757356582\n",
      "Epoch: 18, Val loss: 0.00019759152378239192\n",
      "Epoch: 19, Val loss: 0.0001638558423708782\n",
      "Epoch: 20, Val loss: 0.00017393140312464326\n",
      "Epoch: 21, Val loss: 0.00012895681179659918\n",
      "Epoch: 22, Val loss: 0.0001605882787724766\n",
      "Epoch: 23, Val loss: 0.00023307670957536207\n",
      "Epoch: 24, Val loss: 0.0001340602632722933\n",
      "Epoch: 25, Val loss: 0.00013449452250599404\n"
     ]
    },
    {
     "name": "stderr",
     "output_type": "stream",
     "text": [
      "[I 2024-10-28 05:57:34,335] Trial 4 finished with value: 0.00016012573887098534 and parameters: {'num_conv_layers': 2, 'n_kernels': 128.0, 'kernel_sizes': 3.0, 'lr': 0.00017776581564670057}. Best is trial 1 with value: 0.00011263713803732843.\n"
     ]
    },
    {
     "name": "stdout",
     "output_type": "stream",
     "text": [
      "Epoch: 26, Val loss: 0.00016012573887098534\n",
      "Early stopping at epoch 26\n",
      "Best Val Loss this Trial: 0.00016012573887098534\n"
     ]
    },
    {
     "name": "stderr",
     "output_type": "stream",
     "text": [
      "[I 2024-10-28 05:57:35,847] Trial 5 pruned. \n"
     ]
    },
    {
     "name": "stdout",
     "output_type": "stream",
     "text": [
      "Epoch: 0, Val loss: 0.01219906620721086\n",
      "Epoch: 0, Val loss: 0.002917550215159312\n",
      "Epoch: 1, Val loss: 0.0009187475503790471\n",
      "Epoch: 2, Val loss: 0.0008101965742022531\n",
      "Epoch: 3, Val loss: 0.0005365785226374108\n",
      "Epoch: 4, Val loss: 0.001143281890077389\n"
     ]
    },
    {
     "name": "stderr",
     "output_type": "stream",
     "text": [
      "[I 2024-10-28 05:57:44,732] Trial 6 pruned. \n"
     ]
    },
    {
     "name": "stdout",
     "output_type": "stream",
     "text": [
      "Epoch: 5, Val loss: 0.0012260091960684867\n",
      "Epoch: 0, Val loss: 0.004650630121533241\n"
     ]
    },
    {
     "name": "stderr",
     "output_type": "stream",
     "text": [
      "[I 2024-10-28 05:57:47,071] Trial 7 pruned. \n"
     ]
    },
    {
     "name": "stdout",
     "output_type": "stream",
     "text": [
      "Epoch: 1, Val loss: 0.004708514498092999\n",
      "Epoch: 0, Val loss: 0.00140913652552642\n",
      "Epoch: 1, Val loss: 0.0003048154873647588\n",
      "Epoch: 2, Val loss: 0.0006716372884270679\n",
      "Epoch: 3, Val loss: 0.00041605098062079464\n",
      "Epoch: 4, Val loss: 0.0002793172139547065\n",
      "Epoch: 5, Val loss: 0.00018120678615583203\n",
      "Epoch: 6, Val loss: 0.0005167311622858701\n",
      "Epoch: 7, Val loss: 0.00016493930574780147\n",
      "Epoch: 8, Val loss: 0.0002137908838456994\n",
      "Epoch: 9, Val loss: 0.00015980117836405928\n",
      "Epoch: 10, Val loss: 0.00014960741653837438\n",
      "Epoch: 11, Val loss: 9.053251394814449e-05\n",
      "Epoch: 12, Val loss: 0.00020453509967052776\n",
      "Epoch: 13, Val loss: 0.0005472909782776354\n",
      "Epoch: 14, Val loss: 9.055418381765962e-05\n",
      "Epoch: 15, Val loss: 7.629106380008101e-05\n",
      "Epoch: 16, Val loss: 0.00031547828841880837\n",
      "Epoch: 17, Val loss: 7.28846752102453e-05\n",
      "Epoch: 18, Val loss: 8.138541184014016e-05\n",
      "Epoch: 19, Val loss: 0.00010154539995710365\n"
     ]
    },
    {
     "name": "stderr",
     "output_type": "stream",
     "text": [
      "[I 2024-10-28 05:58:18,153] Trial 8 finished with value: 0.00019332409149675598 and parameters: {'num_conv_layers': 2, 'n_kernels': 112.0, 'kernel_sizes': 6.0, 'lr': 0.003991536627571821}. Best is trial 1 with value: 0.00011263713803732843.\n"
     ]
    },
    {
     "name": "stdout",
     "output_type": "stream",
     "text": [
      "Epoch: 20, Val loss: 0.00019332409149675598\n",
      "Early stopping at epoch 20\n",
      "Best Val Loss this Trial: 0.00019332409149675598\n",
      "Epoch: 0, Val loss: 0.0027830495313008945\n",
      "Epoch: 1, Val loss: 0.0010864544515826334\n",
      "Epoch: 2, Val loss: 0.0005353267455590953\n",
      "Epoch: 3, Val loss: 0.00039858476315529493\n",
      "Epoch: 4, Val loss: 0.00035231153512548685\n",
      "Epoch: 5, Val loss: 0.0003045915356592442\n",
      "Epoch: 6, Val loss: 0.0003342227909552793\n",
      "Epoch: 7, Val loss: 0.00030958460417275643\n",
      "Epoch: 8, Val loss: 0.00021279381447432874\n",
      "Epoch: 9, Val loss: 0.00030394062886420544\n",
      "Epoch: 10, Val loss: 0.00015068195694828662\n",
      "Epoch: 11, Val loss: 0.00031737275356944237\n",
      "Epoch: 12, Val loss: 0.00035587701193777384\n",
      "Epoch: 13, Val loss: 0.00017253660124156458\n",
      "Epoch: 14, Val loss: 0.0001111938041021936\n",
      "Epoch: 15, Val loss: 0.0001156228618362011\n",
      "Epoch: 16, Val loss: 0.00010062854986851259\n",
      "Epoch: 17, Val loss: 0.00010211011507418046\n",
      "Epoch: 18, Val loss: 9.694318290494887e-05\n",
      "Epoch: 19, Val loss: 0.00015352081708186187\n",
      "Epoch: 20, Val loss: 9.88278005289065e-05\n"
     ]
    },
    {
     "name": "stderr",
     "output_type": "stream",
     "text": [
      "[I 2024-10-28 05:58:50,479] Trial 9 finished with value: 0.00019273405477233455 and parameters: {'num_conv_layers': 2, 'n_kernels': 96.0, 'kernel_sizes': 5.0, 'lr': 0.0003418717092749336}. Best is trial 1 with value: 0.00011263713803732843.\n"
     ]
    },
    {
     "name": "stdout",
     "output_type": "stream",
     "text": [
      "Epoch: 21, Val loss: 0.00019273405477233455\n",
      "Early stopping at epoch 21\n",
      "Best Val Loss this Trial: 0.00019273405477233455\n",
      "Epoch: 0, Val loss: 0.014289866432420209\n",
      "Epoch: 1, Val loss: 0.010580953455362946\n",
      "Epoch: 2, Val loss: 0.011094934778670087\n",
      "Epoch: 3, Val loss: 0.009758069502333036\n",
      "Epoch: 4, Val loss: 0.010848312730240261\n",
      "Epoch: 5, Val loss: 0.009405688257314838\n",
      "Epoch: 6, Val loss: 0.009973726481095783\n",
      "Epoch: 7, Val loss: 0.009669760439115075\n",
      "Epoch: 8, Val loss: 0.009318519765749956\n",
      "Epoch: 9, Val loss: 0.009989521639326062\n",
      "Epoch: 10, Val loss: 0.009796170937693399\n",
      "Epoch: 11, Val loss: 0.009187940782747971\n",
      "Epoch: 12, Val loss: 0.009460367321068596\n",
      "Epoch: 13, Val loss: 0.009360052040244779\n",
      "Epoch: 14, Val loss: 0.009051359151131831\n",
      "Epoch: 15, Val loss: 0.009075504341600543\n",
      "Epoch: 16, Val loss: 0.008829009468452288\n",
      "Epoch: 17, Val loss: 0.00931438884865015\n",
      "Epoch: 18, Val loss: 0.009142221218277501\n",
      "Epoch: 19, Val loss: 0.008813306792742677\n",
      "Epoch: 20, Val loss: 0.009190720440342259\n",
      "Epoch: 21, Val loss: 0.008631701107558787\n",
      "Epoch: 22, Val loss: 0.008882461649039362\n",
      "Epoch: 23, Val loss: 0.008700129456627063\n",
      "Epoch: 24, Val loss: 0.008869499049714616\n",
      "Epoch: 25, Val loss: 0.00901014607749943\n"
     ]
    },
    {
     "name": "stderr",
     "output_type": "stream",
     "text": [
      "[I 2024-10-28 05:59:20,016] Trial 0 finished with value: 0.00898945896138047 and parameters: {'num_conv_layers': 1, 'n_kernels': 128.0, 'kernel_sizes': 4.0, 'lr': 0.003026503100212052}. Best is trial 0 with value: 0.00898945896138047.\n"
     ]
    },
    {
     "name": "stdout",
     "output_type": "stream",
     "text": [
      "Epoch: 26, Val loss: 0.00898945896138047\n",
      "Early stopping at epoch 26\n",
      "Best Val Loss this Trial: 0.00898945896138047\n",
      "Epoch: 0, Val loss: 0.017594422842574935\n",
      "Epoch: 1, Val loss: 0.015324746992868872\n",
      "Epoch: 2, Val loss: 0.013988669235338895\n",
      "Epoch: 3, Val loss: 0.013280653697239537\n",
      "Epoch: 4, Val loss: 0.011904036803330239\n",
      "Epoch: 5, Val loss: 0.011220564249839284\n",
      "Epoch: 6, Val loss: 0.010562054859673303\n",
      "Epoch: 7, Val loss: 0.011202363470473733\n",
      "Epoch: 8, Val loss: 0.010358478700837646\n",
      "Epoch: 9, Val loss: 0.009824313092021605\n",
      "Epoch: 10, Val loss: 0.01038255034866305\n",
      "Epoch: 11, Val loss: 0.009433795679082027\n",
      "Epoch: 12, Val loss: 0.009551003530549888\n",
      "Epoch: 13, Val loss: 0.008887630769919254\n",
      "Epoch: 14, Val loss: 0.00886869047067932\n",
      "Epoch: 15, Val loss: 0.00856979596766874\n",
      "Epoch: 16, Val loss: 0.008617215242603013\n",
      "Epoch: 17, Val loss: 0.008565730371504512\n",
      "Epoch: 18, Val loss: 0.008551923622791138\n",
      "Epoch: 19, Val loss: 0.008482233175418826\n",
      "Epoch: 20, Val loss: 0.008201242515092922\n",
      "Epoch: 21, Val loss: 0.008428015914331708\n",
      "Epoch: 22, Val loss: 0.009350120032238018\n",
      "Epoch: 23, Val loss: 0.010084457353203215\n",
      "Epoch: 24, Val loss: 0.008150846604854824\n",
      "Epoch: 25, Val loss: 0.009029723472025596\n",
      "Epoch: 26, Val loss: 0.00815786640995588\n",
      "Epoch: 27, Val loss: 0.008208809730907282\n",
      "Epoch: 28, Val loss: 0.009631741891463852\n",
      "Epoch: 29, Val loss: 0.007806655396627756\n",
      "Epoch: 30, Val loss: 0.0080971644890821\n",
      "Epoch: 31, Val loss: 0.007851428117475703\n",
      "Epoch: 32, Val loss: 0.007890690997656848\n",
      "Epoch: 33, Val loss: 0.00833347025844786\n",
      "Epoch: 34, Val loss: 0.007704736207189978\n",
      "Epoch: 35, Val loss: 0.007737150866514406\n",
      "Epoch: 36, Val loss: 0.007907549088470574\n",
      "Epoch: 37, Val loss: 0.007532142777330218\n",
      "Epoch: 38, Val loss: 0.00769432588146092\n",
      "Epoch: 39, Val loss: 0.007610298950885797\n",
      "Epoch: 40, Val loss: 0.007484264033010755\n",
      "Epoch: 41, Val loss: 0.0075704043245532066\n",
      "Epoch: 42, Val loss: 0.007662468020700746\n",
      "Epoch: 43, Val loss: 0.007895421725299815\n",
      "Epoch: 44, Val loss: 0.008530944481324881\n"
     ]
    },
    {
     "name": "stderr",
     "output_type": "stream",
     "text": [
      "[I 2024-10-28 06:00:29,522] Trial 1 finished with value: 0.007817938937765792 and parameters: {'num_conv_layers': 2, 'n_kernels': 48.0, 'kernel_sizes': 2.0, 'lr': 0.0004515409556337041}. Best is trial 1 with value: 0.007817938937765792.\n"
     ]
    },
    {
     "name": "stdout",
     "output_type": "stream",
     "text": [
      "Epoch: 45, Val loss: 0.007817938937765792\n",
      "Early stopping at epoch 45\n",
      "Best Val Loss this Trial: 0.007817938937765792\n",
      "Epoch: 0, Val loss: 0.01907815545415267\n",
      "Epoch: 1, Val loss: 0.017013083068797223\n",
      "Epoch: 2, Val loss: 0.015750925830748472\n",
      "Epoch: 3, Val loss: 0.015093559944508677\n",
      "Epoch: 4, Val loss: 0.014398230406909417\n",
      "Epoch: 5, Val loss: 0.013998888190198913\n",
      "Epoch: 6, Val loss: 0.01367225262344393\n",
      "Epoch: 7, Val loss: 0.013533695829777509\n",
      "Epoch: 8, Val loss: 0.013070863960151616\n",
      "Epoch: 9, Val loss: 0.013182376716365544\n",
      "Epoch: 10, Val loss: 0.012721274197340393\n",
      "Epoch: 11, Val loss: 0.012571874655719496\n",
      "Epoch: 12, Val loss: 0.012402961082342599\n",
      "Epoch: 13, Val loss: 0.012449588748013489\n",
      "Epoch: 14, Val loss: 0.012209369767154766\n",
      "Epoch: 15, Val loss: 0.012095411318059787\n",
      "Epoch: 16, Val loss: 0.012039852368398609\n",
      "Epoch: 17, Val loss: 0.012051520435314657\n",
      "Epoch: 18, Val loss: 0.011899841652832862\n",
      "Epoch: 19, Val loss: 0.011783921108063724\n",
      "Epoch: 20, Val loss: 0.01179367727918439\n",
      "Epoch: 21, Val loss: 0.011746707853948714\n",
      "Epoch: 22, Val loss: 0.011689514928680455\n",
      "Epoch: 23, Val loss: 0.011654480398258464\n",
      "Epoch: 24, Val loss: 0.011722124991620071\n",
      "Epoch: 25, Val loss: 0.01158434354986709\n",
      "Epoch: 26, Val loss: 0.011620328385526171\n",
      "Epoch: 27, Val loss: 0.011564259490985265\n",
      "Epoch: 28, Val loss: 0.011679936463061051\n",
      "Epoch: 29, Val loss: 0.011571738267970135\n",
      "Epoch: 30, Val loss: 0.011743645571793119\n",
      "Epoch: 31, Val loss: 0.011591298601184135\n",
      "Epoch: 32, Val loss: 0.011534951567554321\n",
      "Epoch: 33, Val loss: 0.011549465728398317\n",
      "Epoch: 34, Val loss: 0.01150450112624492\n",
      "Epoch: 35, Val loss: 0.011602431424280517\n",
      "Epoch: 36, Val loss: 0.011501240126119975\n",
      "Epoch: 37, Val loss: 0.011500795857391806\n",
      "Epoch: 38, Val loss: 0.011832684945140002\n"
     ]
    },
    {
     "name": "stderr",
     "output_type": "stream",
     "text": [
      "[I 2024-10-28 06:01:16,546] Trial 2 finished with value: 0.01149921076427986 and parameters: {'num_conv_layers': 1, 'n_kernels': 128.0, 'kernel_sizes': 3.0, 'lr': 0.00014125005473020818}. Best is trial 1 with value: 0.007817938937765792.\n"
     ]
    },
    {
     "name": "stdout",
     "output_type": "stream",
     "text": [
      "Epoch: 39, Val loss: 0.01149921076427986\n",
      "Early stopping at epoch 39\n",
      "Best Val Loss this Trial: 0.01149921076427986\n",
      "Epoch: 0, Val loss: 0.01938599469458573\n",
      "Epoch: 1, Val loss: 0.01803631242762646\n",
      "Epoch: 2, Val loss: 0.016624149922122303\n",
      "Epoch: 3, Val loss: 0.015371749782536784\n",
      "Epoch: 4, Val loss: 0.01455031155457354\n",
      "Epoch: 5, Val loss: 0.014249289682946907\n",
      "Epoch: 6, Val loss: 0.013677086549787184\n",
      "Epoch: 7, Val loss: 0.013061710430356937\n",
      "Epoch: 8, Val loss: 0.013008355483428663\n",
      "Epoch: 9, Val loss: 0.012597546765469333\n",
      "Epoch: 10, Val loss: 0.012328604966577174\n",
      "Epoch: 11, Val loss: 0.012233813382828465\n",
      "Epoch: 12, Val loss: 0.011795640990743015\n",
      "Epoch: 13, Val loss: 0.011475095177132986\n",
      "Epoch: 14, Val loss: 0.011238850999432497\n",
      "Epoch: 15, Val loss: 0.011136925815103145\n",
      "Epoch: 16, Val loss: 0.010930961165099572\n",
      "Epoch: 17, Val loss: 0.01069990751078814\n",
      "Epoch: 18, Val loss: 0.010620463583777603\n",
      "Epoch: 19, Val loss: 0.01054204804584002\n",
      "Epoch: 20, Val loss: 0.010677136381307984\n",
      "Epoch: 21, Val loss: 0.010478807782404061\n",
      "Epoch: 22, Val loss: 0.00999545669143335\n",
      "Epoch: 23, Val loss: 0.010068597496909082\n",
      "Epoch: 24, Val loss: 0.009897221121578835\n",
      "Epoch: 25, Val loss: 0.009747072408556875\n",
      "Epoch: 26, Val loss: 0.009693703291794429\n",
      "Epoch: 27, Val loss: 0.010395874750887992\n",
      "Epoch: 28, Val loss: 0.009531905442778753\n",
      "Epoch: 29, Val loss: 0.009598266459706947\n",
      "Epoch: 30, Val loss: 0.009458215693290481\n",
      "Epoch: 31, Val loss: 0.009178326329869082\n",
      "Epoch: 32, Val loss: 0.009780730383518415\n",
      "Epoch: 33, Val loss: 0.009302065833113514\n",
      "Epoch: 34, Val loss: 0.008965991772751078\n",
      "Epoch: 35, Val loss: 0.009031241550707282\n",
      "Epoch: 36, Val loss: 0.008842508130483966\n",
      "Epoch: 37, Val loss: 0.00906535169770384\n",
      "Epoch: 38, Val loss: 0.008783212520627894\n",
      "Epoch: 39, Val loss: 0.008716378447551949\n",
      "Epoch: 40, Val loss: 0.0091249007695856\n",
      "Epoch: 41, Val loss: 0.00866275725977766\n",
      "Epoch: 42, Val loss: 0.008554318220290937\n",
      "Epoch: 43, Val loss: 0.009938444672590202\n",
      "Epoch: 44, Val loss: 0.008495672754187169\n",
      "Epoch: 45, Val loss: 0.008422454826048233\n",
      "Epoch: 46, Val loss: 0.008399270167454885\n",
      "Epoch: 47, Val loss: 0.00831915218777095\n",
      "Epoch: 48, Val loss: 0.00885497505724844\n"
     ]
    },
    {
     "name": "stderr",
     "output_type": "stream",
     "text": [
      "[I 2024-10-28 06:02:30,678] Trial 3 finished with value: 0.00823658851819097 and parameters: {'num_conv_layers': 2, 'n_kernels': 48.0, 'kernel_sizes': 2.0, 'lr': 0.00016255597296504625}. Best is trial 1 with value: 0.007817938937765792.\n"
     ]
    },
    {
     "name": "stdout",
     "output_type": "stream",
     "text": [
      "Epoch: 49, Val loss: 0.00823658851819097\n",
      "Best Val Loss this Trial: 0.00823658851819097\n",
      "Epoch: 0, Val loss: 0.014768303682406744\n",
      "Epoch: 1, Val loss: 0.012717527009021396\n",
      "Epoch: 2, Val loss: 0.011180966403972134\n",
      "Epoch: 3, Val loss: 0.010208431935797516\n",
      "Epoch: 4, Val loss: 0.010011352272306243\n",
      "Epoch: 5, Val loss: 0.008972090286895251\n",
      "Epoch: 6, Val loss: 0.00832331909611025\n",
      "Epoch: 7, Val loss: 0.008833623860373648\n",
      "Epoch: 8, Val loss: 0.007795646322023474\n",
      "Epoch: 9, Val loss: 0.0077094464755863845\n",
      "Epoch: 10, Val loss: 0.007645600012694605\n",
      "Epoch: 11, Val loss: 0.0074423141110863565\n",
      "Epoch: 12, Val loss: 0.006984613514425727\n",
      "Epoch: 13, Val loss: 0.006529592539772837\n",
      "Epoch: 14, Val loss: 0.006650964779238033\n",
      "Epoch: 15, Val loss: 0.006371285367367041\n",
      "Epoch: 16, Val loss: 0.006433630896469531\n",
      "Epoch: 17, Val loss: 0.006203762878480758\n",
      "Epoch: 18, Val loss: 0.0059001778220582725\n",
      "Epoch: 19, Val loss: 0.00595698488326982\n",
      "Epoch: 20, Val loss: 0.006361888064883458\n",
      "Epoch: 21, Val loss: 0.005494422736004568\n",
      "Epoch: 22, Val loss: 0.005715505364271374\n",
      "Epoch: 23, Val loss: 0.005354304960132855\n",
      "Epoch: 24, Val loss: 0.00590267354168762\n",
      "Epoch: 25, Val loss: 0.005353598351964456\n",
      "Epoch: 26, Val loss: 0.005187175960009361\n",
      "Epoch: 27, Val loss: 0.005173794127220654\n",
      "Epoch: 28, Val loss: 0.006224680421316725\n",
      "Epoch: 29, Val loss: 0.005190202864842155\n",
      "Epoch: 30, Val loss: 0.005088308494752989\n",
      "Epoch: 31, Val loss: 0.005136404637223444\n",
      "Epoch: 32, Val loss: 0.006105980880630131\n",
      "Epoch: 33, Val loss: 0.004944587207964471\n",
      "Epoch: 34, Val loss: 0.004763699534675504\n",
      "Epoch: 35, Val loss: 0.00476347856147963\n",
      "Epoch: 36, Val loss: 0.006221436689464519\n",
      "Epoch: 37, Val loss: 0.00472139255501903\n",
      "Epoch: 38, Val loss: 0.004598327847217552\n",
      "Epoch: 39, Val loss: 0.004856359201650589\n",
      "Epoch: 40, Val loss: 0.004848412680837652\n",
      "Epoch: 41, Val loss: 0.004530446924285119\n",
      "Epoch: 42, Val loss: 0.005098223844423699\n",
      "Epoch: 43, Val loss: 0.005867752854505347\n",
      "Epoch: 44, Val loss: 0.004524590139094199\n",
      "Epoch: 45, Val loss: 0.005204680553860325\n"
     ]
    },
    {
     "name": "stderr",
     "output_type": "stream",
     "text": [
      "[I 2024-10-28 06:03:23,311] Trial 4 finished with value: 0.004585104437274301 and parameters: {'num_conv_layers': 1, 'n_kernels': 64.0, 'kernel_sizes': 5.0, 'lr': 0.0008776506819804064}. Best is trial 4 with value: 0.004585104437274301.\n"
     ]
    },
    {
     "name": "stdout",
     "output_type": "stream",
     "text": [
      "Epoch: 46, Val loss: 0.004585104437274301\n",
      "Early stopping at epoch 46\n",
      "Best Val Loss this Trial: 0.004585104437274301\n",
      "Epoch: 0, Val loss: 0.012123428301041963\n",
      "Epoch: 1, Val loss: 0.008734237928038988\n",
      "Epoch: 2, Val loss: 0.006625513246672976\n",
      "Epoch: 3, Val loss: 0.005785900796962599\n",
      "Epoch: 4, Val loss: 0.005638601370832413\n",
      "Epoch: 5, Val loss: 0.004209499336524397\n",
      "Epoch: 6, Val loss: 0.004572471315697886\n",
      "Epoch: 7, Val loss: 0.0030457052127577555\n",
      "Epoch: 8, Val loss: 0.002871187944084597\n",
      "Epoch: 9, Val loss: 0.0024364757277947078\n",
      "Epoch: 10, Val loss: 0.002700854219201729\n",
      "Epoch: 11, Val loss: 0.0024533669526975313\n",
      "Epoch: 12, Val loss: 0.0024922505686752116\n",
      "Epoch: 13, Val loss: 0.0021268917007857347\n",
      "Epoch: 14, Val loss: 0.0019850420873039044\n",
      "Epoch: 15, Val loss: 0.0020084179819434183\n",
      "Epoch: 16, Val loss: 0.0019497954772693766\n",
      "Epoch: 17, Val loss: 0.001721615088172257\n",
      "Epoch: 18, Val loss: 0.0018032145229741358\n",
      "Epoch: 19, Val loss: 0.0016051385221847643\n",
      "Epoch: 20, Val loss: 0.0017415556579561601\n",
      "Epoch: 21, Val loss: 0.00292030345592807\n",
      "Epoch: 22, Val loss: 0.001972582102673622\n",
      "Epoch: 23, Val loss: 0.001401037666061097\n",
      "Epoch: 24, Val loss: 0.0014280759068763154\n",
      "Epoch: 25, Val loss: 0.001425168006362505\n",
      "Epoch: 26, Val loss: 0.001467090446808431\n",
      "Epoch: 27, Val loss: 0.0021811325354780206\n"
     ]
    },
    {
     "name": "stderr",
     "output_type": "stream",
     "text": [
      "[I 2024-10-28 06:03:56,540] Trial 5 finished with value: 0.0014369441263485127 and parameters: {'num_conv_layers': 1, 'n_kernels': 96.0, 'kernel_sizes': 6.0, 'lr': 0.0016310291122125843}. Best is trial 5 with value: 0.0014369441263485127.\n"
     ]
    },
    {
     "name": "stdout",
     "output_type": "stream",
     "text": [
      "Epoch: 28, Val loss: 0.0014369441263485127\n",
      "Early stopping at epoch 28\n",
      "Best Val Loss this Trial: 0.0014369441263485127\n",
      "Epoch: 0, Val loss: 0.014922899162221668\n",
      "Epoch: 1, Val loss: 0.012817637413803838\n",
      "Epoch: 2, Val loss: 0.011629815991474396\n",
      "Epoch: 3, Val loss: 0.010696741010054436\n",
      "Epoch: 4, Val loss: 0.010829535969652427\n",
      "Epoch: 5, Val loss: 0.009745983228795867\n",
      "Epoch: 6, Val loss: 0.009306834614636678\n",
      "Epoch: 7, Val loss: 0.009999933555069515\n",
      "Epoch: 8, Val loss: 0.009709027156026827\n",
      "Epoch: 9, Val loss: 0.009106719470383901\n",
      "Epoch: 10, Val loss: 0.008961568519863117\n",
      "Epoch: 11, Val loss: 0.008827821094877062\n",
      "Epoch: 12, Val loss: 0.009029145071951624\n",
      "Epoch: 13, Val loss: 0.008746576433778446\n",
      "Epoch: 14, Val loss: 0.008933998968722856\n",
      "Epoch: 15, Val loss: 0.008569385199688183\n",
      "Epoch: 16, Val loss: 0.0089412904304699\n",
      "Epoch: 17, Val loss: 0.008478304584168343\n",
      "Epoch: 18, Val loss: 0.009632134963320488\n",
      "Epoch: 19, Val loss: 0.00851734610210754\n",
      "Epoch: 20, Val loss: 0.009269444297792183\n",
      "Epoch: 21, Val loss: 0.008987654162706155\n"
     ]
    },
    {
     "name": "stderr",
     "output_type": "stream",
     "text": [
      "[I 2024-10-28 06:04:22,499] Trial 6 finished with value: 0.00954186993961533 and parameters: {'num_conv_layers': 1, 'n_kernels': 80.0, 'kernel_sizes': 4.0, 'lr': 0.001157543293438033}. Best is trial 5 with value: 0.0014369441263485127.\n"
     ]
    },
    {
     "name": "stdout",
     "output_type": "stream",
     "text": [
      "Epoch: 22, Val loss: 0.00954186993961533\n",
      "Early stopping at epoch 22\n",
      "Best Val Loss this Trial: 0.00954186993961533\n",
      "Epoch: 0, Val loss: 0.014385676011443138\n",
      "Epoch: 1, Val loss: 0.011692833597174821\n",
      "Epoch: 2, Val loss: 0.010518024367097223\n",
      "Epoch: 3, Val loss: 0.009619968149285668\n",
      "Epoch: 4, Val loss: 0.009277207040602071\n",
      "Epoch: 5, Val loss: 0.008573167167333329\n",
      "Epoch: 6, Val loss: 0.007869448483937507\n",
      "Epoch: 7, Val loss: 0.007427443438766795\n",
      "Epoch: 8, Val loss: 0.007332774304036592\n",
      "Epoch: 9, Val loss: 0.006961352748071982\n",
      "Epoch: 10, Val loss: 0.006606356475629613\n",
      "Epoch: 11, Val loss: 0.006381449267729862\n",
      "Epoch: 12, Val loss: 0.006059542989843868\n",
      "Epoch: 13, Val loss: 0.006000489432316942\n",
      "Epoch: 14, Val loss: 0.005802347890945136\n",
      "Epoch: 15, Val loss: 0.005544779305823912\n",
      "Epoch: 16, Val loss: 0.0071575735968290866\n",
      "Epoch: 17, Val loss: 0.006136569012410174\n",
      "Epoch: 18, Val loss: 0.005128749896987126\n",
      "Epoch: 19, Val loss: 0.0051787957821725905\n",
      "Epoch: 20, Val loss: 0.0050684992178207915\n",
      "Epoch: 21, Val loss: 0.005571463036860348\n",
      "Epoch: 22, Val loss: 0.005362709251861287\n",
      "Epoch: 23, Val loss: 0.007386708111725111\n",
      "Epoch: 24, Val loss: 0.00503866058977273\n",
      "Epoch: 25, Val loss: 0.005024892629251584\n",
      "Epoch: 26, Val loss: 0.004754020134982072\n",
      "Epoch: 27, Val loss: 0.004773751180818002\n",
      "Epoch: 28, Val loss: 0.005123836861955177\n",
      "Epoch: 29, Val loss: 0.006019052330993562\n",
      "Epoch: 30, Val loss: 0.005307893878700705\n",
      "Epoch: 31, Val loss: 0.004598116935986994\n",
      "Epoch: 32, Val loss: 0.00438710297885725\n",
      "Epoch: 33, Val loss: 0.005192794611191966\n",
      "Epoch: 34, Val loss: 0.004676072689123515\n",
      "Epoch: 35, Val loss: 0.004291055300153601\n",
      "Epoch: 36, Val loss: 0.005346628866142506\n",
      "Epoch: 37, Val loss: 0.005220727076650494\n",
      "Epoch: 38, Val loss: 0.004312049565661667\n",
      "Epoch: 39, Val loss: 0.004403163552578761\n",
      "Epoch: 40, Val loss: 0.004267938122646804\n",
      "Epoch: 41, Val loss: 0.004256908024629403\n",
      "Epoch: 42, Val loss: 0.004187987852666495\n",
      "Epoch: 43, Val loss: 0.003946306116771526\n",
      "Epoch: 44, Val loss: 0.004518148445516315\n",
      "Epoch: 45, Val loss: 0.003838985043967891\n",
      "Epoch: 46, Val loss: 0.0039003448208602956\n",
      "Epoch: 47, Val loss: 0.004387044412497845\n",
      "Epoch: 48, Val loss: 0.004223266447313193\n"
     ]
    },
    {
     "name": "stderr",
     "output_type": "stream",
     "text": [
      "[I 2024-10-28 06:05:19,214] Trial 7 finished with value: 0.004024455463115731 and parameters: {'num_conv_layers': 1, 'n_kernels': 48.0, 'kernel_sizes': 6.0, 'lr': 0.0011244407750213977}. Best is trial 5 with value: 0.0014369441263485127.\n"
     ]
    },
    {
     "name": "stdout",
     "output_type": "stream",
     "text": [
      "Epoch: 49, Val loss: 0.004024455463115731\n",
      "Best Val Loss this Trial: 0.004024455463115731\n",
      "Epoch: 0, Val loss: 0.010717818445852425\n",
      "Epoch: 1, Val loss: 0.008252466525325282\n",
      "Epoch: 2, Val loss: 0.0056550401008218275\n",
      "Epoch: 3, Val loss: 0.004618676229077591\n",
      "Epoch: 4, Val loss: 0.004699418501347367\n",
      "Epoch: 5, Val loss: 0.0036830576126758233\n",
      "Epoch: 6, Val loss: 0.0034407654107532376\n",
      "Epoch: 7, Val loss: 0.0031367926908115675\n",
      "Epoch: 8, Val loss: 0.002807831614572778\n",
      "Epoch: 9, Val loss: 0.003941739845670696\n",
      "Epoch: 10, Val loss: 0.00274775513402051\n",
      "Epoch: 11, Val loss: 0.0036989105736008948\n",
      "Epoch: 12, Val loss: 0.0021264484210903\n",
      "Epoch: 13, Val loss: 0.003335472862992404\n",
      "Epoch: 14, Val loss: 0.002283982815157272\n",
      "Epoch: 15, Val loss: 0.002040201478685515\n",
      "Epoch: 16, Val loss: 0.002995551960805479\n",
      "Epoch: 17, Val loss: 0.0018055523831783356\n",
      "Epoch: 18, Val loss: 0.0017692513266900699\n",
      "Epoch: 19, Val loss: 0.001591994252272794\n",
      "Epoch: 20, Val loss: 0.002148423024998484\n",
      "Epoch: 21, Val loss: 0.0014748885796274035\n",
      "Epoch: 22, Val loss: 0.0016636759038759857\n",
      "Epoch: 23, Val loss: 0.0017503851688363487\n",
      "Epoch: 24, Val loss: 0.0017081437750349347\n",
      "Epoch: 25, Val loss: 0.0017486644506307207\n",
      "Epoch: 26, Val loss: 0.0014475355726770228\n",
      "Epoch: 27, Val loss: 0.002168734403203727\n",
      "Epoch: 28, Val loss: 0.0013193958829471476\n",
      "Epoch: 29, Val loss: 0.001393897279810447\n",
      "Epoch: 30, Val loss: 0.001388494102941014\n",
      "Epoch: 31, Val loss: 0.0012550724300398675\n",
      "Epoch: 32, Val loss: 0.0012857220105779094\n",
      "Epoch: 33, Val loss: 0.0012599361687799136\n",
      "Epoch: 34, Val loss: 0.0013033627200589124\n",
      "Epoch: 35, Val loss: 0.0018726722063679788\n",
      "Epoch: 36, Val loss: 0.0012351460926509344\n",
      "Epoch: 37, Val loss: 0.0010538478906795732\n",
      "Epoch: 38, Val loss: 0.001545843163318136\n",
      "Epoch: 39, Val loss: 0.0011653930379642954\n",
      "Epoch: 40, Val loss: 0.0011969939181203039\n",
      "Epoch: 41, Val loss: 0.0013040448372296065\n",
      "Epoch: 42, Val loss: 0.0009785190536332133\n",
      "Epoch: 43, Val loss: 0.0009991724569446002\n",
      "Epoch: 44, Val loss: 0.0011407026118582957\n",
      "Epoch: 45, Val loss: 0.0012367829664522766\n",
      "Epoch: 46, Val loss: 0.0010707368921243753\n"
     ]
    },
    {
     "name": "stderr",
     "output_type": "stream",
     "text": [
      "[I 2024-10-28 06:06:11,672] Trial 8 finished with value: 0.0013084732611468618 and parameters: {'num_conv_layers': 1, 'n_kernels': 96.0, 'kernel_sizes': 6.0, 'lr': 0.0027882864734390207}. Best is trial 8 with value: 0.0013084732611468618.\n"
     ]
    },
    {
     "name": "stdout",
     "output_type": "stream",
     "text": [
      "Epoch: 47, Val loss: 0.0013084732611468618\n",
      "Early stopping at epoch 47\n",
      "Best Val Loss this Trial: 0.0013084732611468618\n",
      "Epoch: 0, Val loss: 0.014595934830637824\n"
     ]
    },
    {
     "name": "stderr",
     "output_type": "stream",
     "text": [
      "[I 2024-10-28 06:06:14,404] Trial 9 pruned. \n"
     ]
    },
    {
     "name": "stdout",
     "output_type": "stream",
     "text": [
      "Epoch: 1, Val loss: 0.013339257705558697\n",
      "Epoch: 0, Val loss: 0.018972887124261286\n",
      "Epoch: 1, Val loss: 0.018858279236870952\n",
      "Epoch: 2, Val loss: 0.018249086160053555\n",
      "Epoch: 3, Val loss: 0.01807426727719159\n",
      "Epoch: 4, Val loss: 0.018010243916740783\n",
      "Epoch: 5, Val loss: 0.017874784214406185\n",
      "Epoch: 6, Val loss: 0.01784970111444465\n",
      "Epoch: 7, Val loss: 0.017835873792059403\n",
      "Epoch: 8, Val loss: 0.01801551803230093\n",
      "Epoch: 9, Val loss: 0.018183948133841284\n",
      "Epoch: 10, Val loss: 0.01808299870094937\n",
      "Epoch: 11, Val loss: 0.017982370657925933\n",
      "Epoch: 12, Val loss: 0.017723261227465082\n",
      "Epoch: 13, Val loss: 0.01778176322611224\n",
      "Epoch: 14, Val loss: 0.01771759908869226\n",
      "Epoch: 15, Val loss: 0.017942733163189176\n",
      "Epoch: 16, Val loss: 0.01785046623971982\n"
     ]
    },
    {
     "name": "stderr",
     "output_type": "stream",
     "text": [
      "[I 2024-10-28 06:06:35,287] Trial 0 finished with value: 0.01779113669728494 and parameters: {'num_conv_layers': 1, 'n_kernels': 16.0, 'kernel_sizes': 2.0, 'lr': 0.0010751672845953067}. Best is trial 0 with value: 0.01779113669728494.\n"
     ]
    },
    {
     "name": "stdout",
     "output_type": "stream",
     "text": [
      "Epoch: 17, Val loss: 0.01779113669728494\n",
      "Early stopping at epoch 17\n",
      "Best Val Loss this Trial: 0.01779113669728494\n",
      "Epoch: 0, Val loss: 0.018221045183575053\n",
      "Epoch: 1, Val loss: 0.01752106576728133\n",
      "Epoch: 2, Val loss: 0.017224708540189978\n",
      "Epoch: 3, Val loss: 0.016873663358995292\n",
      "Epoch: 4, Val loss: 0.017229212006219685\n",
      "Epoch: 5, Val loss: 0.016553110437085614\n",
      "Epoch: 6, Val loss: 0.01621469203979732\n",
      "Epoch: 7, Val loss: 0.016035188049173508\n",
      "Epoch: 8, Val loss: 0.015934079981003053\n",
      "Epoch: 9, Val loss: 0.01598357780175841\n",
      "Epoch: 10, Val loss: 0.01603914076526068\n",
      "Epoch: 11, Val loss: 0.016282632590757094\n",
      "Epoch: 12, Val loss: 0.015868039242525257\n",
      "Epoch: 13, Val loss: 0.015400205354771426\n",
      "Epoch: 14, Val loss: 0.015473684182581611\n",
      "Epoch: 15, Val loss: 0.015218769040945759\n",
      "Epoch: 16, Val loss: 0.015346749765304929\n",
      "Epoch: 17, Val loss: 0.0156488856061911\n",
      "Epoch: 18, Val loss: 0.015092794735653278\n",
      "Epoch: 19, Val loss: 0.014973334729289398\n",
      "Epoch: 20, Val loss: 0.014634959330049973\n",
      "Epoch: 21, Val loss: 0.01457266041284634\n",
      "Epoch: 22, Val loss: 0.014487074779617226\n",
      "Epoch: 23, Val loss: 0.014508151914924383\n",
      "Epoch: 24, Val loss: 0.014481282842735577\n",
      "Epoch: 25, Val loss: 0.014405052888039976\n",
      "Epoch: 26, Val loss: 0.015249560786108686\n",
      "Epoch: 27, Val loss: 0.014952653662787162\n",
      "Epoch: 28, Val loss: 0.01410402257481001\n",
      "Epoch: 29, Val loss: 0.014235196052055456\n",
      "Epoch: 30, Val loss: 0.014035948227820361\n",
      "Epoch: 31, Val loss: 0.01416134563051801\n",
      "Epoch: 32, Val loss: 0.015653825024715982\n",
      "Epoch: 33, Val loss: 0.013905084998402586\n",
      "Epoch: 34, Val loss: 0.014090894387127498\n",
      "Epoch: 35, Val loss: 0.014077169840566369\n",
      "Epoch: 36, Val loss: 0.013958622816886403\n",
      "Epoch: 37, Val loss: 0.014345743761071537\n",
      "Epoch: 38, Val loss: 0.013864686491732031\n",
      "Epoch: 39, Val loss: 0.014077948696879495\n",
      "Epoch: 40, Val loss: 0.014042861558672072\n",
      "Epoch: 41, Val loss: 0.01440111129409355\n",
      "Epoch: 42, Val loss: 0.01385928350739563\n"
     ]
    },
    {
     "name": "stderr",
     "output_type": "stream",
     "text": [
      "[I 2024-10-28 06:07:25,959] Trial 1 finished with value: 0.01413642179666676 and parameters: {'num_conv_layers': 1, 'n_kernels': 64.0, 'kernel_sizes': 3.0, 'lr': 0.0007373155010676808}. Best is trial 1 with value: 0.01413642179666676.\n"
     ]
    },
    {
     "name": "stdout",
     "output_type": "stream",
     "text": [
      "Epoch: 43, Val loss: 0.01413642179666676\n",
      "Early stopping at epoch 43\n",
      "Best Val Loss this Trial: 0.01413642179666676\n",
      "Epoch: 0, Val loss: 0.019450297002067678\n",
      "Epoch: 1, Val loss: 0.01894662508932062\n",
      "Epoch: 2, Val loss: 0.018481197440598764\n",
      "Epoch: 3, Val loss: 0.01831476378421753\n",
      "Epoch: 4, Val loss: 0.018224016970230475\n",
      "Epoch: 5, Val loss: 0.018007312021735642\n",
      "Epoch: 6, Val loss: 0.01790016998226444\n",
      "Epoch: 7, Val loss: 0.017820536417679653\n",
      "Epoch: 8, Val loss: 0.017769232977372713\n",
      "Epoch: 9, Val loss: 0.017832358451321337\n",
      "Epoch: 10, Val loss: 0.017568695140031412\n",
      "Epoch: 11, Val loss: 0.017519848273955602\n",
      "Epoch: 12, Val loss: 0.017438685843864314\n",
      "Epoch: 13, Val loss: 0.017383808266116768\n",
      "Epoch: 14, Val loss: 0.01745283321485433\n",
      "Epoch: 15, Val loss: 0.017326732146211415\n",
      "Epoch: 16, Val loss: 0.017178628920044146\n",
      "Epoch: 17, Val loss: 0.01708632917740406\n",
      "Epoch: 18, Val loss: 0.017131844435969733\n",
      "Epoch: 19, Val loss: 0.017104458306621537\n",
      "Epoch: 20, Val loss: 0.01697744318467175\n",
      "Epoch: 21, Val loss: 0.016964350035016097\n",
      "Epoch: 22, Val loss: 0.01687349794575801\n",
      "Epoch: 23, Val loss: 0.016816250963980317\n",
      "Epoch: 24, Val loss: 0.016801776332605597\n",
      "Epoch: 25, Val loss: 0.016805431733910855\n",
      "Epoch: 26, Val loss: 0.016728369809655298\n",
      "Epoch: 27, Val loss: 0.016889690801612716\n",
      "Epoch: 28, Val loss: 0.016729640832139004\n",
      "Epoch: 29, Val loss: 0.016693387686028186\n",
      "Epoch: 30, Val loss: 0.016681735017774705\n",
      "Epoch: 31, Val loss: 0.016572756871867638\n",
      "Epoch: 32, Val loss: 0.016542099607296478\n",
      "Epoch: 33, Val loss: 0.016581114978553392\n",
      "Epoch: 34, Val loss: 0.016562629383630477\n",
      "Epoch: 35, Val loss: 0.01649462210579624\n",
      "Epoch: 36, Val loss: 0.016483155926928308\n",
      "Epoch: 37, Val loss: 0.016554539079945058\n",
      "Epoch: 38, Val loss: 0.016477527622229014\n",
      "Epoch: 39, Val loss: 0.01641572517955787\n",
      "Epoch: 40, Val loss: 0.01641526335500117\n",
      "Epoch: 41, Val loss: 0.016497427430481482\n",
      "Epoch: 42, Val loss: 0.016334834922518995\n",
      "Epoch: 43, Val loss: 0.016313027152712017\n",
      "Epoch: 44, Val loss: 0.01633382782849491\n",
      "Epoch: 45, Val loss: 0.016380881432953298\n",
      "Epoch: 46, Val loss: 0.016233850851591326\n",
      "Epoch: 47, Val loss: 0.016546000718560994\n",
      "Epoch: 48, Val loss: 0.016197314537647698\n"
     ]
    },
    {
     "name": "stderr",
     "output_type": "stream",
     "text": [
      "[I 2024-10-28 06:08:59,535] Trial 2 finished with value: 0.016198989043696824 and parameters: {'num_conv_layers': 2, 'n_kernels': 16.0, 'kernel_sizes': 3.0, 'lr': 0.00017831516016858284}. Best is trial 1 with value: 0.01413642179666676.\n"
     ]
    },
    {
     "name": "stdout",
     "output_type": "stream",
     "text": [
      "Epoch: 49, Val loss: 0.016198989043696824\n",
      "Best Val Loss this Trial: 0.016198989043696824\n",
      "Epoch: 0, Val loss: 0.01690738294751216\n",
      "Epoch: 1, Val loss: 0.015755562621176753\n",
      "Epoch: 2, Val loss: 0.013984794587167537\n",
      "Epoch: 3, Val loss: 0.012720435169230923\n",
      "Epoch: 4, Val loss: 0.011622108473307174\n",
      "Epoch: 5, Val loss: 0.010520567022996325\n",
      "Epoch: 6, Val loss: 0.010428095310050836\n",
      "Epoch: 7, Val loss: 0.009267495336154332\n",
      "Epoch: 8, Val loss: 0.008431970003522677\n",
      "Epoch: 9, Val loss: 0.008796812172453755\n",
      "Epoch: 10, Val loss: 0.0076001878364139\n",
      "Epoch: 11, Val loss: 0.007319596956253179\n",
      "Epoch: 12, Val loss: 0.007569145071957038\n",
      "Epoch: 13, Val loss: 0.006628275769324894\n",
      "Epoch: 14, Val loss: 0.006671341216693131\n",
      "Epoch: 15, Val loss: 0.006242298559906582\n",
      "Epoch: 16, Val loss: 0.006340063496445043\n",
      "Epoch: 17, Val loss: 0.005704071490157746\n",
      "Epoch: 18, Val loss: 0.00590041261484735\n",
      "Epoch: 19, Val loss: 0.005726304526130359\n",
      "Epoch: 20, Val loss: 0.00549263169324328\n",
      "Epoch: 21, Val loss: 0.005468633458710825\n",
      "Epoch: 22, Val loss: 0.005228899081006774\n",
      "Epoch: 23, Val loss: 0.005067025193880893\n",
      "Epoch: 24, Val loss: 0.005295944995143347\n",
      "Epoch: 25, Val loss: 0.00494995481099806\n",
      "Epoch: 26, Val loss: 0.005553038949027467\n",
      "Epoch: 27, Val loss: 0.004907033104712191\n",
      "Epoch: 28, Val loss: 0.0048169565922381655\n",
      "Epoch: 29, Val loss: 0.00478283318085994\n",
      "Epoch: 30, Val loss: 0.004792355231813386\n",
      "Epoch: 31, Val loss: 0.004741556850922668\n",
      "Epoch: 32, Val loss: 0.004622068964581714\n",
      "Epoch: 33, Val loss: 0.0049509400985418605\n",
      "Epoch: 34, Val loss: 0.004501349722536711\n",
      "Epoch: 35, Val loss: 0.004683520429982589\n",
      "Epoch: 36, Val loss: 0.004959769014161653\n",
      "Epoch: 37, Val loss: 0.004689438533710523\n",
      "Epoch: 38, Val loss: 0.004687807261028415\n"
     ]
    },
    {
     "name": "stderr",
     "output_type": "stream",
     "text": [
      "[I 2024-10-28 06:10:19,051] Trial 3 finished with value: 0.004556150677112432 and parameters: {'num_conv_layers': 2, 'n_kernels': 96.0, 'kernel_sizes': 6.0, 'lr': 0.0004344339628318296}. Best is trial 3 with value: 0.004556150677112432.\n"
     ]
    },
    {
     "name": "stdout",
     "output_type": "stream",
     "text": [
      "Epoch: 39, Val loss: 0.004556150677112432\n",
      "Early stopping at epoch 39\n",
      "Best Val Loss this Trial: 0.004556150677112432\n",
      "Epoch: 0, Val loss: 0.020233772663224455\n",
      "Epoch: 1, Val loss: 0.019112118054181337\n",
      "Epoch: 2, Val loss: 0.01841665307282765\n",
      "Epoch: 3, Val loss: 0.018028685624082375\n",
      "Epoch: 4, Val loss: 0.01775694737592951\n",
      "Epoch: 5, Val loss: 0.017518753858490124\n",
      "Epoch: 6, Val loss: 0.017354866788268853\n",
      "Epoch: 7, Val loss: 0.017157381679066736\n",
      "Epoch: 8, Val loss: 0.016992766187231764\n",
      "Epoch: 9, Val loss: 0.01711697111495285\n",
      "Epoch: 10, Val loss: 0.0171072347364269\n",
      "Epoch: 11, Val loss: 0.016721457824047305\n",
      "Epoch: 12, Val loss: 0.016580072313180972\n",
      "Epoch: 13, Val loss: 0.016493250034813188\n",
      "Epoch: 14, Val loss: 0.016366622378874537\n",
      "Epoch: 15, Val loss: 0.01630014614162282\n",
      "Epoch: 16, Val loss: 0.01618473129506167\n",
      "Epoch: 17, Val loss: 0.01612676498798542\n",
      "Epoch: 18, Val loss: 0.01612087802635108\n",
      "Epoch: 19, Val loss: 0.015967383574789915\n",
      "Epoch: 20, Val loss: 0.015933375642435927\n",
      "Epoch: 21, Val loss: 0.016085075501065988\n",
      "Epoch: 22, Val loss: 0.015876699099715195\n",
      "Epoch: 23, Val loss: 0.015809029082043305\n",
      "Epoch: 24, Val loss: 0.015675671876241\n",
      "Epoch: 25, Val loss: 0.015648394347463027\n",
      "Epoch: 26, Val loss: 0.01562420132323208\n",
      "Epoch: 27, Val loss: 0.015513016844295666\n",
      "Epoch: 28, Val loss: 0.015472096166151583\n",
      "Epoch: 29, Val loss: 0.015437439054202957\n",
      "Epoch: 30, Val loss: 0.015347550633068904\n",
      "Epoch: 31, Val loss: 0.015488173130055906\n",
      "Epoch: 32, Val loss: 0.015255250649638155\n",
      "Epoch: 33, Val loss: 0.01530399988206406\n",
      "Epoch: 34, Val loss: 0.015201836486116178\n",
      "Epoch: 35, Val loss: 0.015178994974121451\n",
      "Epoch: 36, Val loss: 0.01524315496834998\n",
      "Epoch: 37, Val loss: 0.015046936895650549\n",
      "Epoch: 38, Val loss: 0.015053662411773052\n",
      "Epoch: 39, Val loss: 0.015066707459015723\n",
      "Epoch: 40, Val loss: 0.015020270587112278\n",
      "Epoch: 41, Val loss: 0.015003178396031387\n",
      "Epoch: 42, Val loss: 0.014956273657914538\n",
      "Epoch: 43, Val loss: 0.015069159098033212\n",
      "Epoch: 44, Val loss: 0.014948670796126638\n",
      "Epoch: 45, Val loss: 0.014901244523338018\n",
      "Epoch: 46, Val loss: 0.01488074283195166\n",
      "Epoch: 47, Val loss: 0.01482690784594633\n",
      "Epoch: 48, Val loss: 0.014904065005895164\n"
     ]
    },
    {
     "name": "stderr",
     "output_type": "stream",
     "text": [
      "[I 2024-10-28 06:11:15,123] Trial 4 finished with value: 0.01473885060598453 and parameters: {'num_conv_layers': 1, 'n_kernels': 48.0, 'kernel_sizes': 6.0, 'lr': 0.00011546576496598236}. Best is trial 3 with value: 0.004556150677112432.\n"
     ]
    },
    {
     "name": "stdout",
     "output_type": "stream",
     "text": [
      "Epoch: 49, Val loss: 0.01473885060598453\n",
      "Best Val Loss this Trial: 0.01473885060598453\n",
      "Epoch: 0, Val loss: 0.017912834735475797\n",
      "Epoch: 1, Val loss: 0.01684226119158487\n",
      "Epoch: 2, Val loss: 0.016316193983786635\n",
      "Epoch: 3, Val loss: 0.015905426114670232\n",
      "Epoch: 4, Val loss: 0.015230941924497358\n",
      "Epoch: 5, Val loss: 0.01499555675058156\n",
      "Epoch: 6, Val loss: 0.015012814573800335\n",
      "Epoch: 7, Val loss: 0.01409149925526964\n",
      "Epoch: 8, Val loss: 0.013568574847239587\n",
      "Epoch: 9, Val loss: 0.014596030338961855\n",
      "Epoch: 10, Val loss: 0.013079187046720559\n",
      "Epoch: 11, Val loss: 0.013172405551020533\n",
      "Epoch: 12, Val loss: 0.01297346495776477\n",
      "Epoch: 13, Val loss: 0.012644848131582651\n",
      "Epoch: 14, Val loss: 0.01227121872222449\n",
      "Epoch: 15, Val loss: 0.01214881373457929\n",
      "Epoch: 16, Val loss: 0.01261672834889629\n",
      "Epoch: 17, Val loss: 0.012152055656521494\n",
      "Epoch: 18, Val loss: 0.011751220663054248\n",
      "Epoch: 19, Val loss: 0.011938475476354998\n",
      "Epoch: 20, Val loss: 0.011696167598661577\n",
      "Epoch: 21, Val loss: 0.011391514918217674\n",
      "Epoch: 22, Val loss: 0.011316457104622426\n",
      "Epoch: 23, Val loss: 0.0111615862737163\n",
      "Epoch: 24, Val loss: 0.011152040740697939\n",
      "Epoch: 25, Val loss: 0.011496439773159532\n",
      "Epoch: 26, Val loss: 0.011136239459220734\n",
      "Epoch: 27, Val loss: 0.011229561373161582\n",
      "Epoch: 28, Val loss: 0.010796855349077756\n",
      "Epoch: 29, Val loss: 0.010846370797301842\n",
      "Epoch: 30, Val loss: 0.010956303471237676\n",
      "Epoch: 31, Val loss: 0.010627537653343672\n",
      "Epoch: 32, Val loss: 0.01072795188619604\n",
      "Epoch: 33, Val loss: 0.010630239688783374\n",
      "Epoch: 34, Val loss: 0.010586594597587729\n",
      "Epoch: 35, Val loss: 0.01053139191463144\n",
      "Epoch: 36, Val loss: 0.010560852521234471\n",
      "Epoch: 37, Val loss: 0.010715601094162617\n",
      "Epoch: 38, Val loss: 0.010386656193683544\n",
      "Epoch: 39, Val loss: 0.010348863748467376\n",
      "Epoch: 40, Val loss: 0.010533655237438332\n",
      "Epoch: 41, Val loss: 0.01029725923624813\n",
      "Epoch: 42, Val loss: 0.010410394694687974\n",
      "Epoch: 43, Val loss: 0.011918040129762048\n",
      "Epoch: 44, Val loss: 0.010096489732416395\n",
      "Epoch: 45, Val loss: 0.010162724936221782\n",
      "Epoch: 46, Val loss: 0.010138406020262811\n",
      "Epoch: 47, Val loss: 0.010618157402222227\n",
      "Epoch: 48, Val loss: 0.010015994825790454\n"
     ]
    },
    {
     "name": "stderr",
     "output_type": "stream",
     "text": [
      "[I 2024-10-28 06:12:10,683] Trial 5 finished with value: 0.010155776724553643 and parameters: {'num_conv_layers': 1, 'n_kernels': 128.0, 'kernel_sizes': 6.0, 'lr': 0.00038587741721307997}. Best is trial 3 with value: 0.004556150677112432.\n"
     ]
    },
    {
     "name": "stdout",
     "output_type": "stream",
     "text": [
      "Epoch: 49, Val loss: 0.010155776724553643\n",
      "Best Val Loss this Trial: 0.010155776724553643\n",
      "Epoch: 0, Val loss: 0.01840740509936188\n",
      "Epoch: 1, Val loss: 0.01764004568879803\n",
      "Epoch: 2, Val loss: 0.01762498574506523\n",
      "Epoch: 3, Val loss: 0.01744098636584404\n",
      "Epoch: 4, Val loss: 0.017282567217818692\n"
     ]
    },
    {
     "name": "stderr",
     "output_type": "stream",
     "text": [
      "[I 2024-10-28 06:12:17,537] Trial 6 pruned. \n"
     ]
    },
    {
     "name": "stdout",
     "output_type": "stream",
     "text": [
      "Epoch: 5, Val loss: 0.017078072250558015\n"
     ]
    },
    {
     "name": "stderr",
     "output_type": "stream",
     "text": [
      "[I 2024-10-28 06:12:18,733] Trial 7 pruned. \n"
     ]
    },
    {
     "name": "stdout",
     "output_type": "stream",
     "text": [
      "Epoch: 0, Val loss: 0.018724179146094963\n",
      "Epoch: 0, Val loss: 0.018437608949139588\n",
      "Epoch: 1, Val loss: 0.01742818044164242\n",
      "Epoch: 2, Val loss: 0.01653719926252961\n",
      "Epoch: 3, Val loss: 0.01589976653902449\n",
      "Epoch: 4, Val loss: 0.015496587910108332\n",
      "Epoch: 5, Val loss: 0.01756218384999113\n",
      "Epoch: 6, Val loss: 0.014851720770820975\n",
      "Epoch: 7, Val loss: 0.013660865732365184\n",
      "Epoch: 8, Val loss: 0.012886438998353913\n",
      "Epoch: 9, Val loss: 0.012681682036918962\n",
      "Epoch: 10, Val loss: 0.011999458976042194\n",
      "Epoch: 11, Val loss: 0.012299717262657916\n",
      "Epoch: 12, Val loss: 0.011623048852396827\n",
      "Epoch: 13, Val loss: 0.011382792182823913\n",
      "Epoch: 14, Val loss: 0.01076463875400587\n",
      "Epoch: 15, Val loss: 0.01089106213587981\n",
      "Epoch: 16, Val loss: 0.01083277265390015\n",
      "Epoch: 17, Val loss: 0.010735739639395067\n",
      "Epoch: 18, Val loss: 0.010131615950351851\n",
      "Epoch: 19, Val loss: 0.010627189318800712\n",
      "Epoch: 20, Val loss: 0.009849773707966775\n",
      "Epoch: 21, Val loss: 0.010069892504929095\n",
      "Epoch: 22, Val loss: 0.009845333973853251\n",
      "Epoch: 23, Val loss: 0.01012943401080994\n",
      "Epoch: 24, Val loss: 0.00977192901703728\n",
      "Epoch: 25, Val loss: 0.009413905959162448\n",
      "Epoch: 26, Val loss: 0.009719803049746487\n",
      "Epoch: 27, Val loss: 0.009938536782979839\n",
      "Epoch: 28, Val loss: 0.009412597488755217\n",
      "Epoch: 29, Val loss: 0.009853442896030143\n",
      "Epoch: 30, Val loss: 0.009136600409928933\n",
      "Epoch: 31, Val loss: 0.008949718949520308\n",
      "Epoch: 32, Val loss: 0.009014023895749552\n",
      "Epoch: 33, Val loss: 0.008875668558300052\n",
      "Epoch: 34, Val loss: 0.008931964898529725\n",
      "Epoch: 35, Val loss: 0.008785274383237856\n",
      "Epoch: 36, Val loss: 0.009137781322973534\n",
      "Epoch: 37, Val loss: 0.008706630217548236\n",
      "Epoch: 38, Val loss: 0.008672961491581976\n",
      "Epoch: 39, Val loss: 0.008869571941626122\n",
      "Epoch: 40, Val loss: 0.008711802013990525\n",
      "Epoch: 41, Val loss: 0.008716020402777145\n",
      "Epoch: 42, Val loss: 0.008425874454486702\n",
      "Epoch: 43, Val loss: 0.00877920660472865\n",
      "Epoch: 44, Val loss: 0.008733469567014875\n",
      "Epoch: 45, Val loss: 0.009663400598443471\n",
      "Epoch: 46, Val loss: 0.008469159551697154\n"
     ]
    },
    {
     "name": "stderr",
     "output_type": "stream",
     "text": [
      "[I 2024-10-28 06:13:29,236] Trial 8 finished with value: 0.008796592929567665 and parameters: {'num_conv_layers': 2, 'n_kernels': 112.0, 'kernel_sizes': 2.0, 'lr': 0.0003639228294722744}. Best is trial 3 with value: 0.004556150677112432.\n"
     ]
    },
    {
     "name": "stdout",
     "output_type": "stream",
     "text": [
      "Epoch: 47, Val loss: 0.008796592929567665\n",
      "Early stopping at epoch 47\n",
      "Best Val Loss this Trial: 0.008796592929567665\n",
      "Epoch: 0, Val loss: 0.016386288045069728\n",
      "Epoch: 1, Val loss: 0.014152863677829886\n",
      "Epoch: 2, Val loss: 0.012558898870618297\n",
      "Epoch: 3, Val loss: 0.011985690269268986\n",
      "Epoch: 4, Val loss: 0.010351933897114717\n",
      "Epoch: 5, Val loss: 0.009434778092062881\n",
      "Epoch: 6, Val loss: 0.009460363937064242\n",
      "Epoch: 7, Val loss: 0.008519426157347795\n",
      "Epoch: 8, Val loss: 0.00785243008325561\n",
      "Epoch: 9, Val loss: 0.007488329323709139\n",
      "Epoch: 10, Val loss: 0.007837832939182209\n",
      "Epoch: 11, Val loss: 0.007184157755950259\n",
      "Epoch: 12, Val loss: 0.006982412396205796\n",
      "Epoch: 13, Val loss: 0.006612541803763782\n",
      "Epoch: 14, Val loss: 0.006842952891268855\n",
      "Epoch: 15, Val loss: 0.006697572832409706\n",
      "Epoch: 16, Val loss: 0.006504752068247041\n",
      "Epoch: 17, Val loss: 0.006119816451588184\n",
      "Epoch: 18, Val loss: 0.006257321181086202\n",
      "Epoch: 19, Val loss: 0.006524452295862775\n",
      "Epoch: 20, Val loss: 0.0060566260736101335\n",
      "Epoch: 21, Val loss: 0.006294129522811844\n",
      "Epoch: 22, Val loss: 0.0066060558007234055\n",
      "Epoch: 23, Val loss: 0.006056949430599044\n",
      "Epoch: 24, Val loss: 0.005709245916392304\n",
      "Epoch: 25, Val loss: 0.005894803687826627\n",
      "Epoch: 26, Val loss: 0.005931172555742355\n",
      "Epoch: 27, Val loss: 0.005713336964726894\n",
      "Epoch: 28, Val loss: 0.00594933000074811\n"
     ]
    },
    {
     "name": "stderr",
     "output_type": "stream",
     "text": [
      "[I 2024-10-28 06:14:11,256] Trial 9 finished with value: 0.005858368533822652 and parameters: {'num_conv_layers': 2, 'n_kernels': 96.0, 'kernel_sizes': 6.0, 'lr': 0.001966257893260039}. Best is trial 3 with value: 0.004556150677112432.\n"
     ]
    },
    {
     "name": "stdout",
     "output_type": "stream",
     "text": [
      "Epoch: 29, Val loss: 0.005858368533822652\n",
      "Early stopping at epoch 29\n",
      "Best Val Loss this Trial: 0.005858368533822652\n",
      "Epoch: 0, Val loss: 0.0187171295317065\n",
      "Epoch: 1, Val loss: 0.019716533756631818\n",
      "Epoch: 2, Val loss: 0.01944672872320327\n",
      "Epoch: 3, Val loss: 0.018721090078465324\n",
      "Epoch: 4, Val loss: 0.01869347605965713\n",
      "Epoch: 5, Val loss: 0.018692910209552854\n",
      "Epoch: 6, Val loss: 0.019300707556211796\n",
      "Epoch: 7, Val loss: 0.01851432400946625\n",
      "Epoch: 8, Val loss: 0.018455915479387484\n",
      "Epoch: 9, Val loss: 0.01896208431571722\n",
      "Epoch: 10, Val loss: 0.01883961358625028\n",
      "Epoch: 11, Val loss: 0.01867638387454626\n",
      "Epoch: 12, Val loss: 0.01849529769223852\n"
     ]
    },
    {
     "name": "stderr",
     "output_type": "stream",
     "text": [
      "[I 2024-10-28 06:14:27,508] Trial 0 finished with value: 0.018480629110947635 and parameters: {'num_conv_layers': 1, 'n_kernels': 96.0, 'kernel_sizes': 5.0, 'lr': 0.0032685068197278954}. Best is trial 0 with value: 0.018480629110947635.\n"
     ]
    },
    {
     "name": "stdout",
     "output_type": "stream",
     "text": [
      "Epoch: 13, Val loss: 0.018480629110947635\n",
      "Early stopping at epoch 13\n",
      "Best Val Loss this Trial: 0.018480629110947635\n",
      "Epoch: 0, Val loss: 0.018675223227717683\n",
      "Epoch: 1, Val loss: 0.018475951718437113\n",
      "Epoch: 2, Val loss: 0.018531961497874595\n",
      "Epoch: 3, Val loss: 0.018777049990354948\n",
      "Epoch: 4, Val loss: 0.018612932660577133\n",
      "Epoch: 5, Val loss: 0.019144912441380512\n",
      "Epoch: 6, Val loss: 0.018397380737189807\n",
      "Epoch: 7, Val loss: 0.018400573283115514\n",
      "Epoch: 8, Val loss: 0.018213630833018284\n",
      "Epoch: 9, Val loss: 0.018507422728097845\n",
      "Epoch: 10, Val loss: 0.01836172555390204\n",
      "Epoch: 11, Val loss: 0.01834634506008309\n",
      "Epoch: 12, Val loss: 0.018559169585410602\n"
     ]
    },
    {
     "name": "stderr",
     "output_type": "stream",
     "text": [
      "[I 2024-10-28 06:14:48,378] Trial 1 finished with value: 0.018325590066866487 and parameters: {'num_conv_layers': 2, 'n_kernels': 48.0, 'kernel_sizes': 6.0, 'lr': 0.0055600622431716895}. Best is trial 1 with value: 0.018325590066866487.\n"
     ]
    },
    {
     "name": "stdout",
     "output_type": "stream",
     "text": [
      "Epoch: 13, Val loss: 0.018325590066866487\n",
      "Early stopping at epoch 13\n",
      "Best Val Loss this Trial: 0.018325590066866487\n",
      "Epoch: 0, Val loss: 0.019656600319167487\n",
      "Epoch: 1, Val loss: 0.01902135955488198\n",
      "Epoch: 2, Val loss: 0.018721173589046184\n",
      "Epoch: 3, Val loss: 0.018655844518325776\n",
      "Epoch: 4, Val loss: 0.01871611622090523\n",
      "Epoch: 5, Val loss: 0.018616088180460483\n",
      "Epoch: 6, Val loss: 0.018681198322715666\n",
      "Epoch: 7, Val loss: 0.018671431240394838\n",
      "Epoch: 8, Val loss: 0.018786803357557863\n",
      "Epoch: 9, Val loss: 0.0186850754225738\n"
     ]
    },
    {
     "name": "stderr",
     "output_type": "stream",
     "text": [
      "[I 2024-10-28 06:15:01,063] Trial 2 finished with value: 0.018843989548647504 and parameters: {'num_conv_layers': 1, 'n_kernels': 32.0, 'kernel_sizes': 5.0, 'lr': 0.008736696517494848}. Best is trial 1 with value: 0.018325590066866487.\n"
     ]
    },
    {
     "name": "stdout",
     "output_type": "stream",
     "text": [
      "Epoch: 10, Val loss: 0.018843989548647504\n",
      "Early stopping at epoch 10\n",
      "Best Val Loss this Trial: 0.018843989548647504\n",
      "Epoch: 0, Val loss: 0.0187729532416496\n",
      "Epoch: 1, Val loss: 0.019328988388053372\n",
      "Epoch: 2, Val loss: 0.018541364325608455\n",
      "Epoch: 3, Val loss: 0.018619289860511437\n",
      "Epoch: 4, Val loss: 0.018420472621726684\n",
      "Epoch: 5, Val loss: 0.018453868778629437\n",
      "Epoch: 6, Val loss: 0.018638042362932213\n",
      "Epoch: 7, Val loss: 0.01843671902663942\n",
      "Epoch: 8, Val loss: 0.01843021944977152\n"
     ]
    },
    {
     "name": "stderr",
     "output_type": "stream",
     "text": [
      "[I 2024-10-28 06:15:15,356] Trial 3 finished with value: 0.018498460296541452 and parameters: {'num_conv_layers': 2, 'n_kernels': 16.0, 'kernel_sizes': 6.0, 'lr': 0.003150934492930702}. Best is trial 1 with value: 0.018325590066866487.\n"
     ]
    },
    {
     "name": "stdout",
     "output_type": "stream",
     "text": [
      "Epoch: 9, Val loss: 0.018498460296541452\n",
      "Early stopping at epoch 9\n",
      "Best Val Loss this Trial: 0.018498460296541452\n",
      "Epoch: 0, Val loss: 0.019580112933380227\n",
      "Epoch: 1, Val loss: 0.019137197588053014\n",
      "Epoch: 2, Val loss: 0.018833325168866124\n",
      "Epoch: 3, Val loss: 0.018771808447204847\n",
      "Epoch: 4, Val loss: 0.018598697383084103\n",
      "Epoch: 5, Val loss: 0.01855945499995962\n",
      "Epoch: 6, Val loss: 0.01848291215669905\n",
      "Epoch: 7, Val loss: 0.018518326015999682\n",
      "Epoch: 8, Val loss: 0.01839720256005724\n",
      "Epoch: 9, Val loss: 0.018571175455760498\n",
      "Epoch: 10, Val loss: 0.018398903644619845\n",
      "Epoch: 11, Val loss: 0.01839550405056176\n",
      "Epoch: 12, Val loss: 0.01834611013197364\n",
      "Epoch: 13, Val loss: 0.01836691648325222\n",
      "Epoch: 14, Val loss: 0.018526616637618877\n",
      "Epoch: 15, Val loss: 0.018299721495813537\n",
      "Epoch: 16, Val loss: 0.018541494233167578\n",
      "Epoch: 17, Val loss: 0.01865221452342076\n",
      "Epoch: 18, Val loss: 0.018305751256262645\n",
      "Epoch: 19, Val loss: 0.018193708064082343\n",
      "Epoch: 20, Val loss: 0.01824067919475273\n",
      "Epoch: 21, Val loss: 0.01831722376931809\n",
      "Epoch: 22, Val loss: 0.018330684727710538\n",
      "Epoch: 23, Val loss: 0.01839141213756978\n"
     ]
    },
    {
     "name": "stderr",
     "output_type": "stream",
     "text": [
      "[I 2024-10-28 06:15:44,158] Trial 4 finished with value: 0.018218399753841836 and parameters: {'num_conv_layers': 1, 'n_kernels': 80.0, 'kernel_sizes': 6.0, 'lr': 0.00019194500246194724}. Best is trial 4 with value: 0.018218399753841836.\n"
     ]
    },
    {
     "name": "stdout",
     "output_type": "stream",
     "text": [
      "Epoch: 24, Val loss: 0.018218399753841836\n",
      "Early stopping at epoch 24\n",
      "Best Val Loss this Trial: 0.018218399753841836\n"
     ]
    },
    {
     "name": "stderr",
     "output_type": "stream",
     "text": [
      "[I 2024-10-28 06:15:45,674] Trial 5 pruned. \n"
     ]
    },
    {
     "name": "stdout",
     "output_type": "stream",
     "text": [
      "Epoch: 0, Val loss: 0.018780166211609658\n"
     ]
    },
    {
     "name": "stderr",
     "output_type": "stream",
     "text": [
      "[I 2024-10-28 06:15:46,800] Trial 6 pruned. \n"
     ]
    },
    {
     "name": "stdout",
     "output_type": "stream",
     "text": [
      "Epoch: 0, Val loss: 0.018968573425156184\n"
     ]
    },
    {
     "name": "stderr",
     "output_type": "stream",
     "text": [
      "[I 2024-10-28 06:15:47,915] Trial 7 pruned. \n"
     ]
    },
    {
     "name": "stdout",
     "output_type": "stream",
     "text": [
      "Epoch: 0, Val loss: 0.01991869285543505\n"
     ]
    },
    {
     "name": "stderr",
     "output_type": "stream",
     "text": [
      "[I 2024-10-28 06:15:49,041] Trial 8 pruned. \n"
     ]
    },
    {
     "name": "stdout",
     "output_type": "stream",
     "text": [
      "Epoch: 0, Val loss: 0.019054467491327953\n"
     ]
    },
    {
     "name": "stderr",
     "output_type": "stream",
     "text": [
      "[I 2024-10-28 06:15:50,178] Trial 9 pruned. \n"
     ]
    },
    {
     "name": "stdout",
     "output_type": "stream",
     "text": [
      "Epoch: 0, Val loss: 0.01895337067066859\n",
      "Epoch: 0, Val loss: 0.019776489382657487\n",
      "Epoch: 1, Val loss: 0.01999802432126469\n",
      "Epoch: 2, Val loss: 0.019423463712167792\n",
      "Epoch: 3, Val loss: 0.01940329020253868\n",
      "Epoch: 4, Val loss: 0.02031407842778752\n",
      "Epoch: 5, Val loss: 0.019656704149694525\n",
      "Epoch: 6, Val loss: 0.01946039028609028\n",
      "Epoch: 7, Val loss: 0.019532659815417394\n"
     ]
    },
    {
     "name": "stderr",
     "output_type": "stream",
     "text": [
      "[I 2024-10-28 06:16:02,799] Trial 0 finished with value: 0.019444677751893416 and parameters: {'num_conv_layers': 2, 'n_kernels': 80.0, 'kernel_sizes': 4.0, 'lr': 0.00031280142241287256}. Best is trial 0 with value: 0.019444677751893416.\n"
     ]
    },
    {
     "name": "stdout",
     "output_type": "stream",
     "text": [
      "Epoch: 8, Val loss: 0.019444677751893416\n",
      "Early stopping at epoch 8\n",
      "Best Val Loss this Trial: 0.019444677751893416\n",
      "Epoch: 0, Val loss: 0.02080244304309798\n",
      "Epoch: 1, Val loss: 0.020255973781498834\n",
      "Epoch: 2, Val loss: 0.019616982597125392\n",
      "Epoch: 3, Val loss: 0.019347261673269365\n",
      "Epoch: 4, Val loss: 0.01934619111000982\n",
      "Epoch: 5, Val loss: 0.019273672431993943\n",
      "Epoch: 6, Val loss: 0.01926187688134547\n",
      "Epoch: 7, Val loss: 0.019759261654291906\n",
      "Epoch: 8, Val loss: 0.019282227449724052\n",
      "Epoch: 9, Val loss: 0.019428832683330163\n",
      "Epoch: 10, Val loss: 0.019257556030160595\n"
     ]
    },
    {
     "name": "stderr",
     "output_type": "stream",
     "text": [
      "[I 2024-10-28 06:16:20,809] Trial 1 finished with value: 0.019451698634582452 and parameters: {'num_conv_layers': 2, 'n_kernels': 96.0, 'kernel_sizes': 3.0, 'lr': 0.0033205595082803794}. Best is trial 0 with value: 0.019444677751893416.\n"
     ]
    },
    {
     "name": "stdout",
     "output_type": "stream",
     "text": [
      "Epoch: 11, Val loss: 0.019451698634582452\n",
      "Early stopping at epoch 11\n",
      "Best Val Loss this Trial: 0.019451698634582452\n",
      "Epoch: 0, Val loss: 0.019558755251077507\n",
      "Epoch: 1, Val loss: 0.019763161818313803\n",
      "Epoch: 2, Val loss: 0.019863688482496984\n",
      "Epoch: 3, Val loss: 0.019304081765759703\n",
      "Epoch: 4, Val loss: 0.019428931248302642\n",
      "Epoch: 5, Val loss: 0.019304231625113986\n",
      "Epoch: 6, Val loss: 0.01925861670707281\n",
      "Epoch: 7, Val loss: 0.01974581376625559\n",
      "Epoch: 8, Val loss: 0.0194250148617559\n",
      "Epoch: 9, Val loss: 0.019531260551009167\n",
      "Epoch: 10, Val loss: 0.01926164573026646\n"
     ]
    },
    {
     "name": "stderr",
     "output_type": "stream",
     "text": [
      "[I 2024-10-28 06:16:38,689] Trial 2 finished with value: 0.019653005776210472 and parameters: {'num_conv_layers': 2, 'n_kernels': 16.0, 'kernel_sizes': 2.0, 'lr': 0.0011515704459038826}. Best is trial 0 with value: 0.019444677751893416.\n"
     ]
    },
    {
     "name": "stdout",
     "output_type": "stream",
     "text": [
      "Epoch: 11, Val loss: 0.019653005776210472\n",
      "Early stopping at epoch 11\n",
      "Best Val Loss this Trial: 0.019653005776210472\n",
      "Epoch: 0, Val loss: 0.01987164842092201\n",
      "Epoch: 1, Val loss: 0.019321463393190734\n",
      "Epoch: 2, Val loss: 0.01946037609337105\n",
      "Epoch: 3, Val loss: 0.01938584730283827\n",
      "Epoch: 4, Val loss: 0.01928582025341626\n",
      "Epoch: 5, Val loss: 0.019739138432101816\n",
      "Epoch: 6, Val loss: 0.01955706824779383\n",
      "Epoch: 7, Val loss: 0.019345058693399288\n",
      "Epoch: 8, Val loss: 0.01933122916608794\n"
     ]
    },
    {
     "name": "stderr",
     "output_type": "stream",
     "text": [
      "[I 2024-10-28 06:16:52,973] Trial 3 finished with value: 0.019587689919126593 and parameters: {'num_conv_layers': 2, 'n_kernels': 16.0, 'kernel_sizes': 5.0, 'lr': 0.0022480800178567135}. Best is trial 0 with value: 0.019444677751893416.\n"
     ]
    },
    {
     "name": "stdout",
     "output_type": "stream",
     "text": [
      "Epoch: 9, Val loss: 0.019587689919126593\n",
      "Early stopping at epoch 9\n",
      "Best Val Loss this Trial: 0.019587689919126593\n",
      "Epoch: 0, Val loss: 0.019919504109037738\n",
      "Epoch: 1, Val loss: 0.01974568847152922\n",
      "Epoch: 2, Val loss: 0.020048797202224914\n",
      "Epoch: 3, Val loss: 0.01989671155316835\n",
      "Epoch: 4, Val loss: 0.01968572423275974\n",
      "Epoch: 5, Val loss: 0.02001416950653761\n",
      "Epoch: 6, Val loss: 0.019992433424688812\n",
      "Epoch: 7, Val loss: 0.019744541957719713\n",
      "Epoch: 8, Val loss: 0.020394537800875228\n"
     ]
    },
    {
     "name": "stderr",
     "output_type": "stream",
     "text": [
      "[I 2024-10-28 06:17:03,996] Trial 4 finished with value: 0.02066643040579481 and parameters: {'num_conv_layers': 1, 'n_kernels': 128.0, 'kernel_sizes': 6.0, 'lr': 0.001316925270634939}. Best is trial 0 with value: 0.019444677751893416.\n"
     ]
    },
    {
     "name": "stdout",
     "output_type": "stream",
     "text": [
      "Epoch: 9, Val loss: 0.02066643040579481\n",
      "Early stopping at epoch 9\n",
      "Best Val Loss this Trial: 0.02066643040579481\n"
     ]
    },
    {
     "name": "stderr",
     "output_type": "stream",
     "text": [
      "[I 2024-10-28 06:17:05,504] Trial 5 pruned. \n"
     ]
    },
    {
     "name": "stdout",
     "output_type": "stream",
     "text": [
      "Epoch: 0, Val loss: 0.020087612705289297\n"
     ]
    },
    {
     "name": "stderr",
     "output_type": "stream",
     "text": [
      "[I 2024-10-28 06:17:06,952] Trial 6 pruned. \n"
     ]
    },
    {
     "name": "stdout",
     "output_type": "stream",
     "text": [
      "Epoch: 0, Val loss: 0.020111918043440733\n"
     ]
    },
    {
     "name": "stderr",
     "output_type": "stream",
     "text": [
      "[I 2024-10-28 06:17:08,114] Trial 7 pruned. \n"
     ]
    },
    {
     "name": "stdout",
     "output_type": "stream",
     "text": [
      "Epoch: 0, Val loss: 0.019985601568642337\n",
      "Epoch: 0, Val loss: 0.019741708233665962\n",
      "Epoch: 1, Val loss: 0.019697947622650962\n"
     ]
    },
    {
     "name": "stderr",
     "output_type": "stream",
     "text": [
      "[I 2024-10-28 06:17:11,514] Trial 8 pruned. \n"
     ]
    },
    {
     "name": "stdout",
     "output_type": "stream",
     "text": [
      "Epoch: 2, Val loss: 0.02124855349349797\n"
     ]
    },
    {
     "name": "stderr",
     "output_type": "stream",
     "text": [
      "[I 2024-10-28 06:17:12,695] Trial 9 pruned. \n"
     ]
    },
    {
     "name": "stdout",
     "output_type": "stream",
     "text": [
      "Epoch: 0, Val loss: 0.02266710712853023\n"
     ]
    }
   ],
   "source": [
    "# Running the study\n",
    "torch.backends.nnpack.enabled = False\n",
    "\n",
    "# creating studies\n",
    "cnn_studies = [opt.create_study(direction='minimize') for i in LANDSCAPES]\n",
    "\n",
    "#Loop for hparam opt\n",
    "\n",
    "times = [time.time()] \n",
    "\n",
    "for index, study in enumerate(cnn_studies):\n",
    "    study.optimize(lambda trial: cnn_objective(trial, train_data= xy_train[index], val_data=xy_val[index],\n",
    "                                               epochs=50), n_trials=10)\n",
    "    t = time.time()\n",
    "    times.append(t)\n"
   ]
  },
  {
   "cell_type": "code",
   "execution_count": 59,
   "id": "bab1fda0",
   "metadata": {},
   "outputs": [
    {
     "data": {
      "text/plain": [
       "24.106786930561064"
      ]
     },
     "execution_count": 59,
     "metadata": {},
     "output_type": "execute_result"
    }
   ],
   "source": [
    "(times[-1]-times[0])/60"
   ]
  },
  {
   "cell_type": "code",
   "execution_count": 66,
   "id": "5d6e1168-36a5-4559-93b3-8d8daf7f76cb",
   "metadata": {},
   "outputs": [
    {
     "data": {
      "text/plain": [
       "{'num_conv_layers': 2,\n",
       " 'n_kernels': 80.0,\n",
       " 'kernel_sizes': 4.0,\n",
       " 'lr': 0.00031280142241287256}"
      ]
     },
     "execution_count": 66,
     "metadata": {},
     "output_type": "execute_result"
    }
   ],
   "source": [
    "cnn_studies[-1].best_params"
   ]
  },
  {
   "cell_type": "code",
   "execution_count": 63,
   "id": "27b7e095-ce73-4a72-924d-2399efb96440",
   "metadata": {},
   "outputs": [
    {
     "data": {
      "text/plain": [
       "0.019444677751893416"
      ]
     },
     "execution_count": 63,
     "metadata": {},
     "output_type": "execute_result"
    }
   ],
   "source": [
    "cnn_studies[-1].best_value"
   ]
  },
  {
   "cell_type": "code",
   "execution_count": 64,
   "id": "7adf2b60",
   "metadata": {},
   "outputs": [],
   "source": [
    "best_params = [i.best_params for i in cnn_studies]\n",
    "best_scores = [i.best_value for i in cnn_studies]"
   ]
  },
  {
   "cell_type": "code",
   "execution_count": 67,
   "id": "071dddba-5592-4647-b7e1-34f0d3116c1c",
   "metadata": {},
   "outputs": [],
   "source": [
    "import pickle\n",
    "\n",
    "a = {'hello': 'world'}\n",
    "\n",
    "with open('testCNN_optuna.pkl', 'wb') as handle:\n",
    "    pickle.dump(cnn_studies, handle, protocol=pickle.HIGHEST_PROTOCOL)\n",
    "\n"
   ]
  },
  {
   "cell_type": "code",
   "execution_count": 84,
   "id": "a9786601-175e-4140-9327-828e54d8d64b",
   "metadata": {},
   "outputs": [],
   "source": [
    "with open('hyperopt_CNN_NK_studies.pkl', 'rb') as handle:\n",
    "    b = pickle.load(handle)\n",
    "\n"
   ]
  },
  {
   "cell_type": "code",
   "execution_count": 88,
   "id": "9c16bcda-0a8c-470f-8606-9b50b5ff5829",
   "metadata": {},
   "outputs": [],
   "source": [
    "best_params = [i.best_params for i in b]\n",
    "best_score  = [i.best_value for i in b]"
   ]
  },
  {
   "cell_type": "code",
   "execution_count": 89,
   "id": "9c082e5c-e7f8-45a6-8509-f67b0b5ca297",
   "metadata": {},
   "outputs": [
    {
     "data": {
      "text/plain": [
       "[{'num_conv_layers': 2,\n",
       "  'n_kernels_layer0': 128,\n",
       "  'n_kernels_layer1': 64,\n",
       "  'kernel_size_layer0': 5,\n",
       "  'kernel_size_layer1': 5,\n",
       "  'lr': 0.01,\n",
       "  'batch_size': 32},\n",
       " {'num_conv_layers': 2,\n",
       "  'n_kernels_layer0': 96,\n",
       "  'n_kernels_layer1': 96,\n",
       "  'kernel_size_layer0': 3,\n",
       "  'kernel_size_layer1': 5,\n",
       "  'lr': 0.001,\n",
       "  'batch_size': 32},\n",
       " {'num_conv_layers': 2,\n",
       "  'n_kernels_layer0': 96,\n",
       "  'n_kernels_layer1': 96,\n",
       "  'kernel_size_layer0': 5,\n",
       "  'kernel_size_layer1': 3,\n",
       "  'lr': 0.001,\n",
       "  'batch_size': 64},\n",
       " {'num_conv_layers': 2,\n",
       "  'n_kernels_layer0': 128,\n",
       "  'n_kernels_layer1': 96,\n",
       "  'kernel_size_layer0': 5,\n",
       "  'kernel_size_layer1': 5,\n",
       "  'lr': 0.001,\n",
       "  'batch_size': 64},\n",
       " {'num_conv_layers': 2,\n",
       "  'n_kernels_layer0': 96,\n",
       "  'n_kernels_layer1': 128,\n",
       "  'kernel_size_layer0': 3,\n",
       "  'kernel_size_layer1': 5,\n",
       "  'lr': 0.0001,\n",
       "  'batch_size': 64},\n",
       " {'num_conv_layers': 2,\n",
       "  'n_kernels_layer0': 96,\n",
       "  'n_kernels_layer1': 32,\n",
       "  'kernel_size_layer0': 3,\n",
       "  'kernel_size_layer1': 5,\n",
       "  'lr': 0.01,\n",
       "  'batch_size': 32}]"
      ]
     },
     "execution_count": 89,
     "metadata": {},
     "output_type": "execute_result"
    }
   ],
   "source": [
    "best_params"
   ]
  },
  {
   "cell_type": "code",
   "execution_count": null,
   "id": "e6d4c0d4-49e4-4c86-8f6a-fce9091fd832",
   "metadata": {},
   "outputs": [],
   "source": []
  },
  {
   "cell_type": "code",
   "execution_count": null,
   "id": "3e73b2c4-9414-47df-9e53-1dab69f390dd",
   "metadata": {},
   "outputs": [],
   "source": []
  }
 ],
 "metadata": {
  "kernelspec": {
   "display_name": "Python 3 (ipykernel)",
   "language": "python",
   "name": "python3"
  },
  "language_info": {
   "codemirror_mode": {
    "name": "ipython",
    "version": 3
   },
   "file_extension": ".py",
   "mimetype": "text/x-python",
   "name": "python",
   "nbconvert_exporter": "python",
   "pygments_lexer": "ipython3",
   "version": "3.10.12"
  }
 },
 "nbformat": 4,
 "nbformat_minor": 5
}
