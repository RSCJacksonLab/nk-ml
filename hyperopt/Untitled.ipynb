{
 "cells": [
  {
   "cell_type": "code",
   "execution_count": 2,
   "id": "37acc3a9-c78a-4a34-9ea6-b4fb4a41f9ab",
   "metadata": {},
   "outputs": [],
   "source": [
    "import optuna as opt\n",
    "import pickle as pkl"
   ]
  },
  {
   "cell_type": "code",
   "execution_count": 3,
   "id": "98c9d153-bbda-40b1-897b-e96b13e002cd",
   "metadata": {},
   "outputs": [
    {
     "name": "stderr",
     "output_type": "stream",
     "text": [
      "/tmp/ipykernel_11219/155283431.py:2: DeprecationWarning: numpy.core.numeric is deprecated and has been renamed to numpy._core.numeric. The numpy._core namespace contains private NumPy internals and its use is discouraged, as NumPy internals can change without warning in any release. In practice, most real-world usage of numpy.core is to access functionality in the public NumPy API. If that is the case, use the public NumPy API. If not, you are using NumPy internals. If you would still like to access an internal attribute, use numpy._core.numeric._frombuffer.\n",
      "  gb1_opt_results = pkl.load(file)\n"
     ]
    }
   ],
   "source": [
    "with open('results/GB1_hyperopt_results.pkl', 'rb') as file: \n",
    "    gb1_opt_results = pkl.load(file)"
   ]
  },
  {
   "cell_type": "code",
   "execution_count": 8,
   "id": "fef1ea05-0909-46b9-8d8d-fc1c4942f0c9",
   "metadata": {},
   "outputs": [
    {
     "data": {
      "text/plain": [
       "0.013078873170615356"
      ]
     },
     "execution_count": 8,
     "metadata": {},
     "output_type": "execute_result"
    }
   ],
   "source": [
    "gb1_opt_results['mlp'][0].best_value"
   ]
  },
  {
   "cell_type": "code",
   "execution_count": 13,
   "id": "bb6e0c55-423e-462c-b4fb-43a3fc0808aa",
   "metadata": {},
   "outputs": [
    {
     "name": "stdout",
     "output_type": "stream",
     "text": [
      "Defaulting to user installation because normal site-packages is not writeable\n",
      "Requirement already satisfied: numpy<2.0 in /usr/lib/python3/dist-packages (1.21.5)\n"
     ]
    }
   ],
   "source": [
    "!pip install \"numpy<2.0\"\n"
   ]
  },
  {
   "cell_type": "code",
   "execution_count": 15,
   "id": "4f3a8a8f-d941-4c59-a5c6-bd613e90b07f",
   "metadata": {},
   "outputs": [],
   "source": [
    "import torch"
   ]
  },
  {
   "cell_type": "code",
   "execution_count": null,
   "id": "7ab7c99a-5f6a-41da-a740-71a4260ba73e",
   "metadata": {},
   "outputs": [],
   "source": []
  }
 ],
 "metadata": {
  "kernelspec": {
   "display_name": "Python 3 (ipykernel)",
   "language": "python",
   "name": "python3"
  },
  "language_info": {
   "codemirror_mode": {
    "name": "ipython",
    "version": 3
   },
   "file_extension": ".py",
   "mimetype": "text/x-python",
   "name": "python",
   "nbconvert_exporter": "python",
   "pygments_lexer": "ipython3",
   "version": "3.10.12"
  }
 },
 "nbformat": 4,
 "nbformat_minor": 5
}
