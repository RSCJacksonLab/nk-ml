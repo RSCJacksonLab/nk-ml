{
 "cells": [
  {
   "cell_type": "code",
   "execution_count": 1,
   "id": "b756714f-faa1-4e6f-bb72-225f8962f870",
   "metadata": {},
   "outputs": [],
   "source": [
    "import torch\n",
    "import torch.nn as nn\n",
    "import torch.optim as optim\n",
    "import numpy as np\n",
    "import sys\n",
    "sys.path.append('/home/ubuntu/nk-paper-2024-1/pscapes')\n",
    "sys.path.append('/home/ubuntu/nk-paper-2024-1/nk-ml-2024')\n",
    "from torch.utils.data import DataLoader\n",
    "from pscapes.landscape_class import ProteinLandscape\n",
    "from pscapes.utils import dict_to_np_array, np_array_to_dict\n",
    "from src.architectures.architectures import SequenceRegressionCNN, SequenceRegressionLSTM, SequenceRegressionMLP, SequenceRegressionLinear, SequenceRegressionTransformer\n",
    "from src.architectures.ml_utils import train_val_test_split_ohe, train_model\n",
    "import pickle\n",
    "from sklearn.metrics import r2_score\n",
    "\n",
    "\n",
    "\n",
    "            \n",
    "\n",
    "        \n",
    "\n",
    "    \n"
   ]
  },
  {
   "cell_type": "code",
   "execution_count": 10,
   "id": "07a5ad5e-1d96-4fbf-a4cb-22f5ba5a64f2",
   "metadata": {},
   "outputs": [
    {
     "data": {
      "text/plain": [
       "torch.optim.adam.Adam"
      ]
     },
     "execution_count": 10,
     "metadata": {},
     "output_type": "execute_result"
    }
   ],
   "source": [
    "optim.Adam"
   ]
  },
  {
   "cell_type": "code",
   "execution_count": 7,
   "id": "07f5c7e8-31f2-405a-b84b-e1186bb2555c",
   "metadata": {},
   "outputs": [
    {
     "data": {
      "text/plain": [
       "torch.nn.modules.loss.MSELoss"
      ]
     },
     "execution_count": 7,
     "metadata": {},
     "output_type": "execute_result"
    }
   ],
   "source": [
    "type(nn.MSELoss())"
   ]
  },
  {
   "cell_type": "code",
   "execution_count": 5,
   "id": "44914dd8-df99-493f-b494-526600984dbd",
   "metadata": {},
   "outputs": [
    {
     "data": {
      "text/plain": [
       "src.architectures.architectures.SequenceRegressionMLP"
      ]
     },
     "execution_count": 5,
     "metadata": {},
     "output_type": "execute_result"
    }
   ],
   "source": [
    "type(SequenceRegressionMLP())"
   ]
  },
  {
   "cell_type": "code",
   "execution_count": 1,
   "id": "df03dd26-f4d1-43d3-be17-6ca0f45da06a",
   "metadata": {},
   "outputs": [],
   "source": []
  },
  {
   "cell_type": "code",
   "execution_count": null,
   "id": "147f5253-2079-4664-9301-70716a7577e3",
   "metadata": {},
   "outputs": [],
   "source": []
  }
 ],
 "metadata": {
  "kernelspec": {
   "display_name": "Python 3 (ipykernel)",
   "language": "python",
   "name": "python3"
  },
  "language_info": {
   "codemirror_mode": {
    "name": "ipython",
    "version": 3
   },
   "file_extension": ".py",
   "mimetype": "text/x-python",
   "name": "python",
   "nbconvert_exporter": "python",
   "pygments_lexer": "ipython3",
   "version": "3.10.12"
  }
 },
 "nbformat": 4,
 "nbformat_minor": 5
}
