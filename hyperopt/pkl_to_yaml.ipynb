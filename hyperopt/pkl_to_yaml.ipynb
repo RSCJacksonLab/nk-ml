{
 "cells": [
  {
   "cell_type": "code",
   "execution_count": 9,
   "metadata": {},
   "outputs": [],
   "source": [
    "import os\n",
    "import pickle as pkl\n",
    "import yaml\n"
   ]
  },
  {
   "cell_type": "code",
   "execution_count": 10,
   "metadata": {},
   "outputs": [
    {
     "name": "stderr",
     "output_type": "stream",
     "text": [
      "/Users/u5802006/Documents/GitHub_repos/nk-2025/.env/lib/python3.10/site-packages/tqdm/auto.py:21: TqdmWarning: IProgress not found. Please update jupyter and ipywidgets. See https://ipywidgets.readthedocs.io/en/stable/user_install.html\n",
      "  from .autonotebook import tqdm as notebook_tqdm\n"
     ]
    }
   ],
   "source": [
    "# nk results\n",
    "\n",
    "with open('./results/NK_hyperopt_results.pkl', 'rb') as f:\n",
    "    nk_opt_results = pkl.load(f)"
   ]
  },
  {
   "cell_type": "code",
   "execution_count": 11,
   "metadata": {},
   "outputs": [
    {
     "data": {
      "text/plain": [
       "dict_keys(['linear', 'mlp', 'cnn', 'ulstm', 'blstm', 'transformer', 'RF', 'GB'])"
      ]
     },
     "execution_count": 11,
     "metadata": {},
     "output_type": "execute_result"
    }
   ],
   "source": [
    "nk_opt_results.keys()"
   ]
  },
  {
   "cell_type": "code",
   "execution_count": 12,
   "metadata": {},
   "outputs": [
    {
     "data": {
      "text/plain": [
       "[<optuna.study.study.Study at 0x10758fe80>,\n",
       " <optuna.study.study.Study at 0x11d0c24d0>,\n",
       " <optuna.study.study.Study at 0x11d0e66b0>,\n",
       " <optuna.study.study.Study at 0x11d46ea10>,\n",
       " <optuna.study.study.Study at 0x11d48ed70>,\n",
       " <optuna.study.study.Study at 0x11d4ab0d0>]"
      ]
     },
     "execution_count": 12,
     "metadata": {},
     "output_type": "execute_result"
    }
   ],
   "source": [
    "nk_opt_results['linear']"
   ]
  },
  {
   "cell_type": "code",
   "execution_count": 13,
   "metadata": {},
   "outputs": [],
   "source": [
    "for key in nk_opt_results.keys():\n",
    "    optuna_studies = nk_opt_results[key]\n",
    "    for k in range(1):\n",
    "        hparams = optuna_studies[k].best_params\n",
    "        with open(\n",
    "            f\"/Users/u5802006/Documents/GitHub_repos/nk-2025/hyperopt/results/nk_landscape/k{k}_{key.lower()}.yaml\",\n",
    "            \"w\"\n",
    "        ) as f:\n",
    "            yaml.dump(hparams, f)"
   ]
  },
  {
   "cell_type": "code",
   "execution_count": 14,
   "metadata": {},
   "outputs": [],
   "source": [
    "import yaml"
   ]
  },
  {
   "cell_type": "code",
   "execution_count": 15,
   "metadata": {},
   "outputs": [],
   "source": [
    "with open(\n",
    "    f\"/Users/u5802006/Documents/GitHub_repos/nk-2025/hyperopt/results/nk_landscape/k0_blstm.yaml\",\n",
    "    \"r\"\n",
    ") as f:\n",
    "    hparams = yaml.safe_load(f)"
   ]
  },
  {
   "cell_type": "code",
   "execution_count": 16,
   "metadata": {},
   "outputs": [
    {
     "data": {
      "text/plain": [
       "{'batch_size': 32, 'hidden_size': 256, 'lr': 0.01, 'num_layers': 1}"
      ]
     },
     "execution_count": 16,
     "metadata": {},
     "output_type": "execute_result"
    }
   ],
   "source": [
    "hparams"
   ]
  },
  {
   "cell_type": "code",
   "execution_count": null,
   "metadata": {},
   "outputs": [],
   "source": []
  }
 ],
 "metadata": {
  "kernelspec": {
   "display_name": ".env",
   "language": "python",
   "name": "python3"
  },
  "language_info": {
   "codemirror_mode": {
    "name": "ipython",
    "version": 3
   },
   "file_extension": ".py",
   "mimetype": "text/x-python",
   "name": "python",
   "nbconvert_exporter": "python",
   "pygments_lexer": "ipython3",
   "version": "3.10.16"
  }
 },
 "nbformat": 4,
 "nbformat_minor": 2
}
