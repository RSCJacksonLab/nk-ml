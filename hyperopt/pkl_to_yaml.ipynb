{
 "cells": [
  {
   "cell_type": "code",
   "execution_count": 5,
   "metadata": {},
   "outputs": [],
   "source": [
    "import os\n",
    "import pickle as pkl\n",
    "import yaml\n",
    "\n",
    "from modelling import (\n",
    "    read_CNN_hparams,\n",
    "    read_GB_hparams,\n",
    "    read_linear_hparams,\n",
    "    read_LSTM_hparams,\n",
    "    read_MLP_hparams,\n",
    "    read_RF_hparams,\n",
    "    read_transformer_hparams,\n",
    ")"
   ]
  },
  {
   "cell_type": "code",
   "execution_count": 6,
   "metadata": {},
   "outputs": [],
   "source": [
    "# nk results\n",
    "\n",
    "with open('./results/NK_hyperopt_results.pkl', 'rb') as f:\n",
    "    nk_opt_results = pkl.load(f)"
   ]
  },
  {
   "cell_type": "code",
   "execution_count": 7,
   "metadata": {},
   "outputs": [
    {
     "data": {
      "text/plain": [
       "dict_keys(['linear', 'mlp', 'cnn', 'ulstm', 'blstm', 'transformer', 'RF', 'GB'])"
      ]
     },
     "execution_count": 7,
     "metadata": {},
     "output_type": "execute_result"
    }
   ],
   "source": [
    "nk_opt_results.keys()"
   ]
  },
  {
   "cell_type": "code",
   "execution_count": 11,
   "metadata": {},
   "outputs": [],
   "source": [
    "read_model = {\n",
    "    'linear': read_linear_hparams,\n",
    "    'mlp': read_MLP_hparams,\n",
    "    'cnn': read_CNN_hparams,\n",
    "    'ulstm': read_LSTM_hparams,\n",
    "    'blstm': read_LSTM_hparams,\n",
    "    'transformer': read_transformer_hparams,\n",
    "    'rf': read_RF_hparams,\n",
    "    'gb': read_GB_hparams\n",
    "}\n",
    "\n",
    "# for model in nk_opt_results.keys():\n",
    "#     optuna_studies = nk_opt_results[model]\n",
    "#     for k in range(6):\n",
    "#         best_params = optuna_studies[k].best_params\n",
    "#         hparams = read_model[model](best_params)\n",
    "#         with open(\n",
    "#             f\"/Users/u5802006/Documents/GitHub_repos/nk-2025/hyperopt/results/nk_landscape/k{k}_{model.lower()}.yaml\",\n",
    "#             \"w\"\n",
    "#         ) as f:\n",
    "#             yaml.dump(hparams, f)"
   ]
  },
  {
   "cell_type": "code",
   "execution_count": 13,
   "metadata": {},
   "outputs": [],
   "source": [
    "# gb1 results\n",
    "\n",
    "for file_name in os.listdir(\"/Users/u5802006/Documents/GitHub_repos/nk-2025/hyperopt/gb1_hparams\"):\n",
    "    if file_name.endswith(\".pkl\"):\n",
    "\n",
    "        model_name = file_name.split(\"_\")[0].lower()\n",
    "\n",
    "        with open('/Users/u5802006/Documents/GitHub_repos/nk-2025/hyperopt/gb1_hparams/' + file_name, 'rb') as f:\n",
    "            opt_results = pkl.load(f)\n",
    "            best_params = opt_results.best_params\n",
    "            hparams = read_model[model_name](best_params)\n",
    "            with open(\n",
    "                f\"/Users/u5802006/Documents/GitHub_repos/nk-2025/hyperopt/results/gb1_hparams/gb1_{model_name.lower()}.yaml\",\n",
    "                \"w\"\n",
    "            ) as f:\n",
    "                yaml.dump(hparams, f)"
   ]
  },
  {
   "cell_type": "code",
   "execution_count": null,
   "metadata": {},
   "outputs": [],
   "source": [
    "opt_results."
   ]
  }
 ],
 "metadata": {
  "kernelspec": {
   "display_name": ".env",
   "language": "python",
   "name": "python3"
  },
  "language_info": {
   "codemirror_mode": {
    "name": "ipython",
    "version": 3
   },
   "file_extension": ".py",
   "mimetype": "text/x-python",
   "name": "python",
   "nbconvert_exporter": "python",
   "pygments_lexer": "ipython3",
   "version": "3.10.16"
  }
 },
 "nbformat": 4,
 "nbformat_minor": 2
}
