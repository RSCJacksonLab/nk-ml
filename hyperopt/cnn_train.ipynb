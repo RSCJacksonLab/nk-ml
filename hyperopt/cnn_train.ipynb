{
 "cells": [
  {
   "cell_type": "code",
   "execution_count": 1,
   "id": "bf3cd029-9e43-4e1e-ae07-5347813753d5",
   "metadata": {},
   "outputs": [
    {
     "name": "stderr",
     "output_type": "stream",
     "text": [
      "/home/ubuntu/.local/lib/python3.10/site-packages/tqdm/auto.py:21: TqdmWarning: IProgress not found. Please update jupyter and ipywidgets. See https://ipywidgets.readthedocs.io/en/stable/user_install.html\n",
      "  from .autonotebook import tqdm as notebook_tqdm\n",
      "/home/ubuntu/.local/lib/python3.10/site-packages/matplotlib/projections/__init__.py:63: UserWarning: Unable to import Axes3D. This may be due to multiple versions of Matplotlib being installed (e.g. as a system package and as a pip package). As a result, the 3D projection is not available.\n",
      "  warnings.warn(\"Unable to import Axes3D. This may be due to multiple versions of \"\n"
     ]
    }
   ],
   "source": [
    "import optuna as opt\n",
    "import torch\n",
    "import torch.nn as nn\n",
    "import torch.optim as optim\n",
    "import numpy as np\n",
    "import pandas as pd\n",
    "\n",
    "import sys\n",
    "sys.path.append('../../pscapes')\n",
    "sys.path.append('../../nk-ml-2024')\n",
    "\n",
    "from torch.utils.data import DataLoader\n",
    "\n",
    "from pscapes.landscape_class import ProteinLandscape\n",
    "from pscapes.utils import dict_to_np_array, np_array_to_dict\n",
    "\n",
    "from src.architectures import SequenceRegressionCNN, SequenceRegressionLSTM, SequenceRegressionMLP, SequenceRegressionLinear, SequenceRegressionTransformer\n",
    "from src.ml_utils import train_val_test_split_ohe, train_model\n",
    "import pickle\n",
    "\n",
    "from sklearn.metrics import r2_score\n",
    "\n",
    "\n"
   ]
  },
  {
   "cell_type": "code",
   "execution_count": 2,
   "id": "bd181064",
   "metadata": {},
   "outputs": [
    {
     "data": {
      "text/plain": [
       "'cuda'"
      ]
     },
     "execution_count": 2,
     "metadata": {},
     "output_type": "execute_result"
    }
   ],
   "source": [
    "device = 'cuda' if torch.cuda.is_available() else 'cpu'\n",
    "device"
   ]
  },
  {
   "cell_type": "code",
   "execution_count": 3,
   "id": "ba6dae52-d3d3-460f-b3ea-8ed2554b7075",
   "metadata": {},
   "outputs": [],
   "source": [
    "HPARAM_PATH = 'results/NK_hyperopt_results.pkl'\n",
    "DATAPATH = '../data/nk_landscapes/'"
   ]
  },
  {
   "cell_type": "code",
   "execution_count": 4,
   "id": "d40463a0-2103-4974-9ade-fcd94ee04134",
   "metadata": {},
   "outputs": [],
   "source": [
    "# read hyperopt results \n",
    "with open('results/NK_hyperopt_results.pkl', 'rb') as handle:\n",
    "    NK_studies = pickle.load(handle)\n"
   ]
  },
  {
   "cell_type": "code",
   "execution_count": 5,
   "id": "ccf34257",
   "metadata": {},
   "outputs": [
    {
     "data": {
      "text/plain": [
       "[<optuna.study.study.Study at 0x73d15c4f3430>,\n",
       " <optuna.study.study.Study at 0x73d0248f4880>,\n",
       " <optuna.study.study.Study at 0x73d0248f4eb0>,\n",
       " <optuna.study.study.Study at 0x73d0248f54b0>,\n",
       " <optuna.study.study.Study at 0x73d0248f5ab0>,\n",
       " <optuna.study.study.Study at 0x73d0248f60b0>]"
      ]
     },
     "execution_count": 5,
     "metadata": {},
     "output_type": "execute_result"
    }
   ],
   "source": [
    "NK_studies['linear']"
   ]
  },
  {
   "cell_type": "code",
   "execution_count": null,
   "id": "ec5a0a7c-f11a-4c6c-a92f-2650a9a7ef35",
   "metadata": {},
   "outputs": [],
   "source": []
  },
  {
   "cell_type": "code",
   "execution_count": 6,
   "id": "5df9664b-44af-435c-ab55-8e52e69719c5",
   "metadata": {},
   "outputs": [],
   "source": [
    "SEQ_LEN = 6\n",
    "AA_ALPHABET = 'ACDEFG'"
   ]
  },
  {
   "cell_type": "code",
   "execution_count": 7,
   "id": "94e60610-59b6-4d0e-a4ee-528925ca1a60",
   "metadata": {},
   "outputs": [],
   "source": [
    "LANDSCAPES = []\n",
    "for k in range(6): \n",
    "    for r in range(1): \n",
    "        landscape = ProteinLandscape(csv_path='../data/nk_landscapes/k{0}_r{1}.csv'.format(k,r), amino_acids=AA_ALPHABET)\n",
    "        LANDSCAPES.append(landscape)\n",
    "\n",
    "LANDSCAPES = [i.fit_OHE() for i in LANDSCAPES]\n",
    "\n",
    "landscapes_ohe, xy_train, xy_val, xy_test, x_tests, y_tests = train_val_test_split_ohe(LANDSCAPES)"
   ]
  },
  {
   "cell_type": "code",
   "execution_count": null,
   "id": "a7c22d97",
   "metadata": {},
   "outputs": [],
   "source": [
    "def read_CNN_hparams(study): \n",
    "    num_conv_layers = params['num_conv_layers']\n",
    "    n_kernels       = [params['n_kernels_layer{}'.format(i)] for i in range(num_conv_layers)]\n",
    "    kernel_sizes    = [params['kernel_size_layer{}'.format(i)] for i in range(num_conv_layers)]\n",
    "\n",
    "    param_dict = {'num_conv_layers':num_conv_layers, 'n_kernels': n_kernels, 'kernel_sizes':kernel_sizes}\n",
    "    return param_dict\n",
    "\n",
    "def read_MLP_hparams(study): \n",
    "\n",
    "\n",
    "\n",
    "def train_from_hparams(study, xy_train, xy_val, xy_test):\n",
    "    \"\"\"\n",
    "    Trains and evaluates a model from hparams of an optuna study. \n",
    "    \n",
    "    Args: \n",
    "        study (optuna.study):             optuna study object \n",
    "        xy_train ():                      xy_train data\n",
    "        xy_val():                         xy_val data \n",
    "        xy_test():                        xy_val data \n",
    "    Returns: \n",
    "        trained_model\n",
    "    \"\"\"\n",
    "    \n",
    "    \n",
    "    "
   ]
  },
  {
   "cell_type": "code",
   "execution_count": 35,
   "id": "b4c280db-f94c-43c4-bd6d-03cf663494f8",
   "metadata": {
    "scrolled": true
   },
   "outputs": [
    {
     "name": "stdout",
     "output_type": "stream",
     "text": [
      "Training model for K=0\n",
      "Epoch [1/40], Train Loss: 4.4721, Val Loss: 0.0001\n",
      "Epoch [2/40], Train Loss: 0.0595, Val Loss: 0.0001\n",
      "Epoch [3/40], Train Loss: 0.0756, Val Loss: 0.0002\n",
      "Epoch [4/40], Train Loss: 0.0939, Val Loss: 0.0001\n",
      "Epoch [5/40], Train Loss: 0.0789, Val Loss: 0.0001\n",
      "Epoch [6/40], Train Loss: 0.0924, Val Loss: 0.0000\n",
      "Epoch [7/40], Train Loss: 0.0598, Val Loss: 0.0001\n",
      "Epoch [8/40], Train Loss: 0.0267, Val Loss: 0.0000\n",
      "Epoch [9/40], Train Loss: 0.0410, Val Loss: 0.0001\n",
      "Epoch [10/40], Train Loss: 0.0358, Val Loss: 0.0001\n",
      "Epoch [11/40], Train Loss: 0.0173, Val Loss: 0.0000\n",
      "Epoch [12/40], Train Loss: 0.0207, Val Loss: 0.0001\n",
      "Epoch [13/40], Train Loss: 0.0180, Val Loss: 0.0000\n",
      "Epoch [14/40], Train Loss: 0.0182, Val Loss: 0.0000\n",
      "Epoch [15/40], Train Loss: 0.0183, Val Loss: 0.0000\n",
      "Epoch [16/40], Train Loss: 0.0128, Val Loss: 0.0000\n",
      "Early stopping triggered\n",
      "Training model for K=1\n",
      "Epoch [1/40], Train Loss: 7.7658, Val Loss: 0.0021\n",
      "Epoch [2/40], Train Loss: 1.2162, Val Loss: 0.0010\n",
      "Epoch [3/40], Train Loss: 0.5930, Val Loss: 0.0005\n",
      "Epoch [4/40], Train Loss: 0.4284, Val Loss: 0.0004\n",
      "Epoch [5/40], Train Loss: 0.3405, Val Loss: 0.0004\n",
      "Epoch [6/40], Train Loss: 0.3121, Val Loss: 0.0004\n",
      "Epoch [7/40], Train Loss: 0.2414, Val Loss: 0.0003\n",
      "Epoch [8/40], Train Loss: 0.2453, Val Loss: 0.0003\n",
      "Epoch [9/40], Train Loss: 0.2487, Val Loss: 0.0002\n",
      "Epoch [10/40], Train Loss: 0.1938, Val Loss: 0.0003\n",
      "Epoch [11/40], Train Loss: 0.1889, Val Loss: 0.0002\n",
      "Epoch [12/40], Train Loss: 0.1929, Val Loss: 0.0002\n",
      "Epoch [13/40], Train Loss: 0.1526, Val Loss: 0.0002\n",
      "Epoch [14/40], Train Loss: 0.1577, Val Loss: 0.0002\n",
      "Epoch [15/40], Train Loss: 0.1443, Val Loss: 0.0004\n",
      "Epoch [16/40], Train Loss: 0.1442, Val Loss: 0.0002\n",
      "Epoch [17/40], Train Loss: 0.1194, Val Loss: 0.0006\n",
      "Epoch [18/40], Train Loss: 0.1262, Val Loss: 0.0001\n",
      "Epoch [19/40], Train Loss: 0.1211, Val Loss: 0.0002\n",
      "Epoch [20/40], Train Loss: 0.1118, Val Loss: 0.0003\n",
      "Epoch [21/40], Train Loss: 0.1181, Val Loss: 0.0002\n",
      "Epoch [22/40], Train Loss: 0.1033, Val Loss: 0.0001\n",
      "Epoch [23/40], Train Loss: 0.0993, Val Loss: 0.0001\n",
      "Epoch [24/40], Train Loss: 0.0990, Val Loss: 0.0001\n",
      "Epoch [25/40], Train Loss: 0.1004, Val Loss: 0.0001\n",
      "Epoch [26/40], Train Loss: 0.0871, Val Loss: 0.0001\n",
      "Epoch [27/40], Train Loss: 0.0901, Val Loss: 0.0001\n",
      "Epoch [28/40], Train Loss: 0.0873, Val Loss: 0.0001\n",
      "Epoch [29/40], Train Loss: 0.0793, Val Loss: 0.0001\n",
      "Epoch [30/40], Train Loss: 0.0874, Val Loss: 0.0002\n",
      "Epoch [31/40], Train Loss: 0.1020, Val Loss: 0.0003\n",
      "Epoch [32/40], Train Loss: 0.0647, Val Loss: 0.0001\n",
      "Epoch [33/40], Train Loss: 0.0714, Val Loss: 0.0001\n",
      "Epoch [34/40], Train Loss: 0.0838, Val Loss: 0.0001\n",
      "Epoch [35/40], Train Loss: 0.0681, Val Loss: 0.0001\n",
      "Early stopping triggered\n",
      "Training model for K=2\n",
      "Epoch [1/40], Train Loss: 9.1329, Val Loss: 0.0149\n",
      "Epoch [2/40], Train Loss: 5.8375, Val Loss: 0.0108\n",
      "Epoch [3/40], Train Loss: 4.3403, Val Loss: 0.0084\n",
      "Epoch [4/40], Train Loss: 3.3323, Val Loss: 0.0068\n",
      "Epoch [5/40], Train Loss: 2.6092, Val Loss: 0.0054\n",
      "Epoch [6/40], Train Loss: 2.1397, Val Loss: 0.0044\n",
      "Epoch [7/40], Train Loss: 1.7213, Val Loss: 0.0039\n",
      "Epoch [8/40], Train Loss: 1.4736, Val Loss: 0.0033\n",
      "Epoch [9/40], Train Loss: 1.2052, Val Loss: 0.0031\n",
      "Epoch [10/40], Train Loss: 1.1044, Val Loss: 0.0025\n",
      "Epoch [11/40], Train Loss: 0.9722, Val Loss: 0.0023\n",
      "Epoch [12/40], Train Loss: 0.8387, Val Loss: 0.0022\n",
      "Epoch [13/40], Train Loss: 0.7928, Val Loss: 0.0021\n",
      "Epoch [14/40], Train Loss: 0.7334, Val Loss: 0.0020\n",
      "Epoch [15/40], Train Loss: 0.6580, Val Loss: 0.0023\n",
      "Epoch [16/40], Train Loss: 0.6402, Val Loss: 0.0018\n",
      "Epoch [17/40], Train Loss: 0.5915, Val Loss: 0.0022\n",
      "Epoch [18/40], Train Loss: 0.5813, Val Loss: 0.0021\n",
      "Epoch [19/40], Train Loss: 0.5445, Val Loss: 0.0016\n",
      "Epoch [20/40], Train Loss: 0.5375, Val Loss: 0.0016\n",
      "Epoch [21/40], Train Loss: 0.4921, Val Loss: 0.0017\n",
      "Epoch [22/40], Train Loss: 0.5074, Val Loss: 0.0015\n",
      "Epoch [23/40], Train Loss: 0.4596, Val Loss: 0.0015\n",
      "Epoch [24/40], Train Loss: 0.4395, Val Loss: 0.0017\n",
      "Epoch [25/40], Train Loss: 0.4380, Val Loss: 0.0014\n",
      "Epoch [26/40], Train Loss: 0.4334, Val Loss: 0.0014\n",
      "Epoch [27/40], Train Loss: 0.3993, Val Loss: 0.0017\n",
      "Epoch [28/40], Train Loss: 0.4120, Val Loss: 0.0017\n",
      "Epoch [29/40], Train Loss: 0.3752, Val Loss: 0.0012\n",
      "Epoch [30/40], Train Loss: 0.3617, Val Loss: 0.0012\n",
      "Epoch [31/40], Train Loss: 0.3805, Val Loss: 0.0012\n",
      "Epoch [32/40], Train Loss: 0.3727, Val Loss: 0.0012\n",
      "Epoch [33/40], Train Loss: 0.3676, Val Loss: 0.0013\n",
      "Epoch [34/40], Train Loss: 0.3440, Val Loss: 0.0012\n",
      "Epoch [35/40], Train Loss: 0.3422, Val Loss: 0.0013\n",
      "Epoch [36/40], Train Loss: 0.3358, Val Loss: 0.0013\n",
      "Epoch [37/40], Train Loss: 0.3267, Val Loss: 0.0012\n",
      "Epoch [38/40], Train Loss: 0.3090, Val Loss: 0.0011\n",
      "Epoch [39/40], Train Loss: 0.3098, Val Loss: 0.0011\n",
      "Epoch [40/40], Train Loss: 0.3238, Val Loss: 0.0011\n",
      "Training model for K=3\n",
      "Epoch [1/40], Train Loss: 9.5983, Val Loss: 0.0171\n",
      "Epoch [2/40], Train Loss: 7.6415, Val Loss: 0.0158\n",
      "Epoch [3/40], Train Loss: 7.0043, Val Loss: 0.0147\n",
      "Epoch [4/40], Train Loss: 6.3130, Val Loss: 0.0138\n",
      "Epoch [5/40], Train Loss: 5.6938, Val Loss: 0.0145\n",
      "Epoch [6/40], Train Loss: 5.1986, Val Loss: 0.0120\n",
      "Epoch [7/40], Train Loss: 4.8029, Val Loss: 0.0111\n",
      "Epoch [8/40], Train Loss: 4.3963, Val Loss: 0.0111\n",
      "Epoch [9/40], Train Loss: 4.0918, Val Loss: 0.0101\n",
      "Epoch [10/40], Train Loss: 3.7873, Val Loss: 0.0104\n",
      "Epoch [11/40], Train Loss: 3.5415, Val Loss: 0.0096\n",
      "Epoch [12/40], Train Loss: 3.3202, Val Loss: 0.0092\n",
      "Epoch [13/40], Train Loss: 3.1753, Val Loss: 0.0087\n",
      "Epoch [14/40], Train Loss: 2.9634, Val Loss: 0.0088\n",
      "Epoch [15/40], Train Loss: 2.7704, Val Loss: 0.0091\n",
      "Epoch [16/40], Train Loss: 2.6915, Val Loss: 0.0084\n",
      "Epoch [17/40], Train Loss: 2.5537, Val Loss: 0.0080\n",
      "Epoch [18/40], Train Loss: 2.4001, Val Loss: 0.0080\n",
      "Epoch [19/40], Train Loss: 2.3206, Val Loss: 0.0077\n",
      "Epoch [20/40], Train Loss: 2.1752, Val Loss: 0.0075\n",
      "Epoch [21/40], Train Loss: 2.1660, Val Loss: 0.0072\n",
      "Epoch [22/40], Train Loss: 2.1131, Val Loss: 0.0074\n",
      "Epoch [23/40], Train Loss: 1.9799, Val Loss: 0.0071\n",
      "Epoch [24/40], Train Loss: 1.8969, Val Loss: 0.0072\n",
      "Epoch [25/40], Train Loss: 1.8585, Val Loss: 0.0072\n",
      "Epoch [26/40], Train Loss: 1.8061, Val Loss: 0.0074\n",
      "Epoch [27/40], Train Loss: 1.7796, Val Loss: 0.0071\n",
      "Epoch [28/40], Train Loss: 1.6797, Val Loss: 0.0081\n",
      "Epoch [29/40], Train Loss: 1.6350, Val Loss: 0.0067\n",
      "Epoch [30/40], Train Loss: 1.5794, Val Loss: 0.0067\n",
      "Epoch [31/40], Train Loss: 1.5825, Val Loss: 0.0076\n",
      "Epoch [32/40], Train Loss: 1.5244, Val Loss: 0.0064\n",
      "Epoch [33/40], Train Loss: 1.5258, Val Loss: 0.0067\n",
      "Epoch [34/40], Train Loss: 1.4294, Val Loss: 0.0065\n",
      "Epoch [35/40], Train Loss: 1.4059, Val Loss: 0.0064\n",
      "Epoch [36/40], Train Loss: 1.3925, Val Loss: 0.0063\n",
      "Epoch [37/40], Train Loss: 1.3184, Val Loss: 0.0064\n",
      "Epoch [38/40], Train Loss: 1.3241, Val Loss: 0.0068\n",
      "Epoch [39/40], Train Loss: 1.2861, Val Loss: 0.0062\n",
      "Epoch [40/40], Train Loss: 1.2508, Val Loss: 0.0064\n",
      "Training model for K=4\n",
      "Epoch [1/40], Train Loss: 10.9884, Val Loss: 0.0188\n",
      "Epoch [2/40], Train Loss: 8.6150, Val Loss: 0.0186\n",
      "Epoch [3/40], Train Loss: 8.5140, Val Loss: 0.0186\n",
      "Epoch [4/40], Train Loss: 8.4215, Val Loss: 0.0184\n",
      "Epoch [5/40], Train Loss: 8.3796, Val Loss: 0.0184\n",
      "Epoch [6/40], Train Loss: 8.2656, Val Loss: 0.0186\n",
      "Epoch [7/40], Train Loss: 8.2031, Val Loss: 0.0186\n",
      "Epoch [8/40], Train Loss: 8.1505, Val Loss: 0.0182\n",
      "Epoch [9/40], Train Loss: 8.1083, Val Loss: 0.0184\n",
      "Epoch [10/40], Train Loss: 8.0461, Val Loss: 0.0182\n",
      "Epoch [11/40], Train Loss: 7.9739, Val Loss: 0.0181\n",
      "Epoch [12/40], Train Loss: 7.8869, Val Loss: 0.0182\n",
      "Epoch [13/40], Train Loss: 7.8178, Val Loss: 0.0181\n",
      "Epoch [14/40], Train Loss: 7.7713, Val Loss: 0.0181\n",
      "Epoch [15/40], Train Loss: 7.6832, Val Loss: 0.0180\n",
      "Epoch [16/40], Train Loss: 7.6290, Val Loss: 0.0182\n",
      "Epoch [17/40], Train Loss: 7.5500, Val Loss: 0.0179\n",
      "Epoch [18/40], Train Loss: 7.4768, Val Loss: 0.0179\n",
      "Epoch [19/40], Train Loss: 7.4175, Val Loss: 0.0184\n",
      "Epoch [20/40], Train Loss: 7.3218, Val Loss: 0.0178\n",
      "Epoch [21/40], Train Loss: 7.2819, Val Loss: 0.0178\n",
      "Epoch [22/40], Train Loss: 7.1928, Val Loss: 0.0178\n",
      "Epoch [23/40], Train Loss: 7.1430, Val Loss: 0.0177\n",
      "Epoch [24/40], Train Loss: 7.0440, Val Loss: 0.0182\n",
      "Epoch [25/40], Train Loss: 6.9836, Val Loss: 0.0177\n",
      "Epoch [26/40], Train Loss: 6.9102, Val Loss: 0.0178\n",
      "Epoch [27/40], Train Loss: 6.8265, Val Loss: 0.0177\n",
      "Epoch [28/40], Train Loss: 6.7455, Val Loss: 0.0178\n",
      "Epoch [29/40], Train Loss: 6.6860, Val Loss: 0.0180\n",
      "Epoch [30/40], Train Loss: 6.6562, Val Loss: 0.0181\n",
      "Epoch [31/40], Train Loss: 6.5816, Val Loss: 0.0176\n",
      "Epoch [32/40], Train Loss: 6.5079, Val Loss: 0.0178\n",
      "Epoch [33/40], Train Loss: 6.4872, Val Loss: 0.0181\n",
      "Epoch [34/40], Train Loss: 6.4412, Val Loss: 0.0177\n",
      "Epoch [35/40], Train Loss: 6.3299, Val Loss: 0.0180\n",
      "Epoch [36/40], Train Loss: 6.3022, Val Loss: 0.0177\n",
      "Epoch [37/40], Train Loss: 6.2322, Val Loss: 0.0178\n",
      "Epoch [38/40], Train Loss: 6.1694, Val Loss: 0.0177\n",
      "Epoch [39/40], Train Loss: 6.0891, Val Loss: 0.0177\n",
      "Early stopping triggered\n",
      "Training model for K=5\n",
      "Epoch [1/40], Train Loss: 18.7986, Val Loss: 0.0193\n",
      "Epoch [2/40], Train Loss: 18.0029, Val Loss: 0.0193\n",
      "Epoch [3/40], Train Loss: 18.0404, Val Loss: 0.0193\n",
      "Epoch [4/40], Train Loss: 18.0422, Val Loss: 0.0193\n",
      "Epoch [5/40], Train Loss: 18.0488, Val Loss: 0.0193\n",
      "Epoch [6/40], Train Loss: 18.0384, Val Loss: 0.0194\n",
      "Epoch [7/40], Train Loss: 18.0273, Val Loss: 0.0193\n",
      "Epoch [8/40], Train Loss: 18.0460, Val Loss: 0.0195\n",
      "Epoch [9/40], Train Loss: 18.0288, Val Loss: 0.0194\n",
      "Epoch [10/40], Train Loss: 18.0198, Val Loss: 0.0193\n",
      "Epoch [11/40], Train Loss: 18.0667, Val Loss: 0.0194\n",
      "Epoch [12/40], Train Loss: 18.0339, Val Loss: 0.0194\n",
      "Epoch [13/40], Train Loss: 18.0564, Val Loss: 0.0193\n",
      "Epoch [14/40], Train Loss: 18.0599, Val Loss: 0.0194\n",
      "Epoch [15/40], Train Loss: 18.0489, Val Loss: 0.0193\n",
      "Epoch [16/40], Train Loss: 18.0188, Val Loss: 0.0193\n",
      "Epoch [17/40], Train Loss: 18.0593, Val Loss: 0.0195\n",
      "Epoch [18/40], Train Loss: 18.0069, Val Loss: 0.0195\n",
      "Early stopping triggered\n",
      "All models trained and saved.\n"
     ]
    }
   ],
   "source": [
    "\n",
    "#loop over K values \n",
    "train_epoch_losses_list = []\n",
    "val_epoch_losses_list   = []\n",
    "r2_scores               = []\n",
    "predict_vs_gt           = []\n",
    "\n",
    "for index,i in enumerate(cnn_studies):\n",
    "    print('Training model for K={}'.format(index))\n",
    "\n",
    "    #initialise models with correct parameters from hyperopt\n",
    "    params          = i.best_params\n",
    "    num_conv_layers = params['num_conv_layers']\n",
    "    n_kernels       = [params['n_kernels_layer{}'.format(i)] for i in range(num_conv_layers)]\n",
    "    kernel_sizes    = [params['kernel_size_layer{}'.format(i)] for i in range(num_conv_layers)]\n",
    "    lr              = params['lr']\n",
    "    batch_size      = params['batch_size']\n",
    "\n",
    "    device = 'cuda' if torch.cuda.is_available else 'cpu'\n",
    "\n",
    "    model     = SequenceRegressionCNN(input_channels=len(AA_ALPHABET), sequence_length=SEQ_LEN,\n",
    "                                 num_conv_layers=num_conv_layers, n_kernels=n_kernels, kernel_sizes=kernel_sizes)\n",
    "    loss_fn   = nn.MSELoss()\n",
    "    optimizer = optim.Adam(model.parameters(), lr=lr)\n",
    "\n",
    "    #load dataloaders\n",
    "    train_dataloader = DataLoader(xy_train[index], batch_size=batch_size, shuffle=True)\n",
    "    val_dataloader   = DataLoader(xy_val[index], batch_size=batch_size)\n",
    "\n",
    "\n",
    "    #train models\n",
    "    model, train_epoch_losses, val_epoch_losses = train_model(model, optimizer, loss_fn, train_dataloader, val_dataloader, \n",
    "                                                                         n_epochs=40, device=device, patience=8, min_delta=1e-5)\n",
    "    \n",
    "    train_epoch_losses_list.append(train_epoch_losses)\n",
    "    val_epoch_losses_list.append(val_epoch_losses)\n",
    "\n",
    "    #save the model\n",
    "    savepath = './models_test/CNN_K{}.pt'.format(index)\n",
    "    torch.save(model.state_dict(), savepath)\n",
    "\n",
    "    #evaluate model on test data\n",
    "    model.eval()\n",
    "\n",
    "    y_pred  = model(x_tests[index].to(device))\n",
    "    y_pred  = y_pred.cpu().detach()\n",
    "    y_test  = y_tests[index].detach()\n",
    "\n",
    "\n",
    "    r2      = r2_score(y_pred, y_test) \n",
    "\n",
    "    r2_scores.append(r2)\n",
    "\n",
    "    predict_vs_gt.append([y_pred, y_test])\n",
    "    \n",
    "\n",
    "losses = [train_epoch_losses_list, val_epoch_losses_list, r2_scores]\n",
    "\n",
    "\n",
    "with open('CNN_models_epoch_losses_r2.pkl', 'wb') as handle:\n",
    "    pickle.dump(losses, handle, protocol=pickle.HIGHEST_PROTOCOL)\n",
    "\n",
    "with open('CNN_models_predict_vs_gt.pkl', 'wb') as handle:\n",
    "    pickle.dump(predict_vs_gt, handle, protocol=pickle.HIGHEST_PROTOCOL)\n",
    "\n",
    "\n",
    "print('All models trained and saved.')\n"
   ]
  },
  {
   "cell_type": "code",
   "execution_count": 24,
   "id": "842df3bd-44f2-4b6d-8198-d23f617d61d8",
   "metadata": {},
   "outputs": [],
   "source": [
    "from sklearn.ensemble import RandomForestRegressor"
   ]
  },
  {
   "cell_type": "code",
   "execution_count": 18,
   "id": "7723c0aa-3e31-4af2-9683-5e3fd2557d6d",
   "metadata": {},
   "outputs": [
    {
     "data": {
      "text/plain": [
       "{'lr': 0.01,\n",
       " 'batch_size': 128,\n",
       " 'num_conv_layers': 2,\n",
       " 'n_kernels_layer0': 128.0,\n",
       " 'n_kernels_layer1': 224.0,\n",
       " 'kernel_size_layer0': 5.0,\n",
       " 'kernel_size_layer1': 3.0}"
      ]
     },
     "execution_count": 18,
     "metadata": {},
     "output_type": "execute_result"
    }
   ],
   "source": [
    "NK_studies['cnn'][4].best_params"
   ]
  },
  {
   "cell_type": "code",
   "execution_count": 19,
   "id": "62177b2c-1430-4082-b47b-a6273c9ac740",
   "metadata": {},
   "outputs": [
    {
     "name": "stdout",
     "output_type": "stream",
     "text": [
      "Loading landscapes.\n",
      "Calculating train-test-val splits\n"
     ]
    },
    {
     "ename": "KeyError",
     "evalue": "'learning_rate'",
     "output_type": "error",
     "traceback": [
      "\u001b[0;31m---------------------------------------------------------------------------\u001b[0m",
      "\u001b[0;31mKeyError\u001b[0m                                  Traceback (most recent call last)",
      "\u001b[0;32m/tmp/ipykernel_4214/2495078398.py\u001b[0m in \u001b[0;36m<module>\u001b[0;34m\u001b[0m\n\u001b[0;32m----> 1\u001b[0;31m train_models_from_hparams_NK( hparams_path=HPARAM_PATH, datapath=DATAPATH, model_savepath=None, result_path=None, \n\u001b[0m\u001b[1;32m      2\u001b[0m                              \u001b[0mamino_acids\u001b[0m\u001b[0;34m=\u001b[0m\u001b[0mAA_ALPHABET\u001b[0m\u001b[0;34m,\u001b[0m \u001b[0mseq_length\u001b[0m\u001b[0;34m=\u001b[0m\u001b[0mSEQ_LEN\u001b[0m\u001b[0;34m,\u001b[0m\u001b[0;34m\u001b[0m\u001b[0;34m\u001b[0m\u001b[0m\n\u001b[1;32m      3\u001b[0m                                  n_replicates=8, n_epochs=30, patience=5, min_delta=1e-5)\n",
      "\u001b[0;32m/tmp/ipykernel_4214/3766309828.py\u001b[0m in \u001b[0;36mtrain_models_from_hparams_NK\u001b[0;34m(hparams_path, datapath, model_savepath, result_path, amino_acids, seq_length, n_replicates, n_epochs, patience, min_delta)\u001b[0m\n\u001b[1;32m     91\u001b[0m             \u001b[0;31m#extract model agnostic hparams. These don't apply to sklearn models\u001b[0m\u001b[0;34m\u001b[0m\u001b[0;34m\u001b[0m\u001b[0m\n\u001b[1;32m     92\u001b[0m             \u001b[0;32mif\u001b[0m \u001b[0mmodel_name\u001b[0m\u001b[0;34m!=\u001b[0m\u001b[0;34m'RF'\u001b[0m \u001b[0;32mor\u001b[0m \u001b[0mmodel_name\u001b[0m\u001b[0;34m!=\u001b[0m\u001b[0;34m'GB'\u001b[0m\u001b[0;34m:\u001b[0m\u001b[0;34m\u001b[0m\u001b[0;34m\u001b[0m\u001b[0m\n\u001b[0;32m---> 93\u001b[0;31m                 \u001b[0mlr\u001b[0m              \u001b[0;34m=\u001b[0m \u001b[0mparams\u001b[0m\u001b[0;34m[\u001b[0m\u001b[0;34m'learning_rate'\u001b[0m\u001b[0;34m]\u001b[0m\u001b[0;34m\u001b[0m\u001b[0;34m\u001b[0m\u001b[0m\n\u001b[0m\u001b[1;32m     94\u001b[0m                 \u001b[0mbatch_size\u001b[0m      \u001b[0;34m=\u001b[0m \u001b[0mparams\u001b[0m\u001b[0;34m[\u001b[0m\u001b[0;34m'batch_size'\u001b[0m\u001b[0;34m]\u001b[0m\u001b[0;34m\u001b[0m\u001b[0;34m\u001b[0m\u001b[0m\n\u001b[1;32m     95\u001b[0m \u001b[0;34m\u001b[0m\u001b[0m\n",
      "\u001b[0;31mKeyError\u001b[0m: 'learning_rate'"
     ]
    }
   ],
   "source": [
    "train_models_from_hparams_NK( hparams_path=HPARAM_PATH, datapath=DATAPATH, model_savepath=None, result_path=None, \n",
    "                             amino_acids=AA_ALPHABET, seq_length=SEQ_LEN,\n",
    "                                 n_replicates=8, n_epochs=30, patience=5, min_delta=1e-5)"
   ]
  },
  {
   "cell_type": "code",
   "execution_count": 15,
   "id": "c6d18755-02c3-4e15-8ce8-23e5f00ffceb",
   "metadata": {},
   "outputs": [
    {
     "data": {
      "text/plain": [
       "\"        \\n\\n                \\n\\n            \\n        \\n    \\n    \\n    \\n    for k_val, k_replicates in enumerate(landscapes): \\n        print('Training models for K={}'.format(k_val))\\n        #initialise correct hyperparameters\\n        params          = hparam_studies[k_val].best_params\\n\\n        print('Models for this value of K will have the following hyperparameters:{}'.format(params))\\n        #extract hparams not passed to model \\n        lr              = params['lr']\\n        batch_size      = params['batch_size']\\n\\n        #extract hparams passed to model \\n        if model==SequenceRegressionCNN: #here SequenceRegressionCNN is hardcoded\\n            model_params = read_CNN_hparams(params) #we need this special function to correctly parse hparams as stored in optuna study to those we can pass to our CNN model\\n            model_params['input_channels']=len(amino_acids)\\n            model_params['sequence_length']=seq_length\\n            model_name = 'CNN'\\n        else: \\n            break #placeholder while developing\\n\\n        #access appropriate data. Note that splits is structured as \\n        #[[K1_repl1, ...K1_repli], ..., [Kj_repl1, ..., Kj_repli]].\\n        #Therefore, xy_train etc will be a list where each element contains data for a replicate landscape\\n        #such that xy_train = [repl1, repl2, ..., repli]\\n        landscapes_ohe, xy_train, xy_val, xy_test, x_tests, y_tests = splits[k_val]  \\n\\n        train_epoch_losses_list_k = []\\n        val_epoch_losses_list_k   = []\\n        r2_scores_k               = []\\n        predict_vs_gt_k           = []\\n        \\n        #now loop over replicates at a given K value\\n        for r_index, replicate in enumerate(k_replicates):          \\n\\n            print('Training model K= {}, replicate {}'.format(k_val, r_index))\\n            #define model, loss fn and optimiser \\n            modelr     = model(**model_params)\\n            loss_fn   = nn.MSELoss()\\n            optimizer = optim.Adam(modelr.parameters(), lr=lr)\\n\\n            \\n            \\n             #load dataloaders\\n            train_dataloader = DataLoader(xy_train[r_index], batch_size=batch_size, shuffle=True)\\n            val_dataloader   = DataLoader(xy_val[r_index], batch_size=batch_size)\\n\\n            #train model\\n            _, train_epoch_losses, val_epoch_losses = train_model(modelr, optimizer, loss_fn, train_dataloader, val_dataloader, \\n                                                                     n_epochs=n_epochs, device=device, patience=patience, min_delta=min_delta)\\n\\n            #save model \\n            savepath = model_savepath+'/{0}_k{1}_r{2}.pt'.format(model_name, k_val, r_index)\\n            torch.save(modelr.state_dict(), savepath)\\n\\n            #evaluate model on test data\\n            modelr.eval()\\n\\n            x_test = x_tests[r_index].to(device)\\n            \\n            y_pred  = modelr(x_test)\\n            y_pred  = y_pred.cpu().detach()\\n            y_test  = y_tests[r_index].detach()\\n\\n            r2      = r2_score(y_pred, y_test)\\n\\n            #append relevant lists \\n            train_epoch_losses_list_k.append(train_epoch_losses)\\n            val_epoch_losses_list_k.append(val_epoch_losses)\\n            r2_scores_k.append(r2)\\n            predict_vs_gt_k.append([x_test.cpu().detach().numpy(), y_pred.numpy(), y_test.numpy()])\\n        \\n        \\n        #outer loop appends\\n        train_epoch_losses_list.append(train_epoch_losses_list_k)\\n        val_epoch_losses_list.append(val_epoch_losses_list_k)\\n        r2_scores.append(r2_scores_k)\\n        predict_vs_gt.append(predict_vs_gt_k)\\n\\n    \\n    results = (train_epoch_losses_list, val_epoch_losses_list, r2_scores, predict_vs_gt)\\n\\n    with open(result_path+'/{}_train_test_results.pkl'.format(model_name), 'wb') as handle:\\n        pickle.dump(results, handle, protocol=pickle.HIGHEST_PROTOCOL)    \\n\\n    print('Training and testing finished. Results written to disk.')\\n    return results      \\n\""
      ]
     },
     "execution_count": 15,
     "metadata": {},
     "output_type": "execute_result"
    }
   ],
   "source": [
    "\n",
    "def read_CNN_hparams(best_params): \n",
    "    params = best_params\n",
    "    num_conv_layers = params['num_conv_layers']\n",
    "    n_kernels       = [params['n_kernels_layer{}'.format(i)] for i in range(num_conv_layers)]\n",
    "    kernel_sizes    = [params['kernel_size_layer{}'.format(i)] for i in range(num_conv_layers)]\n",
    "\n",
    "    param_dict = {'num_conv_layers':num_conv_layers, 'n_kernels': n_kernels, 'kernel_sizes':kernel_sizes}\n",
    "    return param_dict\n",
    "\n",
    "def read_MLP_hparams(best_params): \n",
    "    params=best_params\n",
    "    n_hidden_layers = params['n_hidden_layers']    \n",
    "    hidden_sizes = [params['hidden{}_size'.format(i)] for i in range(n_hidden_layers)]\n",
    "    param_dict  = {'hidden_sizes': hidden_sizes}\n",
    "    return param_dict\n",
    "\n",
    "def read_LSTM_hparams(best_params): \n",
    "    params = best_params\n",
    "    num_layers  = params['num_layers']\n",
    "    hidden_size = params['hidden_size']\n",
    "    param_dict = {'num_layers': num_layers, 'hidden_size': hidden_size}\n",
    "    return param_dict\n",
    "def read_transformer_hparams(best_params): \n",
    "    params = best_params\n",
    "    d_model = params['embed_dim_num_heads'][0]\n",
    "    nheads  = params['embed_dim_num_heads'][1]\n",
    "    num_layers = params['num_layers']\n",
    "    dim_feedforward = params['dim_feedforward']\n",
    "    max_seq_length = params['max_seq_length']\n",
    "    param_dict = {'d_model': d_model, 'nhead': nheads, 'num_layers':num_layers,'dim_feedforward':dim_feedforward, \n",
    "                 'max_seq_length': max_seq_length}\n",
    "    return param_dict\n",
    "    \n",
    "    \n",
    "def train_models_from_hparams_NK(hparams_path, datapath, model_savepath, result_path, amino_acids, seq_length, \n",
    "                                 n_replicates, n_epochs=30, patience=5, min_delta=1e-5):\n",
    "    \"\"\"\n",
    "    Performs training of a given model with a given set of hyperparameters against NK landscapes replicates.\n",
    "\n",
    "    model (architectures.py object): model to train. Do not instantiate model with model() before passing. \n",
    "    \n",
    "    hparams_path (str):              path to pickled list of optuna studies containing results of hyperparameter \n",
    "                                     optimisation, with each list element containing the optuna study for the k-th NK landscape\n",
    "    datapath (str):                  path to csv files of nk landscapes, formatted as k{}_r{}.csv\n",
    "    amino_acids (str):               alphabet of amino acids used to create NK landscapes \n",
    "    seq_length (int):                length of sequences in NK landscapes \n",
    "    n_replicates (int):              number of replicate NK landscapes to load for each K value\n",
    "    \n",
    "    \"\"\"\n",
    "    \n",
    "\n",
    "    with open(hparams_path, 'rb') as handle:\n",
    "        hparam_studies = pickle.load(handle)\n",
    "\n",
    "    \n",
    "\n",
    "        \n",
    "    landscapes = []\n",
    "    print('Loading landscapes.')\n",
    "    for k in range(seq_length):\n",
    "        replicate_list = []\n",
    "        for r in range(n_replicates):\n",
    "            landscape = ProteinLandscape(csv_path=datapath+'/k{0}_r{1}.csv'.format(k,r), amino_acids=amino_acids)\n",
    "            replicate_list.append(landscape)\n",
    "        landscapes.append(replicate_list)\n",
    "    landscapes = [[i.fit_OHE() for i in j] for j in landscapes]\n",
    "\n",
    "    print('Calculating train-test-val splits')\n",
    "    splits = [train_val_test_split_ohe(i, random_state=1) for i in landscapes] #this will split each landscape replicate in each K \n",
    "                                                               #sublist into train-test-val splits\n",
    "    \n",
    "    #initialise some lists to collect results\n",
    "    train_epoch_losses_list = []\n",
    "    val_epoch_losses_list   = []\n",
    "    r2_scores               = []\n",
    "    predict_vs_gt           = []\n",
    "\n",
    "\n",
    "    device = 'cuda' if torch.cuda.is_available else 'cpu'\n",
    "\n",
    "    \n",
    "    #loop over models \n",
    "    for model_name in hparam_studies.keys(): \n",
    "        studies  = hparam_studies[model_name]\n",
    "        assert len(landscapes) == len(studies), 'Number of K values does not match number of hyper-parameter studies.'\n",
    "\n",
    "        for k_index, k_value in enumerate(studies): \n",
    "            study  = studies[k_index]\n",
    "            params = study.best_params\n",
    "\n",
    "            #extract model agnostic hparams. These don't apply to sklearn models \n",
    "            if model_name!='RF' or model_name!='GB':             \n",
    "                lr              = params['lr']\n",
    "                batch_size      = params['batch_size']\n",
    "\n",
    "            #extract model hparams \n",
    "            if model_name == 'linear':\n",
    "                model_params = {'alphabet_size': len(amino_acids), 'sequence_length':seq_length}\n",
    "            elif model_name == 'mlp':\n",
    "                model_params = read_MLP_hparams(params) \n",
    "                model_params['alphabet_size']= len(amino_acids)\n",
    "                model_params['sequence_length']=seq_length\n",
    "            elif model_name == 'cnn': \n",
    "                model_params = read_CNN_hparams(params)\n",
    "                model_params['input_channels'] = len(amino_acids)\n",
    "                model_params['sequence_length']=seq_length\n",
    "            elif model_name == 'ulstm': \n",
    "                model_params = read_LSTM_hparams(params)\n",
    "                model_params['input_size'] = len(amino_acids)\n",
    "                model_params['bidirectional'] = False \n",
    "            elif model_name == 'blstm': \n",
    "                model_params = read_LSTM_hparams(params)\n",
    "                model_params['input_size'] = len(amino_acids)\n",
    "                model_params['bidirectional'] = True \n",
    "            elif model_name == 'transformer': \n",
    "                model_params = read_transformer_hparams(params)\n",
    "                model_params['input_dim']=len(amino_acids)\n",
    "            elif (model_name == 'RF') or (model_name == 'GB') :\n",
    "                model_params=params\n",
    "\n",
    "            print('model name: {}, model_params: {}'.format(model_name, model_params))\n",
    "\"\"\"        \n",
    "\n",
    "                \n",
    "\n",
    "            \n",
    "        \n",
    "    \n",
    "    \n",
    "    \n",
    "    for k_val, k_replicates in enumerate(landscapes): \n",
    "        print('Training models for K={}'.format(k_val))\n",
    "        #initialise correct hyperparameters\n",
    "        params          = hparam_studies[k_val].best_params\n",
    "\n",
    "        print('Models for this value of K will have the following hyperparameters:{}'.format(params))\n",
    "        #extract hparams not passed to model \n",
    "        lr              = params['lr']\n",
    "        batch_size      = params['batch_size']\n",
    "\n",
    "        #extract hparams passed to model \n",
    "        if model==SequenceRegressionCNN: #here SequenceRegressionCNN is hardcoded\n",
    "            model_params = read_CNN_hparams(params) #we need this special function to correctly parse hparams as stored in optuna study to those we can pass to our CNN model\n",
    "            model_params['input_channels']=len(amino_acids)\n",
    "            model_params['sequence_length']=seq_length\n",
    "            model_name = 'CNN'\n",
    "        else: \n",
    "            break #placeholder while developing\n",
    "\n",
    "        #access appropriate data. Note that splits is structured as \n",
    "        #[[K1_repl1, ...K1_repli], ..., [Kj_repl1, ..., Kj_repli]].\n",
    "        #Therefore, xy_train etc will be a list where each element contains data for a replicate landscape\n",
    "        #such that xy_train = [repl1, repl2, ..., repli]\n",
    "        landscapes_ohe, xy_train, xy_val, xy_test, x_tests, y_tests = splits[k_val]  \n",
    "\n",
    "        train_epoch_losses_list_k = []\n",
    "        val_epoch_losses_list_k   = []\n",
    "        r2_scores_k               = []\n",
    "        predict_vs_gt_k           = []\n",
    "        \n",
    "        #now loop over replicates at a given K value\n",
    "        for r_index, replicate in enumerate(k_replicates):          \n",
    "\n",
    "            print('Training model K= {}, replicate {}'.format(k_val, r_index))\n",
    "            #define model, loss fn and optimiser \n",
    "            modelr     = model(**model_params)\n",
    "            loss_fn   = nn.MSELoss()\n",
    "            optimizer = optim.Adam(modelr.parameters(), lr=lr)\n",
    "\n",
    "            \n",
    "            \n",
    "             #load dataloaders\n",
    "            train_dataloader = DataLoader(xy_train[r_index], batch_size=batch_size, shuffle=True)\n",
    "            val_dataloader   = DataLoader(xy_val[r_index], batch_size=batch_size)\n",
    "\n",
    "            #train model\n",
    "            _, train_epoch_losses, val_epoch_losses = train_model(modelr, optimizer, loss_fn, train_dataloader, val_dataloader, \n",
    "                                                                     n_epochs=n_epochs, device=device, patience=patience, min_delta=min_delta)\n",
    "\n",
    "            #save model \n",
    "            savepath = model_savepath+'/{0}_k{1}_r{2}.pt'.format(model_name, k_val, r_index)\n",
    "            torch.save(modelr.state_dict(), savepath)\n",
    "\n",
    "            #evaluate model on test data\n",
    "            modelr.eval()\n",
    "\n",
    "            x_test = x_tests[r_index].to(device)\n",
    "            \n",
    "            y_pred  = modelr(x_test)\n",
    "            y_pred  = y_pred.cpu().detach()\n",
    "            y_test  = y_tests[r_index].detach()\n",
    "\n",
    "            r2      = r2_score(y_pred, y_test)\n",
    "\n",
    "            #append relevant lists \n",
    "            train_epoch_losses_list_k.append(train_epoch_losses)\n",
    "            val_epoch_losses_list_k.append(val_epoch_losses)\n",
    "            r2_scores_k.append(r2)\n",
    "            predict_vs_gt_k.append([x_test.cpu().detach().numpy(), y_pred.numpy(), y_test.numpy()])\n",
    "        \n",
    "        \n",
    "        #outer loop appends\n",
    "        train_epoch_losses_list.append(train_epoch_losses_list_k)\n",
    "        val_epoch_losses_list.append(val_epoch_losses_list_k)\n",
    "        r2_scores.append(r2_scores_k)\n",
    "        predict_vs_gt.append(predict_vs_gt_k)\n",
    "\n",
    "    \n",
    "    results = (train_epoch_losses_list, val_epoch_losses_list, r2_scores, predict_vs_gt)\n",
    "\n",
    "    with open(result_path+'/{}_train_test_results.pkl'.format(model_name), 'wb') as handle:\n",
    "        pickle.dump(results, handle, protocol=pickle.HIGHEST_PROTOCOL)    \n",
    "\n",
    "    print('Training and testing finished. Results written to disk.')\n",
    "    return results      \n",
    "\"\"\"            \n",
    "\n",
    "        \n",
    "\n",
    "    \n"
   ]
  },
  {
   "cell_type": "code",
   "execution_count": null,
   "id": "70a9983a-f9e5-4051-90c6-b9ec3e2de0a7",
   "metadata": {},
   "outputs": [],
   "source": []
  },
  {
   "cell_type": "code",
   "execution_count": 10,
   "id": "b99a9bc3-8796-4a33-b4bd-8f26888ef043",
   "metadata": {
    "scrolled": true
   },
   "outputs": [
    {
     "name": "stderr",
     "output_type": "stream",
     "text": [
      "/tmp/ipykernel_4214/1873653518.py:53: DeprecationWarning: numpy.core.numeric is deprecated and has been renamed to numpy._core.numeric. The numpy._core namespace contains private NumPy internals and its use is discouraged, as NumPy internals can change without warning in any release. In practice, most real-world usage of numpy.core is to access functionality in the public NumPy API. If that is the case, use the public NumPy API. If not, you are using NumPy internals. If you would still like to access an internal attribute, use numpy._core.numeric._frombuffer.\n",
      "  hparam_studies = pickle.load(handle)\n"
     ]
    },
    {
     "ename": "AttributeError",
     "evalue": "'list' object has no attribute 'keys'",
     "output_type": "error",
     "traceback": [
      "\u001b[0;31m---------------------------------------------------------------------------\u001b[0m",
      "\u001b[0;31mAttributeError\u001b[0m                            Traceback (most recent call last)",
      "\u001b[0;32m/tmp/ipykernel_4214/2386924465.py\u001b[0m in \u001b[0;36m<module>\u001b[0;34m\u001b[0m\n\u001b[1;32m      3\u001b[0m \u001b[0mmpath\u001b[0m\u001b[0;34m=\u001b[0m\u001b[0;34m'/home/ubuntu/nk-paper-2024/nk-ml-2024/trained_models'\u001b[0m\u001b[0;34m\u001b[0m\u001b[0;34m\u001b[0m\u001b[0m\n\u001b[1;32m      4\u001b[0m \u001b[0;34m\u001b[0m\u001b[0m\n\u001b[0;32m----> 5\u001b[0;31m trial = train_models_from_hparams_NK( hparams_path=hpath, datapath=dpath, \n\u001b[0m\u001b[1;32m      6\u001b[0m                                      \u001b[0mmodel_savepath\u001b[0m\u001b[0;34m=\u001b[0m\u001b[0mmpath\u001b[0m\u001b[0;34m,\u001b[0m \u001b[0mresult_path\u001b[0m\u001b[0;34m=\u001b[0m\u001b[0;34m'./'\u001b[0m\u001b[0;34m,\u001b[0m \u001b[0mamino_acids\u001b[0m\u001b[0;34m=\u001b[0m\u001b[0mAA_ALPHABET\u001b[0m\u001b[0;34m,\u001b[0m\u001b[0;34m\u001b[0m\u001b[0;34m\u001b[0m\u001b[0m\n\u001b[1;32m      7\u001b[0m                                      seq_length=SEQ_LEN, n_replicates=3, n_epochs=5, patience=5, min_delta=1e-5)\n",
      "\u001b[0;32m/tmp/ipykernel_4214/1873653518.py\u001b[0m in \u001b[0;36mtrain_models_from_hparams_NK\u001b[0;34m(hparams_path, datapath, model_savepath, result_path, amino_acids, seq_length, n_replicates, n_epochs, patience, min_delta)\u001b[0m\n\u001b[1;32m     83\u001b[0m \u001b[0;34m\u001b[0m\u001b[0m\n\u001b[1;32m     84\u001b[0m     \u001b[0;31m#loop over models\u001b[0m\u001b[0;34m\u001b[0m\u001b[0;34m\u001b[0m\u001b[0m\n\u001b[0;32m---> 85\u001b[0;31m     \u001b[0;32mfor\u001b[0m \u001b[0mmodel_name\u001b[0m \u001b[0;32min\u001b[0m \u001b[0mhparam_studies\u001b[0m\u001b[0;34m.\u001b[0m\u001b[0mkeys\u001b[0m\u001b[0;34m(\u001b[0m\u001b[0;34m)\u001b[0m\u001b[0;34m:\u001b[0m\u001b[0;34m\u001b[0m\u001b[0;34m\u001b[0m\u001b[0m\n\u001b[0m\u001b[1;32m     86\u001b[0m         \u001b[0mstudies\u001b[0m  \u001b[0;34m=\u001b[0m \u001b[0mhparam_studies\u001b[0m\u001b[0;34m[\u001b[0m\u001b[0mmodel_name\u001b[0m\u001b[0;34m]\u001b[0m\u001b[0;34m\u001b[0m\u001b[0;34m\u001b[0m\u001b[0m\n\u001b[1;32m     87\u001b[0m         \u001b[0;32massert\u001b[0m \u001b[0mlen\u001b[0m\u001b[0;34m(\u001b[0m\u001b[0mlandscapes\u001b[0m\u001b[0;34m)\u001b[0m \u001b[0;34m==\u001b[0m \u001b[0mlen\u001b[0m\u001b[0;34m(\u001b[0m\u001b[0mstudies\u001b[0m\u001b[0;34m)\u001b[0m\u001b[0;34m,\u001b[0m \u001b[0;34m'Number of K values does not match number of hyper-parameter studies.'\u001b[0m\u001b[0;34m\u001b[0m\u001b[0;34m\u001b[0m\u001b[0m\n",
      "\u001b[0;31mAttributeError\u001b[0m: 'list' object has no attribute 'keys'"
     ]
    }
   ],
   "source": [
    "\n",
    "dpath='/home/ubuntu/nk-paper-2024/nk-ml-2024/data/nk_landscapes'\n",
    "hpath='hyperopt_CNN_NK_studies.pkl'\n",
    "mpath='/home/ubuntu/nk-paper-2024/nk-ml-2024/trained_models'\n",
    "\n",
    "trial = train_models_from_hparams_NK( hparams_path=hpath, datapath=dpath, \n",
    "                                     model_savepath=mpath, result_path='./', amino_acids=AA_ALPHABET,\n",
    "                                     seq_length=SEQ_LEN, n_replicates=3, n_epochs=5, patience=5, min_delta=1e-5)"
   ]
  },
  {
   "cell_type": "code",
   "execution_count": 100,
   "id": "be33c92e-d270-44d5-8496-59f5a471fb5d",
   "metadata": {},
   "outputs": [],
   "source": [
    "with open('CNN_train_test_results.pkl', 'rb') as handle: \n",
    "    resultss = pickle.load(handle)"
   ]
  },
  {
   "cell_type": "code",
   "execution_count": 101,
   "id": "47321b92-e8b0-4165-b8a5-40fcadd8a5f7",
   "metadata": {},
   "outputs": [
    {
     "data": {
      "text/plain": [
       "True"
      ]
     },
     "execution_count": 101,
     "metadata": {},
     "output_type": "execute_result"
    }
   ],
   "source": [
    "np.all(np.array(trial[0])==np.array(resultss[0]))"
   ]
  },
  {
   "cell_type": "code",
   "execution_count": 102,
   "id": "af1de3f6-b04b-40de-88e3-60039f169449",
   "metadata": {},
   "outputs": [
    {
     "data": {
      "text/plain": [
       "[[0.9975590435070749, 0.9981934982058059, 0.9973592654530912],\n",
       " [0.9550786323446979, 0.9799023776316415, 0.9962046925132083],\n",
       " [0.3791683828975413, 0.26729005954293206, 0.09623650507715253],\n",
       " [-5.693618791690591, -2.6740647490316367, -3.766370922897945],\n",
       " [-58.223697303583506, -51.53594043119588, -52.63664275667642],\n",
       " [-27173.34715588961, -97121.31173380127, -283522.98566762335]]"
      ]
     },
     "execution_count": 102,
     "metadata": {},
     "output_type": "execute_result"
    }
   ],
   "source": []
  },
  {
   "cell_type": "code",
   "execution_count": 68,
   "id": "aac3ce63-a6f0-45c6-8fcf-888f08a5d5c7",
   "metadata": {},
   "outputs": [
    {
     "data": {
      "text/plain": [
       "'kkslCNNscsc'"
      ]
     },
     "execution_count": 68,
     "metadata": {},
     "output_type": "execute_result"
    }
   ],
   "source": [
    "'kksl{}scsc'.format('CNN')"
   ]
  },
  {
   "cell_type": "code",
   "execution_count": 64,
   "id": "7474c458-3398-4acb-91de-548daa433c7e",
   "metadata": {},
   "outputs": [],
   "source": [
    "device = 'cuda' if torch.cuda.is_available else 'cpu'\n",
    "\n",
    "    model     = SequenceRegressionCNN(input_channels=len(AA_ALPHABET), sequence_length=SEQ_LEN,\n",
    "                                 num_conv_layers=num_conv_layers, n_kernels=n_kernels, kernel_sizes=kernel_sizes)\n",
    "    loss_fn   = nn.MSELoss()\n",
    "    optimizer = optim.Adam(model.parameters(), lr=lr)\n",
    "\n",
    "    #load dataloaders\n",
    "    train_dataloader = DataLoader(xy_train[index], batch_size=batch_size, shuffle=True)\n",
    "    val_dataloader   = DataLoader(xy_val[index], batch_size=batch_size)\n",
    "\n",
    "\n",
    "    #train models\n",
    "    model, train_epoch_losses, val_epoch_losses = train_model(model, optimizer, loss_fn, train_dataloader, val_dataloader, \n",
    "                                                                         n_epochs=40, device=device, patience=8, min_delta=1e-5)\n",
    "    \n",
    "    train_epoch_losses_list.append(train_epoch_losses)\n",
    "    val_epoch_losses_list.append(val_epoch_losses)\n",
    "\n",
    "    #save the model\n",
    "    savepath = './models_test/CNN_K{}.pt'.format(index)\n",
    "    torch.save(model.state_dict(), savepath)\n",
    "\n",
    "    #evaluate model on test data\n",
    "    model.eval()\n",
    "\n",
    "    y_pred  = model(x_tests[index].to(device))\n",
    "    y_pred  = y_pred.cpu().detach()\n",
    "    y_test  = y_tests[index].detach()\n",
    "\n",
    "\n",
    "    r2      = r2_score(y_pred, y_test) \n",
    "\n",
    "    r2_scores.append(r2)\n",
    "\n",
    "    predict_vs_gt.append([y_pred, y_test])\n",
    "    \n",
    "\n",
    "losses = [train_epoch_losses_list, val_epoch_losses_list, r2_scores]\n",
    "\n",
    "\n",
    "with open('CNN_models_epoch_losses_r2.pkl', 'wb') as handle:\n",
    "    pickle.dump(losses, handle, protocol=pickle.HIGHEST_PROTOCOL)\n",
    "\n",
    "with open('CNN_models_predict_vs_gt.pkl', 'wb') as handle:\n",
    "    pickle.dump(predict_vs_gt, handle, protocol=pickle.HIGHEST_PROTOCOL)\n",
    "\n",
    "\n",
    "print('All models trained and saved.')\n"
   ]
  },
  {
   "cell_type": "code",
   "execution_count": 66,
   "id": "17392b74-7939-476c-90d8-010f4025a52b",
   "metadata": {},
   "outputs": [],
   "source": [
    "g['x']='y'"
   ]
  },
  {
   "cell_type": "code",
   "execution_count": 67,
   "id": "e08f6adf-02ad-40f0-aba3-7332d7d7ef3a",
   "metadata": {},
   "outputs": [
    {
     "data": {
      "text/plain": [
       "{'num_conv_layers': 2, 'n_kernels': [96, 32], 'kernel_sizes': [3, 5], 'x': 'y'}"
      ]
     },
     "execution_count": 67,
     "metadata": {},
     "output_type": "execute_result"
    }
   ],
   "source": [
    "g"
   ]
  },
  {
   "cell_type": "code",
   "execution_count": 61,
   "id": "af10bde1-2f9c-490c-8d88-21732f78d40a",
   "metadata": {},
   "outputs": [],
   "source": [
    "SequenceRegressionCNN"
   ]
  },
  {
   "cell_type": "code",
   "execution_count": 62,
   "id": "a7fab9d3-cb13-4b91-a0c9-9584d1e861dd",
   "metadata": {},
   "outputs": [
    {
     "data": {
      "text/plain": [
       "True"
      ]
     },
     "execution_count": 62,
     "metadata": {},
     "output_type": "execute_result"
    }
   ],
   "source": [
    "f==SequenceRegressionCNN"
   ]
  },
  {
   "cell_type": "code",
   "execution_count": 22,
   "id": "8b7d2383-be07-4dc9-86c4-df1161fcf960",
   "metadata": {},
   "outputs": [
    {
     "name": "stdout",
     "output_type": "stream",
     "text": [
      "All models trained and saved.\n"
     ]
    }
   ],
   "source": [
    "\n",
    "with open('CNN_models_epoch_losses_r2.pkl', 'wb') as handle:\n",
    "    pickle.dump(losses, handle, protocol=pickle.HIGHEST_PROTOCOL)\n",
    "\n",
    "with open('CNN_models_predict_vs_gt.pkl', 'wb') as handle:\n",
    "    pickle.dump(predict_vs_gt, handle, protocol=pickle.HIGHEST_PROTOCOL)\n",
    "\n",
    "\n",
    "print('All models trained and saved.')"
   ]
  },
  {
   "cell_type": "code",
   "execution_count": 36,
   "id": "80be4d12-5cad-42b4-bece-6d6a6c8fe835",
   "metadata": {},
   "outputs": [],
   "source": [
    "import matplotlib.pyplot as plt"
   ]
  },
  {
   "cell_type": "code",
   "execution_count": 37,
   "id": "dedc6917-2068-4305-805b-f0bb96e15808",
   "metadata": {},
   "outputs": [
    {
     "data": {
      "image/png": "[encoded data removed]",
      "text/plain": [
       "<Figure size 1080x504 with 6 Axes>"
      ]
     },
     "metadata": {
      "needs_background": "light"
     },
     "output_type": "display_data"
    }
   ],
   "source": [
    "fig, ax = plt.subplots(nrows=2, ncols=3, figsize=(15, 7))\n",
    "\n",
    "for ind, i in enumerate(ax.ravel()):\n",
    "    i.plot(val_epoch_losses_list[ind], c='r', label='val loss')\n",
    "    i.plot(train_epoch_losses_list[ind], c='b', label='train loss')\n",
    "    i.legend()\n",
    "    i.set_title('K={}'.format(ind))\n",
    "\n"
   ]
  },
  {
   "cell_type": "code",
   "execution_count": 40,
   "id": "184d34bd-693f-4cf9-9eb2-694ea79d52c5",
   "metadata": {},
   "outputs": [
    {
     "data": {
      "text/plain": [
       "[0.9996313854901864,\n",
       " 0.9964798900165509,\n",
       " 0.9490908192917743,\n",
       " 0.568154893067858,\n",
       " -6.706080842663096,\n",
       " -5537960466172.693]"
      ]
     },
     "execution_count": 40,
     "metadata": {},
     "output_type": "execute_result"
    }
   ],
   "source": [
    "r2_scores"
   ]
  },
  {
   "cell_type": "code",
   "execution_count": 42,
   "id": "3e9e2302-32ec-42be-bcf3-bcb286cc7510",
   "metadata": {},
   "outputs": [
    {
     "data": {
      "image/png": "[encoded data removed]",
      "text/plain": [
       "<Figure size 1080x504 with 6 Axes>"
      ]
     },
     "metadata": {
      "needs_background": "light"
     },
     "output_type": "display_data"
    }
   ],
   "source": [
    "fig, ax = plt.subplots(nrows=2, ncols=3, figsize=(15, 7))\n",
    "\n",
    "for ind, i in enumerate(ax.ravel()):\n",
    "    i.scatter(predict_vs_gt[ind][0], predict_vs_gt[ind][1],marker='.', s=.3 )\n",
    "    i.set_ylim(0,1)\n",
    "    i.set_xlim(0,1)\n",
    "    i.set_title('$K={0}, R^2={1}$'.format(ind, r2_scores[ind]))"
   ]
  }
 ],
 "metadata": {
  "kernelspec": {
   "display_name": "Python 3 (ipykernel)",
   "language": "python",
   "name": "python3"
  },
  "language_info": {
   "codemirror_mode": {
    "name": "ipython",
    "version": 3
   },
   "file_extension": ".py",
   "mimetype": "text/x-python",
   "name": "python",
   "nbconvert_exporter": "python",
   "pygments_lexer": "ipython3",
   "version": "3.10.12"
  }
 },
 "nbformat": 4,
 "nbformat_minor": 5
}
