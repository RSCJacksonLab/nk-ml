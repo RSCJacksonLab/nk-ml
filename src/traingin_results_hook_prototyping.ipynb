{
 "cells": [
  {
   "cell_type": "code",
   "execution_count": 71,
   "id": "9e0660f6-546d-4dd2-84b6-65a8ebf837a5",
   "metadata": {},
   "outputs": [],
   "source": [
    "import optuna as opt\n",
    "import torch\n",
    "import torch.nn as nn\n",
    "import torch.optim as optim\n",
    "import numpy as np\n",
    "#from twilio.rest import Client\n",
    "import pickle\n",
    "\n",
    "import time\n",
    "\n",
    "import sys\n",
    "import os \n",
    "\n",
    "\n",
    "sys.path.append('../../pscapes')\n",
    "sys.path.append('./')\n",
    "\n",
    "\n",
    "from torch.utils.data import DataLoader\n",
    "\n",
    "from pscapes.landscape_class import ProteinLandscape\n",
    "from pscapes.utils import dict_to_np_array, np_array_to_dict\n",
    "\n",
    "from architectures import SequenceRegressionCNN, SequenceRegressionLinear, SequenceRegressionMLP, SequenceRegressionLSTM, SequenceRegressionTransformer\n",
    "\n",
    "from ml_utils import train_val_test_split_ohe, landscapes_ohe_to_numpy\n",
    "from hyperopt import objective_NK, sklearn_objective_NK\n",
    "\n",
    "from sklearn.ensemble import RandomForestRegressor, GradientBoostingRegressor \n",
    "\n",
    "from train_utils import train_models_from_hparams_NK, read_MLP_hparams, read_CNN_hparams"
   ]
  },
  {
   "cell_type": "code",
   "execution_count": 72,
   "id": "b0521ae1-243d-49e6-ad80-407a4b470673",
   "metadata": {},
   "outputs": [],
   "source": [
    "HPARAM_PATH = '../hyperopt/results/NK_hyperopt_results.pkl'\n",
    "DATA_PATH = '../data/nk_landscapes/'\n",
    "MODEL_SAVEPATH = '../models/'\n",
    "RESULT_PATH = '../results/'"
   ]
  },
  {
   "cell_type": "code",
   "execution_count": 73,
   "id": "6a2d2b26-58d4-42fb-b921-9c764e934deb",
   "metadata": {},
   "outputs": [],
   "source": [
    "SEQ_LEN = 6\n",
    "AA_ALPHABET  = 'ACDEFG'"
   ]
  },
  {
   "cell_type": "code",
   "execution_count": 74,
   "id": "c3bf1563-256f-4d2a-b001-3511d0d90ce1",
   "metadata": {},
   "outputs": [],
   "source": [
    "with open(HPARAM_PATH, 'rb') as handle: \n",
    "    NK_hparams = pickle.load(handle)"
   ]
  },
  {
   "cell_type": "code",
   "execution_count": null,
   "id": "6675e3a7-7ccf-4f49-bd5e-1c9c82249c9c",
   "metadata": {},
   "outputs": [],
   "source": [
    "model_names = ['linear', 'mlp', 'cnn', 'ulstm', 'blstm', 'transformer', 'RF', 'GB']\n"
   ]
  },
  {
   "cell_type": "code",
   "execution_count": 90,
   "id": "ba8f68c3-8ea8-43be-89f0-1503042c3ec1",
   "metadata": {},
   "outputs": [],
   "source": [
    "for model_name in model_names: \n",
    "    for k_val in range(SEQ_LEN): \n",
    "        best_val = NK_hparams[model_name][k_val].best_value\n"
   ]
  },
  {
   "cell_type": "code",
   "execution_count": 124,
   "id": "26d6195b-b9ca-49ec-8e9d-285b3bd71ccb",
   "metadata": {},
   "outputs": [
    {
     "ename": "TypeError",
     "evalue": "StudySummary.__init__() missing 7 required positional arguments: 'direction', 'best_trial', 'user_attrs', 'system_attrs', 'n_trials', 'datetime_start', and 'study_id'",
     "output_type": "error",
     "traceback": [
      "\u001b[0;31m---------------------------------------------------------------------------\u001b[0m",
      "\u001b[0;31mTypeError\u001b[0m                                 Traceback (most recent call last)",
      "\u001b[0;32m/tmp/ipykernel_3008/1288980216.py\u001b[0m in \u001b[0;36m<module>\u001b[0;34m\u001b[0m\n\u001b[0;32m----> 1\u001b[0;31m \u001b[0mopt\u001b[0m\u001b[0;34m.\u001b[0m\u001b[0mstudy\u001b[0m\u001b[0;34m.\u001b[0m\u001b[0mStudySummary\u001b[0m\u001b[0;34m(\u001b[0m\u001b[0mNK_hparams\u001b[0m\u001b[0;34m[\u001b[0m\u001b[0;34m'mlp'\u001b[0m\u001b[0;34m]\u001b[0m\u001b[0;34m[\u001b[0m\u001b[0;36m0\u001b[0m\u001b[0;34m]\u001b[0m\u001b[0;34m.\u001b[0m\u001b[0mstudy_name\u001b[0m\u001b[0;34m)\u001b[0m\u001b[0;34m\u001b[0m\u001b[0;34m\u001b[0m\u001b[0m\n\u001b[0m",
      "\u001b[0;31mTypeError\u001b[0m: StudySummary.__init__() missing 7 required positional arguments: 'direction', 'best_trial', 'user_attrs', 'system_attrs', 'n_trials', 'datetime_start', and 'study_id'"
     ]
    }
   ],
   "source": [
    "opt.study.StudySummary(NK_hparams['mlp'][0].study_name)"
   ]
  },
  {
   "cell_type": "code",
   "execution_count": 127,
   "id": "944870dc-ac23-4cd7-a2f5-f973b8d32ca7",
   "metadata": {},
   "outputs": [
    {
     "data": {
      "text/html": [
       "<div>\n",
       "<style scoped>\n",
       "    .dataframe tbody tr th:only-of-type {\n",
       "        vertical-align: middle;\n",
       "    }\n",
       "\n",
       "    .dataframe tbody tr th {\n",
       "        vertical-align: top;\n",
       "    }\n",
       "\n",
       "    .dataframe thead th {\n",
       "        text-align: right;\n",
       "    }\n",
       "</style>\n",
       "<table border=\"1\" class=\"dataframe\">\n",
       "  <thead>\n",
       "    <tr style=\"text-align: right;\">\n",
       "      <th></th>\n",
       "      <th>number</th>\n",
       "      <th>value</th>\n",
       "      <th>datetime_start</th>\n",
       "      <th>datetime_complete</th>\n",
       "      <th>duration</th>\n",
       "      <th>params_batch_size</th>\n",
       "      <th>params_hidden_size</th>\n",
       "      <th>params_lr</th>\n",
       "      <th>params_num_layers</th>\n",
       "      <th>state</th>\n",
       "    </tr>\n",
       "  </thead>\n",
       "  <tbody>\n",
       "    <tr>\n",
       "      <th>0</th>\n",
       "      <td>0</td>\n",
       "      <td>0.000008</td>\n",
       "      <td>2024-11-05 09:27:50.498713</td>\n",
       "      <td>2024-11-05 09:27:54.641470</td>\n",
       "      <td>0 days 00:00:04.142757</td>\n",
       "      <td>256</td>\n",
       "      <td>256</td>\n",
       "      <td>0.0010</td>\n",
       "      <td>1</td>\n",
       "      <td>COMPLETE</td>\n",
       "    </tr>\n",
       "    <tr>\n",
       "      <th>1</th>\n",
       "      <td>1</td>\n",
       "      <td>0.000020</td>\n",
       "      <td>2024-11-05 09:27:54.641846</td>\n",
       "      <td>2024-11-05 09:28:13.577985</td>\n",
       "      <td>0 days 00:00:18.936139</td>\n",
       "      <td>256</td>\n",
       "      <td>64</td>\n",
       "      <td>0.0001</td>\n",
       "      <td>3</td>\n",
       "      <td>COMPLETE</td>\n",
       "    </tr>\n",
       "    <tr>\n",
       "      <th>2</th>\n",
       "      <td>2</td>\n",
       "      <td>0.000022</td>\n",
       "      <td>2024-11-05 09:28:13.578395</td>\n",
       "      <td>2024-11-05 09:28:20.287267</td>\n",
       "      <td>0 days 00:00:06.708872</td>\n",
       "      <td>128</td>\n",
       "      <td>128</td>\n",
       "      <td>0.0100</td>\n",
       "      <td>4</td>\n",
       "      <td>COMPLETE</td>\n",
       "    </tr>\n",
       "    <tr>\n",
       "      <th>3</th>\n",
       "      <td>3</td>\n",
       "      <td>0.000008</td>\n",
       "      <td>2024-11-05 09:28:20.287658</td>\n",
       "      <td>2024-11-05 09:28:24.090640</td>\n",
       "      <td>0 days 00:00:03.802982</td>\n",
       "      <td>256</td>\n",
       "      <td>512</td>\n",
       "      <td>0.0010</td>\n",
       "      <td>1</td>\n",
       "      <td>COMPLETE</td>\n",
       "    </tr>\n",
       "    <tr>\n",
       "      <th>4</th>\n",
       "      <td>4</td>\n",
       "      <td>0.000276</td>\n",
       "      <td>2024-11-05 09:28:24.091036</td>\n",
       "      <td>2024-11-05 09:28:32.103628</td>\n",
       "      <td>0 days 00:00:08.012592</td>\n",
       "      <td>64</td>\n",
       "      <td>64</td>\n",
       "      <td>0.0100</td>\n",
       "      <td>2</td>\n",
       "      <td>COMPLETE</td>\n",
       "    </tr>\n",
       "    <tr>\n",
       "      <th>5</th>\n",
       "      <td>5</td>\n",
       "      <td>0.013381</td>\n",
       "      <td>2024-11-05 09:28:32.104028</td>\n",
       "      <td>2024-11-05 09:28:34.156510</td>\n",
       "      <td>0 days 00:00:02.052482</td>\n",
       "      <td>128</td>\n",
       "      <td>512</td>\n",
       "      <td>0.0001</td>\n",
       "      <td>3</td>\n",
       "      <td>PRUNED</td>\n",
       "    </tr>\n",
       "    <tr>\n",
       "      <th>6</th>\n",
       "      <td>6</td>\n",
       "      <td>0.013805</td>\n",
       "      <td>2024-11-05 09:28:34.156777</td>\n",
       "      <td>2024-11-05 09:28:37.329001</td>\n",
       "      <td>0 days 00:00:03.172224</td>\n",
       "      <td>32</td>\n",
       "      <td>64</td>\n",
       "      <td>0.0001</td>\n",
       "      <td>4</td>\n",
       "      <td>PRUNED</td>\n",
       "    </tr>\n",
       "    <tr>\n",
       "      <th>7</th>\n",
       "      <td>7</td>\n",
       "      <td>0.015082</td>\n",
       "      <td>2024-11-05 09:28:37.329247</td>\n",
       "      <td>2024-11-05 09:28:39.004435</td>\n",
       "      <td>0 days 00:00:01.675188</td>\n",
       "      <td>32</td>\n",
       "      <td>64</td>\n",
       "      <td>0.0001</td>\n",
       "      <td>1</td>\n",
       "      <td>PRUNED</td>\n",
       "    </tr>\n",
       "    <tr>\n",
       "      <th>8</th>\n",
       "      <td>8</td>\n",
       "      <td>0.000093</td>\n",
       "      <td>2024-11-05 09:28:39.004708</td>\n",
       "      <td>2024-11-05 09:28:41.338528</td>\n",
       "      <td>0 days 00:00:02.333820</td>\n",
       "      <td>128</td>\n",
       "      <td>256</td>\n",
       "      <td>0.0100</td>\n",
       "      <td>2</td>\n",
       "      <td>PRUNED</td>\n",
       "    </tr>\n",
       "    <tr>\n",
       "      <th>9</th>\n",
       "      <td>9</td>\n",
       "      <td>0.024793</td>\n",
       "      <td>2024-11-05 09:28:41.339101</td>\n",
       "      <td>2024-11-05 09:28:41.620812</td>\n",
       "      <td>0 days 00:00:00.281711</td>\n",
       "      <td>256</td>\n",
       "      <td>128</td>\n",
       "      <td>0.0001</td>\n",
       "      <td>1</td>\n",
       "      <td>PRUNED</td>\n",
       "    </tr>\n",
       "    <tr>\n",
       "      <th>10</th>\n",
       "      <td>10</td>\n",
       "      <td>0.000004</td>\n",
       "      <td>2024-11-05 09:28:41.621304</td>\n",
       "      <td>2024-11-05 09:28:57.235030</td>\n",
       "      <td>0 days 00:00:15.613726</td>\n",
       "      <td>64</td>\n",
       "      <td>512</td>\n",
       "      <td>0.0010</td>\n",
       "      <td>2</td>\n",
       "      <td>COMPLETE</td>\n",
       "    </tr>\n",
       "    <tr>\n",
       "      <th>11</th>\n",
       "      <td>11</td>\n",
       "      <td>0.000002</td>\n",
       "      <td>2024-11-05 09:28:57.235780</td>\n",
       "      <td>2024-11-05 09:29:18.673020</td>\n",
       "      <td>0 days 00:00:21.437240</td>\n",
       "      <td>64</td>\n",
       "      <td>512</td>\n",
       "      <td>0.0010</td>\n",
       "      <td>2</td>\n",
       "      <td>COMPLETE</td>\n",
       "    </tr>\n",
       "    <tr>\n",
       "      <th>12</th>\n",
       "      <td>12</td>\n",
       "      <td>0.000214</td>\n",
       "      <td>2024-11-05 09:29:18.673656</td>\n",
       "      <td>2024-11-05 09:29:32.358234</td>\n",
       "      <td>0 days 00:00:13.684578</td>\n",
       "      <td>64</td>\n",
       "      <td>512</td>\n",
       "      <td>0.0010</td>\n",
       "      <td>2</td>\n",
       "      <td>COMPLETE</td>\n",
       "    </tr>\n",
       "    <tr>\n",
       "      <th>13</th>\n",
       "      <td>13</td>\n",
       "      <td>0.000016</td>\n",
       "      <td>2024-11-05 09:29:32.358963</td>\n",
       "      <td>2024-11-05 09:29:53.954696</td>\n",
       "      <td>0 days 00:00:21.595733</td>\n",
       "      <td>64</td>\n",
       "      <td>512</td>\n",
       "      <td>0.0010</td>\n",
       "      <td>3</td>\n",
       "      <td>COMPLETE</td>\n",
       "    </tr>\n",
       "    <tr>\n",
       "      <th>14</th>\n",
       "      <td>14</td>\n",
       "      <td>0.000048</td>\n",
       "      <td>2024-11-05 09:29:53.955301</td>\n",
       "      <td>2024-11-05 09:29:55.953589</td>\n",
       "      <td>0 days 00:00:01.998288</td>\n",
       "      <td>64</td>\n",
       "      <td>512</td>\n",
       "      <td>0.0010</td>\n",
       "      <td>2</td>\n",
       "      <td>PRUNED</td>\n",
       "    </tr>\n",
       "    <tr>\n",
       "      <th>15</th>\n",
       "      <td>15</td>\n",
       "      <td>0.000081</td>\n",
       "      <td>2024-11-05 09:29:55.954107</td>\n",
       "      <td>2024-11-05 09:29:57.967499</td>\n",
       "      <td>0 days 00:00:02.013392</td>\n",
       "      <td>64</td>\n",
       "      <td>512</td>\n",
       "      <td>0.0010</td>\n",
       "      <td>2</td>\n",
       "      <td>PRUNED</td>\n",
       "    </tr>\n",
       "    <tr>\n",
       "      <th>16</th>\n",
       "      <td>16</td>\n",
       "      <td>0.000003</td>\n",
       "      <td>2024-11-05 09:29:57.968037</td>\n",
       "      <td>2024-11-05 09:30:17.002719</td>\n",
       "      <td>0 days 00:00:19.034682</td>\n",
       "      <td>64</td>\n",
       "      <td>512</td>\n",
       "      <td>0.0010</td>\n",
       "      <td>3</td>\n",
       "      <td>COMPLETE</td>\n",
       "    </tr>\n",
       "    <tr>\n",
       "      <th>17</th>\n",
       "      <td>17</td>\n",
       "      <td>0.000013</td>\n",
       "      <td>2024-11-05 09:30:17.003359</td>\n",
       "      <td>2024-11-05 09:30:38.929292</td>\n",
       "      <td>0 days 00:00:21.925933</td>\n",
       "      <td>64</td>\n",
       "      <td>512</td>\n",
       "      <td>0.0010</td>\n",
       "      <td>3</td>\n",
       "      <td>COMPLETE</td>\n",
       "    </tr>\n",
       "    <tr>\n",
       "      <th>18</th>\n",
       "      <td>18</td>\n",
       "      <td>0.002162</td>\n",
       "      <td>2024-11-05 09:30:38.929660</td>\n",
       "      <td>2024-11-05 09:30:40.710342</td>\n",
       "      <td>0 days 00:00:01.780682</td>\n",
       "      <td>64</td>\n",
       "      <td>128</td>\n",
       "      <td>0.0010</td>\n",
       "      <td>4</td>\n",
       "      <td>PRUNED</td>\n",
       "    </tr>\n",
       "    <tr>\n",
       "      <th>19</th>\n",
       "      <td>19</td>\n",
       "      <td>0.000041</td>\n",
       "      <td>2024-11-05 09:30:40.710587</td>\n",
       "      <td>2024-11-05 09:30:48.259941</td>\n",
       "      <td>0 days 00:00:07.549354</td>\n",
       "      <td>32</td>\n",
       "      <td>256</td>\n",
       "      <td>0.0010</td>\n",
       "      <td>3</td>\n",
       "      <td>PRUNED</td>\n",
       "    </tr>\n",
       "    <tr>\n",
       "      <th>20</th>\n",
       "      <td>20</td>\n",
       "      <td>0.048132</td>\n",
       "      <td>2024-11-05 09:30:48.260502</td>\n",
       "      <td>2024-11-05 09:30:51.444784</td>\n",
       "      <td>0 days 00:00:03.184282</td>\n",
       "      <td>64</td>\n",
       "      <td>512</td>\n",
       "      <td>0.0100</td>\n",
       "      <td>3</td>\n",
       "      <td>PRUNED</td>\n",
       "    </tr>\n",
       "    <tr>\n",
       "      <th>21</th>\n",
       "      <td>21</td>\n",
       "      <td>0.000008</td>\n",
       "      <td>2024-11-05 09:30:51.445046</td>\n",
       "      <td>2024-11-05 09:31:05.034368</td>\n",
       "      <td>0 days 00:00:13.589322</td>\n",
       "      <td>64</td>\n",
       "      <td>512</td>\n",
       "      <td>0.0010</td>\n",
       "      <td>2</td>\n",
       "      <td>COMPLETE</td>\n",
       "    </tr>\n",
       "    <tr>\n",
       "      <th>22</th>\n",
       "      <td>22</td>\n",
       "      <td>0.000067</td>\n",
       "      <td>2024-11-05 09:31:05.034981</td>\n",
       "      <td>2024-11-05 09:31:07.055333</td>\n",
       "      <td>0 days 00:00:02.020352</td>\n",
       "      <td>64</td>\n",
       "      <td>512</td>\n",
       "      <td>0.0010</td>\n",
       "      <td>2</td>\n",
       "      <td>PRUNED</td>\n",
       "    </tr>\n",
       "    <tr>\n",
       "      <th>23</th>\n",
       "      <td>23</td>\n",
       "      <td>0.000143</td>\n",
       "      <td>2024-11-05 09:31:07.055846</td>\n",
       "      <td>2024-11-05 09:31:09.052153</td>\n",
       "      <td>0 days 00:00:01.996307</td>\n",
       "      <td>64</td>\n",
       "      <td>512</td>\n",
       "      <td>0.0010</td>\n",
       "      <td>2</td>\n",
       "      <td>PRUNED</td>\n",
       "    </tr>\n",
       "    <tr>\n",
       "      <th>24</th>\n",
       "      <td>24</td>\n",
       "      <td>0.000055</td>\n",
       "      <td>2024-11-05 09:31:09.052736</td>\n",
       "      <td>2024-11-05 09:31:12.208068</td>\n",
       "      <td>0 days 00:00:03.155332</td>\n",
       "      <td>64</td>\n",
       "      <td>512</td>\n",
       "      <td>0.0010</td>\n",
       "      <td>3</td>\n",
       "      <td>PRUNED</td>\n",
       "    </tr>\n",
       "    <tr>\n",
       "      <th>25</th>\n",
       "      <td>25</td>\n",
       "      <td>0.000072</td>\n",
       "      <td>2024-11-05 09:31:12.208606</td>\n",
       "      <td>2024-11-05 09:31:14.223111</td>\n",
       "      <td>0 days 00:00:02.014505</td>\n",
       "      <td>64</td>\n",
       "      <td>512</td>\n",
       "      <td>0.0010</td>\n",
       "      <td>2</td>\n",
       "      <td>PRUNED</td>\n",
       "    </tr>\n",
       "    <tr>\n",
       "      <th>26</th>\n",
       "      <td>26</td>\n",
       "      <td>0.000055</td>\n",
       "      <td>2024-11-05 09:31:14.223551</td>\n",
       "      <td>2024-11-05 09:31:15.325585</td>\n",
       "      <td>0 days 00:00:01.102034</td>\n",
       "      <td>64</td>\n",
       "      <td>512</td>\n",
       "      <td>0.0010</td>\n",
       "      <td>1</td>\n",
       "      <td>PRUNED</td>\n",
       "    </tr>\n",
       "    <tr>\n",
       "      <th>27</th>\n",
       "      <td>27</td>\n",
       "      <td>0.000021</td>\n",
       "      <td>2024-11-05 09:31:15.326079</td>\n",
       "      <td>2024-11-05 09:31:22.802447</td>\n",
       "      <td>0 days 00:00:07.476368</td>\n",
       "      <td>32</td>\n",
       "      <td>256</td>\n",
       "      <td>0.0010</td>\n",
       "      <td>3</td>\n",
       "      <td>PRUNED</td>\n",
       "    </tr>\n",
       "    <tr>\n",
       "      <th>28</th>\n",
       "      <td>28</td>\n",
       "      <td>0.000076</td>\n",
       "      <td>2024-11-05 09:31:22.803018</td>\n",
       "      <td>2024-11-05 09:31:23.752917</td>\n",
       "      <td>0 days 00:00:00.949899</td>\n",
       "      <td>128</td>\n",
       "      <td>128</td>\n",
       "      <td>0.0100</td>\n",
       "      <td>4</td>\n",
       "      <td>PRUNED</td>\n",
       "    </tr>\n",
       "    <tr>\n",
       "      <th>29</th>\n",
       "      <td>29</td>\n",
       "      <td>0.011360</td>\n",
       "      <td>2024-11-05 09:31:23.753176</td>\n",
       "      <td>2024-11-05 09:31:24.069818</td>\n",
       "      <td>0 days 00:00:00.316642</td>\n",
       "      <td>256</td>\n",
       "      <td>256</td>\n",
       "      <td>0.0010</td>\n",
       "      <td>1</td>\n",
       "      <td>PRUNED</td>\n",
       "    </tr>\n",
       "    <tr>\n",
       "      <th>30</th>\n",
       "      <td>30</td>\n",
       "      <td>0.000013</td>\n",
       "      <td>2024-11-05 09:31:24.070067</td>\n",
       "      <td>2024-11-05 09:31:37.690384</td>\n",
       "      <td>0 days 00:00:13.620317</td>\n",
       "      <td>64</td>\n",
       "      <td>512</td>\n",
       "      <td>0.0010</td>\n",
       "      <td>2</td>\n",
       "      <td>COMPLETE</td>\n",
       "    </tr>\n",
       "    <tr>\n",
       "      <th>31</th>\n",
       "      <td>31</td>\n",
       "      <td>0.010701</td>\n",
       "      <td>2024-11-05 09:31:37.691001</td>\n",
       "      <td>2024-11-05 09:31:38.051770</td>\n",
       "      <td>0 days 00:00:00.360769</td>\n",
       "      <td>256</td>\n",
       "      <td>512</td>\n",
       "      <td>0.0010</td>\n",
       "      <td>1</td>\n",
       "      <td>PRUNED</td>\n",
       "    </tr>\n",
       "    <tr>\n",
       "      <th>32</th>\n",
       "      <td>32</td>\n",
       "      <td>0.010854</td>\n",
       "      <td>2024-11-05 09:31:38.052249</td>\n",
       "      <td>2024-11-05 09:31:38.401731</td>\n",
       "      <td>0 days 00:00:00.349482</td>\n",
       "      <td>256</td>\n",
       "      <td>512</td>\n",
       "      <td>0.0010</td>\n",
       "      <td>1</td>\n",
       "      <td>PRUNED</td>\n",
       "    </tr>\n",
       "    <tr>\n",
       "      <th>33</th>\n",
       "      <td>33</td>\n",
       "      <td>0.010564</td>\n",
       "      <td>2024-11-05 09:31:38.402238</td>\n",
       "      <td>2024-11-05 09:31:38.756173</td>\n",
       "      <td>0 days 00:00:00.353935</td>\n",
       "      <td>256</td>\n",
       "      <td>512</td>\n",
       "      <td>0.0010</td>\n",
       "      <td>1</td>\n",
       "      <td>PRUNED</td>\n",
       "    </tr>\n",
       "    <tr>\n",
       "      <th>34</th>\n",
       "      <td>34</td>\n",
       "      <td>0.013623</td>\n",
       "      <td>2024-11-05 09:31:38.756433</td>\n",
       "      <td>2024-11-05 09:31:39.166603</td>\n",
       "      <td>0 days 00:00:00.410170</td>\n",
       "      <td>256</td>\n",
       "      <td>64</td>\n",
       "      <td>0.0010</td>\n",
       "      <td>3</td>\n",
       "      <td>PRUNED</td>\n",
       "    </tr>\n",
       "    <tr>\n",
       "      <th>35</th>\n",
       "      <td>35</td>\n",
       "      <td>0.022463</td>\n",
       "      <td>2024-11-05 09:31:39.166865</td>\n",
       "      <td>2024-11-05 09:31:40.086633</td>\n",
       "      <td>0 days 00:00:00.919768</td>\n",
       "      <td>256</td>\n",
       "      <td>512</td>\n",
       "      <td>0.0100</td>\n",
       "      <td>2</td>\n",
       "      <td>PRUNED</td>\n",
       "    </tr>\n",
       "    <tr>\n",
       "      <th>36</th>\n",
       "      <td>36</td>\n",
       "      <td>0.014961</td>\n",
       "      <td>2024-11-05 09:31:40.086916</td>\n",
       "      <td>2024-11-05 09:31:40.696595</td>\n",
       "      <td>0 days 00:00:00.609679</td>\n",
       "      <td>128</td>\n",
       "      <td>512</td>\n",
       "      <td>0.0001</td>\n",
       "      <td>1</td>\n",
       "      <td>PRUNED</td>\n",
       "    </tr>\n",
       "    <tr>\n",
       "      <th>37</th>\n",
       "      <td>37</td>\n",
       "      <td>0.000645</td>\n",
       "      <td>2024-11-05 09:31:40.696872</td>\n",
       "      <td>2024-11-05 09:31:42.435085</td>\n",
       "      <td>0 days 00:00:01.738213</td>\n",
       "      <td>64</td>\n",
       "      <td>128</td>\n",
       "      <td>0.0010</td>\n",
       "      <td>4</td>\n",
       "      <td>PRUNED</td>\n",
       "    </tr>\n",
       "    <tr>\n",
       "      <th>38</th>\n",
       "      <td>38</td>\n",
       "      <td>0.022109</td>\n",
       "      <td>2024-11-05 09:31:42.435649</td>\n",
       "      <td>2024-11-05 09:31:42.846372</td>\n",
       "      <td>0 days 00:00:00.410723</td>\n",
       "      <td>256</td>\n",
       "      <td>64</td>\n",
       "      <td>0.0001</td>\n",
       "      <td>3</td>\n",
       "      <td>PRUNED</td>\n",
       "    </tr>\n",
       "    <tr>\n",
       "      <th>39</th>\n",
       "      <td>39</td>\n",
       "      <td>0.000074</td>\n",
       "      <td>2024-11-05 09:31:42.846631</td>\n",
       "      <td>2024-11-05 09:32:05.371877</td>\n",
       "      <td>0 days 00:00:22.525246</td>\n",
       "      <td>32</td>\n",
       "      <td>512</td>\n",
       "      <td>0.0010</td>\n",
       "      <td>2</td>\n",
       "      <td>COMPLETE</td>\n",
       "    </tr>\n",
       "  </tbody>\n",
       "</table>\n",
       "</div>"
      ],
      "text/plain": [
       "    number     value             datetime_start          datetime_complete  \\\n",
       "0        0  0.000008 2024-11-05 09:27:50.498713 2024-11-05 09:27:54.641470   \n",
       "1        1  0.000020 2024-11-05 09:27:54.641846 2024-11-05 09:28:13.577985   \n",
       "2        2  0.000022 2024-11-05 09:28:13.578395 2024-11-05 09:28:20.287267   \n",
       "3        3  0.000008 2024-11-05 09:28:20.287658 2024-11-05 09:28:24.090640   \n",
       "4        4  0.000276 2024-11-05 09:28:24.091036 2024-11-05 09:28:32.103628   \n",
       "5        5  0.013381 2024-11-05 09:28:32.104028 2024-11-05 09:28:34.156510   \n",
       "6        6  0.013805 2024-11-05 09:28:34.156777 2024-11-05 09:28:37.329001   \n",
       "7        7  0.015082 2024-11-05 09:28:37.329247 2024-11-05 09:28:39.004435   \n",
       "8        8  0.000093 2024-11-05 09:28:39.004708 2024-11-05 09:28:41.338528   \n",
       "9        9  0.024793 2024-11-05 09:28:41.339101 2024-11-05 09:28:41.620812   \n",
       "10      10  0.000004 2024-11-05 09:28:41.621304 2024-11-05 09:28:57.235030   \n",
       "11      11  0.000002 2024-11-05 09:28:57.235780 2024-11-05 09:29:18.673020   \n",
       "12      12  0.000214 2024-11-05 09:29:18.673656 2024-11-05 09:29:32.358234   \n",
       "13      13  0.000016 2024-11-05 09:29:32.358963 2024-11-05 09:29:53.954696   \n",
       "14      14  0.000048 2024-11-05 09:29:53.955301 2024-11-05 09:29:55.953589   \n",
       "15      15  0.000081 2024-11-05 09:29:55.954107 2024-11-05 09:29:57.967499   \n",
       "16      16  0.000003 2024-11-05 09:29:57.968037 2024-11-05 09:30:17.002719   \n",
       "17      17  0.000013 2024-11-05 09:30:17.003359 2024-11-05 09:30:38.929292   \n",
       "18      18  0.002162 2024-11-05 09:30:38.929660 2024-11-05 09:30:40.710342   \n",
       "19      19  0.000041 2024-11-05 09:30:40.710587 2024-11-05 09:30:48.259941   \n",
       "20      20  0.048132 2024-11-05 09:30:48.260502 2024-11-05 09:30:51.444784   \n",
       "21      21  0.000008 2024-11-05 09:30:51.445046 2024-11-05 09:31:05.034368   \n",
       "22      22  0.000067 2024-11-05 09:31:05.034981 2024-11-05 09:31:07.055333   \n",
       "23      23  0.000143 2024-11-05 09:31:07.055846 2024-11-05 09:31:09.052153   \n",
       "24      24  0.000055 2024-11-05 09:31:09.052736 2024-11-05 09:31:12.208068   \n",
       "25      25  0.000072 2024-11-05 09:31:12.208606 2024-11-05 09:31:14.223111   \n",
       "26      26  0.000055 2024-11-05 09:31:14.223551 2024-11-05 09:31:15.325585   \n",
       "27      27  0.000021 2024-11-05 09:31:15.326079 2024-11-05 09:31:22.802447   \n",
       "28      28  0.000076 2024-11-05 09:31:22.803018 2024-11-05 09:31:23.752917   \n",
       "29      29  0.011360 2024-11-05 09:31:23.753176 2024-11-05 09:31:24.069818   \n",
       "30      30  0.000013 2024-11-05 09:31:24.070067 2024-11-05 09:31:37.690384   \n",
       "31      31  0.010701 2024-11-05 09:31:37.691001 2024-11-05 09:31:38.051770   \n",
       "32      32  0.010854 2024-11-05 09:31:38.052249 2024-11-05 09:31:38.401731   \n",
       "33      33  0.010564 2024-11-05 09:31:38.402238 2024-11-05 09:31:38.756173   \n",
       "34      34  0.013623 2024-11-05 09:31:38.756433 2024-11-05 09:31:39.166603   \n",
       "35      35  0.022463 2024-11-05 09:31:39.166865 2024-11-05 09:31:40.086633   \n",
       "36      36  0.014961 2024-11-05 09:31:40.086916 2024-11-05 09:31:40.696595   \n",
       "37      37  0.000645 2024-11-05 09:31:40.696872 2024-11-05 09:31:42.435085   \n",
       "38      38  0.022109 2024-11-05 09:31:42.435649 2024-11-05 09:31:42.846372   \n",
       "39      39  0.000074 2024-11-05 09:31:42.846631 2024-11-05 09:32:05.371877   \n",
       "\n",
       "                 duration  params_batch_size  params_hidden_size  params_lr  \\\n",
       "0  0 days 00:00:04.142757                256                 256     0.0010   \n",
       "1  0 days 00:00:18.936139                256                  64     0.0001   \n",
       "2  0 days 00:00:06.708872                128                 128     0.0100   \n",
       "3  0 days 00:00:03.802982                256                 512     0.0010   \n",
       "4  0 days 00:00:08.012592                 64                  64     0.0100   \n",
       "5  0 days 00:00:02.052482                128                 512     0.0001   \n",
       "6  0 days 00:00:03.172224                 32                  64     0.0001   \n",
       "7  0 days 00:00:01.675188                 32                  64     0.0001   \n",
       "8  0 days 00:00:02.333820                128                 256     0.0100   \n",
       "9  0 days 00:00:00.281711                256                 128     0.0001   \n",
       "10 0 days 00:00:15.613726                 64                 512     0.0010   \n",
       "11 0 days 00:00:21.437240                 64                 512     0.0010   \n",
       "12 0 days 00:00:13.684578                 64                 512     0.0010   \n",
       "13 0 days 00:00:21.595733                 64                 512     0.0010   \n",
       "14 0 days 00:00:01.998288                 64                 512     0.0010   \n",
       "15 0 days 00:00:02.013392                 64                 512     0.0010   \n",
       "16 0 days 00:00:19.034682                 64                 512     0.0010   \n",
       "17 0 days 00:00:21.925933                 64                 512     0.0010   \n",
       "18 0 days 00:00:01.780682                 64                 128     0.0010   \n",
       "19 0 days 00:00:07.549354                 32                 256     0.0010   \n",
       "20 0 days 00:00:03.184282                 64                 512     0.0100   \n",
       "21 0 days 00:00:13.589322                 64                 512     0.0010   \n",
       "22 0 days 00:00:02.020352                 64                 512     0.0010   \n",
       "23 0 days 00:00:01.996307                 64                 512     0.0010   \n",
       "24 0 days 00:00:03.155332                 64                 512     0.0010   \n",
       "25 0 days 00:00:02.014505                 64                 512     0.0010   \n",
       "26 0 days 00:00:01.102034                 64                 512     0.0010   \n",
       "27 0 days 00:00:07.476368                 32                 256     0.0010   \n",
       "28 0 days 00:00:00.949899                128                 128     0.0100   \n",
       "29 0 days 00:00:00.316642                256                 256     0.0010   \n",
       "30 0 days 00:00:13.620317                 64                 512     0.0010   \n",
       "31 0 days 00:00:00.360769                256                 512     0.0010   \n",
       "32 0 days 00:00:00.349482                256                 512     0.0010   \n",
       "33 0 days 00:00:00.353935                256                 512     0.0010   \n",
       "34 0 days 00:00:00.410170                256                  64     0.0010   \n",
       "35 0 days 00:00:00.919768                256                 512     0.0100   \n",
       "36 0 days 00:00:00.609679                128                 512     0.0001   \n",
       "37 0 days 00:00:01.738213                 64                 128     0.0010   \n",
       "38 0 days 00:00:00.410723                256                  64     0.0001   \n",
       "39 0 days 00:00:22.525246                 32                 512     0.0010   \n",
       "\n",
       "    params_num_layers     state  \n",
       "0                   1  COMPLETE  \n",
       "1                   3  COMPLETE  \n",
       "2                   4  COMPLETE  \n",
       "3                   1  COMPLETE  \n",
       "4                   2  COMPLETE  \n",
       "5                   3    PRUNED  \n",
       "6                   4    PRUNED  \n",
       "7                   1    PRUNED  \n",
       "8                   2    PRUNED  \n",
       "9                   1    PRUNED  \n",
       "10                  2  COMPLETE  \n",
       "11                  2  COMPLETE  \n",
       "12                  2  COMPLETE  \n",
       "13                  3  COMPLETE  \n",
       "14                  2    PRUNED  \n",
       "15                  2    PRUNED  \n",
       "16                  3  COMPLETE  \n",
       "17                  3  COMPLETE  \n",
       "18                  4    PRUNED  \n",
       "19                  3    PRUNED  \n",
       "20                  3    PRUNED  \n",
       "21                  2  COMPLETE  \n",
       "22                  2    PRUNED  \n",
       "23                  2    PRUNED  \n",
       "24                  3    PRUNED  \n",
       "25                  2    PRUNED  \n",
       "26                  1    PRUNED  \n",
       "27                  3    PRUNED  \n",
       "28                  4    PRUNED  \n",
       "29                  1    PRUNED  \n",
       "30                  2  COMPLETE  \n",
       "31                  1    PRUNED  \n",
       "32                  1    PRUNED  \n",
       "33                  1    PRUNED  \n",
       "34                  3    PRUNED  \n",
       "35                  2    PRUNED  \n",
       "36                  1    PRUNED  \n",
       "37                  4    PRUNED  \n",
       "38                  3    PRUNED  \n",
       "39                  2  COMPLETE  "
      ]
     },
     "execution_count": 127,
     "metadata": {},
     "output_type": "execute_result"
    }
   ],
   "source": [
    "NK_hparams['blstm'][0].trials_dataframe()"
   ]
  },
  {
   "cell_type": "code",
   "execution_count": 98,
   "id": "c66dec28-85e7-45a1-b327-05e625e00509",
   "metadata": {},
   "outputs": [
    {
     "data": {
      "text/plain": [
       "Text(108.125, 0.5, 'Validation Loss (MSE)')"
      ]
     },
     "execution_count": 98,
     "metadata": {},
     "output_type": "execute_result"
    },
    {
     "data": {
      "image/png": "[encoded data removed]",
      "text/plain": [
       "<Figure size 1080x504 with 8 Axes>"
      ]
     },
     "metadata": {
      "needs_background": "light"
     },
     "output_type": "display_data"
    }
   ],
   "source": [
    "fig,ax = plt.subplots(nrows=2, ncols=4, figsize=(15, 7))\n",
    "fig.tight_layout()\n",
    "for index, axis in enumerate(ax.ravel()):\n",
    "    model_val_losses = [NK_hparams[model_names[index]][k_val].best_value for k_val in range(SEQ_LEN)]\n",
    "    axis.plot(model_val_losses)\n",
    "    #axis.set_ylim(-1.5,1.5)\n",
    "    axis.set_title(model_names[index])\n",
    "    \n",
    "ax[0,0].set_ylabel('Validation Loss (MSE)')\n",
    "ax[1,0].set_xlabel('$K$ value')\n",
    "\n",
    "ax[1,0].set_ylabel('Validation Loss (MSE)')\n",
    "\n"
   ]
  },
  {
   "cell_type": "code",
   "execution_count": 110,
   "id": "206c4a65-abf3-4e48-adb8-4e1805d3a235",
   "metadata": {},
   "outputs": [],
   "source": [
    "y1 = torch.randn(1, 5).ravel()\n",
    "y2 = torch.randn(1, 5).ravel()"
   ]
  },
  {
   "cell_type": "code",
   "execution_count": 117,
   "id": "c6db29e3-d8a8-4b00-8a51-e4afd9404940",
   "metadata": {},
   "outputs": [],
   "source": [
    "stacked= torch.stack((y1, y2), dim=0)"
   ]
  },
  {
   "cell_type": "code",
   "execution_count": 118,
   "id": "38675594-2a7d-4519-a5cb-8ee1606e7b51",
   "metadata": {},
   "outputs": [
    {
     "data": {
      "text/plain": [
       "tensor([[ 1.0000, -0.2754],\n",
       "        [-0.2754,  1.0000]])"
      ]
     },
     "execution_count": 118,
     "metadata": {},
     "output_type": "execute_result"
    }
   ],
   "source": [
    "torch.corrcoef(stacked)"
   ]
  },
  {
   "cell_type": "code",
   "execution_count": 114,
   "id": "d8220bbd-4cdf-43ab-9a68-801f842b8c97",
   "metadata": {},
   "outputs": [],
   "source": [
    "y1_np = y1.numpy()\n",
    "y2_np = y2.numpy()"
   ]
  },
  {
   "cell_type": "code",
   "execution_count": 112,
   "id": "c803ea5f-7211-442e-890f-181a48024845",
   "metadata": {},
   "outputs": [],
   "source": [
    "from scipy.stats import pearsonr"
   ]
  },
  {
   "cell_type": "code",
   "execution_count": 113,
   "id": "e9c71649-2482-45c6-bcba-79fb2ed79505",
   "metadata": {},
   "outputs": [
    {
     "data": {
      "text/plain": [
       "PearsonRResult(statistic=np.float64(-0.2754175993613899), pvalue=np.float32(0.65381265))"
      ]
     },
     "execution_count": 113,
     "metadata": {},
     "output_type": "execute_result"
    }
   ],
   "source": [
    "pearsonr(y1, y2)"
   ]
  },
  {
   "cell_type": "code",
   "execution_count": 115,
   "id": "db742bcd-3f7f-4777-bbf4-a8ab28af7222",
   "metadata": {},
   "outputs": [
    {
     "data": {
      "text/plain": [
       "PearsonRResult(statistic=np.float64(-0.2754175993613899), pvalue=np.float32(0.65381265))"
      ]
     },
     "execution_count": 115,
     "metadata": {},
     "output_type": "execute_result"
    }
   ],
   "source": [
    "pearsonr(y1_np, y2_np)"
   ]
  },
  {
   "cell_type": "code",
   "execution_count": 87,
   "id": "ef268757-0d1f-4dbb-8cca-da90a780a9e3",
   "metadata": {},
   "outputs": [
    {
     "data": {
      "text/plain": [
       "0.0013195084493495843"
      ]
     },
     "execution_count": 87,
     "metadata": {},
     "output_type": "execute_result"
    }
   ],
   "source": [
    "NK_hparams['transformer'][2].best_value"
   ]
  },
  {
   "cell_type": "code",
   "execution_count": 66,
   "id": "8aaf12d7-4128-466c-a532-64e1fcaf619b",
   "metadata": {},
   "outputs": [],
   "source": [
    "with open('../results/NK_train_test_results.pkl', 'rb') as handle: \n",
    "    results = pickle.load(handle) \n",
    "with open('../results/results2_early_stopping_patience/NK_train_test_results.pkl', 'rb') as handle: \n",
    "    new_results = pickle.load(handle) \n"
   ]
  },
  {
   "cell_type": "code",
   "execution_count": 67,
   "id": "8e0c9764-198e-4516-9216-bf21bee79a56",
   "metadata": {},
   "outputs": [],
   "source": [
    "def extract_results(results_dict): \n",
    "    model_names = ['linear', 'mlp', 'cnn', 'ulstm', 'blstm', 'transformer', 'RF', 'GB']\n",
    "    K_values = range(6)\n",
    "\n",
    "    results_list = []\n",
    "    for model_name in model_names: \n",
    "        model_r2 = []\n",
    "        for k_val in K_values: \n",
    "            r2 = results_dict[model_name][k_val]['r2']\n",
    "            model_r2.append(r2)\n",
    "        results_list.append(model_r2)\n",
    "    return np.array(results_list)"
   ]
  },
  {
   "cell_type": "code",
   "execution_count": 68,
   "id": "883894ec-1740-4663-a4f7-3f71a207ff84",
   "metadata": {},
   "outputs": [],
   "source": [
    "result_r2_array = extract_results(results)\n",
    "new_result_r2_array = extract_results(new_results)"
   ]
  },
  {
   "cell_type": "code",
   "execution_count": 18,
   "id": "d94c138d-23e5-4b7a-870c-269aa7e4f77b",
   "metadata": {},
   "outputs": [],
   "source": [
    "import matplotlib.pyplot as plt"
   ]
  },
  {
   "cell_type": "code",
   "execution_count": 34,
   "id": "c02b1a4b-33c4-4f9f-874b-b0f708fda834",
   "metadata": {},
   "outputs": [
    {
     "data": {
      "text/plain": [
       "'../hyperopt/results/NK_hyperopt_results.pkl'"
      ]
     },
     "execution_count": 34,
     "metadata": {},
     "output_type": "execute_result"
    }
   ],
   "source": [
    "HPARAM_PATH"
   ]
  },
  {
   "cell_type": "code",
   "execution_count": 47,
   "id": "92a44bb3-ba7d-4603-b1f4-a3ea98d9f522",
   "metadata": {},
   "outputs": [],
   "source": [
    "def get_latent_rep_MLP(x_data, mlp_model_instance): \n",
    "    latent_model = nn.Sequential(*list(model.children())[:-1])\n",
    "    latent_rep   = latent_model(x_data)\n",
    "    return latent_rep\n",
    "\n",
    "def get_latent_rep_CNN(x_data, cnn_model_instance): \n",
    "    latent_model = nn.Sequential(*list(model.children())[:-1])\n",
    "    latent_rep   = latent_model(x_data)\n",
    "    return latent_rep\n",
    "    "
   ]
  },
  {
   "cell_type": "code",
   "execution_count": 55,
   "id": "a035447d-68ae-485f-a0fa-40ebf7e99fdb",
   "metadata": {},
   "outputs": [],
   "source": [
    "model_params = read_CNN_hparams(NK_hparams['cnn'][3].best_params)"
   ]
  },
  {
   "cell_type": "code",
   "execution_count": 56,
   "id": "e5025a67-f68e-4ead-9b5f-6d9defcc3c36",
   "metadata": {},
   "outputs": [],
   "source": [
    "model_params['input_channels']=6\n",
    "model_params['sequence_length']=6"
   ]
  },
  {
   "cell_type": "code",
   "execution_count": 57,
   "id": "7192d8ff-9ac8-4c31-8753-78ddba5f2c52",
   "metadata": {},
   "outputs": [],
   "source": [
    "model = SequenceRegressionCNN(**model_params)"
   ]
  },
  {
   "cell_type": "code",
   "execution_count": 58,
   "id": "329c9c78-44a1-48b5-910e-280806f33843",
   "metadata": {},
   "outputs": [
    {
     "data": {
      "text/plain": [
       "<All keys matched successfully>"
      ]
     },
     "execution_count": 58,
     "metadata": {},
     "output_type": "execute_result"
    }
   ],
   "source": [
    "model.load_state_dict(torch.load('../models/cnn_NK_k3_r0.pt', weights_only=True))"
   ]
  },
  {
   "cell_type": "code",
   "execution_count": 64,
   "id": "ac08dd9d-f9ac-416a-90e2-bd4b78addd86",
   "metadata": {},
   "outputs": [],
   "source": [
    "latent_model = nn.Sequential(*list(model.children())[:-1])"
   ]
  },
  {
   "cell_type": "code",
   "execution_count": 65,
   "id": "a484107e-26c2-47f0-9b57-574cb171bdca",
   "metadata": {},
   "outputs": [
    {
     "data": {
      "text/plain": [
       "Sequential(\n",
       "  (0): ModuleList(\n",
       "    (0): Conv1d(6, 256, kernel_size=(5,), stride=(1,), padding=(2,))\n",
       "    (1): Conv1d(256, 224, kernel_size=(4,), stride=(1,), padding=(2,))\n",
       "  )\n",
       "  (1): MaxPool1d(kernel_size=2, stride=2, padding=0, dilation=1, ceil_mode=False)\n",
       ")"
      ]
     },
     "execution_count": 65,
     "metadata": {},
     "output_type": "execute_result"
    }
   ],
   "source": [
    "latent_model"
   ]
  },
  {
   "cell_type": "code",
   "execution_count": 19,
   "id": "dee8c2ce-2d21-4d21-81b2-fb52ebfdab63",
   "metadata": {},
   "outputs": [
    {
     "data": {
      "text/plain": [
       "array([[ 1.00000000e+00],\n",
       "       [-9.30855192e-01],\n",
       "       [-1.12348316e+01],\n",
       "       [-3.86594360e+01],\n",
       "       [-2.88619342e+02],\n",
       "       [-9.34203730e+02]])"
      ]
     },
     "execution_count": 19,
     "metadata": {},
     "output_type": "execute_result"
    }
   ],
   "source": [
    "result_r2_array[0]"
   ]
  },
  {
   "cell_type": "code",
   "execution_count": 26,
   "id": "640e83e7-d02b-435f-bcaf-9a209c55798d",
   "metadata": {},
   "outputs": [
    {
     "data": {
      "image/png": "[encoded data removed]",
      "text/plain": [
       "<Figure size 1080x504 with 8 Axes>"
      ]
     },
     "metadata": {
      "needs_background": "light"
     },
     "output_type": "display_data"
    }
   ],
   "source": [
    "fig,ax = plt.subplots(nrows=2, ncols=4, figsize=(15, 7))\n",
    "model_names = ['linear', 'mlp', 'cnn', 'ulstm', 'blstm', 'transformer', 'RF', 'GB']\n",
    "\n",
    "for index, axis in enumerate(ax.ravel()):\n",
    "    axis.plot(result_r2_array[index])\n",
    "    axis.set_ylim(-1.5,1.5)\n",
    "    axis.set_title(model_names[index])\n",
    "\n",
    "\n"
   ]
  },
  {
   "cell_type": "code",
   "execution_count": 70,
   "id": "52a2e5a7-641a-44d9-b0c1-c28472aed09b",
   "metadata": {},
   "outputs": [
    {
     "data": {
      "image/png": "[encoded data removed]",
      "text/plain": [
       "<Figure size 1080x504 with 8 Axes>"
      ]
     },
     "metadata": {
      "needs_background": "light"
     },
     "output_type": "display_data"
    }
   ],
   "source": [
    "fig,ax = plt.subplots(nrows=2, ncols=4, figsize=(15, 7))\n",
    "model_names = ['linear', 'mlp', 'cnn', 'ulstm', 'blstm', 'transformer', 'RF', 'GB']\n",
    "\n",
    "for index, axis in enumerate(ax.ravel()):\n",
    "    axis.plot(new_result_r2_array[index])\n",
    "    axis.set_title(model_names[index])\n"
   ]
  },
  {
   "cell_type": "code",
   "execution_count": 11,
   "id": "415c8daf-74cd-4955-8168-7191237f6af6",
   "metadata": {},
   "outputs": [],
   "source": [
    "means = []\n",
    "for k_index in results['linear'].keys(): \n",
    "    mean_r2 = np.mean(np.array(results['linear'][k_index]['r2']))\n",
    "    means.append(mean_r2)"
   ]
  },
  {
   "cell_type": "code",
   "execution_count": null,
   "id": "036934ca-40ca-4422-b166-aeb441b96e2c",
   "metadata": {},
   "outputs": [],
   "source": []
  },
  {
   "cell_type": "code",
   "execution_count": null,
   "id": "20d00cda-a4ec-4a37-9cfc-f858d664ba59",
   "metadata": {},
   "outputs": [],
   "source": [
    "def extract_latent_rep_mlp(x_data, model): \n",
    "    "
   ]
  },
  {
   "cell_type": "code",
   "execution_count": 13,
   "id": "50bbf82f-a44a-4b4e-84a8-acde6b8e5524",
   "metadata": {},
   "outputs": [],
   "source": [
    "import matplotlib.pyplot as plt"
   ]
  },
  {
   "cell_type": "code",
   "execution_count": 14,
   "id": "b5cdb56f-7a97-4cee-b936-7ab4b2f2442b",
   "metadata": {},
   "outputs": [
    {
     "data": {
      "text/plain": [
       "[<matplotlib.lines.Line2D at 0x76d952abcdc0>]"
      ]
     },
     "execution_count": 14,
     "metadata": {},
     "output_type": "execute_result"
    },
    {
     "data": {
      "image/png": "[encoded data removed]",
      "text/plain": [
       "<Figure size 432x288 with 1 Axes>"
      ]
     },
     "metadata": {
      "needs_background": "light"
     },
     "output_type": "display_data"
    }
   ],
   "source": [
    "plt.plot(means)"
   ]
  },
  {
   "cell_type": "code",
   "execution_count": 7,
   "id": "6249bbb5-8bbe-4a86-8dd8-ef2d2a866a4a",
   "metadata": {},
   "outputs": [],
   "source": [
    "v = {x:None for x in range(4)}"
   ]
  },
  {
   "cell_type": "code",
   "execution_count": 10,
   "id": "00e9b84a-cf6f-4bb3-a3db-8acf70c6707a",
   "metadata": {},
   "outputs": [],
   "source": [
    "v[0] = 'f'"
   ]
  },
  {
   "cell_type": "code",
   "execution_count": 11,
   "id": "470081b0-4ef3-4995-8ac0-e96bb6859a7e",
   "metadata": {},
   "outputs": [
    {
     "data": {
      "text/plain": [
       "{0: 'f', 1: None, 2: None, 3: None}"
      ]
     },
     "execution_count": 11,
     "metadata": {},
     "output_type": "execute_result"
    }
   ],
   "source": [
    "v"
   ]
  },
  {
   "cell_type": "code",
   "execution_count": 8,
   "id": "9d7a7c43-4b06-4252-b75c-949ba2afeba7",
   "metadata": {},
   "outputs": [
    {
     "name": "stdout",
     "output_type": "stream",
     "text": [
      "{'lr': 0.0001, 'batch_size': 128}\n",
      "{'lr': 0.001, 'batch_size': 32}\n",
      "{'lr': 0.0001, 'batch_size': 32}\n",
      "{'lr': 0.001, 'batch_size': 128}\n",
      "{'lr': 0.001, 'batch_size': 128}\n",
      "{'lr': 0.0001, 'batch_size': 64}\n",
      "{'lr': 0.001, 'batch_size': 32, 'n_hidden_layers': 1, 'hidden0_size': 256}\n",
      "{'lr': 0.0001, 'batch_size': 128, 'n_hidden_layers': 2, 'hidden0_size': 256, 'hidden1_size': 64}\n",
      "{'lr': 0.001, 'batch_size': 64, 'n_hidden_layers': 2, 'hidden0_size': 256, 'hidden1_size': 32}\n",
      "{'lr': 0.01, 'batch_size': 256, 'n_hidden_layers': 3, 'hidden0_size': 64, 'hidden1_size': 128, 'hidden2_size': 32}\n",
      "{'lr': 0.001, 'batch_size': 256, 'n_hidden_layers': 3, 'hidden0_size': 256, 'hidden1_size': 128, 'hidden2_size': 64}\n",
      "{'lr': 0.0001, 'batch_size': 128, 'n_hidden_layers': 3, 'hidden0_size': 64, 'hidden1_size': 256, 'hidden2_size': 64}\n",
      "{'lr': 0.01, 'batch_size': 256, 'num_conv_layers': 1, 'n_kernels_layer0': 224.0, 'kernel_size_layer0': 3.0}\n",
      "{'lr': 0.0001, 'batch_size': 64, 'num_conv_layers': 2, 'n_kernels_layer0': 192.0, 'n_kernels_layer1': 32.0, 'kernel_size_layer0': 4.0, 'kernel_size_layer1': 5.0}\n",
      "{'lr': 0.0001, 'batch_size': 256, 'num_conv_layers': 1, 'n_kernels_layer0': 256.0, 'kernel_size_layer0': 5.0}\n",
      "{'lr': 0.0001, 'batch_size': 128, 'num_conv_layers': 1, 'n_kernels_layer0': 192.0, 'kernel_size_layer0': 3.0}\n",
      "{'lr': 0.01, 'batch_size': 128, 'num_conv_layers': 2, 'n_kernels_layer0': 128.0, 'n_kernels_layer1': 224.0, 'kernel_size_layer0': 5.0, 'kernel_size_layer1': 3.0}\n",
      "{'lr': 0.001, 'batch_size': 64, 'num_conv_layers': 2, 'n_kernels_layer0': 192.0, 'n_kernels_layer1': 96.0, 'kernel_size_layer0': 4.0, 'kernel_size_layer1': 3.0}\n",
      "{'lr': 0.001, 'batch_size': 256, 'num_layers': 4, 'hidden_size': 512}\n",
      "{'lr': 0.0001, 'batch_size': 256, 'num_layers': 4, 'hidden_size': 256}\n",
      "{'lr': 0.01, 'batch_size': 32, 'num_layers': 1, 'hidden_size': 128}\n",
      "{'lr': 0.01, 'batch_size': 32, 'num_layers': 2, 'hidden_size': 256}\n",
      "{'lr': 0.01, 'batch_size': 256, 'num_layers': 3, 'hidden_size': 128}\n",
      "{'lr': 0.0001, 'batch_size': 32, 'num_layers': 3, 'hidden_size': 64}\n",
      "{'lr': 0.001, 'batch_size': 128, 'num_layers': 4, 'hidden_size': 128}\n",
      "{'lr': 0.0001, 'batch_size': 256, 'num_layers': 3, 'hidden_size': 64}\n",
      "{'lr': 0.0001, 'batch_size': 128, 'num_layers': 3, 'hidden_size': 256}\n",
      "{'lr': 0.0001, 'batch_size': 128, 'num_layers': 1, 'hidden_size': 64}\n",
      "{'lr': 0.01, 'batch_size': 64, 'num_layers': 4, 'hidden_size': 64}\n",
      "{'lr': 0.001, 'batch_size': 64, 'num_layers': 2, 'hidden_size': 128}\n",
      "{'lr': 0.0001, 'batch_size': 256, 'embed_dim_num_heads': (16, 2), 'num_layers': 2, 'dim_feedforward': 64, 'max_seq_length': 8}\n",
      "{'lr': 0.001, 'batch_size': 64, 'embed_dim_num_heads': (32, 2), 'num_layers': 3, 'dim_feedforward': 32, 'max_seq_length': 8}\n",
      "{'lr': 0.01, 'batch_size': 128, 'embed_dim_num_heads': (16, 2), 'num_layers': 1, 'dim_feedforward': 128, 'max_seq_length': 8}\n",
      "{'lr': 0.001, 'batch_size': 128, 'embed_dim_num_heads': (256, 8), 'num_layers': 4, 'dim_feedforward': 128, 'max_seq_length': 10}\n",
      "{'lr': 0.001, 'batch_size': 32, 'embed_dim_num_heads': (32, 4), 'num_layers': 4, 'dim_feedforward': 256, 'max_seq_length': 10}\n",
      "{'lr': 0.0001, 'batch_size': 32, 'embed_dim_num_heads': (64, 8), 'num_layers': 1, 'dim_feedforward': 128, 'max_seq_length': 8}\n",
      "{'max_features': 0.856535057799511, 'n_estimators': 532, 'max_depth': 21}\n",
      "{'max_features': 0.40644907081514847, 'n_estimators': 543, 'max_depth': 15}\n",
      "{'max_features': 0.2287000489709704, 'n_estimators': 260, 'max_depth': 10}\n",
      "{'max_features': 0.9649405086157808, 'n_estimators': 133, 'max_depth': 17}\n",
      "{'max_features': 0.5280324822759479, 'n_estimators': 248, 'max_depth': 19}\n",
      "{'max_features': 0.2952903888182027, 'n_estimators': 699, 'max_depth': 28}\n",
      "{'max_depth': 10, 'n_estimators': 375, 'learning_rate': 0.1335533556478202}\n",
      "{'max_depth': 15, 'n_estimators': 869, 'learning_rate': 0.0681860783968705}\n",
      "{'max_depth': 1, 'n_estimators': 446, 'learning_rate': 0.16634052711986969}\n",
      "{'max_depth': 7, 'n_estimators': 499, 'learning_rate': 0.19328603491201604}\n",
      "{'max_depth': 15, 'n_estimators': 996, 'learning_rate': 0.08823433202147517}\n",
      "{'max_depth': 32, 'n_estimators': 320, 'learning_rate': 0.12574832207666212}\n"
     ]
    }
   ],
   "source": [
    "for model_name in NK_hparams.keys(): \n",
    "    for study in NK_hparams[model_name]: \n",
    "        print(study.best_params)"
   ]
  },
  {
   "cell_type": "code",
   "execution_count": null,
   "id": "c6cf40b9-70c2-45fb-b983-0e2326bb6dd6",
   "metadata": {},
   "outputs": [],
   "source": []
  }
 ],
 "metadata": {
  "kernelspec": {
   "display_name": "Python 3 (ipykernel)",
   "language": "python",
   "name": "python3"
  },
  "language_info": {
   "codemirror_mode": {
    "name": "ipython",
    "version": 3
   },
   "file_extension": ".py",
   "mimetype": "text/x-python",
   "name": "python",
   "nbconvert_exporter": "python",
   "pygments_lexer": "ipython3",
   "version": "3.10.12"
  }
 },
 "nbformat": 4,
 "nbformat_minor": 5
}
