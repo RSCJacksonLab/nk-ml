{
 "cells": [
  {
   "cell_type": "code",
   "execution_count": 13,
   "id": "9e0660f6-546d-4dd2-84b6-65a8ebf837a5",
   "metadata": {},
   "outputs": [],
   "source": [
    "import optuna as opt\n",
    "import torch\n",
    "import torch.nn as nn\n",
    "import torch.optim as optim\n",
    "import numpy as np\n",
    "#from twilio.rest import Client\n",
    "import pickle\n",
    "\n",
    "import time\n",
    "\n",
    "import sys\n",
    "import os \n",
    "\n",
    "\n",
    "sys.path.append('../../pscapes')\n",
    "sys.path.append('./')\n",
    "\n",
    "\n",
    "from torch.utils.data import DataLoader\n",
    "\n",
    "from pscapes.landscape_class import ProteinLandscape\n",
    "from pscapes.utils import dict_to_np_array, np_array_to_dict\n",
    "\n",
    "from architectures import SequenceRegressionCNN, SequenceRegressionLinear, SequenceRegressionMLP, SequenceRegressionLSTM, SequenceRegressionTransformer\n",
    "\n",
    "from ml_utils import train_val_test_split_ohe, landscapes_ohe_to_numpy\n",
    "from hyperopt import objective_NK, sklearn_objective_NK\n",
    "\n",
    "from sklearn.ensemble import RandomForestRegressor, GradientBoostingRegressor \n",
    "\n",
    "from train_utils import train_models_from_hparams_NK"
   ]
  },
  {
   "cell_type": "code",
   "execution_count": 14,
   "id": "b0521ae1-243d-49e6-ad80-407a4b470673",
   "metadata": {},
   "outputs": [],
   "source": [
    "HPARAM_PATH = '../hyperopt/results/NK_hyperopt_results.pkl'\n",
    "DATA_PATH = '../data/nk_landscapes/'\n",
    "MODEL_SAVEPATH = '../models/'\n",
    "RESULT_PATH = '../results/'"
   ]
  },
  {
   "cell_type": "code",
   "execution_count": 15,
   "id": "6a2d2b26-58d4-42fb-b921-9c764e934deb",
   "metadata": {},
   "outputs": [],
   "source": [
    "SEQ_LEN = 6\n",
    "AA_ALPHABET  = 'ACDEFG'"
   ]
  },
  {
   "cell_type": "code",
   "execution_count": 16,
   "id": "c3bf1563-256f-4d2a-b001-3511d0d90ce1",
   "metadata": {},
   "outputs": [],
   "source": [
    "with open(HPARAM_PATH, 'rb') as handle: \n",
    "    NK_hparams = pickle.load(handle)"
   ]
  },
  {
   "cell_type": "code",
   "execution_count": 5,
   "id": "76148235-d47c-48ed-abef-45b26ea933a7",
   "metadata": {},
   "outputs": [
    {
     "name": "stdout",
     "output_type": "stream",
     "text": [
      "Loading landscapes.\n",
      "Calculating train-test-val splits\n",
      "Working on model name linear\n",
      "Working on training for K = 0\n",
      "Hyperparameters: {'alphabet_size': 6, 'sequence_length': 6}, learning_rate: 0.0001, batch_size: 128\n",
      "Training model linear,  K= 0, replicate 0\n",
      "Training model linear,  K= 0, replicate 1\n",
      "Training model linear,  K= 0, replicate 2\n",
      "Training model linear,  K= 0, replicate 3\n",
      "Training model linear,  K= 0, replicate 4\n",
      "Training model linear,  K= 0, replicate 5\n",
      "Training model linear,  K= 0, replicate 6\n",
      "Training model linear,  K= 0, replicate 7\n",
      "Working on training for K = 1\n",
      "Hyperparameters: {'alphabet_size': 6, 'sequence_length': 6}, learning_rate: 0.001, batch_size: 32\n",
      "Training model linear,  K= 1, replicate 0\n",
      "Training model linear,  K= 1, replicate 1\n",
      "Training model linear,  K= 1, replicate 2\n",
      "Training model linear,  K= 1, replicate 3\n",
      "Training model linear,  K= 1, replicate 4\n",
      "Training model linear,  K= 1, replicate 5\n",
      "Training model linear,  K= 1, replicate 6\n",
      "Training model linear,  K= 1, replicate 7\n",
      "Working on training for K = 2\n",
      "Hyperparameters: {'alphabet_size': 6, 'sequence_length': 6}, learning_rate: 0.0001, batch_size: 32\n",
      "Training model linear,  K= 2, replicate 0\n",
      "Training model linear,  K= 2, replicate 1\n",
      "Training model linear,  K= 2, replicate 2\n",
      "Training model linear,  K= 2, replicate 3\n",
      "Training model linear,  K= 2, replicate 4\n",
      "Training model linear,  K= 2, replicate 5\n",
      "Training model linear,  K= 2, replicate 6\n",
      "Training model linear,  K= 2, replicate 7\n",
      "Working on training for K = 3\n",
      "Hyperparameters: {'alphabet_size': 6, 'sequence_length': 6}, learning_rate: 0.001, batch_size: 128\n",
      "Training model linear,  K= 3, replicate 0\n",
      "Training model linear,  K= 3, replicate 1\n",
      "Training model linear,  K= 3, replicate 2\n",
      "Training model linear,  K= 3, replicate 3\n",
      "Training model linear,  K= 3, replicate 4\n",
      "Training model linear,  K= 3, replicate 5\n",
      "Training model linear,  K= 3, replicate 6\n",
      "Training model linear,  K= 3, replicate 7\n",
      "Working on training for K = 4\n",
      "Hyperparameters: {'alphabet_size': 6, 'sequence_length': 6}, learning_rate: 0.001, batch_size: 128\n",
      "Training model linear,  K= 4, replicate 0\n",
      "Training model linear,  K= 4, replicate 1\n",
      "Training model linear,  K= 4, replicate 2\n",
      "Training model linear,  K= 4, replicate 3\n",
      "Training model linear,  K= 4, replicate 4\n",
      "Training model linear,  K= 4, replicate 5\n",
      "Training model linear,  K= 4, replicate 6\n",
      "Training model linear,  K= 4, replicate 7\n",
      "Working on training for K = 5\n",
      "Hyperparameters: {'alphabet_size': 6, 'sequence_length': 6}, learning_rate: 0.0001, batch_size: 64\n",
      "Training model linear,  K= 5, replicate 0\n",
      "Training model linear,  K= 5, replicate 1\n",
      "Training model linear,  K= 5, replicate 2\n",
      "Training model linear,  K= 5, replicate 3\n",
      "Training model linear,  K= 5, replicate 4\n",
      "Training model linear,  K= 5, replicate 5\n",
      "Training model linear,  K= 5, replicate 6\n",
      "Training model linear,  K= 5, replicate 7\n",
      "Working on model name mlp\n",
      "Working on training for K = 0\n",
      "Hyperparameters: {'hidden_sizes': [256], 'alphabet_size': 6, 'sequence_length': 6}, learning_rate: 0.001, batch_size: 32\n",
      "Training model mlp,  K= 0, replicate 0\n",
      "Training model mlp,  K= 0, replicate 1\n",
      "Training model mlp,  K= 0, replicate 2\n",
      "Training model mlp,  K= 0, replicate 3\n",
      "Training model mlp,  K= 0, replicate 4\n",
      "Training model mlp,  K= 0, replicate 5\n",
      "Training model mlp,  K= 0, replicate 6\n",
      "Training model mlp,  K= 0, replicate 7\n",
      "Working on training for K = 1\n",
      "Hyperparameters: {'hidden_sizes': [256, 64], 'alphabet_size': 6, 'sequence_length': 6}, learning_rate: 0.0001, batch_size: 128\n",
      "Training model mlp,  K= 1, replicate 0\n",
      "Training model mlp,  K= 1, replicate 1\n",
      "Training model mlp,  K= 1, replicate 2\n",
      "Training model mlp,  K= 1, replicate 3\n",
      "Training model mlp,  K= 1, replicate 4\n",
      "Training model mlp,  K= 1, replicate 5\n",
      "Training model mlp,  K= 1, replicate 6\n",
      "Training model mlp,  K= 1, replicate 7\n",
      "Working on training for K = 2\n",
      "Hyperparameters: {'hidden_sizes': [256, 32], 'alphabet_size': 6, 'sequence_length': 6}, learning_rate: 0.001, batch_size: 64\n",
      "Training model mlp,  K= 2, replicate 0\n",
      "Training model mlp,  K= 2, replicate 1\n",
      "Training model mlp,  K= 2, replicate 2\n",
      "Training model mlp,  K= 2, replicate 3\n",
      "Training model mlp,  K= 2, replicate 4\n",
      "Training model mlp,  K= 2, replicate 5\n",
      "Training model mlp,  K= 2, replicate 6\n",
      "Training model mlp,  K= 2, replicate 7\n",
      "Working on training for K = 3\n",
      "Hyperparameters: {'hidden_sizes': [64, 128, 32], 'alphabet_size': 6, 'sequence_length': 6}, learning_rate: 0.01, batch_size: 256\n",
      "Training model mlp,  K= 3, replicate 0\n",
      "Training model mlp,  K= 3, replicate 1\n",
      "Training model mlp,  K= 3, replicate 2\n",
      "Training model mlp,  K= 3, replicate 3\n",
      "Training model mlp,  K= 3, replicate 4\n",
      "Training model mlp,  K= 3, replicate 5\n",
      "Training model mlp,  K= 3, replicate 6\n",
      "Training model mlp,  K= 3, replicate 7\n",
      "Working on training for K = 4\n",
      "Hyperparameters: {'hidden_sizes': [256, 128, 64], 'alphabet_size': 6, 'sequence_length': 6}, learning_rate: 0.001, batch_size: 256\n",
      "Training model mlp,  K= 4, replicate 0\n",
      "Training model mlp,  K= 4, replicate 1\n",
      "Training model mlp,  K= 4, replicate 2\n",
      "Training model mlp,  K= 4, replicate 3\n",
      "Training model mlp,  K= 4, replicate 4\n",
      "Training model mlp,  K= 4, replicate 5\n",
      "Training model mlp,  K= 4, replicate 6\n",
      "Training model mlp,  K= 4, replicate 7\n",
      "Working on training for K = 5\n",
      "Hyperparameters: {'hidden_sizes': [64, 256, 64], 'alphabet_size': 6, 'sequence_length': 6}, learning_rate: 0.0001, batch_size: 128\n",
      "Training model mlp,  K= 5, replicate 0\n",
      "Training model mlp,  K= 5, replicate 1\n",
      "Training model mlp,  K= 5, replicate 2\n",
      "Training model mlp,  K= 5, replicate 3\n",
      "Training model mlp,  K= 5, replicate 4\n",
      "Training model mlp,  K= 5, replicate 5\n",
      "Training model mlp,  K= 5, replicate 6\n",
      "Training model mlp,  K= 5, replicate 7\n",
      "Working on model name cnn\n",
      "Working on training for K = 0\n",
      "Hyperparameters: {'num_conv_layers': 1, 'n_kernels': [224], 'kernel_sizes': [3], 'input_channels': 6, 'sequence_length': 6}, learning_rate: 0.01, batch_size: 256\n",
      "Training model cnn,  K= 0, replicate 0\n",
      "Training model cnn,  K= 0, replicate 1\n",
      "Training model cnn,  K= 0, replicate 2\n",
      "Training model cnn,  K= 0, replicate 3\n",
      "Training model cnn,  K= 0, replicate 4\n",
      "Training model cnn,  K= 0, replicate 5\n",
      "Training model cnn,  K= 0, replicate 6\n",
      "Training model cnn,  K= 0, replicate 7\n",
      "Working on training for K = 1\n",
      "Hyperparameters: {'num_conv_layers': 2, 'n_kernels': [192, 32], 'kernel_sizes': [4, 5], 'input_channels': 6, 'sequence_length': 6}, learning_rate: 0.0001, batch_size: 64\n",
      "Training model cnn,  K= 1, replicate 0\n",
      "Training model cnn,  K= 1, replicate 1\n",
      "Training model cnn,  K= 1, replicate 2\n",
      "Training model cnn,  K= 1, replicate 3\n",
      "Training model cnn,  K= 1, replicate 4\n",
      "Training model cnn,  K= 1, replicate 5\n",
      "Training model cnn,  K= 1, replicate 6\n",
      "Training model cnn,  K= 1, replicate 7\n",
      "Working on training for K = 2\n",
      "Hyperparameters: {'num_conv_layers': 1, 'n_kernels': [256], 'kernel_sizes': [5], 'input_channels': 6, 'sequence_length': 6}, learning_rate: 0.0001, batch_size: 256\n",
      "Training model cnn,  K= 2, replicate 0\n",
      "Training model cnn,  K= 2, replicate 1\n",
      "Training model cnn,  K= 2, replicate 2\n",
      "Training model cnn,  K= 2, replicate 3\n",
      "Training model cnn,  K= 2, replicate 4\n",
      "Training model cnn,  K= 2, replicate 5\n",
      "Training model cnn,  K= 2, replicate 6\n",
      "Training model cnn,  K= 2, replicate 7\n",
      "Working on training for K = 3\n",
      "Hyperparameters: {'num_conv_layers': 1, 'n_kernels': [192], 'kernel_sizes': [3], 'input_channels': 6, 'sequence_length': 6}, learning_rate: 0.0001, batch_size: 128\n",
      "Training model cnn,  K= 3, replicate 0\n",
      "Training model cnn,  K= 3, replicate 1\n",
      "Training model cnn,  K= 3, replicate 2\n",
      "Training model cnn,  K= 3, replicate 3\n",
      "Training model cnn,  K= 3, replicate 4\n",
      "Training model cnn,  K= 3, replicate 5\n",
      "Training model cnn,  K= 3, replicate 6\n",
      "Training model cnn,  K= 3, replicate 7\n",
      "Working on training for K = 4\n",
      "Hyperparameters: {'num_conv_layers': 2, 'n_kernels': [128, 224], 'kernel_sizes': [5, 3], 'input_channels': 6, 'sequence_length': 6}, learning_rate: 0.01, batch_size: 128\n",
      "Training model cnn,  K= 4, replicate 0\n",
      "Training model cnn,  K= 4, replicate 1\n",
      "Training model cnn,  K= 4, replicate 2\n",
      "Training model cnn,  K= 4, replicate 3\n",
      "Training model cnn,  K= 4, replicate 4\n",
      "Training model cnn,  K= 4, replicate 5\n",
      "Training model cnn,  K= 4, replicate 6\n",
      "Training model cnn,  K= 4, replicate 7\n",
      "Working on training for K = 5\n",
      "Hyperparameters: {'num_conv_layers': 2, 'n_kernels': [192, 96], 'kernel_sizes': [4, 3], 'input_channels': 6, 'sequence_length': 6}, learning_rate: 0.001, batch_size: 64\n",
      "Training model cnn,  K= 5, replicate 0\n",
      "Training model cnn,  K= 5, replicate 1\n",
      "Training model cnn,  K= 5, replicate 2\n",
      "Training model cnn,  K= 5, replicate 3\n",
      "Training model cnn,  K= 5, replicate 4\n",
      "Training model cnn,  K= 5, replicate 5\n",
      "Training model cnn,  K= 5, replicate 6\n",
      "Training model cnn,  K= 5, replicate 7\n",
      "Working on model name ulstm\n",
      "Working on training for K = 0\n",
      "Hyperparameters: {'num_layers': 4, 'hidden_size': 512, 'input_size': 6, 'bidirectional': False}, learning_rate: 0.001, batch_size: 256\n",
      "Training model ulstm,  K= 0, replicate 0\n",
      "Training model ulstm,  K= 0, replicate 1\n",
      "Training model ulstm,  K= 0, replicate 2\n",
      "Training model ulstm,  K= 0, replicate 3\n",
      "Training model ulstm,  K= 0, replicate 4\n",
      "Training model ulstm,  K= 0, replicate 5\n",
      "Training model ulstm,  K= 0, replicate 6\n",
      "Training model ulstm,  K= 0, replicate 7\n",
      "Working on training for K = 1\n",
      "Hyperparameters: {'num_layers': 4, 'hidden_size': 256, 'input_size': 6, 'bidirectional': False}, learning_rate: 0.0001, batch_size: 256\n",
      "Training model ulstm,  K= 1, replicate 0\n",
      "Training model ulstm,  K= 1, replicate 1\n",
      "Training model ulstm,  K= 1, replicate 2\n",
      "Training model ulstm,  K= 1, replicate 3\n",
      "Training model ulstm,  K= 1, replicate 4\n",
      "Training model ulstm,  K= 1, replicate 5\n",
      "Training model ulstm,  K= 1, replicate 6\n",
      "Training model ulstm,  K= 1, replicate 7\n",
      "Working on training for K = 2\n",
      "Hyperparameters: {'num_layers': 1, 'hidden_size': 128, 'input_size': 6, 'bidirectional': False}, learning_rate: 0.01, batch_size: 32\n",
      "Training model ulstm,  K= 2, replicate 0\n",
      "Training model ulstm,  K= 2, replicate 1\n",
      "Training model ulstm,  K= 2, replicate 2\n",
      "Training model ulstm,  K= 2, replicate 3\n",
      "Training model ulstm,  K= 2, replicate 4\n",
      "Training model ulstm,  K= 2, replicate 5\n",
      "Training model ulstm,  K= 2, replicate 6\n",
      "Training model ulstm,  K= 2, replicate 7\n",
      "Working on training for K = 3\n",
      "Hyperparameters: {'num_layers': 2, 'hidden_size': 256, 'input_size': 6, 'bidirectional': False}, learning_rate: 0.01, batch_size: 32\n",
      "Training model ulstm,  K= 3, replicate 0\n",
      "Training model ulstm,  K= 3, replicate 1\n",
      "Training model ulstm,  K= 3, replicate 2\n",
      "Training model ulstm,  K= 3, replicate 3\n",
      "Training model ulstm,  K= 3, replicate 4\n",
      "Training model ulstm,  K= 3, replicate 5\n",
      "Training model ulstm,  K= 3, replicate 6\n",
      "Training model ulstm,  K= 3, replicate 7\n",
      "Working on training for K = 4\n",
      "Hyperparameters: {'num_layers': 3, 'hidden_size': 128, 'input_size': 6, 'bidirectional': False}, learning_rate: 0.01, batch_size: 256\n",
      "Training model ulstm,  K= 4, replicate 0\n",
      "Training model ulstm,  K= 4, replicate 1\n",
      "Training model ulstm,  K= 4, replicate 2\n",
      "Training model ulstm,  K= 4, replicate 3\n",
      "Training model ulstm,  K= 4, replicate 4\n",
      "Training model ulstm,  K= 4, replicate 5\n",
      "Training model ulstm,  K= 4, replicate 6\n",
      "Training model ulstm,  K= 4, replicate 7\n",
      "Working on training for K = 5\n",
      "Hyperparameters: {'num_layers': 3, 'hidden_size': 64, 'input_size': 6, 'bidirectional': False}, learning_rate: 0.0001, batch_size: 32\n",
      "Training model ulstm,  K= 5, replicate 0\n",
      "Training model ulstm,  K= 5, replicate 1\n",
      "Training model ulstm,  K= 5, replicate 2\n",
      "Training model ulstm,  K= 5, replicate 3\n",
      "Training model ulstm,  K= 5, replicate 4\n",
      "Training model ulstm,  K= 5, replicate 5\n",
      "Training model ulstm,  K= 5, replicate 6\n",
      "Training model ulstm,  K= 5, replicate 7\n",
      "Working on model name blstm\n",
      "Working on training for K = 0\n",
      "Hyperparameters: {'num_layers': 4, 'hidden_size': 128, 'input_size': 6, 'bidirectional': True}, learning_rate: 0.001, batch_size: 128\n",
      "Training model blstm,  K= 0, replicate 0\n",
      "Training model blstm,  K= 0, replicate 1\n",
      "Training model blstm,  K= 0, replicate 2\n",
      "Training model blstm,  K= 0, replicate 3\n",
      "Training model blstm,  K= 0, replicate 4\n",
      "Training model blstm,  K= 0, replicate 5\n",
      "Training model blstm,  K= 0, replicate 6\n",
      "Training model blstm,  K= 0, replicate 7\n",
      "Working on training for K = 1\n",
      "Hyperparameters: {'num_layers': 3, 'hidden_size': 64, 'input_size': 6, 'bidirectional': True}, learning_rate: 0.0001, batch_size: 256\n",
      "Training model blstm,  K= 1, replicate 0\n",
      "Training model blstm,  K= 1, replicate 1\n",
      "Training model blstm,  K= 1, replicate 2\n",
      "Training model blstm,  K= 1, replicate 3\n",
      "Training model blstm,  K= 1, replicate 4\n",
      "Training model blstm,  K= 1, replicate 5\n",
      "Training model blstm,  K= 1, replicate 6\n",
      "Training model blstm,  K= 1, replicate 7\n",
      "Working on training for K = 2\n",
      "Hyperparameters: {'num_layers': 3, 'hidden_size': 256, 'input_size': 6, 'bidirectional': True}, learning_rate: 0.0001, batch_size: 128\n",
      "Training model blstm,  K= 2, replicate 0\n",
      "Training model blstm,  K= 2, replicate 1\n",
      "Training model blstm,  K= 2, replicate 2\n",
      "Training model blstm,  K= 2, replicate 3\n",
      "Training model blstm,  K= 2, replicate 4\n",
      "Training model blstm,  K= 2, replicate 5\n",
      "Training model blstm,  K= 2, replicate 6\n",
      "Training model blstm,  K= 2, replicate 7\n",
      "Working on training for K = 3\n",
      "Hyperparameters: {'num_layers': 1, 'hidden_size': 64, 'input_size': 6, 'bidirectional': True}, learning_rate: 0.0001, batch_size: 128\n",
      "Training model blstm,  K= 3, replicate 0\n",
      "Training model blstm,  K= 3, replicate 1\n",
      "Training model blstm,  K= 3, replicate 2\n",
      "Training model blstm,  K= 3, replicate 3\n",
      "Training model blstm,  K= 3, replicate 4\n",
      "Training model blstm,  K= 3, replicate 5\n",
      "Training model blstm,  K= 3, replicate 6\n",
      "Training model blstm,  K= 3, replicate 7\n",
      "Working on training for K = 4\n",
      "Hyperparameters: {'num_layers': 4, 'hidden_size': 64, 'input_size': 6, 'bidirectional': True}, learning_rate: 0.01, batch_size: 64\n",
      "Training model blstm,  K= 4, replicate 0\n",
      "Training model blstm,  K= 4, replicate 1\n",
      "Training model blstm,  K= 4, replicate 2\n",
      "Training model blstm,  K= 4, replicate 3\n",
      "Training model blstm,  K= 4, replicate 4\n",
      "Training model blstm,  K= 4, replicate 5\n",
      "Training model blstm,  K= 4, replicate 6\n",
      "Training model blstm,  K= 4, replicate 7\n",
      "Working on training for K = 5\n",
      "Hyperparameters: {'num_layers': 2, 'hidden_size': 128, 'input_size': 6, 'bidirectional': True}, learning_rate: 0.001, batch_size: 64\n",
      "Training model blstm,  K= 5, replicate 0\n",
      "Training model blstm,  K= 5, replicate 1\n",
      "Training model blstm,  K= 5, replicate 2\n",
      "Training model blstm,  K= 5, replicate 3\n",
      "Training model blstm,  K= 5, replicate 4\n",
      "Training model blstm,  K= 5, replicate 5\n",
      "Training model blstm,  K= 5, replicate 6\n",
      "Training model blstm,  K= 5, replicate 7\n",
      "Working on model name transformer\n",
      "Working on training for K = 0\n",
      "Hyperparameters: {'d_model': 16, 'nhead': 2, 'num_layers': 2, 'dim_feedforward': 64, 'max_seq_length': 8, 'input_dim': 6}, learning_rate: 0.0001, batch_size: 256\n",
      "Training model transformer,  K= 0, replicate 0\n",
      "Training model transformer,  K= 0, replicate 1\n",
      "Training model transformer,  K= 0, replicate 2\n",
      "Training model transformer,  K= 0, replicate 3\n",
      "Training model transformer,  K= 0, replicate 4\n",
      "Training model transformer,  K= 0, replicate 5\n",
      "Training model transformer,  K= 0, replicate 6\n",
      "Training model transformer,  K= 0, replicate 7\n",
      "Working on training for K = 1\n",
      "Hyperparameters: {'d_model': 32, 'nhead': 2, 'num_layers': 3, 'dim_feedforward': 32, 'max_seq_length': 8, 'input_dim': 6}, learning_rate: 0.001, batch_size: 64\n",
      "Training model transformer,  K= 1, replicate 0\n",
      "Training model transformer,  K= 1, replicate 1\n",
      "Training model transformer,  K= 1, replicate 2\n",
      "Training model transformer,  K= 1, replicate 3\n",
      "Training model transformer,  K= 1, replicate 4\n",
      "Training model transformer,  K= 1, replicate 5\n",
      "Training model transformer,  K= 1, replicate 6\n",
      "Training model transformer,  K= 1, replicate 7\n",
      "Working on training for K = 2\n",
      "Hyperparameters: {'d_model': 16, 'nhead': 2, 'num_layers': 1, 'dim_feedforward': 128, 'max_seq_length': 8, 'input_dim': 6}, learning_rate: 0.01, batch_size: 128\n",
      "Training model transformer,  K= 2, replicate 0\n",
      "Training model transformer,  K= 2, replicate 1\n",
      "Training model transformer,  K= 2, replicate 2\n",
      "Training model transformer,  K= 2, replicate 3\n",
      "Training model transformer,  K= 2, replicate 4\n",
      "Training model transformer,  K= 2, replicate 5\n",
      "Training model transformer,  K= 2, replicate 6\n",
      "Training model transformer,  K= 2, replicate 7\n",
      "Working on training for K = 3\n",
      "Hyperparameters: {'d_model': 256, 'nhead': 8, 'num_layers': 4, 'dim_feedforward': 128, 'max_seq_length': 10, 'input_dim': 6}, learning_rate: 0.001, batch_size: 128\n",
      "Training model transformer,  K= 3, replicate 0\n",
      "Training model transformer,  K= 3, replicate 1\n",
      "Training model transformer,  K= 3, replicate 2\n",
      "Training model transformer,  K= 3, replicate 3\n",
      "Training model transformer,  K= 3, replicate 4\n",
      "Training model transformer,  K= 3, replicate 5\n",
      "Training model transformer,  K= 3, replicate 6\n",
      "Training model transformer,  K= 3, replicate 7\n",
      "Working on training for K = 4\n",
      "Hyperparameters: {'d_model': 32, 'nhead': 4, 'num_layers': 4, 'dim_feedforward': 256, 'max_seq_length': 10, 'input_dim': 6}, learning_rate: 0.001, batch_size: 32\n",
      "Training model transformer,  K= 4, replicate 0\n",
      "Training model transformer,  K= 4, replicate 1\n",
      "Training model transformer,  K= 4, replicate 2\n",
      "Training model transformer,  K= 4, replicate 3\n",
      "Training model transformer,  K= 4, replicate 4\n",
      "Training model transformer,  K= 4, replicate 5\n",
      "Training model transformer,  K= 4, replicate 6\n",
      "Training model transformer,  K= 4, replicate 7\n",
      "Working on training for K = 5\n",
      "Hyperparameters: {'d_model': 64, 'nhead': 8, 'num_layers': 1, 'dim_feedforward': 128, 'max_seq_length': 8, 'input_dim': 6}, learning_rate: 0.0001, batch_size: 32\n",
      "Training model transformer,  K= 5, replicate 0\n",
      "Training model transformer,  K= 5, replicate 1\n",
      "Training model transformer,  K= 5, replicate 2\n",
      "Training model transformer,  K= 5, replicate 3\n",
      "Training model transformer,  K= 5, replicate 4\n",
      "Training model transformer,  K= 5, replicate 5\n",
      "Training model transformer,  K= 5, replicate 6\n",
      "Training model transformer,  K= 5, replicate 7\n",
      "Working on model name RF\n",
      "Working on training for K = 0\n",
      "Hyperparameters: {'max_features': 0.856535057799511, 'n_estimators': 532, 'max_depth': 21}, learning_rate: 0.0001, batch_size: 32\n",
      "Training model RF,  K= 0, replicate 0\n"
     ]
    },
    {
     "name": "stderr",
     "output_type": "stream",
     "text": [
      "/home/ubuntu/.local/lib/python3.10/site-packages/sklearn/base.py:1473: DataConversionWarning: A column-vector y was passed when a 1d array was expected. Please change the shape of y to (n_samples,), for example using ravel().\n",
      "  return fit_method(estimator, *args, **kwargs)\n"
     ]
    },
    {
     "name": "stdout",
     "output_type": "stream",
     "text": [
      "Training model RF,  K= 0, replicate 1\n"
     ]
    },
    {
     "name": "stderr",
     "output_type": "stream",
     "text": [
      "/home/ubuntu/.local/lib/python3.10/site-packages/sklearn/base.py:1473: DataConversionWarning: A column-vector y was passed when a 1d array was expected. Please change the shape of y to (n_samples,), for example using ravel().\n",
      "  return fit_method(estimator, *args, **kwargs)\n"
     ]
    },
    {
     "name": "stdout",
     "output_type": "stream",
     "text": [
      "Training model RF,  K= 0, replicate 2\n"
     ]
    },
    {
     "name": "stderr",
     "output_type": "stream",
     "text": [
      "/home/ubuntu/.local/lib/python3.10/site-packages/sklearn/base.py:1473: DataConversionWarning: A column-vector y was passed when a 1d array was expected. Please change the shape of y to (n_samples,), for example using ravel().\n",
      "  return fit_method(estimator, *args, **kwargs)\n"
     ]
    },
    {
     "name": "stdout",
     "output_type": "stream",
     "text": [
      "Training model RF,  K= 0, replicate 3\n"
     ]
    },
    {
     "name": "stderr",
     "output_type": "stream",
     "text": [
      "/home/ubuntu/.local/lib/python3.10/site-packages/sklearn/base.py:1473: DataConversionWarning: A column-vector y was passed when a 1d array was expected. Please change the shape of y to (n_samples,), for example using ravel().\n",
      "  return fit_method(estimator, *args, **kwargs)\n"
     ]
    },
    {
     "name": "stdout",
     "output_type": "stream",
     "text": [
      "Training model RF,  K= 0, replicate 4\n"
     ]
    },
    {
     "name": "stderr",
     "output_type": "stream",
     "text": [
      "/home/ubuntu/.local/lib/python3.10/site-packages/sklearn/base.py:1473: DataConversionWarning: A column-vector y was passed when a 1d array was expected. Please change the shape of y to (n_samples,), for example using ravel().\n",
      "  return fit_method(estimator, *args, **kwargs)\n"
     ]
    },
    {
     "name": "stdout",
     "output_type": "stream",
     "text": [
      "Training model RF,  K= 0, replicate 5\n"
     ]
    },
    {
     "name": "stderr",
     "output_type": "stream",
     "text": [
      "/home/ubuntu/.local/lib/python3.10/site-packages/sklearn/base.py:1473: DataConversionWarning: A column-vector y was passed when a 1d array was expected. Please change the shape of y to (n_samples,), for example using ravel().\n",
      "  return fit_method(estimator, *args, **kwargs)\n"
     ]
    },
    {
     "name": "stdout",
     "output_type": "stream",
     "text": [
      "Training model RF,  K= 0, replicate 6\n"
     ]
    },
    {
     "name": "stderr",
     "output_type": "stream",
     "text": [
      "/home/ubuntu/.local/lib/python3.10/site-packages/sklearn/base.py:1473: DataConversionWarning: A column-vector y was passed when a 1d array was expected. Please change the shape of y to (n_samples,), for example using ravel().\n",
      "  return fit_method(estimator, *args, **kwargs)\n"
     ]
    },
    {
     "name": "stdout",
     "output_type": "stream",
     "text": [
      "Training model RF,  K= 0, replicate 7\n"
     ]
    },
    {
     "name": "stderr",
     "output_type": "stream",
     "text": [
      "/home/ubuntu/.local/lib/python3.10/site-packages/sklearn/base.py:1473: DataConversionWarning: A column-vector y was passed when a 1d array was expected. Please change the shape of y to (n_samples,), for example using ravel().\n",
      "  return fit_method(estimator, *args, **kwargs)\n"
     ]
    },
    {
     "name": "stdout",
     "output_type": "stream",
     "text": [
      "Working on training for K = 1\n",
      "Hyperparameters: {'max_features': 0.40644907081514847, 'n_estimators': 543, 'max_depth': 15}, learning_rate: 0.0001, batch_size: 32\n",
      "Training model RF,  K= 1, replicate 0\n"
     ]
    },
    {
     "name": "stderr",
     "output_type": "stream",
     "text": [
      "/home/ubuntu/.local/lib/python3.10/site-packages/sklearn/base.py:1473: DataConversionWarning: A column-vector y was passed when a 1d array was expected. Please change the shape of y to (n_samples,), for example using ravel().\n",
      "  return fit_method(estimator, *args, **kwargs)\n"
     ]
    },
    {
     "name": "stdout",
     "output_type": "stream",
     "text": [
      "Training model RF,  K= 1, replicate 1\n"
     ]
    },
    {
     "name": "stderr",
     "output_type": "stream",
     "text": [
      "/home/ubuntu/.local/lib/python3.10/site-packages/sklearn/base.py:1473: DataConversionWarning: A column-vector y was passed when a 1d array was expected. Please change the shape of y to (n_samples,), for example using ravel().\n",
      "  return fit_method(estimator, *args, **kwargs)\n"
     ]
    },
    {
     "name": "stdout",
     "output_type": "stream",
     "text": [
      "Training model RF,  K= 1, replicate 2\n"
     ]
    },
    {
     "name": "stderr",
     "output_type": "stream",
     "text": [
      "/home/ubuntu/.local/lib/python3.10/site-packages/sklearn/base.py:1473: DataConversionWarning: A column-vector y was passed when a 1d array was expected. Please change the shape of y to (n_samples,), for example using ravel().\n",
      "  return fit_method(estimator, *args, **kwargs)\n"
     ]
    },
    {
     "name": "stdout",
     "output_type": "stream",
     "text": [
      "Training model RF,  K= 1, replicate 3\n"
     ]
    },
    {
     "name": "stderr",
     "output_type": "stream",
     "text": [
      "/home/ubuntu/.local/lib/python3.10/site-packages/sklearn/base.py:1473: DataConversionWarning: A column-vector y was passed when a 1d array was expected. Please change the shape of y to (n_samples,), for example using ravel().\n",
      "  return fit_method(estimator, *args, **kwargs)\n"
     ]
    },
    {
     "name": "stdout",
     "output_type": "stream",
     "text": [
      "Training model RF,  K= 1, replicate 4\n"
     ]
    },
    {
     "name": "stderr",
     "output_type": "stream",
     "text": [
      "/home/ubuntu/.local/lib/python3.10/site-packages/sklearn/base.py:1473: DataConversionWarning: A column-vector y was passed when a 1d array was expected. Please change the shape of y to (n_samples,), for example using ravel().\n",
      "  return fit_method(estimator, *args, **kwargs)\n"
     ]
    },
    {
     "name": "stdout",
     "output_type": "stream",
     "text": [
      "Training model RF,  K= 1, replicate 5\n"
     ]
    },
    {
     "name": "stderr",
     "output_type": "stream",
     "text": [
      "/home/ubuntu/.local/lib/python3.10/site-packages/sklearn/base.py:1473: DataConversionWarning: A column-vector y was passed when a 1d array was expected. Please change the shape of y to (n_samples,), for example using ravel().\n",
      "  return fit_method(estimator, *args, **kwargs)\n"
     ]
    },
    {
     "name": "stdout",
     "output_type": "stream",
     "text": [
      "Training model RF,  K= 1, replicate 6\n"
     ]
    },
    {
     "name": "stderr",
     "output_type": "stream",
     "text": [
      "/home/ubuntu/.local/lib/python3.10/site-packages/sklearn/base.py:1473: DataConversionWarning: A column-vector y was passed when a 1d array was expected. Please change the shape of y to (n_samples,), for example using ravel().\n",
      "  return fit_method(estimator, *args, **kwargs)\n"
     ]
    },
    {
     "name": "stdout",
     "output_type": "stream",
     "text": [
      "Training model RF,  K= 1, replicate 7\n"
     ]
    },
    {
     "name": "stderr",
     "output_type": "stream",
     "text": [
      "/home/ubuntu/.local/lib/python3.10/site-packages/sklearn/base.py:1473: DataConversionWarning: A column-vector y was passed when a 1d array was expected. Please change the shape of y to (n_samples,), for example using ravel().\n",
      "  return fit_method(estimator, *args, **kwargs)\n"
     ]
    },
    {
     "name": "stdout",
     "output_type": "stream",
     "text": [
      "Working on training for K = 2\n",
      "Hyperparameters: {'max_features': 0.2287000489709704, 'n_estimators': 260, 'max_depth': 10}, learning_rate: 0.0001, batch_size: 32\n",
      "Training model RF,  K= 2, replicate 0\n"
     ]
    },
    {
     "name": "stderr",
     "output_type": "stream",
     "text": [
      "/home/ubuntu/.local/lib/python3.10/site-packages/sklearn/base.py:1473: DataConversionWarning: A column-vector y was passed when a 1d array was expected. Please change the shape of y to (n_samples,), for example using ravel().\n",
      "  return fit_method(estimator, *args, **kwargs)\n"
     ]
    },
    {
     "name": "stdout",
     "output_type": "stream",
     "text": [
      "Training model RF,  K= 2, replicate 1\n"
     ]
    },
    {
     "name": "stderr",
     "output_type": "stream",
     "text": [
      "/home/ubuntu/.local/lib/python3.10/site-packages/sklearn/base.py:1473: DataConversionWarning: A column-vector y was passed when a 1d array was expected. Please change the shape of y to (n_samples,), for example using ravel().\n",
      "  return fit_method(estimator, *args, **kwargs)\n"
     ]
    },
    {
     "name": "stdout",
     "output_type": "stream",
     "text": [
      "Training model RF,  K= 2, replicate 2\n"
     ]
    },
    {
     "name": "stderr",
     "output_type": "stream",
     "text": [
      "/home/ubuntu/.local/lib/python3.10/site-packages/sklearn/base.py:1473: DataConversionWarning: A column-vector y was passed when a 1d array was expected. Please change the shape of y to (n_samples,), for example using ravel().\n",
      "  return fit_method(estimator, *args, **kwargs)\n"
     ]
    },
    {
     "name": "stdout",
     "output_type": "stream",
     "text": [
      "Training model RF,  K= 2, replicate 3\n"
     ]
    },
    {
     "name": "stderr",
     "output_type": "stream",
     "text": [
      "/home/ubuntu/.local/lib/python3.10/site-packages/sklearn/base.py:1473: DataConversionWarning: A column-vector y was passed when a 1d array was expected. Please change the shape of y to (n_samples,), for example using ravel().\n",
      "  return fit_method(estimator, *args, **kwargs)\n"
     ]
    },
    {
     "name": "stdout",
     "output_type": "stream",
     "text": [
      "Training model RF,  K= 2, replicate 4\n"
     ]
    },
    {
     "name": "stderr",
     "output_type": "stream",
     "text": [
      "/home/ubuntu/.local/lib/python3.10/site-packages/sklearn/base.py:1473: DataConversionWarning: A column-vector y was passed when a 1d array was expected. Please change the shape of y to (n_samples,), for example using ravel().\n",
      "  return fit_method(estimator, *args, **kwargs)\n"
     ]
    },
    {
     "name": "stdout",
     "output_type": "stream",
     "text": [
      "Training model RF,  K= 2, replicate 5\n"
     ]
    },
    {
     "name": "stderr",
     "output_type": "stream",
     "text": [
      "/home/ubuntu/.local/lib/python3.10/site-packages/sklearn/base.py:1473: DataConversionWarning: A column-vector y was passed when a 1d array was expected. Please change the shape of y to (n_samples,), for example using ravel().\n",
      "  return fit_method(estimator, *args, **kwargs)\n"
     ]
    },
    {
     "name": "stdout",
     "output_type": "stream",
     "text": [
      "Training model RF,  K= 2, replicate 6\n"
     ]
    },
    {
     "name": "stderr",
     "output_type": "stream",
     "text": [
      "/home/ubuntu/.local/lib/python3.10/site-packages/sklearn/base.py:1473: DataConversionWarning: A column-vector y was passed when a 1d array was expected. Please change the shape of y to (n_samples,), for example using ravel().\n",
      "  return fit_method(estimator, *args, **kwargs)\n"
     ]
    },
    {
     "name": "stdout",
     "output_type": "stream",
     "text": [
      "Training model RF,  K= 2, replicate 7\n"
     ]
    },
    {
     "name": "stderr",
     "output_type": "stream",
     "text": [
      "/home/ubuntu/.local/lib/python3.10/site-packages/sklearn/base.py:1473: DataConversionWarning: A column-vector y was passed when a 1d array was expected. Please change the shape of y to (n_samples,), for example using ravel().\n",
      "  return fit_method(estimator, *args, **kwargs)\n"
     ]
    },
    {
     "name": "stdout",
     "output_type": "stream",
     "text": [
      "Working on training for K = 3\n",
      "Hyperparameters: {'max_features': 0.9649405086157808, 'n_estimators': 133, 'max_depth': 17}, learning_rate: 0.0001, batch_size: 32\n",
      "Training model RF,  K= 3, replicate 0\n"
     ]
    },
    {
     "name": "stderr",
     "output_type": "stream",
     "text": [
      "/home/ubuntu/.local/lib/python3.10/site-packages/sklearn/base.py:1473: DataConversionWarning: A column-vector y was passed when a 1d array was expected. Please change the shape of y to (n_samples,), for example using ravel().\n",
      "  return fit_method(estimator, *args, **kwargs)\n"
     ]
    },
    {
     "name": "stdout",
     "output_type": "stream",
     "text": [
      "Training model RF,  K= 3, replicate 1\n"
     ]
    },
    {
     "name": "stderr",
     "output_type": "stream",
     "text": [
      "/home/ubuntu/.local/lib/python3.10/site-packages/sklearn/base.py:1473: DataConversionWarning: A column-vector y was passed when a 1d array was expected. Please change the shape of y to (n_samples,), for example using ravel().\n",
      "  return fit_method(estimator, *args, **kwargs)\n"
     ]
    },
    {
     "name": "stdout",
     "output_type": "stream",
     "text": [
      "Training model RF,  K= 3, replicate 2\n"
     ]
    },
    {
     "name": "stderr",
     "output_type": "stream",
     "text": [
      "/home/ubuntu/.local/lib/python3.10/site-packages/sklearn/base.py:1473: DataConversionWarning: A column-vector y was passed when a 1d array was expected. Please change the shape of y to (n_samples,), for example using ravel().\n",
      "  return fit_method(estimator, *args, **kwargs)\n"
     ]
    },
    {
     "name": "stdout",
     "output_type": "stream",
     "text": [
      "Training model RF,  K= 3, replicate 3\n"
     ]
    },
    {
     "name": "stderr",
     "output_type": "stream",
     "text": [
      "/home/ubuntu/.local/lib/python3.10/site-packages/sklearn/base.py:1473: DataConversionWarning: A column-vector y was passed when a 1d array was expected. Please change the shape of y to (n_samples,), for example using ravel().\n",
      "  return fit_method(estimator, *args, **kwargs)\n"
     ]
    },
    {
     "name": "stdout",
     "output_type": "stream",
     "text": [
      "Training model RF,  K= 3, replicate 4\n"
     ]
    },
    {
     "name": "stderr",
     "output_type": "stream",
     "text": [
      "/home/ubuntu/.local/lib/python3.10/site-packages/sklearn/base.py:1473: DataConversionWarning: A column-vector y was passed when a 1d array was expected. Please change the shape of y to (n_samples,), for example using ravel().\n",
      "  return fit_method(estimator, *args, **kwargs)\n"
     ]
    },
    {
     "name": "stdout",
     "output_type": "stream",
     "text": [
      "Training model RF,  K= 3, replicate 5\n"
     ]
    },
    {
     "name": "stderr",
     "output_type": "stream",
     "text": [
      "/home/ubuntu/.local/lib/python3.10/site-packages/sklearn/base.py:1473: DataConversionWarning: A column-vector y was passed when a 1d array was expected. Please change the shape of y to (n_samples,), for example using ravel().\n",
      "  return fit_method(estimator, *args, **kwargs)\n"
     ]
    },
    {
     "name": "stdout",
     "output_type": "stream",
     "text": [
      "Training model RF,  K= 3, replicate 6\n"
     ]
    },
    {
     "name": "stderr",
     "output_type": "stream",
     "text": [
      "/home/ubuntu/.local/lib/python3.10/site-packages/sklearn/base.py:1473: DataConversionWarning: A column-vector y was passed when a 1d array was expected. Please change the shape of y to (n_samples,), for example using ravel().\n",
      "  return fit_method(estimator, *args, **kwargs)\n"
     ]
    },
    {
     "name": "stdout",
     "output_type": "stream",
     "text": [
      "Training model RF,  K= 3, replicate 7\n"
     ]
    },
    {
     "name": "stderr",
     "output_type": "stream",
     "text": [
      "/home/ubuntu/.local/lib/python3.10/site-packages/sklearn/base.py:1473: DataConversionWarning: A column-vector y was passed when a 1d array was expected. Please change the shape of y to (n_samples,), for example using ravel().\n",
      "  return fit_method(estimator, *args, **kwargs)\n"
     ]
    },
    {
     "name": "stdout",
     "output_type": "stream",
     "text": [
      "Working on training for K = 4\n",
      "Hyperparameters: {'max_features': 0.5280324822759479, 'n_estimators': 248, 'max_depth': 19}, learning_rate: 0.0001, batch_size: 32\n",
      "Training model RF,  K= 4, replicate 0\n"
     ]
    },
    {
     "name": "stderr",
     "output_type": "stream",
     "text": [
      "/home/ubuntu/.local/lib/python3.10/site-packages/sklearn/base.py:1473: DataConversionWarning: A column-vector y was passed when a 1d array was expected. Please change the shape of y to (n_samples,), for example using ravel().\n",
      "  return fit_method(estimator, *args, **kwargs)\n"
     ]
    },
    {
     "name": "stdout",
     "output_type": "stream",
     "text": [
      "Training model RF,  K= 4, replicate 1\n"
     ]
    },
    {
     "name": "stderr",
     "output_type": "stream",
     "text": [
      "/home/ubuntu/.local/lib/python3.10/site-packages/sklearn/base.py:1473: DataConversionWarning: A column-vector y was passed when a 1d array was expected. Please change the shape of y to (n_samples,), for example using ravel().\n",
      "  return fit_method(estimator, *args, **kwargs)\n"
     ]
    },
    {
     "name": "stdout",
     "output_type": "stream",
     "text": [
      "Training model RF,  K= 4, replicate 2\n"
     ]
    },
    {
     "name": "stderr",
     "output_type": "stream",
     "text": [
      "/home/ubuntu/.local/lib/python3.10/site-packages/sklearn/base.py:1473: DataConversionWarning: A column-vector y was passed when a 1d array was expected. Please change the shape of y to (n_samples,), for example using ravel().\n",
      "  return fit_method(estimator, *args, **kwargs)\n"
     ]
    },
    {
     "name": "stdout",
     "output_type": "stream",
     "text": [
      "Training model RF,  K= 4, replicate 3\n"
     ]
    },
    {
     "name": "stderr",
     "output_type": "stream",
     "text": [
      "/home/ubuntu/.local/lib/python3.10/site-packages/sklearn/base.py:1473: DataConversionWarning: A column-vector y was passed when a 1d array was expected. Please change the shape of y to (n_samples,), for example using ravel().\n",
      "  return fit_method(estimator, *args, **kwargs)\n"
     ]
    },
    {
     "name": "stdout",
     "output_type": "stream",
     "text": [
      "Training model RF,  K= 4, replicate 4\n"
     ]
    },
    {
     "name": "stderr",
     "output_type": "stream",
     "text": [
      "/home/ubuntu/.local/lib/python3.10/site-packages/sklearn/base.py:1473: DataConversionWarning: A column-vector y was passed when a 1d array was expected. Please change the shape of y to (n_samples,), for example using ravel().\n",
      "  return fit_method(estimator, *args, **kwargs)\n"
     ]
    },
    {
     "name": "stdout",
     "output_type": "stream",
     "text": [
      "Training model RF,  K= 4, replicate 5\n"
     ]
    },
    {
     "name": "stderr",
     "output_type": "stream",
     "text": [
      "/home/ubuntu/.local/lib/python3.10/site-packages/sklearn/base.py:1473: DataConversionWarning: A column-vector y was passed when a 1d array was expected. Please change the shape of y to (n_samples,), for example using ravel().\n",
      "  return fit_method(estimator, *args, **kwargs)\n"
     ]
    },
    {
     "name": "stdout",
     "output_type": "stream",
     "text": [
      "Training model RF,  K= 4, replicate 6\n"
     ]
    },
    {
     "name": "stderr",
     "output_type": "stream",
     "text": [
      "/home/ubuntu/.local/lib/python3.10/site-packages/sklearn/base.py:1473: DataConversionWarning: A column-vector y was passed when a 1d array was expected. Please change the shape of y to (n_samples,), for example using ravel().\n",
      "  return fit_method(estimator, *args, **kwargs)\n"
     ]
    },
    {
     "name": "stdout",
     "output_type": "stream",
     "text": [
      "Training model RF,  K= 4, replicate 7\n"
     ]
    },
    {
     "name": "stderr",
     "output_type": "stream",
     "text": [
      "/home/ubuntu/.local/lib/python3.10/site-packages/sklearn/base.py:1473: DataConversionWarning: A column-vector y was passed when a 1d array was expected. Please change the shape of y to (n_samples,), for example using ravel().\n",
      "  return fit_method(estimator, *args, **kwargs)\n"
     ]
    },
    {
     "name": "stdout",
     "output_type": "stream",
     "text": [
      "Working on training for K = 5\n",
      "Hyperparameters: {'max_features': 0.2952903888182027, 'n_estimators': 699, 'max_depth': 28}, learning_rate: 0.0001, batch_size: 32\n",
      "Training model RF,  K= 5, replicate 0\n"
     ]
    },
    {
     "name": "stderr",
     "output_type": "stream",
     "text": [
      "/home/ubuntu/.local/lib/python3.10/site-packages/sklearn/base.py:1473: DataConversionWarning: A column-vector y was passed when a 1d array was expected. Please change the shape of y to (n_samples,), for example using ravel().\n",
      "  return fit_method(estimator, *args, **kwargs)\n"
     ]
    },
    {
     "name": "stdout",
     "output_type": "stream",
     "text": [
      "Training model RF,  K= 5, replicate 1\n"
     ]
    },
    {
     "name": "stderr",
     "output_type": "stream",
     "text": [
      "/home/ubuntu/.local/lib/python3.10/site-packages/sklearn/base.py:1473: DataConversionWarning: A column-vector y was passed when a 1d array was expected. Please change the shape of y to (n_samples,), for example using ravel().\n",
      "  return fit_method(estimator, *args, **kwargs)\n"
     ]
    },
    {
     "name": "stdout",
     "output_type": "stream",
     "text": [
      "Training model RF,  K= 5, replicate 2\n"
     ]
    },
    {
     "name": "stderr",
     "output_type": "stream",
     "text": [
      "/home/ubuntu/.local/lib/python3.10/site-packages/sklearn/base.py:1473: DataConversionWarning: A column-vector y was passed when a 1d array was expected. Please change the shape of y to (n_samples,), for example using ravel().\n",
      "  return fit_method(estimator, *args, **kwargs)\n"
     ]
    },
    {
     "name": "stdout",
     "output_type": "stream",
     "text": [
      "Training model RF,  K= 5, replicate 3\n"
     ]
    },
    {
     "name": "stderr",
     "output_type": "stream",
     "text": [
      "/home/ubuntu/.local/lib/python3.10/site-packages/sklearn/base.py:1473: DataConversionWarning: A column-vector y was passed when a 1d array was expected. Please change the shape of y to (n_samples,), for example using ravel().\n",
      "  return fit_method(estimator, *args, **kwargs)\n"
     ]
    },
    {
     "name": "stdout",
     "output_type": "stream",
     "text": [
      "Training model RF,  K= 5, replicate 4\n"
     ]
    },
    {
     "name": "stderr",
     "output_type": "stream",
     "text": [
      "/home/ubuntu/.local/lib/python3.10/site-packages/sklearn/base.py:1473: DataConversionWarning: A column-vector y was passed when a 1d array was expected. Please change the shape of y to (n_samples,), for example using ravel().\n",
      "  return fit_method(estimator, *args, **kwargs)\n"
     ]
    },
    {
     "name": "stdout",
     "output_type": "stream",
     "text": [
      "Training model RF,  K= 5, replicate 5\n"
     ]
    },
    {
     "name": "stderr",
     "output_type": "stream",
     "text": [
      "/home/ubuntu/.local/lib/python3.10/site-packages/sklearn/base.py:1473: DataConversionWarning: A column-vector y was passed when a 1d array was expected. Please change the shape of y to (n_samples,), for example using ravel().\n",
      "  return fit_method(estimator, *args, **kwargs)\n"
     ]
    },
    {
     "name": "stdout",
     "output_type": "stream",
     "text": [
      "Training model RF,  K= 5, replicate 6\n"
     ]
    },
    {
     "name": "stderr",
     "output_type": "stream",
     "text": [
      "/home/ubuntu/.local/lib/python3.10/site-packages/sklearn/base.py:1473: DataConversionWarning: A column-vector y was passed when a 1d array was expected. Please change the shape of y to (n_samples,), for example using ravel().\n",
      "  return fit_method(estimator, *args, **kwargs)\n"
     ]
    },
    {
     "name": "stdout",
     "output_type": "stream",
     "text": [
      "Training model RF,  K= 5, replicate 7\n"
     ]
    },
    {
     "name": "stderr",
     "output_type": "stream",
     "text": [
      "/home/ubuntu/.local/lib/python3.10/site-packages/sklearn/base.py:1473: DataConversionWarning: A column-vector y was passed when a 1d array was expected. Please change the shape of y to (n_samples,), for example using ravel().\n",
      "  return fit_method(estimator, *args, **kwargs)\n"
     ]
    },
    {
     "name": "stdout",
     "output_type": "stream",
     "text": [
      "Working on model name GB\n",
      "Working on training for K = 0\n",
      "Hyperparameters: {'max_depth': 10, 'n_estimators': 375, 'learning_rate': 0.1335533556478202}, learning_rate: 0.0001, batch_size: 32\n",
      "Training model GB,  K= 0, replicate 0\n"
     ]
    },
    {
     "name": "stderr",
     "output_type": "stream",
     "text": [
      "/home/ubuntu/.local/lib/python3.10/site-packages/sklearn/ensemble/_gb.py:668: DataConversionWarning: A column-vector y was passed when a 1d array was expected. Please change the shape of y to (n_samples, ), for example using ravel().\n",
      "  y = column_or_1d(y, warn=True)  # TODO: Is this still required?\n"
     ]
    },
    {
     "name": "stdout",
     "output_type": "stream",
     "text": [
      "Training model GB,  K= 0, replicate 1\n"
     ]
    },
    {
     "name": "stderr",
     "output_type": "stream",
     "text": [
      "/home/ubuntu/.local/lib/python3.10/site-packages/sklearn/ensemble/_gb.py:668: DataConversionWarning: A column-vector y was passed when a 1d array was expected. Please change the shape of y to (n_samples, ), for example using ravel().\n",
      "  y = column_or_1d(y, warn=True)  # TODO: Is this still required?\n"
     ]
    },
    {
     "name": "stdout",
     "output_type": "stream",
     "text": [
      "Training model GB,  K= 0, replicate 2\n"
     ]
    },
    {
     "name": "stderr",
     "output_type": "stream",
     "text": [
      "/home/ubuntu/.local/lib/python3.10/site-packages/sklearn/ensemble/_gb.py:668: DataConversionWarning: A column-vector y was passed when a 1d array was expected. Please change the shape of y to (n_samples, ), for example using ravel().\n",
      "  y = column_or_1d(y, warn=True)  # TODO: Is this still required?\n"
     ]
    },
    {
     "name": "stdout",
     "output_type": "stream",
     "text": [
      "Training model GB,  K= 0, replicate 3\n"
     ]
    },
    {
     "name": "stderr",
     "output_type": "stream",
     "text": [
      "/home/ubuntu/.local/lib/python3.10/site-packages/sklearn/ensemble/_gb.py:668: DataConversionWarning: A column-vector y was passed when a 1d array was expected. Please change the shape of y to (n_samples, ), for example using ravel().\n",
      "  y = column_or_1d(y, warn=True)  # TODO: Is this still required?\n"
     ]
    },
    {
     "name": "stdout",
     "output_type": "stream",
     "text": [
      "Training model GB,  K= 0, replicate 4\n"
     ]
    },
    {
     "name": "stderr",
     "output_type": "stream",
     "text": [
      "/home/ubuntu/.local/lib/python3.10/site-packages/sklearn/ensemble/_gb.py:668: DataConversionWarning: A column-vector y was passed when a 1d array was expected. Please change the shape of y to (n_samples, ), for example using ravel().\n",
      "  y = column_or_1d(y, warn=True)  # TODO: Is this still required?\n"
     ]
    },
    {
     "name": "stdout",
     "output_type": "stream",
     "text": [
      "Training model GB,  K= 0, replicate 5\n"
     ]
    },
    {
     "name": "stderr",
     "output_type": "stream",
     "text": [
      "/home/ubuntu/.local/lib/python3.10/site-packages/sklearn/ensemble/_gb.py:668: DataConversionWarning: A column-vector y was passed when a 1d array was expected. Please change the shape of y to (n_samples, ), for example using ravel().\n",
      "  y = column_or_1d(y, warn=True)  # TODO: Is this still required?\n"
     ]
    },
    {
     "name": "stdout",
     "output_type": "stream",
     "text": [
      "Training model GB,  K= 0, replicate 6\n"
     ]
    },
    {
     "name": "stderr",
     "output_type": "stream",
     "text": [
      "/home/ubuntu/.local/lib/python3.10/site-packages/sklearn/ensemble/_gb.py:668: DataConversionWarning: A column-vector y was passed when a 1d array was expected. Please change the shape of y to (n_samples, ), for example using ravel().\n",
      "  y = column_or_1d(y, warn=True)  # TODO: Is this still required?\n"
     ]
    },
    {
     "name": "stdout",
     "output_type": "stream",
     "text": [
      "Training model GB,  K= 0, replicate 7\n"
     ]
    },
    {
     "name": "stderr",
     "output_type": "stream",
     "text": [
      "/home/ubuntu/.local/lib/python3.10/site-packages/sklearn/ensemble/_gb.py:668: DataConversionWarning: A column-vector y was passed when a 1d array was expected. Please change the shape of y to (n_samples, ), for example using ravel().\n",
      "  y = column_or_1d(y, warn=True)  # TODO: Is this still required?\n"
     ]
    },
    {
     "name": "stdout",
     "output_type": "stream",
     "text": [
      "Working on training for K = 1\n",
      "Hyperparameters: {'max_depth': 15, 'n_estimators': 869, 'learning_rate': 0.0681860783968705}, learning_rate: 0.0001, batch_size: 32\n",
      "Training model GB,  K= 1, replicate 0\n"
     ]
    },
    {
     "name": "stderr",
     "output_type": "stream",
     "text": [
      "/home/ubuntu/.local/lib/python3.10/site-packages/sklearn/ensemble/_gb.py:668: DataConversionWarning: A column-vector y was passed when a 1d array was expected. Please change the shape of y to (n_samples, ), for example using ravel().\n",
      "  y = column_or_1d(y, warn=True)  # TODO: Is this still required?\n"
     ]
    },
    {
     "name": "stdout",
     "output_type": "stream",
     "text": [
      "Training model GB,  K= 1, replicate 1\n"
     ]
    },
    {
     "name": "stderr",
     "output_type": "stream",
     "text": [
      "/home/ubuntu/.local/lib/python3.10/site-packages/sklearn/ensemble/_gb.py:668: DataConversionWarning: A column-vector y was passed when a 1d array was expected. Please change the shape of y to (n_samples, ), for example using ravel().\n",
      "  y = column_or_1d(y, warn=True)  # TODO: Is this still required?\n"
     ]
    },
    {
     "name": "stdout",
     "output_type": "stream",
     "text": [
      "Training model GB,  K= 1, replicate 2\n"
     ]
    },
    {
     "name": "stderr",
     "output_type": "stream",
     "text": [
      "/home/ubuntu/.local/lib/python3.10/site-packages/sklearn/ensemble/_gb.py:668: DataConversionWarning: A column-vector y was passed when a 1d array was expected. Please change the shape of y to (n_samples, ), for example using ravel().\n",
      "  y = column_or_1d(y, warn=True)  # TODO: Is this still required?\n"
     ]
    },
    {
     "name": "stdout",
     "output_type": "stream",
     "text": [
      "Training model GB,  K= 1, replicate 3\n"
     ]
    },
    {
     "name": "stderr",
     "output_type": "stream",
     "text": [
      "/home/ubuntu/.local/lib/python3.10/site-packages/sklearn/ensemble/_gb.py:668: DataConversionWarning: A column-vector y was passed when a 1d array was expected. Please change the shape of y to (n_samples, ), for example using ravel().\n",
      "  y = column_or_1d(y, warn=True)  # TODO: Is this still required?\n"
     ]
    },
    {
     "name": "stdout",
     "output_type": "stream",
     "text": [
      "Training model GB,  K= 1, replicate 4\n"
     ]
    },
    {
     "name": "stderr",
     "output_type": "stream",
     "text": [
      "/home/ubuntu/.local/lib/python3.10/site-packages/sklearn/ensemble/_gb.py:668: DataConversionWarning: A column-vector y was passed when a 1d array was expected. Please change the shape of y to (n_samples, ), for example using ravel().\n",
      "  y = column_or_1d(y, warn=True)  # TODO: Is this still required?\n"
     ]
    },
    {
     "name": "stdout",
     "output_type": "stream",
     "text": [
      "Training model GB,  K= 1, replicate 5\n"
     ]
    },
    {
     "name": "stderr",
     "output_type": "stream",
     "text": [
      "/home/ubuntu/.local/lib/python3.10/site-packages/sklearn/ensemble/_gb.py:668: DataConversionWarning: A column-vector y was passed when a 1d array was expected. Please change the shape of y to (n_samples, ), for example using ravel().\n",
      "  y = column_or_1d(y, warn=True)  # TODO: Is this still required?\n"
     ]
    },
    {
     "ename": "KeyboardInterrupt",
     "evalue": "",
     "output_type": "error",
     "traceback": [
      "\u001b[0;31m---------------------------------------------------------------------------\u001b[0m",
      "\u001b[0;31mKeyboardInterrupt\u001b[0m                         Traceback (most recent call last)",
      "\u001b[0;32m/tmp/ipykernel_10552/2106679955.py\u001b[0m in \u001b[0;36m<module>\u001b[0;34m\u001b[0m\n\u001b[0;32m----> 1\u001b[0;31m res = train_models_from_hparams_NK(HPARAM_PATH, DATA_PATH, model_savepath=MODEL_SAVEPATH, result_path=RESULT_PATH,\n\u001b[0m\u001b[1;32m      2\u001b[0m                                  \u001b[0mamino_acids\u001b[0m\u001b[0;34m=\u001b[0m\u001b[0mAA_ALPHABET\u001b[0m\u001b[0;34m,\u001b[0m\u001b[0;34m\u001b[0m\u001b[0;34m\u001b[0m\u001b[0m\n\u001b[1;32m      3\u001b[0m                                  seq_length=SEQ_LEN, n_replicates=8, n_epochs=2) \n\u001b[1;32m      4\u001b[0m \u001b[0;34m\u001b[0m\u001b[0m\n\u001b[1;32m      5\u001b[0m \u001b[0;34m\u001b[0m\u001b[0m\n",
      "\u001b[0;32m~/nk-paper/nk-ml-2024/src/train_utils.py\u001b[0m in \u001b[0;36mtrain_models_from_hparams_NK\u001b[0;34m(hparams_path, datapath, model_savepath, result_path, amino_acids, seq_length, n_replicates, n_epochs, patience, min_delta)\u001b[0m\n\u001b[1;32m    218\u001b[0m                     \u001b[0;32melif\u001b[0m \u001b[0mmodel_name\u001b[0m \u001b[0;34m==\u001b[0m \u001b[0;34m'GB'\u001b[0m\u001b[0;34m:\u001b[0m\u001b[0;34m\u001b[0m\u001b[0;34m\u001b[0m\u001b[0m\n\u001b[1;32m    219\u001b[0m                         \u001b[0mmodel_instance\u001b[0m \u001b[0;34m=\u001b[0m \u001b[0mGradientBoostingRegressor\u001b[0m\u001b[0;34m(\u001b[0m\u001b[0;34m**\u001b[0m\u001b[0mmodel_params\u001b[0m\u001b[0;34m)\u001b[0m\u001b[0;34m\u001b[0m\u001b[0;34m\u001b[0m\u001b[0m\n\u001b[0;32m--> 220\u001b[0;31m                     \u001b[0mmodel_instance\u001b[0m\u001b[0;34m.\u001b[0m\u001b[0mfit\u001b[0m\u001b[0;34m(\u001b[0m\u001b[0mx_train_np\u001b[0m\u001b[0;34m[\u001b[0m\u001b[0mreplicate_index\u001b[0m\u001b[0;34m]\u001b[0m\u001b[0;34m,\u001b[0m \u001b[0my_train_np\u001b[0m\u001b[0;34m[\u001b[0m\u001b[0mreplicate_index\u001b[0m\u001b[0;34m]\u001b[0m\u001b[0;34m.\u001b[0m\u001b[0mravel\u001b[0m\u001b[0;34m(\u001b[0m\u001b[0;34m)\u001b[0m\u001b[0;34m)\u001b[0m\u001b[0;34m\u001b[0m\u001b[0;34m\u001b[0m\u001b[0m\n\u001b[0m\u001b[1;32m    221\u001b[0m                     \u001b[0my_pred\u001b[0m   \u001b[0;34m=\u001b[0m \u001b[0mmodel_instance\u001b[0m\u001b[0;34m.\u001b[0m\u001b[0mpredict\u001b[0m\u001b[0;34m(\u001b[0m\u001b[0mx_test_np\u001b[0m\u001b[0;34m[\u001b[0m\u001b[0mreplicate_index\u001b[0m\u001b[0;34m]\u001b[0m\u001b[0;34m)\u001b[0m\u001b[0;34m\u001b[0m\u001b[0;34m\u001b[0m\u001b[0m\n\u001b[1;32m    222\u001b[0m                     \u001b[0mr2\u001b[0m       \u001b[0;34m=\u001b[0m  \u001b[0mr2_score\u001b[0m\u001b[0;34m(\u001b[0m\u001b[0my_test_np\u001b[0m\u001b[0;34m[\u001b[0m\u001b[0mreplicate_index\u001b[0m\u001b[0;34m]\u001b[0m\u001b[0;34m.\u001b[0m\u001b[0mravel\u001b[0m\u001b[0;34m(\u001b[0m\u001b[0;34m)\u001b[0m\u001b[0;34m,\u001b[0m \u001b[0my_pred\u001b[0m\u001b[0;34m)\u001b[0m\u001b[0;34m\u001b[0m\u001b[0;34m\u001b[0m\u001b[0m\n",
      "\u001b[0;32m~/.local/lib/python3.10/site-packages/sklearn/base.py\u001b[0m in \u001b[0;36mwrapper\u001b[0;34m(estimator, *args, **kwargs)\u001b[0m\n\u001b[1;32m   1471\u001b[0m                 )\n\u001b[1;32m   1472\u001b[0m             ):\n\u001b[0;32m-> 1473\u001b[0;31m                 \u001b[0;32mreturn\u001b[0m \u001b[0mfit_method\u001b[0m\u001b[0;34m(\u001b[0m\u001b[0mestimator\u001b[0m\u001b[0;34m,\u001b[0m \u001b[0;34m*\u001b[0m\u001b[0margs\u001b[0m\u001b[0;34m,\u001b[0m \u001b[0;34m**\u001b[0m\u001b[0mkwargs\u001b[0m\u001b[0;34m)\u001b[0m\u001b[0;34m\u001b[0m\u001b[0;34m\u001b[0m\u001b[0m\n\u001b[0m\u001b[1;32m   1474\u001b[0m \u001b[0;34m\u001b[0m\u001b[0m\n\u001b[1;32m   1475\u001b[0m         \u001b[0;32mreturn\u001b[0m \u001b[0mwrapper\u001b[0m\u001b[0;34m\u001b[0m\u001b[0;34m\u001b[0m\u001b[0m\n",
      "\u001b[0;32m~/.local/lib/python3.10/site-packages/sklearn/ensemble/_gb.py\u001b[0m in \u001b[0;36mfit\u001b[0;34m(self, X, y, sample_weight, monitor)\u001b[0m\n\u001b[1;32m    781\u001b[0m \u001b[0;34m\u001b[0m\u001b[0m\n\u001b[1;32m    782\u001b[0m         \u001b[0;31m# fit the boosting stages\u001b[0m\u001b[0;34m\u001b[0m\u001b[0;34m\u001b[0m\u001b[0m\n\u001b[0;32m--> 783\u001b[0;31m         n_stages = self._fit_stages(\n\u001b[0m\u001b[1;32m    784\u001b[0m             \u001b[0mX_train\u001b[0m\u001b[0;34m,\u001b[0m\u001b[0;34m\u001b[0m\u001b[0;34m\u001b[0m\u001b[0m\n\u001b[1;32m    785\u001b[0m             \u001b[0my_train\u001b[0m\u001b[0;34m,\u001b[0m\u001b[0;34m\u001b[0m\u001b[0;34m\u001b[0m\u001b[0m\n",
      "\u001b[0;32m~/.local/lib/python3.10/site-packages/sklearn/ensemble/_gb.py\u001b[0m in \u001b[0;36m_fit_stages\u001b[0;34m(self, X, y, raw_predictions, sample_weight, random_state, X_val, y_val, sample_weight_val, begin_at_stage, monitor)\u001b[0m\n\u001b[1;32m    877\u001b[0m \u001b[0;34m\u001b[0m\u001b[0m\n\u001b[1;32m    878\u001b[0m             \u001b[0;31m# fit next stage of trees\u001b[0m\u001b[0;34m\u001b[0m\u001b[0;34m\u001b[0m\u001b[0m\n\u001b[0;32m--> 879\u001b[0;31m             raw_predictions = self._fit_stage(\n\u001b[0m\u001b[1;32m    880\u001b[0m                 \u001b[0mi\u001b[0m\u001b[0;34m,\u001b[0m\u001b[0;34m\u001b[0m\u001b[0;34m\u001b[0m\u001b[0m\n\u001b[1;32m    881\u001b[0m                 \u001b[0mX\u001b[0m\u001b[0;34m,\u001b[0m\u001b[0;34m\u001b[0m\u001b[0;34m\u001b[0m\u001b[0m\n",
      "\u001b[0;32m~/.local/lib/python3.10/site-packages/sklearn/ensemble/_gb.py\u001b[0m in \u001b[0;36m_fit_stage\u001b[0;34m(self, i, X, y, raw_predictions, sample_weight, sample_mask, random_state, X_csc, X_csr)\u001b[0m\n\u001b[1;32m    488\u001b[0m \u001b[0;34m\u001b[0m\u001b[0m\n\u001b[1;32m    489\u001b[0m             \u001b[0mX\u001b[0m \u001b[0;34m=\u001b[0m \u001b[0mX_csc\u001b[0m \u001b[0;32mif\u001b[0m \u001b[0mX_csc\u001b[0m \u001b[0;32mis\u001b[0m \u001b[0;32mnot\u001b[0m \u001b[0;32mNone\u001b[0m \u001b[0;32melse\u001b[0m \u001b[0mX\u001b[0m\u001b[0;34m\u001b[0m\u001b[0;34m\u001b[0m\u001b[0m\n\u001b[0;32m--> 490\u001b[0;31m             tree.fit(\n\u001b[0m\u001b[1;32m    491\u001b[0m                 \u001b[0mX\u001b[0m\u001b[0;34m,\u001b[0m \u001b[0mneg_g_view\u001b[0m\u001b[0;34m[\u001b[0m\u001b[0;34m:\u001b[0m\u001b[0;34m,\u001b[0m \u001b[0mk\u001b[0m\u001b[0;34m]\u001b[0m\u001b[0;34m,\u001b[0m \u001b[0msample_weight\u001b[0m\u001b[0;34m=\u001b[0m\u001b[0msample_weight\u001b[0m\u001b[0;34m,\u001b[0m \u001b[0mcheck_input\u001b[0m\u001b[0;34m=\u001b[0m\u001b[0;32mFalse\u001b[0m\u001b[0;34m\u001b[0m\u001b[0;34m\u001b[0m\u001b[0m\n\u001b[1;32m    492\u001b[0m             )\n",
      "\u001b[0;32m~/.local/lib/python3.10/site-packages/sklearn/base.py\u001b[0m in \u001b[0;36mwrapper\u001b[0;34m(estimator, *args, **kwargs)\u001b[0m\n\u001b[1;32m   1471\u001b[0m                 )\n\u001b[1;32m   1472\u001b[0m             ):\n\u001b[0;32m-> 1473\u001b[0;31m                 \u001b[0;32mreturn\u001b[0m \u001b[0mfit_method\u001b[0m\u001b[0;34m(\u001b[0m\u001b[0mestimator\u001b[0m\u001b[0;34m,\u001b[0m \u001b[0;34m*\u001b[0m\u001b[0margs\u001b[0m\u001b[0;34m,\u001b[0m \u001b[0;34m**\u001b[0m\u001b[0mkwargs\u001b[0m\u001b[0;34m)\u001b[0m\u001b[0;34m\u001b[0m\u001b[0;34m\u001b[0m\u001b[0m\n\u001b[0m\u001b[1;32m   1474\u001b[0m \u001b[0;34m\u001b[0m\u001b[0m\n\u001b[1;32m   1475\u001b[0m         \u001b[0;32mreturn\u001b[0m \u001b[0mwrapper\u001b[0m\u001b[0;34m\u001b[0m\u001b[0;34m\u001b[0m\u001b[0m\n",
      "\u001b[0;32m~/.local/lib/python3.10/site-packages/sklearn/tree/_classes.py\u001b[0m in \u001b[0;36mfit\u001b[0;34m(self, X, y, sample_weight, check_input)\u001b[0m\n\u001b[1;32m   1375\u001b[0m         \"\"\"\n\u001b[1;32m   1376\u001b[0m \u001b[0;34m\u001b[0m\u001b[0m\n\u001b[0;32m-> 1377\u001b[0;31m         super()._fit(\n\u001b[0m\u001b[1;32m   1378\u001b[0m             \u001b[0mX\u001b[0m\u001b[0;34m,\u001b[0m\u001b[0;34m\u001b[0m\u001b[0;34m\u001b[0m\u001b[0m\n\u001b[1;32m   1379\u001b[0m             \u001b[0my\u001b[0m\u001b[0;34m,\u001b[0m\u001b[0;34m\u001b[0m\u001b[0;34m\u001b[0m\u001b[0m\n",
      "\u001b[0;32m~/.local/lib/python3.10/site-packages/sklearn/tree/_classes.py\u001b[0m in \u001b[0;36m_fit\u001b[0;34m(self, X, y, sample_weight, check_input, missing_values_in_feature_mask)\u001b[0m\n\u001b[1;32m    470\u001b[0m             )\n\u001b[1;32m    471\u001b[0m \u001b[0;34m\u001b[0m\u001b[0m\n\u001b[0;32m--> 472\u001b[0;31m         \u001b[0mbuilder\u001b[0m\u001b[0;34m.\u001b[0m\u001b[0mbuild\u001b[0m\u001b[0;34m(\u001b[0m\u001b[0mself\u001b[0m\u001b[0;34m.\u001b[0m\u001b[0mtree_\u001b[0m\u001b[0;34m,\u001b[0m \u001b[0mX\u001b[0m\u001b[0;34m,\u001b[0m \u001b[0my\u001b[0m\u001b[0;34m,\u001b[0m \u001b[0msample_weight\u001b[0m\u001b[0;34m,\u001b[0m \u001b[0mmissing_values_in_feature_mask\u001b[0m\u001b[0;34m)\u001b[0m\u001b[0;34m\u001b[0m\u001b[0;34m\u001b[0m\u001b[0m\n\u001b[0m\u001b[1;32m    473\u001b[0m \u001b[0;34m\u001b[0m\u001b[0m\n\u001b[1;32m    474\u001b[0m         \u001b[0;32mif\u001b[0m \u001b[0mself\u001b[0m\u001b[0;34m.\u001b[0m\u001b[0mn_outputs_\u001b[0m \u001b[0;34m==\u001b[0m \u001b[0;36m1\u001b[0m \u001b[0;32mand\u001b[0m \u001b[0mis_classifier\u001b[0m\u001b[0;34m(\u001b[0m\u001b[0mself\u001b[0m\u001b[0;34m)\u001b[0m\u001b[0;34m:\u001b[0m\u001b[0;34m\u001b[0m\u001b[0;34m\u001b[0m\u001b[0m\n",
      "\u001b[0;31mKeyboardInterrupt\u001b[0m: "
     ]
    }
   ],
   "source": [
    "res = train_models_from_hparams_NK(HPARAM_PATH, DATA_PATH, model_savepath=MODEL_SAVEPATH, result_path=RESULT_PATH,\n",
    "                                 amino_acids=AA_ALPHABET, \n",
    "                                 seq_length=SEQ_LEN, n_replicates=8, n_epochs=2) \n",
    "\n",
    "                                 "
   ]
  },
  {
   "cell_type": "code",
   "execution_count": 5,
   "id": "8aaf12d7-4128-466c-a532-64e1fcaf619b",
   "metadata": {},
   "outputs": [
    {
     "ename": "NameError",
     "evalue": "name 'pickle' is not defined",
     "output_type": "error",
     "traceback": [
      "\u001b[0;31m---------------------------------------------------------------------------\u001b[0m",
      "\u001b[0;31mNameError\u001b[0m                                 Traceback (most recent call last)",
      "\u001b[0;32m/tmp/ipykernel_10528/2195060955.py\u001b[0m in \u001b[0;36m<module>\u001b[0;34m\u001b[0m\n\u001b[1;32m      1\u001b[0m \u001b[0;32mwith\u001b[0m \u001b[0mopen\u001b[0m\u001b[0;34m(\u001b[0m\u001b[0;34m'../results/NK_train_test_results.pkl'\u001b[0m\u001b[0;34m,\u001b[0m \u001b[0;34m'rb'\u001b[0m\u001b[0;34m)\u001b[0m \u001b[0;32mas\u001b[0m \u001b[0mhandle\u001b[0m\u001b[0;34m:\u001b[0m\u001b[0;34m\u001b[0m\u001b[0;34m\u001b[0m\u001b[0m\n\u001b[0;32m----> 2\u001b[0;31m     \u001b[0mresults\u001b[0m \u001b[0;34m=\u001b[0m \u001b[0mpickle\u001b[0m\u001b[0;34m.\u001b[0m\u001b[0mload\u001b[0m\u001b[0;34m(\u001b[0m\u001b[0mhandle\u001b[0m\u001b[0;34m)\u001b[0m\u001b[0;34m\u001b[0m\u001b[0;34m\u001b[0m\u001b[0m\n\u001b[0m",
      "\u001b[0;31mNameError\u001b[0m: name 'pickle' is not defined"
     ]
    }
   ],
   "source": [
    "with open('../results/NK_train_test_results.pkl', 'rb') as handle: \n",
    "    results = pickle.load(handle) "
   ]
  },
  {
   "cell_type": "code",
   "execution_count": 11,
   "id": "415c8daf-74cd-4955-8168-7191237f6af6",
   "metadata": {},
   "outputs": [],
   "source": [
    "means = []\n",
    "for k_index in results['linear'].keys(): \n",
    "    mean_r2 = np.mean(np.array(results['linear'][k_index]['r2']))\n",
    "    means.append(mean_r2)"
   ]
  },
  {
   "cell_type": "code",
   "execution_count": 13,
   "id": "50bbf82f-a44a-4b4e-84a8-acde6b8e5524",
   "metadata": {},
   "outputs": [],
   "source": [
    "import matplotlib.pyplot as plt"
   ]
  },
  {
   "cell_type": "code",
   "execution_count": 14,
   "id": "b5cdb56f-7a97-4cee-b936-7ab4b2f2442b",
   "metadata": {},
   "outputs": [
    {
     "data": {
      "text/plain": [
       "[<matplotlib.lines.Line2D at 0x76d952abcdc0>]"
      ]
     },
     "execution_count": 14,
     "metadata": {},
     "output_type": "execute_result"
    },
    {
     "data": {
      "image/png": "[encoded data removed]",
      "text/plain": [
       "<Figure size 432x288 with 1 Axes>"
      ]
     },
     "metadata": {
      "needs_background": "light"
     },
     "output_type": "display_data"
    }
   ],
   "source": [
    "plt.plot(means)"
   ]
  },
  {
   "cell_type": "code",
   "execution_count": 7,
   "id": "6249bbb5-8bbe-4a86-8dd8-ef2d2a866a4a",
   "metadata": {},
   "outputs": [],
   "source": [
    "v = {x:None for x in range(4)}"
   ]
  },
  {
   "cell_type": "code",
   "execution_count": 10,
   "id": "00e9b84a-cf6f-4bb3-a3db-8acf70c6707a",
   "metadata": {},
   "outputs": [],
   "source": [
    "v[0] = 'f'"
   ]
  },
  {
   "cell_type": "code",
   "execution_count": 11,
   "id": "470081b0-4ef3-4995-8ac0-e96bb6859a7e",
   "metadata": {},
   "outputs": [
    {
     "data": {
      "text/plain": [
       "{0: 'f', 1: None, 2: None, 3: None}"
      ]
     },
     "execution_count": 11,
     "metadata": {},
     "output_type": "execute_result"
    }
   ],
   "source": [
    "v"
   ]
  },
  {
   "cell_type": "code",
   "execution_count": 8,
   "id": "9d7a7c43-4b06-4252-b75c-949ba2afeba7",
   "metadata": {},
   "outputs": [
    {
     "name": "stdout",
     "output_type": "stream",
     "text": [
      "{'lr': 0.0001, 'batch_size': 128}\n",
      "{'lr': 0.001, 'batch_size': 32}\n",
      "{'lr': 0.0001, 'batch_size': 32}\n",
      "{'lr': 0.001, 'batch_size': 128}\n",
      "{'lr': 0.001, 'batch_size': 128}\n",
      "{'lr': 0.0001, 'batch_size': 64}\n",
      "{'lr': 0.001, 'batch_size': 32, 'n_hidden_layers': 1, 'hidden0_size': 256}\n",
      "{'lr': 0.0001, 'batch_size': 128, 'n_hidden_layers': 2, 'hidden0_size': 256, 'hidden1_size': 64}\n",
      "{'lr': 0.001, 'batch_size': 64, 'n_hidden_layers': 2, 'hidden0_size': 256, 'hidden1_size': 32}\n",
      "{'lr': 0.01, 'batch_size': 256, 'n_hidden_layers': 3, 'hidden0_size': 64, 'hidden1_size': 128, 'hidden2_size': 32}\n",
      "{'lr': 0.001, 'batch_size': 256, 'n_hidden_layers': 3, 'hidden0_size': 256, 'hidden1_size': 128, 'hidden2_size': 64}\n",
      "{'lr': 0.0001, 'batch_size': 128, 'n_hidden_layers': 3, 'hidden0_size': 64, 'hidden1_size': 256, 'hidden2_size': 64}\n",
      "{'lr': 0.01, 'batch_size': 256, 'num_conv_layers': 1, 'n_kernels_layer0': 224.0, 'kernel_size_layer0': 3.0}\n",
      "{'lr': 0.0001, 'batch_size': 64, 'num_conv_layers': 2, 'n_kernels_layer0': 192.0, 'n_kernels_layer1': 32.0, 'kernel_size_layer0': 4.0, 'kernel_size_layer1': 5.0}\n",
      "{'lr': 0.0001, 'batch_size': 256, 'num_conv_layers': 1, 'n_kernels_layer0': 256.0, 'kernel_size_layer0': 5.0}\n",
      "{'lr': 0.0001, 'batch_size': 128, 'num_conv_layers': 1, 'n_kernels_layer0': 192.0, 'kernel_size_layer0': 3.0}\n",
      "{'lr': 0.01, 'batch_size': 128, 'num_conv_layers': 2, 'n_kernels_layer0': 128.0, 'n_kernels_layer1': 224.0, 'kernel_size_layer0': 5.0, 'kernel_size_layer1': 3.0}\n",
      "{'lr': 0.001, 'batch_size': 64, 'num_conv_layers': 2, 'n_kernels_layer0': 192.0, 'n_kernels_layer1': 96.0, 'kernel_size_layer0': 4.0, 'kernel_size_layer1': 3.0}\n",
      "{'lr': 0.001, 'batch_size': 256, 'num_layers': 4, 'hidden_size': 512}\n",
      "{'lr': 0.0001, 'batch_size': 256, 'num_layers': 4, 'hidden_size': 256}\n",
      "{'lr': 0.01, 'batch_size': 32, 'num_layers': 1, 'hidden_size': 128}\n",
      "{'lr': 0.01, 'batch_size': 32, 'num_layers': 2, 'hidden_size': 256}\n",
      "{'lr': 0.01, 'batch_size': 256, 'num_layers': 3, 'hidden_size': 128}\n",
      "{'lr': 0.0001, 'batch_size': 32, 'num_layers': 3, 'hidden_size': 64}\n",
      "{'lr': 0.001, 'batch_size': 128, 'num_layers': 4, 'hidden_size': 128}\n",
      "{'lr': 0.0001, 'batch_size': 256, 'num_layers': 3, 'hidden_size': 64}\n",
      "{'lr': 0.0001, 'batch_size': 128, 'num_layers': 3, 'hidden_size': 256}\n",
      "{'lr': 0.0001, 'batch_size': 128, 'num_layers': 1, 'hidden_size': 64}\n",
      "{'lr': 0.01, 'batch_size': 64, 'num_layers': 4, 'hidden_size': 64}\n",
      "{'lr': 0.001, 'batch_size': 64, 'num_layers': 2, 'hidden_size': 128}\n",
      "{'lr': 0.0001, 'batch_size': 256, 'embed_dim_num_heads': (16, 2), 'num_layers': 2, 'dim_feedforward': 64, 'max_seq_length': 8}\n",
      "{'lr': 0.001, 'batch_size': 64, 'embed_dim_num_heads': (32, 2), 'num_layers': 3, 'dim_feedforward': 32, 'max_seq_length': 8}\n",
      "{'lr': 0.01, 'batch_size': 128, 'embed_dim_num_heads': (16, 2), 'num_layers': 1, 'dim_feedforward': 128, 'max_seq_length': 8}\n",
      "{'lr': 0.001, 'batch_size': 128, 'embed_dim_num_heads': (256, 8), 'num_layers': 4, 'dim_feedforward': 128, 'max_seq_length': 10}\n",
      "{'lr': 0.001, 'batch_size': 32, 'embed_dim_num_heads': (32, 4), 'num_layers': 4, 'dim_feedforward': 256, 'max_seq_length': 10}\n",
      "{'lr': 0.0001, 'batch_size': 32, 'embed_dim_num_heads': (64, 8), 'num_layers': 1, 'dim_feedforward': 128, 'max_seq_length': 8}\n",
      "{'max_features': 0.856535057799511, 'n_estimators': 532, 'max_depth': 21}\n",
      "{'max_features': 0.40644907081514847, 'n_estimators': 543, 'max_depth': 15}\n",
      "{'max_features': 0.2287000489709704, 'n_estimators': 260, 'max_depth': 10}\n",
      "{'max_features': 0.9649405086157808, 'n_estimators': 133, 'max_depth': 17}\n",
      "{'max_features': 0.5280324822759479, 'n_estimators': 248, 'max_depth': 19}\n",
      "{'max_features': 0.2952903888182027, 'n_estimators': 699, 'max_depth': 28}\n",
      "{'max_depth': 10, 'n_estimators': 375, 'learning_rate': 0.1335533556478202}\n",
      "{'max_depth': 15, 'n_estimators': 869, 'learning_rate': 0.0681860783968705}\n",
      "{'max_depth': 1, 'n_estimators': 446, 'learning_rate': 0.16634052711986969}\n",
      "{'max_depth': 7, 'n_estimators': 499, 'learning_rate': 0.19328603491201604}\n",
      "{'max_depth': 15, 'n_estimators': 996, 'learning_rate': 0.08823433202147517}\n",
      "{'max_depth': 32, 'n_estimators': 320, 'learning_rate': 0.12574832207666212}\n"
     ]
    }
   ],
   "source": [
    "for model_name in NK_hparams.keys(): \n",
    "    for study in NK_hparams[model_name]: \n",
    "        print(study.best_params)"
   ]
  },
  {
   "cell_type": "code",
   "execution_count": null,
   "id": "c6cf40b9-70c2-45fb-b983-0e2326bb6dd6",
   "metadata": {},
   "outputs": [],
   "source": []
  }
 ],
 "metadata": {
  "kernelspec": {
   "display_name": "Python 3 (ipykernel)",
   "language": "python",
   "name": "python3"
  },
  "language_info": {
   "codemirror_mode": {
    "name": "ipython",
    "version": 3
   },
   "file_extension": ".py",
   "mimetype": "text/x-python",
   "name": "python",
   "nbconvert_exporter": "python",
   "pygments_lexer": "ipython3",
   "version": "3.10.12"
  }
 },
 "nbformat": 4,
 "nbformat_minor": 5
}
