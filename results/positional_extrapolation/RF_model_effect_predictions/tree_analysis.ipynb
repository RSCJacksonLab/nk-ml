{
 "cells": [
  {
   "cell_type": "code",
   "execution_count": 18,
   "metadata": {},
   "outputs": [],
   "source": [
    "import pickle as pkl\n",
    "\n",
    "from collections import Counter"
   ]
  },
  {
   "cell_type": "code",
   "execution_count": 20,
   "metadata": {},
   "outputs": [],
   "source": [
    "def feature_index_to_site(feature_index, ohe_length=6):\n",
    "    if feature_index < 0:\n",
    "        return None\n",
    "    return ((feature_index // ohe_length)).item()"
   ]
  },
  {
   "cell_type": "code",
   "execution_count": null,
   "metadata": {},
   "outputs": [
    {
     "name": "stdout",
     "output_type": "stream",
     "text": [
      "0 Counter({5: 230, 4: 225, 2: 205, 1: 178, 3: 159})\n",
      "1 Counter({2: 224, 4: 211, 3: 190, 5: 180})\n",
      "2 Counter({1: 264, 4: 221, 5: 199, 3: 162})\n",
      "3 Counter({2: 258, 4: 206, 5: 192, 1: 183})\n",
      "4 Counter({5: 253, 1: 224, 2: 179, 3: 170})\n",
      "5 Counter({1: 268, 4: 207, 3: 195, 2: 164})\n"
     ]
    }
   ],
   "source": [
    "for position in range(6):\n",
    "    \n",
    "    all_model_sites = []\n",
    "\n",
    "    for rep in range(4):\n",
    "\n",
    "        with open(f'/home/dana/Documents/2025_NK/nk-2025/results/positional_extrapolation/rf_models/fixed_position_{position}_rep{rep}.pkl', 'rb') as f:\n",
    "            model = pkl.load(f)\n",
    "\n",
    "        model_sites = []\n",
    "\n",
    "        for i, tree in enumerate(model.estimators_):\n",
    "            features = tree.tree_.feature\n",
    "            for feature in features:\n",
    "                site = feature_index_to_site(feature)\n",
    "                if site:\n",
    "                    model_sites.append(site)\n",
    "\n",
    "        all_model_sites += model_sites\n",
    "\n",
    "    print(position, Counter(model_sites))"
   ]
  }
 ],
 "metadata": {
  "kernelspec": {
   "display_name": ".env",
   "language": "python",
   "name": "python3"
  },
  "language_info": {
   "codemirror_mode": {
    "name": "ipython",
    "version": 3
   },
   "file_extension": ".py",
   "mimetype": "text/x-python",
   "name": "python",
   "nbconvert_exporter": "python",
   "pygments_lexer": "ipython3",
   "version": "3.10.12"
  }
 },
 "nbformat": 4,
 "nbformat_minor": 2
}
