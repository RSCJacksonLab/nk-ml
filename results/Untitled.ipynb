{
 "cells": [
  {
   "cell_type": "code",
   "execution_count": 1,
   "id": "1e7161ce-92d4-4c0d-896d-84655b6f38a5",
   "metadata": {},
   "outputs": [],
   "source": [
    "import numpy as np"
   ]
  },
  {
   "cell_type": "code",
   "execution_count": 4,
   "id": "069f010e-7af7-4a69-88d8-56ac1db7f0d6",
   "metadata": {},
   "outputs": [],
   "source": [
    "arr1 = np.array(  [[0., 0., 0., 0., 0., 0.],\n",
    "                   [0., 0., 0., 0., 0., 0.],\n",
    "                   [0., 0., 0., 0., 0., 0.],\n",
    "                   [0., 0., 0., 0., 0., 0.],\n",
    "                   [0., 0., 0., 0., 0., 0.],\n",
    "                   [0., 0., 0., 0., 0., 0.]])\n",
    "\n",
    "arr2 = np.array(  [[0., 0., 0., 0., 0., 0.],\n",
    "                   [0., 0., 0., 0., 0., 0.],\n",
    "                   [0., 0., 0., 0., 0., 0.],\n",
    "                   [0., 0., 0., 0., 1., 0.],\n",
    "                   [0., 0., 0., 0., 0., 0.],\n",
    "                   [0., 0., 0., 0., 0., 0.]])\n",
    "\n"
   ]
  },
  {
   "cell_type": "code",
   "execution_count": 5,
   "id": "a3d5b2b3-987b-4634-9564-7c370cf9817d",
   "metadata": {},
   "outputs": [
    {
     "data": {
      "text/plain": [
       "False"
      ]
     },
     "execution_count": 5,
     "metadata": {},
     "output_type": "execute_result"
    }
   ],
   "source": [
    "np.array_equal(arr1, arr2)"
   ]
  },
  {
   "cell_type": "code",
   "execution_count": 6,
   "id": "8047d1f7-a07b-483e-9b1b-da87a6938a68",
   "metadata": {},
   "outputs": [
    {
     "ename": "TypeError",
     "evalue": "'bool' object is not iterable",
     "output_type": "error",
     "traceback": [
      "\u001b[0;31m---------------------------------------------------------------------------\u001b[0m",
      "\u001b[0;31mTypeError\u001b[0m                                 Traceback (most recent call last)",
      "\u001b[0;32m/tmp/ipykernel_31743/552533849.py\u001b[0m in \u001b[0;36m<module>\u001b[0;34m\u001b[0m\n\u001b[0;32m----> 1\u001b[0;31m \u001b[0many\u001b[0m\u001b[0;34m(\u001b[0m\u001b[0mnp\u001b[0m\u001b[0;34m.\u001b[0m\u001b[0marray_equal\u001b[0m\u001b[0;34m(\u001b[0m\u001b[0marr1\u001b[0m\u001b[0;34m,\u001b[0m \u001b[0marr2\u001b[0m\u001b[0;34m)\u001b[0m\u001b[0;34m)\u001b[0m\u001b[0;34m\u001b[0m\u001b[0;34m\u001b[0m\u001b[0m\n\u001b[0m",
      "\u001b[0;31mTypeError\u001b[0m: 'bool' object is not iterable"
     ]
    }
   ],
   "source": [
    "any(np.array_equal(arr1, arr2))"
   ]
  },
  {
   "cell_type": "code",
   "execution_count": 14,
   "id": "59664d82-50d2-42bd-85e5-80904fe6ca75",
   "metadata": {},
   "outputs": [
    {
     "data": {
      "text/plain": [
       "False"
      ]
     },
     "execution_count": 14,
     "metadata": {},
     "output_type": "execute_result"
    }
   ],
   "source": [
    "any((False, False))"
   ]
  },
  {
   "cell_type": "code",
   "execution_count": 11,
   "id": "3c59be3f-6cbd-4a8e-9274-fde04f2fd0f0",
   "metadata": {},
   "outputs": [
    {
     "data": {
      "text/plain": [
       "\u001b[0;31mSignature:\u001b[0m \u001b[0many\u001b[0m\u001b[0;34m(\u001b[0m\u001b[0miterable\u001b[0m\u001b[0;34m,\u001b[0m \u001b[0;34m/\u001b[0m\u001b[0;34m)\u001b[0m\u001b[0;34m\u001b[0m\u001b[0;34m\u001b[0m\u001b[0m\n",
       "\u001b[0;31mDocstring:\u001b[0m\n",
       "Return True if bool(x) is True for any x in the iterable.\n",
       "\n",
       "If the iterable is empty, return False.\n",
       "\u001b[0;31mType:\u001b[0m      builtin_function_or_method\n"
      ]
     },
     "metadata": {},
     "output_type": "display_data"
    }
   ],
   "source": [
    "any?"
   ]
  },
  {
   "cell_type": "code",
   "execution_count": null,
   "id": "861f237e-0111-45af-be51-615c80ea55de",
   "metadata": {},
   "outputs": [],
   "source": []
  }
 ],
 "metadata": {
  "kernelspec": {
   "display_name": "Python 3 (ipykernel)",
   "language": "python",
   "name": "python3"
  },
  "language_info": {
   "codemirror_mode": {
    "name": "ipython",
    "version": 3
   },
   "file_extension": ".py",
   "mimetype": "text/x-python",
   "name": "python",
   "nbconvert_exporter": "python",
   "pygments_lexer": "ipython3",
   "version": "3.10.12"
  }
 },
 "nbformat": 4,
 "nbformat_minor": 5
}
