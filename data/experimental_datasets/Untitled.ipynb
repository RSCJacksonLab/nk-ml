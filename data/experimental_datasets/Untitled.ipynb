{
 "cells": [
  {
   "cell_type": "code",
   "execution_count": 1,
   "id": "d2277a4b-7fe5-4077-be06-b72ed818d51d",
   "metadata": {},
   "outputs": [],
   "source": [
    "import pandas as pd\n",
    "import numpy as np\n",
    "import matplotlib.pyplot as plt"
   ]
  },
  {
   "cell_type": "code",
   "execution_count": 2,
   "id": "d3299734-b54b-4d4b-9902-c4b57ba2da10",
   "metadata": {},
   "outputs": [],
   "source": [
    "gb1 = pd.read_csv('./gb1.csv')"
   ]
  },
  {
   "cell_type": "code",
   "execution_count": 8,
   "id": "3a30e28b-fdc9-4d03-8599-43f71b42242f",
   "metadata": {},
   "outputs": [],
   "source": [
    "gb1_fits = gb1['fitness']"
   ]
  },
  {
   "cell_type": "code",
   "execution_count": 18,
   "id": "5f9acc8b-18f7-46a4-9683-9f35c641a371",
   "metadata": {},
   "outputs": [],
   "source": [
    "gb1_log = np.log(gb1_fits+0.000000001)"
   ]
  },
  {
   "cell_type": "code",
   "execution_count": 27,
   "id": "049772b5-862e-43ce-9d0e-a3843d6e7959",
   "metadata": {},
   "outputs": [
    {
     "data": {
      "text/plain": [
       "(-8.0, 3.0)"
      ]
     },
     "execution_count": 27,
     "metadata": {},
     "output_type": "execute_result"
    },
    {
     "data": {
      "image/png": "[encoded data removed]",
      "text/plain": [
       "<Figure size 432x288 with 1 Axes>"
      ]
     },
     "metadata": {
      "needs_background": "light"
     },
     "output_type": "display_data"
    }
   ],
   "source": [
    "plt.hist(gb1_log, bins=200)\n",
    "plt.xlim(-8, 3)"
   ]
  },
  {
   "cell_type": "code",
   "execution_count": 20,
   "id": "f14f0c47-cc9f-41a7-b65b-cea5de61490f",
   "metadata": {},
   "outputs": [
    {
     "data": {
      "text/plain": [
       "-20.72326583694641"
      ]
     },
     "execution_count": 20,
     "metadata": {},
     "output_type": "execute_result"
    }
   ],
   "source": [
    "np.min(gb1_log)"
   ]
  },
  {
   "cell_type": "code",
   "execution_count": 12,
   "id": "3b98b765-3f92-4ff9-94a7-68a4a73beee5",
   "metadata": {},
   "outputs": [
    {
     "data": {
      "text/plain": [
       "(array([1.3734e+05, 2.5570e+03, 1.4590e+03, 1.0100e+03, 7.3900e+02,\n",
       "        6.1600e+02, 5.0800e+02, 4.1900e+02, 3.6000e+02, 3.2300e+02,\n",
       "        2.8300e+02, 2.4100e+02, 2.2600e+02, 2.0900e+02, 2.1600e+02,\n",
       "        2.2300e+02, 1.6400e+02, 1.6100e+02, 1.4100e+02, 1.4000e+02,\n",
       "        1.2100e+02, 1.1500e+02, 1.1900e+02, 1.1800e+02, 9.9000e+01,\n",
       "        8.9000e+01, 9.0000e+01, 7.9000e+01, 6.7000e+01, 7.9000e+01,\n",
       "        6.6000e+01, 7.1000e+01, 5.9000e+01, 5.8000e+01, 4.5000e+01,\n",
       "        4.6000e+01, 6.1000e+01, 5.2000e+01, 4.6000e+01, 4.7000e+01,\n",
       "        2.5000e+01, 3.7000e+01, 4.0000e+01, 2.5000e+01, 3.9000e+01,\n",
       "        2.9000e+01, 3.8000e+01, 2.9000e+01, 1.8000e+01, 1.8000e+01,\n",
       "        2.3000e+01, 2.0000e+01, 1.2000e+01, 1.5000e+01, 1.1000e+01,\n",
       "        1.1000e+01, 9.0000e+00, 1.2000e+01, 9.0000e+00, 8.0000e+00,\n",
       "        9.0000e+00, 9.0000e+00, 1.0000e+01, 3.0000e+00, 4.0000e+00,\n",
       "        4.0000e+00, 3.0000e+00, 1.0000e+00, 5.0000e+00, 1.0000e+00,\n",
       "        2.0000e+00, 2.0000e+00, 2.0000e+00, 1.0000e+00, 3.0000e+00,\n",
       "        0.0000e+00, 1.0000e+00, 0.0000e+00, 2.0000e+00, 2.0000e+00,\n",
       "        0.0000e+00, 0.0000e+00, 1.0000e+00, 2.0000e+00, 0.0000e+00,\n",
       "        0.0000e+00, 2.0000e+00, 0.0000e+00, 0.0000e+00, 0.0000e+00,\n",
       "        0.0000e+00, 1.0000e+00, 0.0000e+00, 0.0000e+00, 0.0000e+00,\n",
       "        0.0000e+00, 0.0000e+00, 0.0000e+00, 0.0000e+00, 1.0000e+00]),\n",
       " array([0.        , 0.08761966, 0.17523931, 0.26285897, 0.35047863,\n",
       "        0.43809828, 0.52571794, 0.6133376 , 0.70095725, 0.78857691,\n",
       "        0.87619657, 0.96381622, 1.05143588, 1.13905554, 1.22667519,\n",
       "        1.31429485, 1.4019145 , 1.48953416, 1.57715382, 1.66477347,\n",
       "        1.75239313, 1.84001279, 1.92763244, 2.0152521 , 2.10287176,\n",
       "        2.19049141, 2.27811107, 2.36573073, 2.45335038, 2.54097004,\n",
       "        2.6285897 , 2.71620935, 2.80382901, 2.89144867, 2.97906832,\n",
       "        3.06668798, 3.15430764, 3.24192729, 3.32954695, 3.41716661,\n",
       "        3.50478626, 3.59240592, 3.68002558, 3.76764523, 3.85526489,\n",
       "        3.94288455, 4.0305042 , 4.11812386, 4.20574351, 4.29336317,\n",
       "        4.38098283, 4.46860248, 4.55622214, 4.6438418 , 4.73146145,\n",
       "        4.81908111, 4.90670077, 4.99432042, 5.08194008, 5.16955974,\n",
       "        5.25717939, 5.34479905, 5.43241871, 5.52003836, 5.60765802,\n",
       "        5.69527768, 5.78289733, 5.87051699, 5.95813665, 6.0457563 ,\n",
       "        6.13337596, 6.22099562, 6.30861527, 6.39623493, 6.48385459,\n",
       "        6.57147424, 6.6590939 , 6.74671355, 6.83433321, 6.92195287,\n",
       "        7.00957252, 7.09719218, 7.18481184, 7.27243149, 7.36005115,\n",
       "        7.44767081, 7.53529046, 7.62291012, 7.71052978, 7.79814943,\n",
       "        7.88576909, 7.97338875, 8.0610084 , 8.14862806, 8.23624772,\n",
       "        8.32386737, 8.41148703, 8.49910669, 8.58672634, 8.674346  ,\n",
       "        8.76196566]),\n",
       " <BarContainer object of 100 artists>)"
      ]
     },
     "execution_count": 12,
     "metadata": {},
     "output_type": "execute_result"
    },
    {
     "data": {
      "image/png": "[encoded data removed]",
      "text/plain": [
       "<Figure size 432x288 with 1 Axes>"
      ]
     },
     "metadata": {
      "needs_background": "light"
     },
     "output_type": "display_data"
    }
   ],
   "source": [
    "plt.hist(gb1_fits, bins=100)"
   ]
  },
  {
   "cell_type": "code",
   "execution_count": null,
   "id": "306ec6a4-188d-4bfa-b946-478aadb25156",
   "metadata": {},
   "outputs": [],
   "source": []
  }
 ],
 "metadata": {
  "kernelspec": {
   "display_name": "Python 3 (ipykernel)",
   "language": "python",
   "name": "python3"
  },
  "language_info": {
   "codemirror_mode": {
    "name": "ipython",
    "version": 3
   },
   "file_extension": ".py",
   "mimetype": "text/x-python",
   "name": "python",
   "nbconvert_exporter": "python",
   "pygments_lexer": "ipython3",
   "version": "3.10.12"
  }
 },
 "nbformat": 4,
 "nbformat_minor": 5
}
